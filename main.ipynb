{
 "cells": [
  {
   "cell_type": "code",
   "execution_count": 2,
   "metadata": {},
   "outputs": [],
   "source": [
    "from model.game import GameState, Action\n",
    "from ai.MCTree import MCTree, Node, Edge\n",
    "from ai.utils import ActionEncoder, StateStack, mirror_action, to_label, SampleBuilder, get_action_space\n",
    "from ai.agent import AlphaZero\n",
    "from copy import deepcopy\n",
    "import numpy as np\n",
    "import ai.config as config\n"
   ]
  },
  {
   "cell_type": "code",
   "execution_count": 3,
   "metadata": {},
   "outputs": [],
   "source": [
    "class RejectedAction(Exception):\n",
    "    pass"
   ]
  },
  {
   "cell_type": "code",
   "execution_count": null,
   "metadata": {},
   "outputs": [],
   "source": []
  },
  {
   "cell_type": "code",
   "execution_count": 17,
   "metadata": {},
   "outputs": [
    {
     "data": {
      "text/html": [
       "        <script type=\"text/javascript\">\n",
       "        window.PlotlyConfig = {MathJaxConfig: 'local'};\n",
       "        if (window.MathJax) {MathJax.Hub.Config({SVG: {font: \"STIX-Web\"}});}\n",
       "        if (typeof require !== 'undefined') {\n",
       "        require.undef(\"plotly\");\n",
       "        requirejs.config({\n",
       "            paths: {\n",
       "                'plotly': ['https://cdn.plot.ly/plotly-latest.min']\n",
       "            }\n",
       "        });\n",
       "        require(['plotly'], function(Plotly) {\n",
       "            window._Plotly = Plotly;\n",
       "        });\n",
       "        }\n",
       "        </script>\n",
       "        "
      ]
     },
     "metadata": {},
     "output_type": "display_data"
    },
    {
     "data": {
      "text/html": [
       "        <script type=\"text/javascript\">\n",
       "        window.PlotlyConfig = {MathJaxConfig: 'local'};\n",
       "        if (window.MathJax) {MathJax.Hub.Config({SVG: {font: \"STIX-Web\"}});}\n",
       "        if (typeof require !== 'undefined') {\n",
       "        require.undef(\"plotly\");\n",
       "        requirejs.config({\n",
       "            paths: {\n",
       "                'plotly': ['https://cdn.plot.ly/plotly-latest.min']\n",
       "            }\n",
       "        });\n",
       "        require(['plotly'], function(Plotly) {\n",
       "            window._Plotly = Plotly;\n",
       "        });\n",
       "        }\n",
       "        </script>\n",
       "        "
      ]
     },
     "metadata": {},
     "output_type": "display_data"
    }
   ],
   "source": [
    "import time\n",
    "import cufflinks as cf\n",
    "import random\n",
    "import plotly.graph_objects as go\n",
    "from IPython.display import display\n",
    "from plotly.offline import download_plotlyjs, init_notebook_mode, plot, iplot\n",
    "from ai.model import NeuralNetwork\n",
    "\n",
    "init_notebook_mode(connected=True)\n",
    "cf.go_offline()\n",
    "\n",
    "class PlayGround:\n",
    "    def __init__(self):\n",
    "        self.action_space_shape = len(get_action_space(10, 10))\n",
    "        self.current_model = NeuralNetwork(config.REG_CONST, config.LEARNING_RATE, \n",
    "                                      (10,10,20),   self.action_space_shape, config.HIDDEN_CNN_LAYERS)\n",
    "\n",
    "        self.best_model = NeuralNetwork(config.REG_CONST, config.LEARNING_RATE, \n",
    "                                   (10,10,20),   self.action_space_shape, config.HIDDEN_CNN_LAYERS)\n",
    "        \n",
    "        self.best_model.model.set_weights(self.current_model.model.get_weights())\n",
    "        self.exp = []\n",
    "        self.turn = []\n",
    "        \n",
    "        self.fig = go.FigureWidget()\n",
    "        self.fig.update_layout(xaxis_title=\"Turn\", yaxis_title='Expected value')\n",
    "        #self.fig.add_scatter(fill='tozeroy')\n",
    "        self.fig.add_scatter()\n",
    "\n",
    "    def plot_figure(self):\n",
    "        display(self.fig)\n",
    "        \n",
    "    def update_plot(self):\n",
    "        with self.fig.batch_update():\n",
    "            self.fig.data[0].x = self.turn\n",
    "            self.fig.data[0].y = self.exp\n",
    "            \n",
    "    def apply_and_update(self, game: GameState, playing_agent: AlphaZero, other_agent: AlphaZero, action: Action, action_id: int):\n",
    "        if not game.is_legal_action(action):\n",
    "            raise RejectedAction(\"your fucked bro!\")\n",
    "        game.apply_action(action)\n",
    "        playing_agent.update_root(action_id)\n",
    "        if other_agent is not None:\n",
    "            other_agent.update_root(action_id)\n",
    "\n",
    "    def play_best(self, goes_first=True):\n",
    "        current_Agent = AlphaZero(config.MCTS_SIMS, config.CPUCT, self.current_model, pov=0, name=\"Current AlphaZero\")\n",
    "        best_Agent = AlphaZero(config.MCTS_SIMS, config.CPUCT, self.best_model, pov=1, name=\"Best AlphaZero\")\n",
    "        if goes_first:\n",
    "            players = [current_Agent, best_Agent]\n",
    "        else:\n",
    "            players = [best_Agent, current_Agent]\n",
    "            best_Agent.pov, current_Agent.pov = (0, 1)\n",
    "\n",
    "        game = GameState(None, None)\n",
    "        for ep in range(config.EPISODES):\n",
    "            game.init()\n",
    "            current_Agent.build_mcts(StateStack(deepcopy(game)))\n",
    "            best_Agent.build_mcts(StateStack(deepcopy(game)))\n",
    "\n",
    "            turn = 1\n",
    "\n",
    "            while not game.is_terminal():\n",
    "                player: AlphaZero = players[game.get_player_turn()]\n",
    "                tau = 1 if turn < config.TURNS_UNTIL_TAU0 else 0\n",
    "                action, action_id, state_stack, value, pi = player.train_act(tau)\n",
    "                self.apply_and_update(game, current_Agent, best_Agent, action, action_id)\n",
    "                turn += 1\n",
    "                print('*', end='')\n",
    "                \n",
    "        #return sample_builder\n",
    "\n",
    "    def self_play(self):\n",
    "        current_Agent = AlphaZero(config.MCTS_SIMS, config.CPUCT, self.current_model, pov=0, name=\"Current AlphaZero\")\n",
    "        game = GameState(None, None)\n",
    "        sample_builder = SampleBuilder()\n",
    "\n",
    "        for ep in range(config.EPISODES):\n",
    "            game.init()\n",
    "            current_Agent.build_mcts(StateStack(deepcopy(game)))\n",
    "\n",
    "            turn = 1\n",
    "            player: AlphaZero = current_Agent\n",
    "\n",
    "            while not game.is_terminal():\n",
    "                player.pov = game.get_player_turn()\n",
    "                tau = 1 if turn < config.TURNS_UNTIL_TAU0 else 0\n",
    "                try:\n",
    "                    action, action_id, state_stack, value, pi = player.train_act(tau)\n",
    "                except KeyError as e:\n",
    "                    print(e)\n",
    "                    print(player.mcts.root.edges)\n",
    "\n",
    "                if player.pov == config.MAXMIZER\n",
    "                    self.turn.append(turn)\n",
    "                    self.exp.append(value)\n",
    "                self.apply_and_update(game, current_Agent, None, action, action_id)\n",
    "                self.update_plot()\n",
    "                sample_builder.commit_move(state_stack, pi)\n",
    "                turn += 1\n",
    "                print('*', end='')\n",
    "\n",
    "            value = game.get_value()\n",
    "            sample_builder.commit_sample(value, 0)\n",
    "\n",
    "        return sample_builder\n",
    "    \n",
    "    def fit(self, sample_builder:SampleBuilder):\n",
    "        for i in range(10):\n",
    "            minibatch = random.sample(sample_builder.samples, min(config.BATCH_SIZE, len(sample_builder.samples)))\n",
    "            training_states = np.array([row['state'].get_deep_representation_stack() for row in minibatch])\n",
    "            training_targets = {'value_head': np.array([row['value'] for row in minibatch]),\n",
    "                                'policy_head': np.array([row['policy'] for row in minibatch])}\n",
    "\n",
    "            ret = self.current_model.fit(training_states, training_targets, epochs=config.EPOCHS, verbose=1, validation_split=0, batch_size = 32)"
   ]
  },
  {
   "cell_type": "code",
   "execution_count": 18,
   "metadata": {},
   "outputs": [],
   "source": [
    "playground = PlayGround()"
   ]
  },
  {
   "cell_type": "code",
   "execution_count": 19,
   "metadata": {},
   "outputs": [
    {
     "data": {
      "application/vnd.jupyter.widget-view+json": {
       "model_id": "f51a518de0a6466eb6646b7f88c81789",
       "version_major": 2,
       "version_minor": 0
      },
      "text/plain": [
       "FigureWidget({\n",
       "    'data': [{'type': 'scatter', 'uid': 'a13340b1-6f4f-42c6-861e-1a1a951b99b3'}],\n",
       "    'layout':…"
      ]
     },
     "metadata": {},
     "output_type": "display_data"
    }
   ],
   "source": [
    "playground.plot_figure()"
   ]
  },
  {
   "cell_type": "code",
   "execution_count": null,
   "metadata": {},
   "outputs": [
    {
     "name": "stdout",
     "output_type": "stream",
     "text": [
      "*********************************"
     ]
    }
   ],
   "source": [
    "try:\n",
    "    playground.self_play()\n",
    "except RejectedAction as e:\n",
    "    print(e)"
   ]
  },
  {
   "cell_type": "code",
   "execution_count": null,
   "metadata": {},
   "outputs": [],
   "source": []
  }
 ],
 "metadata": {
  "kernelspec": {
   "display_name": "Python 3",
   "language": "python",
   "name": "python3"
  },
  "language_info": {
   "codemirror_mode": {
    "name": "ipython",
    "version": 3
   },
   "file_extension": ".py",
   "mimetype": "text/x-python",
   "name": "python",
   "nbconvert_exporter": "python",
   "pygments_lexer": "ipython3",
   "version": "3.7.6"
  }
 },
 "nbformat": 4,
 "nbformat_minor": 2
}
