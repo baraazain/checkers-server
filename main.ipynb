{
 "cells": [
  {
   "cell_type": "code",
   "execution_count": 1,
   "metadata": {},
   "outputs": [],
   "source": [
    "from copy import deepcopy\n",
    "from typing import Optional\n",
    "\n",
    "import random\n",
    "\n",
    "import numpy as np\n",
    "import tensorflow as tf\n",
    "import tensorflow.keras as tk\n",
    "\n",
    "from model.international_game import InternationalGame\n",
    "from ai.agent import AlphaZero\n",
    "from ai.model import build_alphazero_model, softmax_cross_entropy_with_logits\n",
    "\n",
    "import ai.utils as ut\n",
    "import ai.config as config\n",
    "import ai.modified_tree_search as mts\n",
    "import model.game as game"
   ]
  },
  {
   "cell_type": "code",
   "execution_count": null,
   "metadata": {},
   "outputs": [],
   "source": []
  },
  {
   "cell_type": "code",
   "execution_count": 2,
   "metadata": {},
   "outputs": [],
   "source": [
    "def get_models():\n",
    "    return ut.load_best_model(), ut.load_best_model()"
   ]
  },
  {
   "cell_type": "code",
   "execution_count": 3,
   "metadata": {},
   "outputs": [],
   "source": [
    "class RejectedActionError(Exception):\n",
    "    def __init__(self, action, game, tau, agent, other_agent):\n",
    "        self.action = action\n",
    "        self.game = game\n",
    "        self.tau = tau\n",
    "        self.agent = agent\n",
    "        self.other_agent = other_agent\n",
    "\n",
    "class TreeError(Exception):\n",
    "    def __init__(self, action_id, game, tau, agent, other_agent):\n",
    "        self.action_id = action_id\n",
    "        self.game = game\n",
    "        self.tau = tau\n",
    "        self.other_agent = other_agent\n",
    "        self.agent = agent"
   ]
  },
  {
   "cell_type": "code",
   "execution_count": 4,
   "metadata": {},
   "outputs": [],
   "source": [
    "random.seed(101)\n",
    "np.random.seed(101)\n",
    "tf.random.set_seed(101)"
   ]
  },
  {
   "cell_type": "code",
   "execution_count": 5,
   "metadata": {},
   "outputs": [],
   "source": []
  },
  {
   "cell_type": "code",
   "execution_count": null,
   "metadata": {},
   "outputs": [],
   "source": []
  },
  {
   "cell_type": "code",
   "execution_count": 6,
   "metadata": {},
   "outputs": [],
   "source": []
  },
  {
   "cell_type": "code",
   "execution_count": null,
   "metadata": {},
   "outputs": [],
   "source": []
  },
  {
   "cell_type": "code",
   "execution_count": null,
   "metadata": {},
   "outputs": [],
   "source": []
  },
  {
   "cell_type": "code",
   "execution_count": null,
   "metadata": {},
   "outputs": [],
   "source": []
  },
  {
   "cell_type": "code",
   "execution_count": 7,
   "metadata": {},
   "outputs": [],
   "source": [
    "def play_match(agent: AlphaZero, \n",
    "               model: tk.models.Model, \n",
    "               other_agent:Optional[AlphaZero]=None, \n",
    "               other_model:Optional[tk.models.Model]=None, turns_until_tau0=0):\n",
    "    \n",
    "    self_play = True if other_agent is None else False\n",
    "    \n",
    "    current_game = InternationalGame(1, None, None, None)\n",
    "    sample_builder = ut.SampleBuilder()\n",
    "    \n",
    "    current_game.init()\n",
    "    \n",
    "    agent.build_mct(ut.GameState(deepcopy(current_game)), model)\n",
    "    if not self_play:\n",
    "        if other_model is None:\n",
    "            raise ValueError('illegal argument: other_model can\\'t be None when other_model is\\'nt')\n",
    "        other_agent.build_mct(ut.GameState(deepcopy(current_game)), other_model)\n",
    "    \n",
    "    turn = 0\n",
    "    while not current_game.end():\n",
    "        if not self_play:\n",
    "            current_agent = agent if current_game.current_turn == 1 else other_agent\n",
    "        else:\n",
    "            current_agent = agent\n",
    "\n",
    "        tau = 1 if turn < turns_until_tau0 else 0\n",
    "        \n",
    "        try:\n",
    "            action, state_stack, value, pi = current_agent.train_act(tau)\n",
    "        except KeyError as e:\n",
    "            raise TreeError(e.args[0], current_game, tau, agent, other_agent)\n",
    "            \n",
    "        if not current_game.is_legal_action(action):\n",
    "            raise RejectedActionError(action, current_game, tau, agent, other_agent)\n",
    "        \n",
    "        current_game.apply_action(action)\n",
    "        if state_stack.head is None:\n",
    "            raise TreeError(None, current_game, tau, agent, other_agent)\n",
    "        sample_builder.add_move(state_stack, pi)\n",
    "        \n",
    "        current_agent.on_update(action)\n",
    "        \n",
    "        if not self_play:\n",
    "            other_agent.on_update(action)\n",
    "        \n",
    "        turn += 1\n",
    "        \n",
    "        print('*', end='' if turn % 20 != 0 else '\\n')\n",
    "    \n",
    "    print()\n",
    "    \n",
    "    winner = current_game.get_winner()\n",
    "    \n",
    "    if winner == 1:\n",
    "        winner = 'agent'\n",
    "    elif winner == 2:\n",
    "        winner = 'other'\n",
    "    else:\n",
    "        winner = 'draw'\n",
    "            \n",
    "    value = ut.evaluate(current_game)\n",
    "    \n",
    "    sample_builder.commit_sample(value, game.MAXIMIZER)\n",
    "    \n",
    "    return sample_builder, winner"
   ]
  },
  {
   "cell_type": "code",
   "execution_count": null,
   "metadata": {},
   "outputs": [],
   "source": []
  },
  {
   "cell_type": "code",
   "execution_count": 8,
   "metadata": {},
   "outputs": [],
   "source": [
    "def train_batches(minibatch, batch_size):\n",
    "    training_states = np.array([row['state'].get_deep_representation_stack() for row in minibatch])\n",
    "    \n",
    "    training_targets = {'value_head': np.array([row['value'] for row in minibatch]), \n",
    "                        'policy_head': np.array([row['policy'] for row in minibatch])}\n",
    "    \n",
    "    indices = [i for i in range(len(training_states))]\n",
    "    random.shuffle(indices)\n",
    "    for i in range(len(indices)):\n",
    "        start = indices[i] * batch_size\n",
    "        end = start + batch_size\n",
    "        \n",
    "        yield training_states[start:end], {'value_head':training_targets['value_head'][start:end], \n",
    "                                           'policy_head':training_targets['policy_head'][start:end]}"
   ]
  },
  {
   "cell_type": "code",
   "execution_count": 9,
   "metadata": {},
   "outputs": [],
   "source": [
    "def fit(model, samples):\n",
    "    overall_loss = []\n",
    "    value_loss = []\n",
    "    policy_loss = []\n",
    "    for i in range(config.TRAINING_LOOPS):\n",
    "        minibatch = random.sample(samples, min(config.BATCH_SIZE, len(samples)))\n",
    "        for x_train, y_train in train_batches(minibatch, 32):\n",
    "            res = model.train_on_batch(x=x_train, y=y_train, return_dict=True)\n",
    "            overall_loss.append(res['loss'])\n",
    "            value_loss.append(res['value_head_loss'])\n",
    "            policy_loss.append(res['policy_head_loss'])\n",
    "    return overall_loss, value_loss, policy_loss"
   ]
  },
  {
   "cell_type": "code",
   "execution_count": 10,
   "metadata": {},
   "outputs": [],
   "source": [
    "def train_manger(best_version):\n",
    "    iteration = 0\n",
    "    while True:\n",
    "        current_NN, best_NN = get_models()\n",
    "\n",
    "        current_agent = AlphaZero(config.MCTS_SIMS)\n",
    "        best_agent = AlphaZero(config.MCTS_SIMS)\n",
    "\n",
    "        dataset = ut.SampleBuilder()\n",
    "\n",
    "        for i in range(config.EPISODES):\n",
    "            print(f'Episode {i} started')\n",
    "            start_time = time.monotonic()\n",
    "            sb, _ = play_match(current_agent, current_NN, turns_until_tau0=config.TURNS_UNTIL_TAU0)\n",
    "            dataset.samples.extend(sb.samples)\n",
    "            print(f'Episode {i} ended in {(time.monotonic() - start_time)/60} minutes')\n",
    "        \n",
    "        size = len(dataset.samples)\n",
    "        if iteration % 2:\n",
    "            dataset.save(iteration)\n",
    "            print(f'Gathered {size} sample')\n",
    "        \n",
    "        \n",
    "        if size >= config.DATA_LEN:\n",
    "            \n",
    "            overall_loss, value_loss, policy_loss = fit(current_agent.model, dataset.samples)\n",
    "\n",
    "            score = {'agent': 0, 'draw': 0, 'other': 0}\n",
    "\n",
    "            for _ in range(config.EVAL_EPISODES):\n",
    "                print(f'Evaluation episode {i} started')\n",
    "                start_time = time.monotonic()\n",
    "                _, winner = play_match(current_agent, current_NN, best_agent, best_NN)\n",
    "                score[winner] += 1\n",
    "                print(f'Evaluation episode {i} ended in {(time.monotonic() - start_time)/60} minutes')\n",
    "\n",
    "            ratio = score['agent'] * 100 // config.EVAL_EPISODES\n",
    "            \n",
    "            print(f'current version win ration: {ratio}')\n",
    "\n",
    "            if ratio >= config.SCORING_THRESHOLD:\n",
    "                best_NN.model.set_weights(current_NN.model.get_weights())\n",
    "                best_version = best_version + 1\n",
    "                best_NN.save('best alphazero', best_version)\n",
    "                print('Saving a new version')\n",
    "            else:\n",
    "                current_NN.save('alphazero' + str(best_version), iteration)\n",
    "                print('Saving version progress')\n",
    "        \n",
    "        iteration += 1"
   ]
  },
  {
   "cell_type": "code",
   "execution_count": 11,
   "metadata": {},
   "outputs": [],
   "source": [
    "tree_error = None\n",
    "reject_error = None"
   ]
  },
  {
   "cell_type": "code",
   "execution_count": 12,
   "metadata": {
    "scrolled": true
   },
   "outputs": [
    {
     "name": "stdout",
     "output_type": "stream",
     "text": [
      "loading version None\n",
      "loading version None\n",
      "Episode 0 started\n",
      "0\n",
      "WARNING:tensorflow:Layer conv2d is casting an input tensor from dtype float64 to the layer's dtype of float32, which is new behavior in TensorFlow 2.  The layer has dtype float32 because it's dtype defaults to floatx.\n",
      "\n",
      "If you intended to run this layer in float32, you can safely ignore this warning. If in doubt, this warning is likely only an issue if you are porting a TensorFlow 1.X model to TensorFlow 2.\n",
      "\n",
      "To change all layers to have dtype float64 by default, call `tf.keras.backend.set_floatx('float64')`. To change just this layer, pass dtype='float64' to the layer constructor. If you are the author of this layer, you can disable autocasting by passing autocast=False to the base Layer constructor.\n",
      "\n",
      "*"
     ]
    },
    {
     "ename": "AttributeError",
     "evalue": "'NoneType' object has no attribute 'game_state'",
     "output_type": "error",
     "traceback": [
      "\u001b[1;31m---------------------------------------------------------------------------\u001b[0m",
      "\u001b[1;31mAttributeError\u001b[0m                            Traceback (most recent call last)",
      "\u001b[1;32m<ipython-input-12-9870af09ab1a>\u001b[0m in \u001b[0;36m<module>\u001b[1;34m\u001b[0m\n\u001b[0;32m      2\u001b[0m \u001b[0mstart_time\u001b[0m \u001b[1;33m=\u001b[0m \u001b[0mtime\u001b[0m\u001b[1;33m.\u001b[0m\u001b[0mmonotonic\u001b[0m\u001b[1;33m(\u001b[0m\u001b[1;33m)\u001b[0m\u001b[1;33m\u001b[0m\u001b[1;33m\u001b[0m\u001b[0m\n\u001b[0;32m      3\u001b[0m \u001b[1;32mtry\u001b[0m\u001b[1;33m:\u001b[0m\u001b[1;33m\u001b[0m\u001b[1;33m\u001b[0m\u001b[0m\n\u001b[1;32m----> 4\u001b[1;33m     \u001b[0mtrain_manger\u001b[0m\u001b[1;33m(\u001b[0m\u001b[1;36m1\u001b[0m\u001b[1;33m)\u001b[0m\u001b[1;33m\u001b[0m\u001b[1;33m\u001b[0m\u001b[0m\n\u001b[0m\u001b[0;32m      5\u001b[0m \u001b[1;32mexcept\u001b[0m \u001b[0mRejectedActionError\u001b[0m \u001b[1;32mas\u001b[0m \u001b[0mreject_e\u001b[0m\u001b[1;33m:\u001b[0m\u001b[1;33m\u001b[0m\u001b[1;33m\u001b[0m\u001b[0m\n\u001b[0;32m      6\u001b[0m     \u001b[0mprint\u001b[0m\u001b[1;33m(\u001b[0m\u001b[1;34m'rejected'\u001b[0m\u001b[1;33m)\u001b[0m\u001b[1;33m\u001b[0m\u001b[1;33m\u001b[0m\u001b[0m\n",
      "\u001b[1;32m<ipython-input-10-8d691dc6fd67>\u001b[0m in \u001b[0;36mtrain_manger\u001b[1;34m(best_version)\u001b[0m\n\u001b[0;32m     12\u001b[0m             \u001b[0mprint\u001b[0m\u001b[1;33m(\u001b[0m\u001b[1;34mf'Episode {i} started'\u001b[0m\u001b[1;33m)\u001b[0m\u001b[1;33m\u001b[0m\u001b[1;33m\u001b[0m\u001b[0m\n\u001b[0;32m     13\u001b[0m             \u001b[0mstart_time\u001b[0m \u001b[1;33m=\u001b[0m \u001b[0mtime\u001b[0m\u001b[1;33m.\u001b[0m\u001b[0mmonotonic\u001b[0m\u001b[1;33m(\u001b[0m\u001b[1;33m)\u001b[0m\u001b[1;33m\u001b[0m\u001b[1;33m\u001b[0m\u001b[0m\n\u001b[1;32m---> 14\u001b[1;33m             \u001b[0msb\u001b[0m\u001b[1;33m,\u001b[0m \u001b[0m_\u001b[0m \u001b[1;33m=\u001b[0m \u001b[0mplay_match\u001b[0m\u001b[1;33m(\u001b[0m\u001b[0mcurrent_agent\u001b[0m\u001b[1;33m,\u001b[0m \u001b[0mcurrent_NN\u001b[0m\u001b[1;33m,\u001b[0m \u001b[0mturns_until_tau0\u001b[0m\u001b[1;33m=\u001b[0m\u001b[0mconfig\u001b[0m\u001b[1;33m.\u001b[0m\u001b[0mTURNS_UNTIL_TAU0\u001b[0m\u001b[1;33m)\u001b[0m\u001b[1;33m\u001b[0m\u001b[1;33m\u001b[0m\u001b[0m\n\u001b[0m\u001b[0;32m     15\u001b[0m             \u001b[0mdataset\u001b[0m\u001b[1;33m.\u001b[0m\u001b[0msamples\u001b[0m\u001b[1;33m.\u001b[0m\u001b[0mextend\u001b[0m\u001b[1;33m(\u001b[0m\u001b[0msb\u001b[0m\u001b[1;33m.\u001b[0m\u001b[0msamples\u001b[0m\u001b[1;33m)\u001b[0m\u001b[1;33m\u001b[0m\u001b[1;33m\u001b[0m\u001b[0m\n\u001b[0;32m     16\u001b[0m             \u001b[0mprint\u001b[0m\u001b[1;33m(\u001b[0m\u001b[1;34mf'Episode {i} ended in {(time.monotonic() - start_time)/60} minutes'\u001b[0m\u001b[1;33m)\u001b[0m\u001b[1;33m\u001b[0m\u001b[1;33m\u001b[0m\u001b[0m\n",
      "\u001b[1;32m<ipython-input-7-5e9c4c5cd69d>\u001b[0m in \u001b[0;36mplay_match\u001b[1;34m(agent, model, other_agent, other_model, turns_until_tau0)\u001b[0m\n\u001b[0;32m     27\u001b[0m \u001b[1;33m\u001b[0m\u001b[0m\n\u001b[0;32m     28\u001b[0m         \u001b[1;32mtry\u001b[0m\u001b[1;33m:\u001b[0m\u001b[1;33m\u001b[0m\u001b[1;33m\u001b[0m\u001b[0m\n\u001b[1;32m---> 29\u001b[1;33m             \u001b[0maction\u001b[0m\u001b[1;33m,\u001b[0m \u001b[0mstate_stack\u001b[0m\u001b[1;33m,\u001b[0m \u001b[0mvalue\u001b[0m\u001b[1;33m,\u001b[0m \u001b[0mpi\u001b[0m \u001b[1;33m=\u001b[0m \u001b[0mcurrent_agent\u001b[0m\u001b[1;33m.\u001b[0m\u001b[0mtrain_act\u001b[0m\u001b[1;33m(\u001b[0m\u001b[0mtau\u001b[0m\u001b[1;33m)\u001b[0m\u001b[1;33m\u001b[0m\u001b[1;33m\u001b[0m\u001b[0m\n\u001b[0m\u001b[0;32m     30\u001b[0m         \u001b[1;32mexcept\u001b[0m \u001b[0mKeyError\u001b[0m \u001b[1;32mas\u001b[0m \u001b[0me\u001b[0m\u001b[1;33m:\u001b[0m\u001b[1;33m\u001b[0m\u001b[1;33m\u001b[0m\u001b[0m\n\u001b[0;32m     31\u001b[0m             \u001b[1;32mraise\u001b[0m \u001b[0mTreeError\u001b[0m\u001b[1;33m(\u001b[0m\u001b[0me\u001b[0m\u001b[1;33m.\u001b[0m\u001b[0margs\u001b[0m\u001b[1;33m[\u001b[0m\u001b[1;36m0\u001b[0m\u001b[1;33m]\u001b[0m\u001b[1;33m,\u001b[0m \u001b[0mcurrent_game\u001b[0m\u001b[1;33m,\u001b[0m \u001b[0mtau\u001b[0m\u001b[1;33m,\u001b[0m \u001b[0magent\u001b[0m\u001b[1;33m,\u001b[0m \u001b[0mother_agent\u001b[0m\u001b[1;33m)\u001b[0m\u001b[1;33m\u001b[0m\u001b[1;33m\u001b[0m\u001b[0m\n",
      "\u001b[1;32m~\\source\\repos\\checkers-server\\ai\\agent.py\u001b[0m in \u001b[0;36mtrain_act\u001b[1;34m(self, tau)\u001b[0m\n\u001b[0;32m     91\u001b[0m \u001b[1;33m\u001b[0m\u001b[0m\n\u001b[0;32m     92\u001b[0m         \u001b[1;32mfor\u001b[0m \u001b[0m_\u001b[0m \u001b[1;32min\u001b[0m \u001b[0mrange\u001b[0m\u001b[1;33m(\u001b[0m\u001b[0mself\u001b[0m\u001b[1;33m.\u001b[0m\u001b[0msimulation_limit\u001b[0m\u001b[1;33m)\u001b[0m\u001b[1;33m:\u001b[0m\u001b[1;33m\u001b[0m\u001b[1;33m\u001b[0m\u001b[0m\n\u001b[1;32m---> 93\u001b[1;33m             \u001b[0mself\u001b[0m\u001b[1;33m.\u001b[0m\u001b[0mmct\u001b[0m\u001b[1;33m.\u001b[0m\u001b[0msimulate\u001b[0m\u001b[1;33m(\u001b[0m\u001b[1;33m)\u001b[0m\u001b[1;33m\u001b[0m\u001b[1;33m\u001b[0m\u001b[0m\n\u001b[0m\u001b[0;32m     94\u001b[0m \u001b[1;33m\u001b[0m\u001b[0m\n\u001b[0;32m     95\u001b[0m         \u001b[0mpi\u001b[0m\u001b[1;33m,\u001b[0m \u001b[0mvalues\u001b[0m \u001b[1;33m=\u001b[0m \u001b[0mself\u001b[0m\u001b[1;33m.\u001b[0m\u001b[0mmct\u001b[0m\u001b[1;33m.\u001b[0m\u001b[0mget_AV\u001b[0m\u001b[1;33m(\u001b[0m\u001b[0mtau\u001b[0m\u001b[1;33m)\u001b[0m\u001b[1;33m\u001b[0m\u001b[1;33m\u001b[0m\u001b[0m\n",
      "\u001b[1;32m~\\source\\repos\\checkers-server\\ai\\modified_tree_search.py\u001b[0m in \u001b[0;36msimulate\u001b[1;34m(self)\u001b[0m\n\u001b[0;32m    128\u001b[0m         \u001b[0mvalue\u001b[0m \u001b[1;33m=\u001b[0m \u001b[0mself\u001b[0m\u001b[1;33m.\u001b[0m\u001b[0mexpand_and_evaluate\u001b[0m\u001b[1;33m(\u001b[0m\u001b[0mleaf\u001b[0m\u001b[1;33m,\u001b[0m \u001b[0mstate_stack\u001b[0m\u001b[1;33m)\u001b[0m\u001b[1;33m\u001b[0m\u001b[1;33m\u001b[0m\u001b[0m\n\u001b[0;32m    129\u001b[0m \u001b[1;33m\u001b[0m\u001b[0m\n\u001b[1;32m--> 130\u001b[1;33m         \u001b[0mself\u001b[0m\u001b[1;33m.\u001b[0m\u001b[0mbackup\u001b[0m\u001b[1;33m(\u001b[0m\u001b[0mleaf\u001b[0m\u001b[1;33m,\u001b[0m \u001b[0mpath\u001b[0m\u001b[1;33m,\u001b[0m \u001b[0mvalue\u001b[0m\u001b[1;33m)\u001b[0m\u001b[1;33m\u001b[0m\u001b[1;33m\u001b[0m\u001b[0m\n\u001b[0m\u001b[0;32m    131\u001b[0m \u001b[1;33m\u001b[0m\u001b[0m\n\u001b[0;32m    132\u001b[0m     \u001b[1;32mdef\u001b[0m \u001b[0mget_predictions\u001b[0m\u001b[1;33m(\u001b[0m\u001b[0mself\u001b[0m\u001b[1;33m,\u001b[0m \u001b[0mstate_stack\u001b[0m\u001b[1;33m:\u001b[0m \u001b[0mStateStack\u001b[0m\u001b[1;33m)\u001b[0m\u001b[1;33m:\u001b[0m\u001b[1;33m\u001b[0m\u001b[1;33m\u001b[0m\u001b[0m\n",
      "\u001b[1;32m~\\source\\repos\\checkers-server\\ai\\modified_tree_search.py\u001b[0m in \u001b[0;36mbackup\u001b[1;34m(leaf, path, value)\u001b[0m\n\u001b[0;32m    105\u001b[0m \u001b[1;33m\u001b[0m\u001b[0m\n\u001b[0;32m    106\u001b[0m         \u001b[1;32mfor\u001b[0m \u001b[0medge\u001b[0m \u001b[1;32min\u001b[0m \u001b[0mpath\u001b[0m\u001b[1;33m:\u001b[0m\u001b[1;33m\u001b[0m\u001b[1;33m\u001b[0m\u001b[0m\n\u001b[1;32m--> 107\u001b[1;33m             \u001b[0mplayer_turn\u001b[0m \u001b[1;33m=\u001b[0m \u001b[0medge\u001b[0m\u001b[1;33m.\u001b[0m\u001b[0min_node\u001b[0m\u001b[1;33m.\u001b[0m\u001b[0mgame_state\u001b[0m\u001b[1;33m.\u001b[0m\u001b[0mturn\u001b[0m\u001b[1;33m\u001b[0m\u001b[1;33m\u001b[0m\u001b[0m\n\u001b[0m\u001b[0;32m    108\u001b[0m             \u001b[1;32mif\u001b[0m \u001b[0mplayer_turn\u001b[0m \u001b[1;33m==\u001b[0m \u001b[0mcurrent_player\u001b[0m\u001b[1;33m:\u001b[0m\u001b[1;33m\u001b[0m\u001b[1;33m\u001b[0m\u001b[0m\n\u001b[0;32m    109\u001b[0m                 \u001b[0mdirection\u001b[0m \u001b[1;33m=\u001b[0m \u001b[1;36m1\u001b[0m\u001b[1;33m\u001b[0m\u001b[1;33m\u001b[0m\u001b[0m\n",
      "\u001b[1;31mAttributeError\u001b[0m: 'NoneType' object has no attribute 'game_state'"
     ]
    }
   ],
   "source": [
    "import time\n",
    "start_time = time.monotonic()\n",
    "try:\n",
    "    train_manger(1)\n",
    "except RejectedActionError as reject_e:\n",
    "    print('rejected')\n",
    "    reject_error = reject_e\n",
    "except TreeError as tree_e:\n",
    "    print('search error')\n",
    "    tree_error = tree_e\n",
    "print(f'slept for {time.monotonic() - start_time}')"
   ]
  },
  {
   "cell_type": "code",
   "execution_count": 13,
   "metadata": {},
   "outputs": [
    {
     "name": "stdout",
     "output_type": "stream",
     "text": [
      "     1  2  3  4  5  6  7  8  9  10\n",
      " 1|  .  .  .  .  .  B  .  B  .  B \n",
      " 2|  .  .  B  .  .  .  B  .  B  . \n",
      " 3|  .  B  .  .  .  B  .  .  .  W \n",
      " 4|  .  .  B  .  B  .  .  .  .  . \n",
      " 5|  .  .  .  B  .  .  .  W  .  . \n",
      " 6|  .  .  W  .  .  .  .  .  .  . \n",
      " 7|  .  .  .  .  .  .  .  .  .  . \n",
      " 8|  .  .  B  .  .  .  W  .  .  . \n",
      " 9|  .  .  .  .  .  W  .  W  .  W \n",
      "10|  .  .  W  .  .  .  W  .  W  . \n",
      "\n",
      "---------------------------\n"
     ]
    }
   ],
   "source": [
    "print(reject_error.game.grid)\n",
    "print('---------------------------')"
   ]
  },
  {
   "cell_type": "code",
   "execution_count": 20,
   "metadata": {},
   "outputs": [
    {
     "name": "stdout",
     "output_type": "stream",
     "text": [
      "(7,4)------->>>(9,2)\n"
     ]
    }
   ],
   "source": [
    "print(reject_error.action)"
   ]
  },
  {
   "cell_type": "code",
   "execution_count": 19,
   "metadata": {},
   "outputs": [
    {
     "name": "stdout",
     "output_type": "stream",
     "text": [
      "(6,3)------->>>(5,2)\n",
      "(8,7)------->>>(7,6)\n",
      "(8,7)------->>>(7,8)\n",
      "(5,8)------->>>(4,7)\n",
      "(5,8)------->>>(4,9)\n",
      "(9,6)------->>>(8,5)\n",
      "(9,8)------->>>(8,9)\n",
      "(9,10)------->>>(8,9)\n",
      "(10,3)------->>>(9,2)\n",
      "(10,3)------->>>(9,4)\n"
     ]
    }
   ],
   "source": [
    "actions = reject_error.game.get_all_possible_actions()\n",
    "for action in actions:\n",
    "    print(action)"
   ]
  },
  {
   "cell_type": "code",
   "execution_count": 18,
   "metadata": {
    "scrolled": true
   },
   "outputs": [
    {
     "name": "stdout",
     "output_type": "stream",
     "text": [
      "1\n"
     ]
    }
   ],
   "source": [
    "print(reject_error.game.current_turn)"
   ]
  },
  {
   "cell_type": "code",
   "execution_count": 17,
   "metadata": {},
   "outputs": [
    {
     "name": "stdout",
     "output_type": "stream",
     "text": [
      "0\n"
     ]
    }
   ],
   "source": [
    "print(reject_error.tau)"
   ]
  },
  {
   "cell_type": "code",
   "execution_count": 22,
   "metadata": {
    "scrolled": true
   },
   "outputs": [
    {
     "name": "stdout",
     "output_type": "stream",
     "text": [
      "     1  2  3  4  5  6  7  8  9  10\n",
      " 1|  .  .  .  .  .  B  .  B  .  B \n",
      " 2|  .  .  B  .  .  .  B  .  B  . \n",
      " 3|  .  B  .  .  .  B  .  .  .  W \n",
      " 4|  .  .  B  .  B  .  .  .  .  . \n",
      " 5|  .  .  .  B  .  .  .  W  .  . \n",
      " 6|  .  .  W  .  .  .  .  .  .  . \n",
      " 7|  .  .  .  W  .  .  .  .  .  . \n",
      " 8|  .  .  B  .  .  .  W  .  .  . \n",
      " 9|  .  .  .  .  .  W  .  W  .  W \n",
      "10|  .  .  W  .  .  .  W  .  W  . \n",
      "\n",
      "---------------------------\n",
      "     1  2  3  4  5  6  7  8  9  10\n",
      " 1|  .  .  .  .  .  B  .  B  .  B \n",
      " 2|  .  .  B  .  .  .  B  .  B  . \n",
      " 3|  .  B  .  .  .  B  .  .  .  W \n",
      " 4|  .  .  B  .  B  .  .  .  .  . \n",
      " 5|  .  .  .  B  .  .  .  W  .  . \n",
      " 6|  .  .  W  .  .  .  .  .  .  . \n",
      " 7|  .  .  .  .  .  .  .  .  .  . \n",
      " 8|  .  .  B  .  .  .  W  .  .  . \n",
      " 9|  .  .  .  .  .  W  .  W  .  W \n",
      "10|  .  .  W  .  .  .  W  .  W  . \n",
      "\n"
     ]
    }
   ],
   "source": [
    "print(reject_error.agent.mct.root.game_state.get_game().grid)\n",
    "print('---------------------------')\n",
    "print(reject_error.game.grid)"
   ]
  },
  {
   "cell_type": "code",
   "execution_count": 21,
   "metadata": {
    "scrolled": true
   },
   "outputs": [
    {
     "name": "stdout",
     "output_type": "stream",
     "text": [
      "1\n",
      "(7,4)------->>>(9,2)\n"
     ]
    }
   ],
   "source": [
    "print(reject_error.agent.mct.root.game_state.turn)\n",
    "actions = reject_error.agent.mct.root.game_state.get_game().get_all_possible_actions()\n",
    "for action in actions:\n",
    "    print(action)"
   ]
  },
  {
   "cell_type": "code",
   "execution_count": 24,
   "metadata": {},
   "outputs": [
    {
     "data": {
      "text/plain": [
       "'KING'"
      ]
     },
     "execution_count": 24,
     "metadata": {},
     "output_type": "execute_result"
    }
   ],
   "source": [
    "reject_error.agent.mct.root.game_state.get_game().grid[5][4].piece.type"
   ]
  },
  {
   "cell_type": "code",
   "execution_count": 25,
   "metadata": {},
   "outputs": [
    {
     "data": {
      "text/plain": [
       "'PAWN'"
      ]
     },
     "execution_count": 25,
     "metadata": {},
     "output_type": "execute_result"
    }
   ],
   "source": [
    "reject_error.game.grid[5][4].piece.type"
   ]
  },
  {
   "cell_type": "code",
   "execution_count": 63,
   "metadata": {},
   "outputs": [],
   "source": [
    "copygame = deepcopy(reject_error.game)"
   ]
  },
  {
   "cell_type": "code",
   "execution_count": 64,
   "metadata": {},
   "outputs": [
    {
     "name": "stdout",
     "output_type": "stream",
     "text": [
      "     1  2  3  4  5  6  7  8  9  10\n",
      " 1|  .  .  .  .  .  B  .  B  .  B \n",
      " 2|  .  .  B  .  .  .  B  .  B  . \n",
      " 3|  .  B  .  .  .  B  .  .  .  W \n",
      " 4|  .  .  B  .  B  .  .  .  .  . \n",
      " 5|  .  .  .  B  .  .  .  W  .  . \n",
      " 6|  .  .  W  .  .  .  .  .  .  . \n",
      " 7|  .  .  .  .  .  .  .  .  .  . \n",
      " 8|  .  .  B  .  .  .  W  .  .  . \n",
      " 9|  .  .  .  .  .  W  .  W  .  W \n",
      "10|  .  .  W  .  .  .  W  .  W  . \n",
      "\n",
      "     1  2  3  4  5  6  7  8  9  10\n",
      " 1|  .  .  .  B  .  B  .  B  .  B \n",
      " 2|  B  .  .  .  B  .  B  .  B  . \n",
      " 3|  .  .  .  B  .  B  .  .  .  W \n",
      " 4|  .  .  .  .  B  .  .  .  .  . \n",
      " 5|  .  .  .  .  .  .  .  .  .  B \n",
      " 6|  .  .  .  .  .  .  .  .  .  . \n",
      " 7|  .  .  .  W  .  .  .  .  .  . \n",
      " 8|  W  .  B  .  .  .  W  .  W  . \n",
      " 9|  .  W  .  W  .  W  .  W  .  W \n",
      "10|  .  .  W  .  W  .  W  .  W  . \n",
      "\n"
     ]
    }
   ],
   "source": [
    "print(copygame.grid)\n",
    "piece = copygame.grid[7][2].piece\n",
    "actions_stack = []\n",
    "for action in reversed(copygame.actions):\n",
    "    actions_stack.append(action)\n",
    "    copygame.undo()\n",
    "    if piece.type != 'KING':\n",
    "        print(copygame.grid)\n",
    "        break"
   ]
  },
  {
   "cell_type": "code",
   "execution_count": 88,
   "metadata": {
    "scrolled": true
   },
   "outputs": [
    {
     "name": "stdout",
     "output_type": "stream",
     "text": [
      "0\n"
     ]
    }
   ],
   "source": [
    "print(len(actions_stack))"
   ]
  },
  {
   "cell_type": "code",
   "execution_count": 51,
   "metadata": {},
   "outputs": [
    {
     "name": "stdout",
     "output_type": "stream",
     "text": [
      "     1  2  3  4  5  6  7  8  9  10\n",
      " 1|  .  .  .  B  .  B  .  B  .  B \n",
      " 2|  .  .  .  .  B  .  B  .  B  . \n",
      " 3|  .  B  .  .  .  B  .  B  .  W \n",
      " 4|  .  .  B  .  B  .  .  .  .  . \n",
      " 5|  .  .  .  .  .  .  .  .  .  B \n",
      " 6|  .  .  W  .  .  .  .  .  .  . \n",
      " 7|  .  .  .  .  .  .  .  .  .  . \n",
      " 8|  .  .  .  .  .  .  W  .  W  . \n",
      " 9|  .  .  .  W  .  W  .  W  .  W \n",
      "10|  .  .  W  .  W  .  W  .  W  . \n",
      "\n"
     ]
    }
   ],
   "source": [
    "copygame.undo()\n",
    "print(copygame.grid)"
   ]
  },
  {
   "cell_type": "code",
   "execution_count": 87,
   "metadata": {},
   "outputs": [
    {
     "name": "stdout",
     "output_type": "stream",
     "text": [
      "     1  2  3  4  5  6  7  8  9  10\n",
      " 1|  .  .  .  .  .  B  .  B  .  B \n",
      " 2|  .  .  B  .  .  .  B  .  B  . \n",
      " 3|  .  B  .  .  .  B  .  B  .  W \n",
      " 4|  .  .  B  .  B  .  .  .  .  . \n",
      " 5|  .  .  .  B  .  .  .  W  .  . \n",
      " 6|  .  .  W  .  .  .  .  .  .  . \n",
      " 7|  .  .  .  W  .  .  .  .  .  . \n",
      " 8|  .  .  .  .  .  .  W  .  .  . \n",
      " 9|  .  .  .  .  .  W  .  W  .  W \n",
      "10|  .  .  W  .  .  .  W  .  W  . \n",
      "\n",
      "(3,8)------->>>(8,3)\n",
      "     1  2  3  4  5  6  7  8  9  10\n",
      " 1|  .  .  .  .  .  B  .  B  .  B \n",
      " 2|  .  .  B  .  .  .  B  .  B  . \n",
      " 3|  .  B  .  .  .  B  .  .  .  W \n",
      " 4|  .  .  B  .  B  .  .  .  .  . \n",
      " 5|  .  .  .  B  .  .  .  W  .  . \n",
      " 6|  .  .  W  .  .  .  .  .  .  . \n",
      " 7|  .  .  .  .  .  .  .  .  .  . \n",
      " 8|  .  .  B  .  .  .  W  .  .  . \n",
      " 9|  .  .  .  .  .  W  .  W  .  W \n",
      "10|  .  .  W  .  .  .  W  .  W  . \n",
      "\n"
     ]
    }
   ],
   "source": [
    "print(copygame.grid)\n",
    "action = actions_stack.pop()\n",
    "print(action)\n",
    "copygame.apply_action(action)\n",
    "print(copygame.grid)"
   ]
  },
  {
   "cell_type": "code",
   "execution_count": 25,
   "metadata": {},
   "outputs": [
    {
     "name": "stdout",
     "output_type": "stream",
     "text": [
      "     1  2  3  4  5  6  7  8  9  10\n",
      " 1|  .  .  .  .  .  B  .  B  .  B \n",
      " 2|  .  .  B  .  .  .  B  .  B  . \n",
      " 3|  .  B  .  .  .  B  .  B  .  W \n",
      " 4|  .  .  B  .  B  .  .  .  .  . \n",
      " 5|  .  .  .  B  .  .  .  W  .  . \n",
      " 6|  .  .  W  .  .  .  .  .  .  . \n",
      " 7|  .  .  .  W  .  .  .  .  .  . \n",
      " 8|  .  .  .  .  .  .  W  .  .  . \n",
      " 9|  .  .  .  .  .  W  .  W  .  W \n",
      "10|  .  .  W  .  .  .  W  .  W  . \n",
      "\n",
      "     1  2  3  4  5  6  7  8  9  10\n",
      " 1|  .  .  .  .  .  B  .  B  .  B \n",
      " 2|  .  .  B  .  .  .  B  .  B  . \n",
      " 3|  .  B  .  .  .  B  .  .  .  W \n",
      " 4|  .  .  B  .  B  .  .  .  .  . \n",
      " 5|  .  .  .  B  .  .  .  W  .  . \n",
      " 6|  .  .  W  .  .  .  .  .  .  . \n",
      " 7|  .  .  .  .  .  .  .  .  .  . \n",
      " 8|  .  .  B  .  .  .  W  .  .  . \n",
      " 9|  .  .  .  .  .  W  .  W  .  W \n",
      "10|  .  .  W  .  .  .  W  .  W  . \n",
      "\n"
     ]
    }
   ],
   "source": [
    "print(copygame.grid)\n",
    "print(reject_error.game.grid)"
   ]
  },
  {
   "cell_type": "code",
   "execution_count": 89,
   "metadata": {},
   "outputs": [
    {
     "name": "stdout",
     "output_type": "stream",
     "text": [
      "     1  2  3  4  5  6  7  8  9  10\n",
      " 1|  .  .  .  .  .  B  .  B  .  B \n",
      " 2|  .  .  B  .  .  .  B  .  B  . \n",
      " 3|  .  B  .  .  .  B  .  .  .  W \n",
      " 4|  .  .  B  .  B  .  .  .  .  . \n",
      " 5|  .  .  .  B  .  .  .  W  .  . \n",
      " 6|  .  .  W  .  .  .  .  .  .  . \n",
      " 7|  .  .  .  W  .  .  .  .  .  . \n",
      " 8|  .  .  B  .  .  .  W  .  .  . \n",
      " 9|  .  .  .  .  .  W  .  W  .  W \n",
      "10|  .  .  W  .  .  .  W  .  W  . \n",
      "\n"
     ]
    }
   ],
   "source": [
    "root_game = reject_error.agent.mct.root.game_state.get_game()\n",
    "print(root_game.grid)"
   ]
  },
  {
   "cell_type": "code",
   "execution_count": 92,
   "metadata": {},
   "outputs": [
    {
     "name": "stdout",
     "output_type": "stream",
     "text": [
      "     1  2  3  4  5  6  7  8  9  10\n",
      " 1|  .  .  .  .  .  B  .  B  .  B \n",
      " 2|  .  .  B  .  .  .  B  .  B  . \n",
      " 3|  .  B  .  .  .  B  .  B  .  W \n",
      " 4|  .  .  B  .  B  .  .  .  .  . \n",
      " 5|  .  .  .  B  .  .  .  W  .  . \n",
      " 6|  .  .  W  .  .  .  .  .  .  . \n",
      " 7|  .  .  .  W  .  .  .  .  .  . \n",
      " 8|  .  .  .  .  .  .  W  .  .  . \n",
      " 9|  .  .  .  .  .  W  .  W  .  W \n",
      "10|  .  .  W  .  .  .  W  .  W  . \n",
      "\n"
     ]
    }
   ],
   "source": [
    "print(reject_error.agent.mct.state_stack.dq[4].get_game().grid)"
   ]
  },
  {
   "cell_type": "code",
   "execution_count": 120,
   "metadata": {},
   "outputs": [
    {
     "name": "stdout",
     "output_type": "stream",
     "text": [
      "     1  2  3  4  5  6  7  8  9  10\n",
      " 1|  .  .  .  .  .  B  .  B  .  B \n",
      " 2|  .  .  B  .  .  .  B  .  B  . \n",
      " 3|  .  B  .  .  .  B  .  B  .  W \n",
      " 4|  .  .  B  .  B  .  .  .  .  . \n",
      " 5|  .  .  .  B  .  .  .  W  .  . \n",
      " 6|  .  .  W  .  .  .  .  .  .  . \n",
      " 7|  .  .  .  W  .  .  .  .  .  . \n",
      " 8|  .  .  .  .  .  .  W  .  .  . \n",
      " 9|  .  .  .  .  .  W  .  W  .  W \n",
      "10|  .  .  W  .  .  .  W  .  W  . \n",
      "\n",
      "--------------------------------\n",
      "(5,4)------->>>(7,2)\n",
      "     1  2  3  4  5  6  7  8  9  10\n",
      " 1|  .  .  .  .  .  B  .  B  .  B \n",
      " 2|  .  .  B  .  .  .  B  .  B  . \n",
      " 3|  .  B  .  .  .  B  .  B  .  W \n",
      " 4|  .  .  B  .  B  .  .  .  .  . \n",
      " 5|  .  .  .  .  .  .  .  W  .  . \n",
      " 6|  .  .  .  .  .  .  .  .  .  . \n",
      " 7|  .  B  .  W  .  .  .  .  .  . \n",
      " 8|  .  .  .  .  .  .  W  .  .  . \n",
      " 9|  .  .  .  .  .  W  .  W  .  W \n",
      "10|  .  .  W  .  .  .  W  .  W  . \n",
      "\n",
      "(3,8)------->>>(8,3)\n",
      "     1  2  3  4  5  6  7  8  9  10\n",
      " 1|  .  .  .  .  .  B  .  B  .  B \n",
      " 2|  .  .  B  .  .  .  B  .  B  . \n",
      " 3|  .  B  .  .  .  B  .  .  .  W \n",
      " 4|  .  .  B  .  B  .  .  .  .  . \n",
      " 5|  .  .  .  B  .  .  .  W  .  . \n",
      " 6|  .  .  W  .  .  .  .  .  .  . \n",
      " 7|  .  .  .  W  .  .  .  .  .  . \n",
      " 8|  .  .  B  .  .  .  W  .  .  . \n",
      " 9|  .  .  .  .  .  W  .  W  .  W \n",
      "10|  .  .  W  .  .  .  W  .  W  . \n",
      "\n"
     ]
    }
   ],
   "source": [
    "parent_game_state = reject_error.agent.mct.state_stack.dq[4]\n",
    "print(parent_game_state.get_game().grid)\n",
    "print('--------------------------------')\n",
    "parent_actions, parent_states = parent_game_state.get_all_possible_states()\n",
    "for action, state in zip(parent_actions, parent_states):\n",
    "    print(action)\n",
    "    print(state.get_game().grid)"
   ]
  },
  {
   "cell_type": "code",
   "execution_count": 106,
   "metadata": {},
   "outputs": [
    {
     "name": "stdout",
     "output_type": "stream",
     "text": [
      "(3,8)------->>>(8,3)\n"
     ]
    }
   ],
   "source": [
    "buged_action = parent_actions[1]\n",
    "print(buged_action)"
   ]
  },
  {
   "cell_type": "code",
   "execution_count": 116,
   "metadata": {},
   "outputs": [
    {
     "name": "stdout",
     "output_type": "stream",
     "text": [
      "(2,7,BLACK KING)\n"
     ]
    }
   ],
   "source": [
    "buged_game = parent_game_state.get_game()\n",
    "print(buged_game.grid[2][7].piece)"
   ]
  },
  {
   "cell_type": "code",
   "execution_count": 118,
   "metadata": {},
   "outputs": [],
   "source": [
    "import pickle\n",
    "pickle.dump(buged_game, open('firstbug_game.pk', 'wb'))"
   ]
  },
  {
   "cell_type": "code",
   "execution_count": 122,
   "metadata": {},
   "outputs": [],
   "source": [
    "pickle.dump(reject_error.game, open('secondbug_game.pk', 'wb'))"
   ]
  },
  {
   "cell_type": "code",
   "execution_count": null,
   "metadata": {},
   "outputs": [],
   "source": [
    "import matplotlib.pyplot as plt\n",
    "%matplotlib inline"
   ]
  },
  {
   "cell_type": "code",
   "execution_count": null,
   "metadata": {},
   "outputs": [],
   "source": []
  },
  {
   "cell_type": "code",
   "execution_count": null,
   "metadata": {},
   "outputs": [],
   "source": []
  },
  {
   "cell_type": "code",
   "execution_count": null,
   "metadata": {},
   "outputs": [],
   "source": []
  },
  {
   "cell_type": "code",
   "execution_count": 25,
   "metadata": {},
   "outputs": [],
   "source": [
    "import matplotlib.pyplot as plt\n",
    "%matplotlib inline"
   ]
  },
  {
   "cell_type": "code",
   "execution_count": null,
   "metadata": {},
   "outputs": [],
   "source": []
  },
  {
   "cell_type": "code",
   "execution_count": null,
   "metadata": {},
   "outputs": [],
   "source": [
    "import time\n",
    "import random\n",
    "\n",
    "from IPython.display import display\n",
    "from plotly.offline import download_plotlyjs, init_notebook_mode, plot, iplot\n",
    "\n",
    "import cufflinks as cf\n",
    "import plotly.graph_objects as go"
   ]
  },
  {
   "cell_type": "code",
   "execution_count": null,
   "metadata": {},
   "outputs": [],
   "source": [
    "init_notebook_mode(connected=True)\n",
    "cf.go_offline()\n",
    "np.random.seed(5)"
   ]
  },
  {
   "cell_type": "code",
   "execution_count": null,
   "metadata": {},
   "outputs": [],
   "source": [
    "await task"
   ]
  },
  {
   "cell_type": "code",
   "execution_count": null,
   "metadata": {},
   "outputs": [],
   "source": [
    "print(len(mct.root.edges))"
   ]
  },
  {
   "cell_type": "code",
   "execution_count": null,
   "metadata": {},
   "outputs": [],
   "source": []
  },
  {
   "cell_type": "code",
   "execution_count": null,
   "metadata": {},
   "outputs": [],
   "source": [
    "currentAgent = AlphaZero(config.MCTS_SIMS)\n"
   ]
  },
  {
   "cell_type": "code",
   "execution_count": null,
   "metadata": {},
   "outputs": [],
   "source": [
    "currentAgent.build_mct(ut.GameState(current_game), current_model)"
   ]
  },
  {
   "cell_type": "code",
   "execution_count": null,
   "metadata": {},
   "outputs": [],
   "source": []
  },
  {
   "cell_type": "code",
   "execution_count": null,
   "metadata": {},
   "outputs": [],
   "source": [
    "import tensorflow as tf\n",
    "tf.__version__"
   ]
  },
  {
   "cell_type": "code",
   "execution_count": null,
   "metadata": {},
   "outputs": [],
   "source": [
    "\n",
    "\n",
    "class PlayGround:\n",
    "    def __init__(self):\n",
    "        self.action_space_shape = len(get_action_space(10, 10))\n",
    "        self.current_model = NeuralNetwork(config.REG_CONST, config.LEARNING_RATE, \n",
    "                                      (10,10,25),   self.action_space_shape, config.HIDDEN_CNN_LAYERS)\n",
    "\n",
    "        #self.best_model = NeuralNetwork(config.REG_CONST, config.LEARNING_RATE, \n",
    "                                   #(10,10,25),   self.action_space_shape, config.HIDDEN_CNN_LAYERS)\n",
    "        \n",
    "        self.best_model.model.set_weights(self.current_model.model.get_weights())\n",
    "        self.exp = []\n",
    "        self.turn = []\n",
    "        \n",
    "        self.fig = go.FigureWidget()\n",
    "        self.fig.update_layout(xaxis_title=\"Turn\", yaxis_title='Expected value')\n",
    "        #self.fig.add_scatter(fill='tozeroy')\n",
    "        self.fig.add_scatter()\n",
    "\n",
    "    def plot_figure(self):\n",
    "        display(self.fig)\n",
    "        \n",
    "    def update_plot(self):\n",
    "        with self.fig.batch_update():\n",
    "            self.fig.data[0].x = self.turn\n",
    "            self.fig.data[0].y = self.exp    "
   ]
  },
  {
   "cell_type": "code",
   "execution_count": null,
   "metadata": {},
   "outputs": [],
   "source": []
  },
  {
   "cell_type": "code",
   "execution_count": null,
   "metadata": {},
   "outputs": [],
   "source": []
  },
  {
   "cell_type": "code",
   "execution_count": null,
   "metadata": {},
   "outputs": [],
   "source": []
  },
  {
   "cell_type": "code",
   "execution_count": null,
   "metadata": {},
   "outputs": [],
   "source": []
  },
  {
   "cell_type": "code",
   "execution_count": null,
   "metadata": {},
   "outputs": [],
   "source": []
  },
  {
   "cell_type": "code",
   "execution_count": null,
   "metadata": {},
   "outputs": [],
   "source": [
    "#calc_new_rate(1613, [1609, 1477, 1388, 1586, 1720], [2, 0, 1, 1, 2])\n",
    "#1601"
   ]
  },
  {
   "cell_type": "code",
   "execution_count": null,
   "metadata": {},
   "outputs": [],
   "source": [
    "import numpy as np\n",
    "import random\n"
   ]
  },
  {
   "cell_type": "code",
   "execution_count": null,
   "metadata": {},
   "outputs": [],
   "source": []
  },
  {
   "cell_type": "code",
   "execution_count": null,
   "metadata": {},
   "outputs": [],
   "source": [
    "import ai.figures as figs"
   ]
  },
  {
   "cell_type": "code",
   "execution_count": null,
   "metadata": {},
   "outputs": [],
   "source": [
    "from plotly.offline import init_notebook_mode, iplot\n",
    "import plotly.graph_objects as go\n",
    "import cufflinks as cf\n",
    "import ai.figures as figs\n",
    "init_notebook_mode()\n",
    "cf.go_offline()"
   ]
  },
  {
   "cell_type": "code",
   "execution_count": null,
   "metadata": {},
   "outputs": [],
   "source": [
    "import pandas as pd\n",
    "df = pd.read_csv('data/users v3.csv')\n",
    "df.index.name = 'player_id'"
   ]
  },
  {
   "cell_type": "code",
   "execution_count": null,
   "metadata": {},
   "outputs": [],
   "source": [
    "iplot(figs.registration_intensity_histogram(df))"
   ]
  },
  {
   "cell_type": "code",
   "execution_count": null,
   "metadata": {},
   "outputs": [],
   "source": [
    "iplot(figs.categories_bars(df))\n",
    "iplot(figs.categories_ratio_pie(df))"
   ]
  },
  {
   "cell_type": "code",
   "execution_count": null,
   "metadata": {},
   "outputs": [],
   "source": []
  },
  {
   "cell_type": "code",
   "execution_count": null,
   "metadata": {},
   "outputs": [],
   "source": []
  },
  {
   "cell_type": "code",
   "execution_count": null,
   "metadata": {},
   "outputs": [],
   "source": [
    "df.head()"
   ]
  },
  {
   "cell_type": "code",
   "execution_count": null,
   "metadata": {},
   "outputs": [],
   "source": [
    "df['signup_date'] = pd.to_datetime(df['signup_date'])\n",
    "df['year'] = df['signup_date'].apply(lambda t: t.year)\n",
    "df['month'] = df['signup_date'].apply(lambda t: t.month)\n",
    "df['day'] = df['signup_date'].apply(lambda t: t.day)\n",
    "df.head()"
   ]
  },
  {
   "cell_type": "code",
   "execution_count": null,
   "metadata": {},
   "outputs": [],
   "source": []
  },
  {
   "cell_type": "code",
   "execution_count": null,
   "metadata": {},
   "outputs": [],
   "source": []
  },
  {
   "cell_type": "code",
   "execution_count": null,
   "metadata": {},
   "outputs": [],
   "source": [
    "bymonth = df.groupby('month').count()\n",
    "\n",
    "trace1 = go.Scatter(x = bymonth.index,y=bymonth.rate,\n",
    "                          marker = dict(color = 'rgba(31, 119, 180, 0.8)',\n",
    "                                        line=dict(color='rgb(0,0,0)',\n",
    "                                                  width=1.5)))\n",
    "layout = dict(barmode = 'group',title = 'Registration Intensity',\n",
    "                 xaxis= dict(title= 'Month',ticklen= 5,zeroline= False, ticks=\"inside\"), \n",
    "                 yaxis = dict(title = 'Users', ticklen = 5, zeroline = False, ticks=\"outside\"))\n",
    "data = [trace1]\n",
    "\n",
    "fig = {'data': data, 'layout': layout}\n",
    "    \n",
    "iplot(fig)"
   ]
  },
  {
   "cell_type": "code",
   "execution_count": null,
   "metadata": {},
   "outputs": [],
   "source": []
  },
  {
   "cell_type": "code",
   "execution_count": 1,
   "metadata": {},
   "outputs": [],
   "source": [
    "from model.international_game import InternationalGame\n",
    "import ai.utils as utils"
   ]
  },
  {
   "cell_type": "code",
   "execution_count": 2,
   "metadata": {},
   "outputs": [],
   "source": [
    "game = InternationalGame(1, None, None, None)"
   ]
  },
  {
   "cell_type": "code",
   "execution_count": 3,
   "metadata": {},
   "outputs": [],
   "source": [
    "game.init()"
   ]
  },
  {
   "cell_type": "code",
   "execution_count": 4,
   "metadata": {},
   "outputs": [],
   "source": [
    "from ai.parallel_tree_search import MCTree"
   ]
  },
  {
   "cell_type": "code",
   "execution_count": 5,
   "metadata": {},
   "outputs": [],
   "source": [
    "mct = MCTree(utils.GameState(game))"
   ]
  },
  {
   "cell_type": "code",
   "execution_count": 6,
   "metadata": {},
   "outputs": [
    {
     "name": "stdout",
     "output_type": "stream",
     "text": [
      "slept for 7.76600000000326\n",
      "slept for sum 7.76600000000326\n"
     ]
    }
   ],
   "source": [
    "import time\n",
    "start_t = time.monotonic()\n",
    "for i in range(1):\n",
    "    start = time.monotonic()\n",
    "    mct.simulate(min(i + 1, 16))\n",
    "    print(f'slept for {time.monotonic() - start}')\n",
    "print(f'slept for sum {time.monotonic() - start_t}')"
   ]
  },
  {
   "cell_type": "code",
   "execution_count": null,
   "metadata": {},
   "outputs": [],
   "source": []
  },
  {
   "cell_type": "code",
   "execution_count": 7,
   "metadata": {},
   "outputs": [
    {
     "name": "stdout",
     "output_type": "stream",
     "text": [
      "{}\n"
     ]
    }
   ],
   "source": [
    "#print(mct.expand((mct.root, mct.manager, mct.action_encoder)))\n",
    "print(mct.root.edges)"
   ]
  },
  {
   "cell_type": "code",
   "execution_count": 2,
   "metadata": {},
   "outputs": [],
   "source": [
    "import ai.standard_tree_search as sts"
   ]
  },
  {
   "cell_type": "code",
   "execution_count": 7,
   "metadata": {},
   "outputs": [],
   "source": [
    "smct = sts.MCTree(utils.GameState(game))"
   ]
  },
  {
   "cell_type": "code",
   "execution_count": 8,
   "metadata": {},
   "outputs": [
    {
     "name": "stdout",
     "output_type": "stream",
     "text": [
      "slept for sum 7.406999999999243\n"
     ]
    }
   ],
   "source": [
    "import time\n",
    "start_t = time.monotonic()\n",
    "for _ in range(160):\n",
    "    start = time.monotonic()\n",
    "    smct.simulate()\n",
    "    print(f'slept for {time.monotonic() - start}')\n",
    "print(f'slept for sum {time.monotonic() - start_t}')"
   ]
  }
 ],
 "metadata": {
  "kernelspec": {
   "display_name": "Python 3",
   "language": "python",
   "name": "python3"
  },
  "language_info": {
   "codemirror_mode": {
    "name": "ipython",
    "version": 3
   },
   "file_extension": ".py",
   "mimetype": "text/x-python",
   "name": "python",
   "nbconvert_exporter": "python",
   "pygments_lexer": "ipython3",
   "version": "3.7.6"
  }
 },
 "nbformat": 4,
 "nbformat_minor": 2
}
