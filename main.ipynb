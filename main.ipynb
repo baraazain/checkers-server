{
 "cells": [
  {
   "cell_type": "code",
   "execution_count": 9,
   "metadata": {},
   "outputs": [],
   "source": [
    "from copy import deepcopy\n",
    "\n",
    "import numpy as np\n",
    "\n",
    "import ai.config as config\n",
    "from model.game import Action\n",
    "from ai.agent import AlphaZero\n",
    "\n",
    "\n",
    "import ai.utils as ut\n",
    "import ai.treesearch as ts"
   ]
  },
  {
   "cell_type": "code",
   "execution_count": 2,
   "metadata": {},
   "outputs": [],
   "source": []
  },
  {
   "cell_type": "code",
   "execution_count": null,
   "metadata": {},
   "outputs": [],
   "source": []
  },
  {
   "cell_type": "code",
   "execution_count": null,
   "metadata": {},
   "outputs": [],
   "source": []
  },
  {
   "cell_type": "code",
   "execution_count": null,
   "metadata": {},
   "outputs": [],
   "source": [
    "    "
   ]
  },
  {
   "cell_type": "code",
   "execution_count": null,
   "metadata": {},
   "outputs": [],
   "source": []
  },
  {
   "cell_type": "code",
   "execution_count": null,
   "metadata": {},
   "outputs": [],
   "source": []
  },
  {
   "cell_type": "code",
   "execution_count": 53,
   "metadata": {},
   "outputs": [],
   "source": [
    "class RejectedActionError(Exception):\n",
    "    pass"
   ]
  },
  {
   "cell_type": "code",
   "execution_count": null,
   "metadata": {},
   "outputs": [],
   "source": []
  },
  {
   "cell_type": "code",
   "execution_count": null,
   "metadata": {},
   "outputs": [],
   "source": []
  },
  {
   "cell_type": "code",
   "execution_count": null,
   "metadata": {},
   "outputs": [],
   "source": []
  },
  {
   "cell_type": "code",
   "execution_count": null,
   "metadata": {},
   "outputs": [],
   "source": []
  },
  {
   "cell_type": "code",
   "execution_count": 46,
   "metadata": {},
   "outputs": [],
   "source": [
    "import time\n",
    "import random\n",
    "\n",
    "from IPython.display import display\n",
    "from plotly.offline import download_plotlyjs, init_notebook_mode, plot, iplot\n",
    "\n",
    "import cufflinks as cf\n",
    "import plotly.graph_objects as go\n",
    "\n",
    "from ai.model import NeuralNetwork\n",
    "from model.international_game import InternationalGame"
   ]
  },
  {
   "cell_type": "code",
   "execution_count": 47,
   "metadata": {},
   "outputs": [
    {
     "data": {
      "text/html": [
       "        <script type=\"text/javascript\">\n",
       "        window.PlotlyConfig = {MathJaxConfig: 'local'};\n",
       "        if (window.MathJax) {MathJax.Hub.Config({SVG: {font: \"STIX-Web\"}});}\n",
       "        if (typeof require !== 'undefined') {\n",
       "        require.undef(\"plotly\");\n",
       "        requirejs.config({\n",
       "            paths: {\n",
       "                'plotly': ['https://cdn.plot.ly/plotly-latest.min']\n",
       "            }\n",
       "        });\n",
       "        require(['plotly'], function(Plotly) {\n",
       "            window._Plotly = Plotly;\n",
       "        });\n",
       "        }\n",
       "        </script>\n",
       "        "
      ]
     },
     "metadata": {},
     "output_type": "display_data"
    },
    {
     "data": {
      "text/html": [
       "        <script type=\"text/javascript\">\n",
       "        window.PlotlyConfig = {MathJaxConfig: 'local'};\n",
       "        if (window.MathJax) {MathJax.Hub.Config({SVG: {font: \"STIX-Web\"}});}\n",
       "        if (typeof require !== 'undefined') {\n",
       "        require.undef(\"plotly\");\n",
       "        requirejs.config({\n",
       "            paths: {\n",
       "                'plotly': ['https://cdn.plot.ly/plotly-latest.min']\n",
       "            }\n",
       "        });\n",
       "        require(['plotly'], function(Plotly) {\n",
       "            window._Plotly = Plotly;\n",
       "        });\n",
       "        }\n",
       "        </script>\n",
       "        "
      ]
     },
     "metadata": {},
     "output_type": "display_data"
    }
   ],
   "source": [
    "init_notebook_mode(connected=True)\n",
    "cf.go_offline()\n",
    "np.random.seed(5)"
   ]
  },
  {
   "cell_type": "code",
   "execution_count": 48,
   "metadata": {},
   "outputs": [],
   "source": [
    "action_space_shape = len(ut.get_action_space(10, 10))\n",
    "current_model = NeuralNetwork(config.REG_CONST, config.LEARNING_RATE, \n",
    "                                      (10,10,25), action_space_shape, config.HIDDEN_CNN_LAYERS)"
   ]
  },
  {
   "cell_type": "code",
   "execution_count": 49,
   "metadata": {},
   "outputs": [],
   "source": [
    "currentAgent = AlphaZero(config.MCTS_SIMS)"
   ]
  },
  {
   "cell_type": "code",
   "execution_count": 105,
   "metadata": {},
   "outputs": [],
   "source": [
    "def self_play():\n",
    "    pass"
   ]
  },
  {
   "cell_type": "code",
   "execution_count": 18,
   "metadata": {},
   "outputs": [
    {
     "data": {
      "text/html": [
       "        <script type=\"text/javascript\">\n",
       "        window.PlotlyConfig = {MathJaxConfig: 'local'};\n",
       "        if (window.MathJax) {MathJax.Hub.Config({SVG: {font: \"STIX-Web\"}});}\n",
       "        if (typeof require !== 'undefined') {\n",
       "        require.undef(\"plotly\");\n",
       "        requirejs.config({\n",
       "            paths: {\n",
       "                'plotly': ['https://cdn.plot.ly/plotly-latest.min']\n",
       "            }\n",
       "        });\n",
       "        require(['plotly'], function(Plotly) {\n",
       "            window._Plotly = Plotly;\n",
       "        });\n",
       "        }\n",
       "        </script>\n",
       "        "
      ]
     },
     "metadata": {},
     "output_type": "display_data"
    },
    {
     "data": {
      "text/html": [
       "        <script type=\"text/javascript\">\n",
       "        window.PlotlyConfig = {MathJaxConfig: 'local'};\n",
       "        if (window.MathJax) {MathJax.Hub.Config({SVG: {font: \"STIX-Web\"}});}\n",
       "        if (typeof require !== 'undefined') {\n",
       "        require.undef(\"plotly\");\n",
       "        requirejs.config({\n",
       "            paths: {\n",
       "                'plotly': ['https://cdn.plot.ly/plotly-latest.min']\n",
       "            }\n",
       "        });\n",
       "        require(['plotly'], function(Plotly) {\n",
       "            window._Plotly = Plotly;\n",
       "        });\n",
       "        }\n",
       "        </script>\n",
       "        "
      ]
     },
     "metadata": {},
     "output_type": "display_data"
    }
   ],
   "source": [
    "\n",
    "\n",
    "class PlayGround:\n",
    "    def __init__(self):\n",
    "        self.action_space_shape = len(get_action_space(10, 10))\n",
    "        self.current_model = NeuralNetwork(config.REG_CONST, config.LEARNING_RATE, \n",
    "                                      (10,10,25),   self.action_space_shape, config.HIDDEN_CNN_LAYERS)\n",
    "\n",
    "        #self.best_model = NeuralNetwork(config.REG_CONST, config.LEARNING_RATE, \n",
    "                                   #(10,10,25),   self.action_space_shape, config.HIDDEN_CNN_LAYERS)\n",
    "        \n",
    "        self.best_model.model.set_weights(self.current_model.model.get_weights())\n",
    "        self.exp = []\n",
    "        self.turn = []\n",
    "        \n",
    "        self.fig = go.FigureWidget()\n",
    "        self.fig.update_layout(xaxis_title=\"Turn\", yaxis_title='Expected value')\n",
    "        #self.fig.add_scatter(fill='tozeroy')\n",
    "        self.fig.add_scatter()\n",
    "\n",
    "    def plot_figure(self):\n",
    "        display(self.fig)\n",
    "        \n",
    "    def update_plot(self):\n",
    "        with self.fig.batch_update():\n",
    "            self.fig.data[0].x = self.turn\n",
    "            self.fig.data[0].y = self.exp\n",
    "            \n",
    "    def apply_and_update(self, game, playing_agent: AlphaZero, other_agent: AlphaZero, action: Action, action_id: int):\n",
    "        print(game.grid)\n",
    "        print(action)\n",
    "        if not game.is_legal_action(action):\n",
    "            print(game.current_turn)\n",
    "            actions = game.get_all_possible_actions()\n",
    "            for act in actions:\n",
    "                print(act)\n",
    "            raise RejectedAction(\"your fucked bro!\")\n",
    "        game.apply_action(action)\n",
    "        playing_agent.update_root(action_id)\n",
    "        if other_agent is not None:\n",
    "            other_agent.update_root(action_id)\n",
    "            \n",
    "        #return sample_builder\n",
    "\n",
    "    def self_play(self):\n",
    "        current_Agent = AlphaZero(config.MCTS_SIMS, config.CPUCT, self.current_model, pov=0, name=\"Current AlphaZero\")\n",
    "        \n",
    "        game = InternationalGame(1, None, None, None)\n",
    "        sample_builder = SampleBuilder()\n",
    "\n",
    "        for ep in range(config.EPISODES):\n",
    "            game.init()\n",
    "            current_Agent.build_mcts(StateStack(deepcopy(GameState(game))))\n",
    "\n",
    "            turn = 1\n",
    "            player: AlphaZero = current_Agent\n",
    "\n",
    "            while not game.end():\n",
    "                player.pov = game.currentTurn\n",
    "                tau = 1 if turn < config.TURNS_UNTIL_TAU0 else 0\n",
    "                try:\n",
    "                    action, action_id, state_stack, value, pi = player.train_act(tau)\n",
    "                except KeyError as e:\n",
    "                    print(e)\n",
    "                    print(player.mcts.root.edges)\n",
    "\n",
    "                if player.pov == 1:\n",
    "                    self.turn.append(turn)\n",
    "                    self.exp.append(value)\n",
    "                self.apply_and_update(game, current_Agent, None, action, action_id)\n",
    "                self.update_plot()\n",
    "                sample_builder.commit_move(state_stack, pi)\n",
    "                turn += 1\n",
    "                print('*', end='')\n",
    "\n",
    "            value = evaluate(game)\n",
    "            sample_builder.commit_sample(value, config.MAXIMIZER)\n",
    "\n",
    "        return sample_builder\n",
    "    \n",
    "    def fit(self, sample_builder:SampleBuilder):\n",
    "        for i in range(10):\n",
    "            minibatch = random.sample(sample_builder.samples, min(config.BATCH_SIZE, len(sample_builder.samples)))\n",
    "            training_states = np.array([row['state'].get_deep_representation_stack() for row in minibatch])\n",
    "            training_targets = {'value_head': np.array([row['value'] for row in minibatch]),\n",
    "                                'policy_head': np.array([row['policy'] for row in minibatch])}\n",
    "\n",
    "            ret = self.current_model.fit(training_states, training_targets, epochs=config.EPOCHS, verbose=1, validation_split=0, batch_size = 32)"
   ]
  },
  {
   "cell_type": "code",
   "execution_count": 19,
   "metadata": {},
   "outputs": [],
   "source": [
    "playground = PlayGround()"
   ]
  },
  {
   "cell_type": "code",
   "execution_count": 13,
   "metadata": {},
   "outputs": [],
   "source": [
    "#playground.plot_figure()"
   ]
  },
  {
   "cell_type": "code",
   "execution_count": 20,
   "metadata": {},
   "outputs": [
    {
     "name": "stdout",
     "output_type": "stream",
     "text": [
      "     1  2  3  4  5  6  7  8  9  10\n",
      " 1|  .  B  .  B  .  B  .  B  .  B \n",
      " 2|  B  .  B  .  B  .  B  .  B  . \n",
      " 3|  .  B  .  B  .  B  .  B  .  B \n",
      " 4|  B  .  B  .  B  .  B  .  B  . \n",
      " 5|  .  .  .  .  .  .  .  .  .  . \n",
      " 6|  .  .  .  .  .  .  .  .  .  . \n",
      " 7|  .  W  .  W  .  W  .  W  .  W \n",
      " 8|  W  .  W  .  W  .  W  .  W  . \n",
      " 9|  .  W  .  W  .  W  .  W  .  W \n",
      "10|  W  .  W  .  W  .  W  .  W  . \n",
      "\n",
      "(7,6)------->>>(6,5)\n",
      "*     1  2  3  4  5  6  7  8  9  10\n",
      " 1|  .  B  .  B  .  B  .  B  .  B \n",
      " 2|  B  .  B  .  B  .  B  .  B  . \n",
      " 3|  .  B  .  B  .  B  .  B  .  B \n",
      " 4|  B  .  B  .  B  .  B  .  B  . \n",
      " 5|  .  .  .  .  .  .  .  .  .  . \n",
      " 6|  .  .  .  .  W  .  .  .  .  . \n",
      " 7|  .  W  .  W  .  .  .  W  .  W \n",
      " 8|  W  .  W  .  W  .  W  .  W  . \n",
      " 9|  .  W  .  W  .  W  .  W  .  W \n",
      "10|  W  .  W  .  W  .  W  .  W  . \n",
      "\n",
      "(4,9)------->>>(5,8)\n",
      "*     1  2  3  4  5  6  7  8  9  10\n",
      " 1|  .  B  .  B  .  B  .  B  .  B \n",
      " 2|  B  .  B  .  B  .  B  .  B  . \n",
      " 3|  .  B  .  B  .  B  .  B  .  B \n",
      " 4|  B  .  B  .  B  .  B  .  .  . \n",
      " 5|  .  .  .  .  .  .  .  B  .  . \n",
      " 6|  .  .  .  .  W  .  .  .  .  . \n",
      " 7|  .  W  .  W  .  .  .  W  .  W \n",
      " 8|  W  .  W  .  W  .  W  .  W  . \n",
      " 9|  .  W  .  W  .  W  .  W  .  W \n",
      "10|  W  .  W  .  W  .  W  .  W  . \n",
      "\n",
      "(8,5)------->>>(7,6)\n",
      "*     1  2  3  4  5  6  7  8  9  10\n",
      " 1|  .  B  .  B  .  B  .  B  .  B \n",
      " 2|  B  .  B  .  B  .  B  .  B  . \n",
      " 3|  .  B  .  B  .  B  .  B  .  B \n",
      " 4|  B  .  B  .  B  .  B  .  .  . \n",
      " 5|  .  .  .  .  .  .  .  B  .  . \n",
      " 6|  .  .  .  .  W  .  .  .  .  . \n",
      " 7|  .  W  .  W  .  W  .  W  .  W \n",
      " 8|  W  .  W  .  .  .  W  .  W  . \n",
      " 9|  .  W  .  W  .  W  .  W  .  W \n",
      "10|  W  .  W  .  W  .  W  .  W  . \n",
      "\n",
      "(4,5)------->>>(5,6)\n",
      "*     1  2  3  4  5  6  7  8  9  10\n",
      " 1|  .  B  .  B  .  B  .  B  .  B \n",
      " 2|  B  .  B  .  B  .  B  .  B  . \n",
      " 3|  .  B  .  B  .  B  .  B  .  B \n",
      " 4|  B  .  B  .  .  .  B  .  .  . \n",
      " 5|  .  .  .  .  .  B  .  B  .  . \n",
      " 6|  .  .  .  .  W  .  .  .  .  . \n",
      " 7|  .  W  .  W  .  W  .  W  .  W \n",
      " 8|  W  .  W  .  .  .  W  .  W  . \n",
      " 9|  .  W  .  W  .  W  .  W  .  W \n",
      "10|  W  .  W  .  W  .  W  .  W  . \n",
      "\n",
      "(7,2)------->>>(6,3)\n",
      "*     1  2  3  4  5  6  7  8  9  10\n",
      " 1|  .  B  .  B  .  B  .  B  .  B \n",
      " 2|  B  .  B  .  B  .  B  .  B  . \n",
      " 3|  .  B  .  B  .  B  .  B  .  B \n",
      " 4|  B  .  B  .  .  .  B  .  .  . \n",
      " 5|  .  .  .  .  .  B  .  B  .  . \n",
      " 6|  .  .  W  .  W  .  .  .  .  . \n",
      " 7|  .  .  .  W  .  W  .  W  .  W \n",
      " 8|  W  .  W  .  .  .  W  .  W  . \n",
      " 9|  .  W  .  W  .  W  .  W  .  W \n",
      "10|  W  .  W  .  W  .  W  .  W  . \n",
      "\n",
      "(4,3)------->>>(5,4)\n",
      "*     1  2  3  4  5  6  7  8  9  10\n",
      " 1|  .  B  .  B  .  B  .  B  .  B \n",
      " 2|  B  .  B  .  B  .  B  .  B  . \n",
      " 3|  .  B  .  B  .  B  .  B  .  B \n",
      " 4|  B  .  .  .  .  .  B  .  .  . \n",
      " 5|  .  .  .  B  .  B  .  B  .  . \n",
      " 6|  .  .  W  .  W  .  .  .  .  . \n",
      " 7|  .  .  .  W  .  W  .  W  .  W \n",
      " 8|  W  .  W  .  .  .  W  .  W  . \n",
      " 9|  .  W  .  W  .  W  .  W  .  W \n",
      "10|  W  .  W  .  W  .  W  .  W  . \n",
      "\n",
      "(6,3)------->>>(4,5)\n",
      "*     1  2  3  4  5  6  7  8  9  10\n",
      " 1|  .  B  .  B  .  B  .  B  .  B \n",
      " 2|  B  .  B  .  B  .  B  .  B  . \n",
      " 3|  .  B  .  B  .  B  .  B  .  B \n",
      " 4|  B  .  .  .  W  .  B  .  .  . \n",
      " 5|  .  .  .  .  .  B  .  B  .  . \n",
      " 6|  .  .  .  .  W  .  .  .  .  . \n",
      " 7|  .  .  .  W  .  W  .  W  .  W \n",
      " 8|  W  .  W  .  .  .  W  .  W  . \n",
      " 9|  .  W  .  W  .  W  .  W  .  W \n",
      "10|  W  .  W  .  W  .  W  .  W  . \n",
      "\n",
      "(4,5)------->>>(6,7)\n",
      "*     1  2  3  4  5  6  7  8  9  10\n",
      " 1|  .  B  .  B  .  B  .  B  .  B \n",
      " 2|  B  .  B  .  B  .  B  .  B  . \n",
      " 3|  .  B  .  B  .  B  .  B  .  B \n",
      " 4|  B  .  .  .  .  .  B  .  .  . \n",
      " 5|  .  .  .  .  .  .  .  B  .  . \n",
      " 6|  .  .  .  .  W  .  W  .  .  . \n",
      " 7|  .  .  .  W  .  W  .  W  .  W \n",
      " 8|  W  .  W  .  .  .  W  .  W  . \n",
      " 9|  .  W  .  W  .  W  .  W  .  W \n",
      "10|  W  .  W  .  W  .  W  .  W  . \n",
      "\n",
      "(6,7)------->>>(4,9)\n",
      "*     1  2  3  4  5  6  7  8  9  10\n",
      " 1|  .  B  .  B  .  B  .  B  .  B \n",
      " 2|  B  .  B  .  B  .  B  .  B  . \n",
      " 3|  .  B  .  B  .  B  .  B  .  B \n",
      " 4|  B  .  .  .  .  .  B  .  W  . \n",
      " 5|  .  .  .  .  .  .  .  .  .  . \n",
      " 6|  .  .  .  .  W  .  .  .  .  . \n",
      " 7|  .  .  .  W  .  W  .  W  .  W \n",
      " 8|  W  .  W  .  .  .  W  .  W  . \n",
      " 9|  .  W  .  W  .  W  .  W  .  W \n",
      "10|  W  .  W  .  W  .  W  .  W  . \n",
      "\n",
      "(3,10)------->>>(5,8)\n",
      "*     1  2  3  4  5  6  7  8  9  10\n",
      " 1|  .  B  .  B  .  B  .  B  .  B \n",
      " 2|  B  .  B  .  B  .  B  .  B  . \n",
      " 3|  .  B  .  B  .  B  .  B  .  . \n",
      " 4|  B  .  .  .  .  .  B  .  .  . \n",
      " 5|  .  .  .  .  .  .  .  B  .  . \n",
      " 6|  .  .  .  .  W  .  .  .  .  . \n",
      " 7|  .  .  .  W  .  W  .  W  .  W \n",
      " 8|  W  .  W  .  .  .  W  .  W  . \n",
      " 9|  .  W  .  W  .  W  .  W  .  W \n",
      "10|  W  .  W  .  W  .  W  .  W  . \n",
      "\n",
      "(9,6)------->>>(8,5)\n",
      "*     1  2  3  4  5  6  7  8  9  10\n",
      " 1|  .  B  .  B  .  B  .  B  .  B \n",
      " 2|  B  .  B  .  B  .  B  .  B  . \n",
      " 3|  .  B  .  B  .  B  .  B  .  . \n",
      " 4|  B  .  .  .  .  .  B  .  .  . \n",
      " 5|  .  .  .  .  .  .  .  B  .  . \n",
      " 6|  .  .  .  .  W  .  .  .  .  . \n",
      " 7|  .  .  .  W  .  W  .  W  .  W \n",
      " 8|  W  .  W  .  W  .  W  .  W  . \n",
      " 9|  .  W  .  W  .  .  .  W  .  W \n",
      "10|  W  .  W  .  W  .  W  .  W  . \n",
      "\n",
      "(3,8)------->>>(4,9)\n",
      "*     1  2  3  4  5  6  7  8  9  10\n",
      " 1|  .  B  .  B  .  B  .  B  .  B \n",
      " 2|  B  .  B  .  B  .  B  .  B  . \n",
      " 3|  .  B  .  B  .  B  .  .  .  . \n",
      " 4|  B  .  .  .  .  .  B  .  B  . \n",
      " 5|  .  .  .  .  .  .  .  B  .  . \n",
      " 6|  .  .  .  .  W  .  .  .  .  . \n",
      " 7|  .  .  .  W  .  W  .  W  .  W \n",
      " 8|  W  .  W  .  W  .  W  .  W  . \n",
      " 9|  .  W  .  W  .  .  .  W  .  W \n",
      "10|  W  .  W  .  W  .  W  .  W  . \n",
      "\n",
      "(8,1)------->>>(7,2)\n",
      "*     1  2  3  4  5  6  7  8  9  10\n",
      " 1|  .  B  .  B  .  B  .  B  .  B \n",
      " 2|  B  .  B  .  B  .  B  .  B  . \n",
      " 3|  .  B  .  B  .  B  .  .  .  . \n",
      " 4|  B  .  .  .  .  .  B  .  B  . \n",
      " 5|  .  .  .  .  .  .  .  B  .  . \n",
      " 6|  .  .  .  .  W  .  .  .  .  . \n",
      " 7|  .  W  .  W  .  W  .  W  .  W \n",
      " 8|  .  .  W  .  W  .  W  .  W  . \n",
      " 9|  .  W  .  W  .  .  .  W  .  W \n",
      "10|  W  .  W  .  W  .  W  .  W  . \n",
      "\n",
      "(3,2)------->>>(4,3)\n",
      "*     1  2  3  4  5  6  7  8  9  10\n",
      " 1|  .  B  .  B  .  B  .  B  .  B \n",
      " 2|  B  .  B  .  B  .  B  .  B  . \n",
      " 3|  .  .  .  B  .  B  .  .  .  . \n",
      " 4|  B  .  B  .  .  .  B  .  B  . \n",
      " 5|  .  .  .  .  .  .  .  B  .  . \n",
      " 6|  .  .  .  .  W  .  .  .  .  . \n",
      " 7|  .  W  .  W  .  W  .  W  .  W \n",
      " 8|  .  .  W  .  W  .  W  .  W  . \n",
      " 9|  .  W  .  W  .  .  .  W  .  W \n",
      "10|  W  .  W  .  W  .  W  .  W  . \n",
      "\n",
      "(7,2)------->>>(6,1)\n",
      "*     1  2  3  4  5  6  7  8  9  10\n",
      " 1|  .  B  .  B  .  B  .  B  .  B \n",
      " 2|  B  .  B  .  B  .  B  .  B  . \n",
      " 3|  .  .  .  B  .  B  .  .  .  . \n",
      " 4|  B  .  B  .  .  .  B  .  B  . \n",
      " 5|  .  .  .  .  .  .  .  B  .  . \n",
      " 6|  W  .  .  .  W  .  .  .  .  . \n",
      " 7|  .  .  .  W  .  W  .  W  .  W \n",
      " 8|  .  .  W  .  W  .  W  .  W  . \n",
      " 9|  .  W  .  W  .  .  .  W  .  W \n",
      "10|  W  .  W  .  W  .  W  .  W  . \n",
      "\n",
      "(2,9)------->>>(3,8)\n",
      "*     1  2  3  4  5  6  7  8  9  10\n",
      " 1|  .  B  .  B  .  B  .  B  .  B \n",
      " 2|  B  .  B  .  B  .  B  .  .  . \n",
      " 3|  .  .  .  B  .  B  .  B  .  . \n",
      " 4|  B  .  B  .  .  .  B  .  B  . \n",
      " 5|  .  .  .  .  .  .  .  B  .  . \n",
      " 6|  W  .  .  .  W  .  .  .  .  . \n",
      " 7|  .  .  .  W  .  W  .  W  .  W \n",
      " 8|  .  .  W  .  W  .  W  .  W  . \n",
      " 9|  .  W  .  W  .  .  .  W  .  W \n",
      "10|  W  .  W  .  W  .  W  .  W  . \n",
      "\n",
      "(6,1)------->>>(5,2)\n",
      "*     1  2  3  4  5  6  7  8  9  10\n",
      " 1|  .  B  .  B  .  B  .  B  .  B \n",
      " 2|  B  .  B  .  B  .  B  .  .  . \n",
      " 3|  .  .  .  B  .  B  .  B  .  . \n",
      " 4|  B  .  B  .  .  .  B  .  B  . \n",
      " 5|  .  W  .  .  .  .  .  B  .  . \n",
      " 6|  .  .  .  .  W  .  .  .  .  . \n",
      " 7|  .  .  .  W  .  W  .  W  .  W \n",
      " 8|  .  .  W  .  W  .  W  .  W  . \n",
      " 9|  .  W  .  W  .  .  .  W  .  W \n",
      "10|  W  .  W  .  W  .  W  .  W  . \n",
      "\n",
      "(4,1)------->>>(6,3)\n",
      "*     1  2  3  4  5  6  7  8  9  10\n",
      " 1|  .  B  .  B  .  B  .  B  .  B \n",
      " 2|  B  .  B  .  B  .  B  .  .  . \n",
      " 3|  .  .  .  B  .  B  .  B  .  . \n",
      " 4|  .  .  B  .  .  .  B  .  B  . \n",
      " 5|  .  .  .  .  .  .  .  B  .  . \n",
      " 6|  .  .  B  .  W  .  .  .  .  . \n",
      " 7|  .  .  .  W  .  W  .  W  .  W \n",
      " 8|  .  .  W  .  W  .  W  .  W  . \n",
      " 9|  .  W  .  W  .  .  .  W  .  W \n",
      "10|  W  .  W  .  W  .  W  .  W  . \n",
      "\n",
      "(7,4)------->>>(5,2)\n",
      "*     1  2  3  4  5  6  7  8  9  10\n",
      " 1|  .  B  .  B  .  B  .  B  .  B \n",
      " 2|  B  .  B  .  B  .  B  .  .  . \n",
      " 3|  .  .  .  B  .  B  .  B  .  . \n",
      " 4|  .  .  B  .  .  .  B  .  B  . \n",
      " 5|  .  W  .  .  .  .  .  B  .  . \n",
      " 6|  .  .  .  .  W  .  .  .  .  . \n",
      " 7|  .  .  .  .  .  W  .  W  .  W \n",
      " 8|  .  .  W  .  W  .  W  .  W  . \n",
      " 9|  .  W  .  W  .  .  .  W  .  W \n",
      "10|  W  .  W  .  W  .  W  .  W  . \n",
      "\n",
      "(4,3)------->>>(6,1)\n",
      "*     1  2  3  4  5  6  7  8  9  10\n",
      " 1|  .  B  .  B  .  B  .  B  .  B \n",
      " 2|  B  .  B  .  B  .  B  .  .  . \n",
      " 3|  .  .  .  B  .  B  .  B  .  . \n",
      " 4|  .  .  .  .  .  .  B  .  B  . \n",
      " 5|  .  .  .  .  .  .  .  B  .  . \n",
      " 6|  B  .  .  .  W  .  .  .  .  . \n",
      " 7|  .  .  .  .  .  W  .  W  .  W \n",
      " 8|  .  .  W  .  W  .  W  .  W  . \n",
      " 9|  .  W  .  W  .  .  .  W  .  W \n",
      "10|  W  .  W  .  W  .  W  .  W  . \n",
      "\n",
      "(8,5)------->>>(7,4)\n"
     ]
    },
    {
     "name": "stdout",
     "output_type": "stream",
     "text": [
      "*     1  2  3  4  5  6  7  8  9  10\n",
      " 1|  .  B  .  B  .  B  .  B  .  B \n",
      " 2|  B  .  B  .  B  .  B  .  .  . \n",
      " 3|  .  .  .  B  .  B  .  B  .  . \n",
      " 4|  .  .  .  .  .  .  B  .  B  . \n",
      " 5|  .  .  .  .  .  .  .  B  .  . \n",
      " 6|  B  .  .  .  W  .  .  .  .  . \n",
      " 7|  .  .  .  W  .  W  .  W  .  W \n",
      " 8|  .  .  W  .  .  .  W  .  W  . \n",
      " 9|  .  W  .  W  .  .  .  W  .  W \n",
      "10|  W  .  W  .  W  .  W  .  W  . \n",
      "\n",
      "(3,4)------->>>(4,3)\n",
      "*     1  2  3  4  5  6  7  8  9  10\n",
      " 1|  .  B  .  B  .  B  .  B  .  B \n",
      " 2|  B  .  B  .  B  .  B  .  .  . \n",
      " 3|  .  .  .  .  .  B  .  B  .  . \n",
      " 4|  .  .  B  .  .  .  B  .  B  . \n",
      " 5|  .  .  .  .  .  .  .  B  .  . \n",
      " 6|  B  .  .  .  W  .  .  .  .  . \n",
      " 7|  .  .  .  W  .  W  .  W  .  W \n",
      " 8|  .  .  W  .  .  .  W  .  W  . \n",
      " 9|  .  W  .  W  .  .  .  W  .  W \n",
      "10|  W  .  W  .  W  .  W  .  W  . \n",
      "\n",
      "(9,4)------->>>(8,5)\n",
      "*     1  2  3  4  5  6  7  8  9  10\n",
      " 1|  .  B  .  B  .  B  .  B  .  B \n",
      " 2|  B  .  B  .  B  .  B  .  .  . \n",
      " 3|  .  .  .  .  .  B  .  B  .  . \n",
      " 4|  .  .  B  .  .  .  B  .  B  . \n",
      " 5|  .  .  .  .  .  .  .  B  .  . \n",
      " 6|  B  .  .  .  W  .  .  .  .  . \n",
      " 7|  .  .  .  W  .  W  .  W  .  W \n",
      " 8|  .  .  W  .  W  .  W  .  W  . \n",
      " 9|  .  W  .  .  .  .  .  W  .  W \n",
      "10|  W  .  W  .  W  .  W  .  W  . \n",
      "\n",
      "(2,1)------->>>(3,2)\n",
      "*     1  2  3  4  5  6  7  8  9  10\n",
      " 1|  .  B  .  B  .  B  .  B  .  B \n",
      " 2|  .  .  B  .  B  .  B  .  .  . \n",
      " 3|  .  B  .  .  .  B  .  B  .  . \n",
      " 4|  .  .  B  .  .  .  B  .  B  . \n",
      " 5|  .  .  .  .  .  .  .  B  .  . \n",
      " 6|  B  .  .  .  W  .  .  .  .  . \n",
      " 7|  .  .  .  W  .  W  .  W  .  W \n",
      " 8|  .  .  W  .  W  .  W  .  W  . \n",
      " 9|  .  W  .  .  .  .  .  W  .  W \n",
      "10|  W  .  W  .  W  .  W  .  W  . \n",
      "\n",
      "(10,3)------->>>(9,4)\n",
      "*     1  2  3  4  5  6  7  8  9  10\n",
      " 1|  .  B  .  B  .  B  .  B  .  B \n",
      " 2|  .  .  B  .  B  .  B  .  .  . \n",
      " 3|  .  B  .  .  .  B  .  B  .  . \n",
      " 4|  .  .  B  .  .  .  B  .  B  . \n",
      " 5|  .  .  .  .  .  .  .  B  .  . \n",
      " 6|  B  .  .  .  W  .  .  .  .  . \n",
      " 7|  .  .  .  W  .  W  .  W  .  W \n",
      " 8|  .  .  W  .  W  .  W  .  W  . \n",
      " 9|  .  W  .  W  .  .  .  W  .  W \n",
      "10|  W  .  .  .  W  .  W  .  W  . \n",
      "\n",
      "(4,3)------->>>(5,2)\n",
      "*     1  2  3  4  5  6  7  8  9  10\n",
      " 1|  .  B  .  B  .  B  .  B  .  B \n",
      " 2|  .  .  B  .  B  .  B  .  .  . \n",
      " 3|  .  B  .  .  .  B  .  B  .  . \n",
      " 4|  .  .  .  .  .  .  B  .  B  . \n",
      " 5|  .  B  .  .  .  .  .  B  .  . \n",
      " 6|  B  .  .  .  W  .  .  .  .  . \n",
      " 7|  .  .  .  W  .  W  .  W  .  W \n",
      " 8|  .  .  W  .  W  .  W  .  W  . \n",
      " 9|  .  W  .  W  .  .  .  W  .  W \n",
      "10|  W  .  .  .  W  .  W  .  W  . \n",
      "\n",
      "(10,7)------->>>(9,6)\n",
      "*     1  2  3  4  5  6  7  8  9  10\n",
      " 1|  .  B  .  B  .  B  .  B  .  B \n",
      " 2|  .  .  B  .  B  .  B  .  .  . \n",
      " 3|  .  B  .  .  .  B  .  B  .  . \n",
      " 4|  .  .  .  .  .  .  B  .  B  . \n",
      " 5|  .  B  .  .  .  .  .  B  .  . \n",
      " 6|  B  .  .  .  W  .  .  .  .  . \n",
      " 7|  .  .  .  W  .  W  .  W  .  W \n",
      " 8|  .  .  W  .  W  .  W  .  W  . \n",
      " 9|  .  W  .  W  .  W  .  W  .  W \n",
      "10|  W  .  .  .  W  .  .  .  W  . \n",
      "\n",
      "(2,5)------->>>(3,4)\n",
      "*     1  2  3  4  5  6  7  8  9  10\n",
      " 1|  .  B  .  B  .  B  .  B  .  B \n",
      " 2|  .  .  B  .  .  .  B  .  .  . \n",
      " 3|  .  B  .  B  .  B  .  B  .  . \n",
      " 4|  .  .  .  .  .  .  B  .  B  . \n",
      " 5|  .  B  .  .  .  .  .  B  .  . \n",
      " 6|  B  .  .  .  W  .  .  .  .  . \n",
      " 7|  .  .  .  W  .  W  .  W  .  W \n",
      " 8|  .  .  W  .  W  .  W  .  W  . \n",
      " 9|  .  W  .  W  .  W  .  W  .  W \n",
      "10|  W  .  .  .  W  .  .  .  W  . \n",
      "\n",
      "(6,5)------->>>(5,4)\n",
      "*     1  2  3  4  5  6  7  8  9  10\n",
      " 1|  .  B  .  B  .  B  .  B  .  B \n",
      " 2|  .  .  B  .  .  .  B  .  .  . \n",
      " 3|  .  B  .  B  .  B  .  B  .  . \n",
      " 4|  .  .  .  .  .  .  B  .  B  . \n",
      " 5|  .  B  .  W  .  .  .  B  .  . \n",
      " 6|  B  .  .  .  .  .  .  .  .  . \n",
      " 7|  .  .  .  W  .  W  .  W  .  W \n",
      " 8|  .  .  W  .  W  .  W  .  W  . \n",
      " 9|  .  W  .  W  .  W  .  W  .  W \n",
      "10|  W  .  .  .  W  .  .  .  W  . \n",
      "\n",
      "(3,2)------->>>(4,1)\n",
      "*     1  2  3  4  5  6  7  8  9  10\n",
      " 1|  .  B  .  B  .  B  .  B  .  B \n",
      " 2|  .  .  B  .  .  .  B  .  .  . \n",
      " 3|  .  .  .  B  .  B  .  B  .  . \n",
      " 4|  B  .  .  .  .  .  B  .  B  . \n",
      " 5|  .  B  .  W  .  .  .  B  .  . \n",
      " 6|  B  .  .  .  .  .  .  .  .  . \n",
      " 7|  .  .  .  W  .  W  .  W  .  W \n",
      " 8|  .  .  W  .  W  .  W  .  W  . \n",
      " 9|  .  W  .  W  .  W  .  W  .  W \n",
      "10|  W  .  .  .  W  .  .  .  W  . \n",
      "\n",
      "(7,6)------->>>(6,5)\n",
      "*     1  2  3  4  5  6  7  8  9  10\n",
      " 1|  .  B  .  B  .  B  .  B  .  B \n",
      " 2|  .  .  B  .  .  .  B  .  .  . \n",
      " 3|  .  .  .  B  .  B  .  B  .  . \n",
      " 4|  B  .  .  .  .  .  B  .  B  . \n",
      " 5|  .  B  .  W  .  .  .  B  .  . \n",
      " 6|  B  .  .  .  W  .  .  .  .  . \n",
      " 7|  .  .  .  W  .  .  .  W  .  W \n",
      " 8|  .  .  W  .  W  .  W  .  W  . \n",
      " 9|  .  W  .  W  .  W  .  W  .  W \n",
      "10|  W  .  .  .  W  .  .  .  W  . \n",
      "\n",
      "(3,6)------->>>(4,5)\n",
      "*     1  2  3  4  5  6  7  8  9  10\n",
      " 1|  .  B  .  B  .  B  .  B  .  B \n",
      " 2|  .  .  B  .  .  .  B  .  .  . \n",
      " 3|  .  .  .  B  .  .  .  B  .  . \n",
      " 4|  B  .  .  .  B  .  B  .  B  . \n",
      " 5|  .  B  .  W  .  .  .  B  .  . \n",
      " 6|  B  .  .  .  W  .  .  .  .  . \n",
      " 7|  .  .  .  W  .  .  .  W  .  W \n",
      " 8|  .  .  W  .  W  .  W  .  W  . \n",
      " 9|  .  W  .  W  .  W  .  W  .  W \n",
      "10|  W  .  .  .  W  .  .  .  W  . \n",
      "\n",
      "(5,4)------->>>(3,6)\n",
      "*     1  2  3  4  5  6  7  8  9  10\n",
      " 1|  .  B  .  B  .  B  .  B  .  B \n",
      " 2|  .  .  B  .  .  .  B  .  .  . \n",
      " 3|  .  .  .  B  .  W  .  B  .  . \n",
      " 4|  B  .  .  .  .  .  B  .  B  . \n",
      " 5|  .  B  .  .  .  .  .  B  .  . \n",
      " 6|  B  .  .  .  W  .  .  .  .  . \n",
      " 7|  .  .  .  W  .  .  .  W  .  W \n",
      " 8|  .  .  W  .  W  .  W  .  W  . \n",
      " 9|  .  W  .  W  .  W  .  W  .  W \n",
      "10|  W  .  .  .  W  .  .  .  W  . \n",
      "\n",
      "(4,7)------->>>(2,5)\n",
      "*     1  2  3  4  5  6  7  8  9  10\n",
      " 1|  .  B  .  B  .  B  .  B  .  B \n",
      " 2|  .  .  B  .  B  .  B  .  .  . \n",
      " 3|  .  .  .  B  .  .  .  B  .  . \n",
      " 4|  B  .  .  .  .  .  .  .  B  . \n",
      " 5|  .  B  .  .  .  .  .  B  .  . \n",
      " 6|  B  .  .  .  W  .  .  .  .  . \n",
      " 7|  .  .  .  W  .  .  .  W  .  W \n",
      " 8|  .  .  W  .  W  .  W  .  W  . \n",
      " 9|  .  W  .  W  .  W  .  W  .  W \n",
      "10|  W  .  .  .  W  .  .  .  W  . \n",
      "\n",
      "(8,7)------->>>(7,6)\n",
      "*     1  2  3  4  5  6  7  8  9  10\n",
      " 1|  .  B  .  B  .  B  .  B  .  B \n",
      " 2|  .  .  B  .  B  .  B  .  .  . \n",
      " 3|  .  .  .  B  .  .  .  B  .  . \n",
      " 4|  B  .  .  .  .  .  .  .  B  . \n",
      " 5|  .  B  .  .  .  .  .  B  .  . \n",
      " 6|  B  .  .  .  W  .  .  .  .  . \n",
      " 7|  .  .  .  W  .  W  .  W  .  W \n",
      " 8|  .  .  W  .  W  .  .  .  W  . \n",
      " 9|  .  W  .  W  .  W  .  W  .  W \n",
      "10|  W  .  .  .  W  .  .  .  W  . \n",
      "\n",
      "(1,8)------->>>(2,9)\n",
      "*     1  2  3  4  5  6  7  8  9  10\n",
      " 1|  .  B  .  B  .  B  .  .  .  B \n",
      " 2|  .  .  B  .  B  .  B  .  B  . \n",
      " 3|  .  .  .  B  .  .  .  B  .  . \n",
      " 4|  B  .  .  .  .  .  .  .  B  . \n",
      " 5|  .  B  .  .  .  .  .  B  .  . \n",
      " 6|  B  .  .  .  W  .  .  .  .  . \n",
      " 7|  .  .  .  W  .  W  .  W  .  W \n",
      " 8|  .  .  W  .  W  .  .  .  W  . \n",
      " 9|  .  W  .  W  .  W  .  W  .  W \n",
      "10|  W  .  .  .  W  .  .  .  W  . \n",
      "\n",
      "(9,6)------->>>(8,7)\n",
      "*     1  2  3  4  5  6  7  8  9  10\n",
      " 1|  .  B  .  B  .  B  .  .  .  B \n",
      " 2|  .  .  B  .  B  .  B  .  B  . \n",
      " 3|  .  .  .  B  .  .  .  B  .  . \n",
      " 4|  B  .  .  .  .  .  .  .  B  . \n",
      " 5|  .  B  .  .  .  .  .  B  .  . \n",
      " 6|  B  .  .  .  W  .  .  .  .  . \n",
      " 7|  .  .  .  W  .  W  .  W  .  W \n",
      " 8|  .  .  W  .  W  .  W  .  W  . \n",
      " 9|  .  W  .  W  .  .  .  W  .  W \n",
      "10|  W  .  .  .  W  .  .  .  W  . \n",
      "\n",
      "(2,5)------->>>(3,6)\n",
      "*     1  2  3  4  5  6  7  8  9  10\n",
      " 1|  .  B  .  B  .  B  .  .  .  B \n",
      " 2|  .  .  B  .  .  .  B  .  B  . \n",
      " 3|  .  .  .  B  .  B  .  B  .  . \n",
      " 4|  B  .  .  .  .  .  .  .  B  . \n",
      " 5|  .  B  .  .  .  .  .  B  .  . \n",
      " 6|  B  .  .  .  W  .  .  .  .  . \n",
      " 7|  .  .  .  W  .  W  .  W  .  W \n",
      " 8|  .  .  W  .  W  .  W  .  W  . \n",
      " 9|  .  W  .  W  .  .  .  W  .  W \n",
      "10|  W  .  .  .  W  .  .  .  W  . \n",
      "\n",
      "(9,2)------->>>(8,1)\n",
      "*     1  2  3  4  5  6  7  8  9  10\n",
      " 1|  .  B  .  B  .  B  .  .  .  B \n",
      " 2|  .  .  B  .  .  .  B  .  B  . \n",
      " 3|  .  .  .  B  .  B  .  B  .  . \n",
      " 4|  B  .  .  .  .  .  .  .  B  . \n",
      " 5|  .  B  .  .  .  .  .  B  .  . \n",
      " 6|  B  .  .  .  W  .  .  .  .  . \n",
      " 7|  .  .  .  W  .  W  .  W  .  W \n",
      " 8|  W  .  W  .  W  .  W  .  W  . \n",
      " 9|  .  .  .  W  .  .  .  W  .  W \n",
      "10|  W  .  .  .  W  .  .  .  W  . \n",
      "\n",
      "(3,6)------->>>(4,7)\n",
      "*     1  2  3  4  5  6  7  8  9  10\n",
      " 1|  .  B  .  B  .  B  .  .  .  B \n",
      " 2|  .  .  B  .  .  .  B  .  B  . \n",
      " 3|  .  .  .  B  .  .  .  B  .  . \n",
      " 4|  B  .  .  .  .  .  B  .  B  . \n",
      " 5|  .  B  .  .  .  .  .  B  .  . \n",
      " 6|  B  .  .  .  W  .  .  .  .  . \n",
      " 7|  .  .  .  W  .  W  .  W  .  W \n",
      " 8|  W  .  W  .  W  .  W  .  W  . \n",
      " 9|  .  .  .  W  .  .  .  W  .  W \n",
      "10|  W  .  .  .  W  .  .  .  W  . \n",
      "\n",
      "(8,1)------->>>(7,2)\n",
      "*     1  2  3  4  5  6  7  8  9  10\n",
      " 1|  .  B  .  B  .  B  .  .  .  B \n",
      " 2|  .  .  B  .  .  .  B  .  B  . \n",
      " 3|  .  .  .  B  .  .  .  B  .  . \n",
      " 4|  B  .  .  .  .  .  B  .  B  . \n",
      " 5|  .  B  .  .  .  .  .  B  .  . \n",
      " 6|  B  .  .  .  W  .  .  .  .  . \n",
      " 7|  .  W  .  W  .  W  .  W  .  W \n",
      " 8|  .  .  W  .  W  .  W  .  W  . \n",
      " 9|  .  .  .  W  .  .  .  W  .  W \n",
      "10|  W  .  .  .  W  .  .  .  W  . \n",
      "\n",
      "(2,7)------->>>(3,6)\n"
     ]
    },
    {
     "name": "stdout",
     "output_type": "stream",
     "text": [
      "*     1  2  3  4  5  6  7  8  9  10\n",
      " 1|  .  B  .  B  .  B  .  .  .  B \n",
      " 2|  .  .  B  .  .  .  .  .  B  . \n",
      " 3|  .  .  .  B  .  B  .  B  .  . \n",
      " 4|  B  .  .  .  .  .  B  .  B  . \n",
      " 5|  .  B  .  .  .  .  .  B  .  . \n",
      " 6|  B  .  .  .  W  .  .  .  .  . \n",
      " 7|  .  W  .  W  .  W  .  W  .  W \n",
      " 8|  .  .  W  .  W  .  W  .  W  . \n",
      " 9|  .  .  .  W  .  .  .  W  .  W \n",
      "10|  W  .  .  .  W  .  .  .  W  . \n",
      "\n",
      "(10,1)------->>>(9,2)\n",
      "*     1  2  3  4  5  6  7  8  9  10\n",
      " 1|  .  B  .  B  .  B  .  .  .  B \n",
      " 2|  .  .  B  .  .  .  .  .  B  . \n",
      " 3|  .  .  .  B  .  B  .  B  .  . \n",
      " 4|  B  .  .  .  .  .  B  .  B  . \n",
      " 5|  .  B  .  .  .  .  .  B  .  . \n",
      " 6|  B  .  .  .  W  .  .  .  .  . \n",
      " 7|  .  W  .  W  .  W  .  W  .  W \n",
      " 8|  .  .  W  .  W  .  W  .  W  . \n",
      " 9|  .  W  .  W  .  .  .  W  .  W \n",
      "10|  .  .  .  .  W  .  .  .  W  . \n",
      "\n",
      "(1,6)------->>>(2,7)\n",
      "*     1  2  3  4  5  6  7  8  9  10\n",
      " 1|  .  B  .  B  .  .  .  .  .  B \n",
      " 2|  .  .  B  .  .  .  B  .  B  . \n",
      " 3|  .  .  .  B  .  B  .  B  .  . \n",
      " 4|  B  .  .  .  .  .  B  .  B  . \n",
      " 5|  .  B  .  .  .  .  .  B  .  . \n",
      " 6|  B  .  .  .  W  .  .  .  .  . \n",
      " 7|  .  W  .  W  .  W  .  W  .  W \n",
      " 8|  .  .  W  .  W  .  W  .  W  . \n",
      " 9|  .  W  .  W  .  .  .  W  .  W \n",
      "10|  .  .  .  .  W  .  .  .  W  . \n",
      "\n",
      "(9,2)------->>>(8,1)\n",
      "*     1  2  3  4  5  6  7  8  9  10\n",
      " 1|  .  B  .  B  .  .  .  .  .  B \n",
      " 2|  .  .  B  .  .  .  B  .  B  . \n",
      " 3|  .  .  .  B  .  B  .  B  .  . \n",
      " 4|  B  .  .  .  .  .  B  .  B  . \n",
      " 5|  .  B  .  .  .  .  .  B  .  . \n",
      " 6|  B  .  .  .  W  .  .  .  .  . \n",
      " 7|  .  W  .  W  .  W  .  W  .  W \n",
      " 8|  W  .  W  .  W  .  W  .  W  . \n",
      " 9|  .  .  .  W  .  .  .  W  .  W \n",
      "10|  .  .  .  .  W  .  .  .  W  . \n",
      "\n",
      "(3,6)------->>>(4,5)\n",
      "*     1  2  3  4  5  6  7  8  9  10\n",
      " 1|  .  B  .  B  .  .  .  .  .  B \n",
      " 2|  .  .  B  .  .  .  B  .  B  . \n",
      " 3|  .  .  .  B  .  .  .  B  .  . \n",
      " 4|  B  .  .  .  B  .  B  .  B  . \n",
      " 5|  .  B  .  .  .  .  .  B  .  . \n",
      " 6|  B  .  .  .  W  .  .  .  .  . \n",
      " 7|  .  W  .  W  .  W  .  W  .  W \n",
      " 8|  W  .  W  .  W  .  W  .  W  . \n",
      " 9|  .  .  .  W  .  .  .  W  .  W \n",
      "10|  .  .  .  .  W  .  .  .  W  . \n",
      "\n",
      "(7,2)------->>>(6,3)\n",
      "*     1  2  3  4  5  6  7  8  9  10\n",
      " 1|  .  B  .  B  .  .  .  .  .  B \n",
      " 2|  .  .  B  .  .  .  B  .  B  . \n",
      " 3|  .  .  .  B  .  .  .  B  .  . \n",
      " 4|  B  .  .  .  B  .  B  .  B  . \n",
      " 5|  .  B  .  .  .  .  .  B  .  . \n",
      " 6|  B  .  W  .  W  .  .  .  .  . \n",
      " 7|  .  .  .  W  .  W  .  W  .  W \n",
      " 8|  W  .  W  .  W  .  W  .  W  . \n",
      " 9|  .  .  .  W  .  .  .  W  .  W \n",
      "10|  .  .  .  .  W  .  .  .  W  . \n",
      "\n",
      "(2,7)------->>>(3,6)\n",
      "*     1  2  3  4  5  6  7  8  9  10\n",
      " 1|  .  B  .  B  .  .  .  .  .  B \n",
      " 2|  .  .  B  .  .  .  .  .  B  . \n",
      " 3|  .  .  .  B  .  B  .  B  .  . \n",
      " 4|  B  .  .  .  B  .  B  .  B  . \n",
      " 5|  .  B  .  .  .  .  .  B  .  . \n",
      " 6|  B  .  W  .  W  .  .  .  .  . \n",
      " 7|  .  .  .  W  .  W  .  W  .  W \n",
      " 8|  W  .  W  .  W  .  W  .  W  . \n",
      " 9|  .  .  .  W  .  .  .  W  .  W \n",
      "10|  .  .  .  .  W  .  .  .  W  . \n",
      "\n",
      "(8,1)------->>>(7,2)\n",
      "*     1  2  3  4  5  6  7  8  9  10\n",
      " 1|  .  B  .  B  .  .  .  .  .  B \n",
      " 2|  .  .  B  .  .  .  .  .  B  . \n",
      " 3|  .  .  .  B  .  B  .  B  .  . \n",
      " 4|  B  .  .  .  B  .  B  .  B  . \n",
      " 5|  .  B  .  .  .  .  .  B  .  . \n",
      " 6|  B  .  W  .  W  .  .  .  .  . \n",
      " 7|  .  W  .  W  .  W  .  W  .  W \n",
      " 8|  .  .  W  .  W  .  W  .  W  . \n",
      " 9|  .  .  .  W  .  .  .  W  .  W \n",
      "10|  .  .  .  .  W  .  .  .  W  . \n",
      "\n",
      "(4,5)------->>>(5,6)\n",
      "*     1  2  3  4  5  6  7  8  9  10\n",
      " 1|  .  B  .  B  .  .  .  .  .  B \n",
      " 2|  .  .  B  .  .  .  .  .  B  . \n",
      " 3|  .  .  .  B  .  B  .  B  .  . \n",
      " 4|  B  .  .  .  .  .  B  .  B  . \n",
      " 5|  .  B  .  .  .  B  .  B  .  . \n",
      " 6|  B  .  W  .  W  .  .  .  .  . \n",
      " 7|  .  W  .  W  .  W  .  W  .  W \n",
      " 8|  .  .  W  .  W  .  W  .  W  . \n",
      " 9|  .  .  .  W  .  .  .  W  .  W \n",
      "10|  .  .  .  .  W  .  .  .  W  . \n",
      "\n",
      "(7,8)------->>>(6,9)\n",
      "*     1  2  3  4  5  6  7  8  9  10\n",
      " 1|  .  B  .  B  .  .  .  .  .  B \n",
      " 2|  .  .  B  .  .  .  .  .  B  . \n",
      " 3|  .  .  .  B  .  B  .  B  .  . \n",
      " 4|  B  .  .  .  .  .  B  .  B  . \n",
      " 5|  .  B  .  .  .  B  .  B  .  . \n",
      " 6|  B  .  W  .  W  .  .  .  W  . \n",
      " 7|  .  W  .  W  .  W  .  .  .  W \n",
      " 8|  .  .  W  .  W  .  W  .  W  . \n",
      " 9|  .  .  .  W  .  .  .  W  .  W \n",
      "10|  .  .  .  .  W  .  .  .  W  . \n",
      "\n",
      "(3,6)------->>>(4,5)\n",
      "*     1  2  3  4  5  6  7  8  9  10\n",
      " 1|  .  B  .  B  .  .  .  .  .  B \n",
      " 2|  .  .  B  .  .  .  .  .  B  . \n",
      " 3|  .  .  .  B  .  .  .  B  .  . \n",
      " 4|  B  .  .  .  B  .  B  .  B  . \n",
      " 5|  .  B  .  .  .  B  .  B  .  . \n",
      " 6|  B  .  W  .  W  .  .  .  W  . \n",
      " 7|  .  W  .  W  .  W  .  .  .  W \n",
      " 8|  .  .  W  .  W  .  W  .  W  . \n",
      " 9|  .  .  .  W  .  .  .  W  .  W \n",
      "10|  .  .  .  .  W  .  .  .  W  . \n",
      "\n",
      "(8,9)------->>>(7,8)\n",
      "*     1  2  3  4  5  6  7  8  9  10\n",
      " 1|  .  B  .  B  .  .  .  .  .  B \n",
      " 2|  .  .  B  .  .  .  .  .  B  . \n",
      " 3|  .  .  .  B  .  .  .  B  .  . \n",
      " 4|  B  .  .  .  B  .  B  .  B  . \n",
      " 5|  .  B  .  .  .  B  .  B  .  . \n",
      " 6|  B  .  W  .  W  .  .  .  W  . \n",
      " 7|  .  W  .  W  .  W  .  W  .  W \n",
      " 8|  .  .  W  .  W  .  W  .  .  . \n",
      " 9|  .  .  .  W  .  .  .  W  .  W \n",
      "10|  .  .  .  .  W  .  .  .  W  . \n",
      "\n",
      "(2,3)------->>>(3,2)\n",
      "*     1  2  3  4  5  6  7  8  9  10\n",
      " 1|  .  B  .  B  .  .  .  .  .  B \n",
      " 2|  .  .  .  .  .  .  .  .  B  . \n",
      " 3|  .  B  .  B  .  .  .  B  .  . \n",
      " 4|  B  .  .  .  B  .  B  .  B  . \n",
      " 5|  .  B  .  .  .  B  .  B  .  . \n",
      " 6|  B  .  W  .  W  .  .  .  W  . \n",
      " 7|  .  W  .  W  .  W  .  W  .  W \n",
      " 8|  .  .  W  .  W  .  W  .  .  . \n",
      " 9|  .  .  .  W  .  .  .  W  .  W \n",
      "10|  .  .  .  .  W  .  .  .  W  . \n",
      "\n",
      "(6,9)------->>>(5,10)\n",
      "*     1  2  3  4  5  6  7  8  9  10\n",
      " 1|  .  B  .  B  .  .  .  .  .  B \n",
      " 2|  .  .  .  .  .  .  .  .  B  . \n",
      " 3|  .  B  .  B  .  .  .  B  .  . \n",
      " 4|  B  .  .  .  B  .  B  .  B  . \n",
      " 5|  .  B  .  .  .  B  .  B  .  W \n",
      " 6|  B  .  W  .  W  .  .  .  .  . \n",
      " 7|  .  W  .  W  .  W  .  W  .  W \n",
      " 8|  .  .  W  .  W  .  W  .  .  . \n",
      " 9|  .  .  .  W  .  .  .  W  .  W \n",
      "10|  .  .  .  .  W  .  .  .  W  . \n",
      "\n",
      "(1,4)------->>>(2,3)\n",
      "*     1  2  3  4  5  6  7  8  9  10\n",
      " 1|  .  B  .  .  .  .  .  .  .  B \n",
      " 2|  .  .  B  .  .  .  .  .  B  . \n",
      " 3|  .  B  .  B  .  .  .  B  .  . \n",
      " 4|  B  .  .  .  B  .  B  .  B  . \n",
      " 5|  .  B  .  .  .  B  .  B  .  W \n",
      " 6|  B  .  W  .  W  .  .  .  .  . \n",
      " 7|  .  W  .  W  .  W  .  W  .  W \n",
      " 8|  .  .  W  .  W  .  W  .  .  . \n",
      " 9|  .  .  .  W  .  .  .  W  .  W \n",
      "10|  .  .  .  .  W  .  .  .  W  . \n",
      "\n",
      "(9,8)------->>>(8,9)\n",
      "*     1  2  3  4  5  6  7  8  9  10\n",
      " 1|  .  B  .  .  .  .  .  .  .  B \n",
      " 2|  .  .  B  .  .  .  .  .  B  . \n",
      " 3|  .  B  .  B  .  .  .  B  .  . \n",
      " 4|  B  .  .  .  B  .  B  .  B  . \n",
      " 5|  .  B  .  .  .  B  .  B  .  W \n",
      " 6|  B  .  W  .  W  .  .  .  .  . \n",
      " 7|  .  W  .  W  .  W  .  W  .  W \n",
      " 8|  .  .  W  .  W  .  W  .  W  . \n",
      " 9|  .  .  .  W  .  .  .  .  .  W \n",
      "10|  .  .  .  .  W  .  .  .  W  . \n",
      "\n",
      "(3,2)------->>>(4,3)\n",
      "*     1  2  3  4  5  6  7  8  9  10\n",
      " 1|  .  B  .  .  .  .  .  .  .  B \n",
      " 2|  .  .  B  .  .  .  .  .  B  . \n",
      " 3|  .  .  .  B  .  .  .  B  .  . \n",
      " 4|  B  .  B  .  B  .  B  .  B  . \n",
      " 5|  .  B  .  .  .  B  .  B  .  W \n",
      " 6|  B  .  W  .  W  .  .  .  .  . \n",
      " 7|  .  W  .  W  .  W  .  W  .  W \n",
      " 8|  .  .  W  .  W  .  W  .  W  . \n",
      " 9|  .  .  .  W  .  .  .  .  .  W \n",
      "10|  .  .  .  .  W  .  .  .  W  . \n",
      "\n",
      "(10,9)------->>>(9,8)\n",
      "*     1  2  3  4  5  6  7  8  9  10\n",
      " 1|  .  B  .  .  .  .  .  .  .  B \n",
      " 2|  .  .  B  .  .  .  .  .  B  . \n",
      " 3|  .  .  .  B  .  .  .  B  .  . \n",
      " 4|  B  .  B  .  B  .  B  .  B  . \n",
      " 5|  .  B  .  .  .  B  .  B  .  W \n",
      " 6|  B  .  W  .  W  .  .  .  .  . \n",
      " 7|  .  W  .  W  .  W  .  W  .  W \n",
      " 8|  .  .  W  .  W  .  W  .  W  . \n",
      " 9|  .  .  .  W  .  .  .  W  .  W \n",
      "10|  .  .  .  .  W  .  .  .  .  . \n",
      "\n",
      "(2,9)------->>>(3,10)\n",
      "*     1  2  3  4  5  6  7  8  9  10\n",
      " 1|  .  B  .  .  .  .  .  .  .  B \n",
      " 2|  .  .  B  .  .  .  .  .  .  . \n",
      " 3|  .  .  .  B  .  .  .  B  .  B \n",
      " 4|  B  .  B  .  B  .  B  .  B  . \n",
      " 5|  .  B  .  .  .  B  .  B  .  W \n",
      " 6|  B  .  W  .  W  .  .  .  .  . \n",
      " 7|  .  W  .  W  .  W  .  W  .  W \n",
      " 8|  .  .  W  .  W  .  W  .  W  . \n",
      " 9|  .  .  .  W  .  .  .  W  .  W \n",
      "10|  .  .  .  .  W  .  .  .  .  . \n",
      "\n",
      "(7,8)------->>>(6,9)\n",
      "*     1  2  3  4  5  6  7  8  9  10\n",
      " 1|  .  B  .  .  .  .  .  .  .  B \n",
      " 2|  .  .  B  .  .  .  .  .  .  . \n",
      " 3|  .  .  .  B  .  .  .  B  .  B \n",
      " 4|  B  .  B  .  B  .  B  .  B  . \n",
      " 5|  .  B  .  .  .  B  .  B  .  W \n",
      " 6|  B  .  W  .  W  .  .  .  W  . \n",
      " 7|  .  W  .  W  .  W  .  .  .  W \n",
      " 8|  .  .  W  .  W  .  W  .  W  . \n",
      " 9|  .  .  .  W  .  .  .  W  .  W \n",
      "10|  .  .  .  .  W  .  .  .  .  . \n",
      "\n",
      "(2,3)------->>>(3,2)\n",
      "*     1  2  3  4  5  6  7  8  9  10\n",
      " 1|  .  B  .  .  .  .  .  .  .  B \n",
      " 2|  .  .  .  .  .  .  .  .  .  . \n",
      " 3|  .  B  .  B  .  .  .  B  .  B \n",
      " 4|  B  .  B  .  B  .  B  .  B  . \n",
      " 5|  .  B  .  .  .  B  .  B  .  W \n",
      " 6|  B  .  W  .  W  .  .  .  W  . \n",
      " 7|  .  W  .  W  .  W  .  .  .  W \n",
      " 8|  .  .  W  .  W  .  W  .  W  . \n",
      " 9|  .  .  .  W  .  .  .  W  .  W \n",
      "10|  .  .  .  .  W  .  .  .  .  . \n",
      "\n",
      "(8,9)------->>>(7,8)\n"
     ]
    },
    {
     "name": "stdout",
     "output_type": "stream",
     "text": [
      "*     1  2  3  4  5  6  7  8  9  10\n",
      " 1|  .  B  .  .  .  .  .  .  .  B \n",
      " 2|  .  .  .  .  .  .  .  .  .  . \n",
      " 3|  .  B  .  B  .  .  .  B  .  B \n",
      " 4|  B  .  B  .  B  .  B  .  B  . \n",
      " 5|  .  B  .  .  .  B  .  B  .  W \n",
      " 6|  B  .  W  .  W  .  .  .  W  . \n",
      " 7|  .  W  .  W  .  W  .  W  .  W \n",
      " 8|  .  .  W  .  W  .  W  .  .  . \n",
      " 9|  .  .  .  W  .  .  .  W  .  W \n",
      "10|  .  .  .  .  W  .  .  .  .  . \n",
      "\n",
      "(1,2)------->>>(2,3)\n",
      "*     1  2  3  4  5  6  7  8  9  10\n",
      " 1|  .  .  .  .  .  .  .  .  .  B \n",
      " 2|  .  .  B  .  .  .  .  .  .  . \n",
      " 3|  .  B  .  B  .  .  .  B  .  B \n",
      " 4|  B  .  B  .  B  .  B  .  B  . \n",
      " 5|  .  B  .  .  .  B  .  B  .  W \n",
      " 6|  B  .  W  .  W  .  .  .  W  . \n",
      " 7|  .  W  .  W  .  W  .  W  .  W \n",
      " 8|  .  .  W  .  W  .  W  .  .  . \n",
      " 9|  .  .  .  W  .  .  .  W  .  W \n",
      "10|  .  .  .  .  W  .  .  .  .  . \n",
      "\n",
      "(9,10)------->>>(8,9)\n",
      "*     1  2  3  4  5  6  7  8  9  10\n",
      " 1|  .  .  .  .  .  .  .  .  .  B \n",
      " 2|  .  .  B  .  .  .  .  .  .  . \n",
      " 3|  .  B  .  B  .  .  .  B  .  B \n",
      " 4|  B  .  B  .  B  .  B  .  B  . \n",
      " 5|  .  B  .  .  .  B  .  B  .  W \n",
      " 6|  B  .  W  .  W  .  .  .  W  . \n",
      " 7|  .  W  .  W  .  W  .  W  .  W \n",
      " 8|  .  .  W  .  W  .  W  .  W  . \n",
      " 9|  .  .  .  W  .  .  .  W  .  . \n",
      "10|  .  .  .  .  W  .  .  .  .  . \n",
      "\n",
      "(1,10)------->>>(2,9)\n",
      "*     1  2  3  4  5  6  7  8  9  10\n",
      " 1|  .  .  .  .  .  .  .  .  .  . \n",
      " 2|  .  .  B  .  .  .  .  .  B  . \n",
      " 3|  .  B  .  B  .  .  .  B  .  B \n",
      " 4|  B  .  B  .  B  .  B  .  B  . \n",
      " 5|  .  B  .  .  .  B  .  B  .  W \n",
      " 6|  B  .  W  .  W  .  .  .  W  . \n",
      " 7|  .  W  .  W  .  W  .  W  .  W \n",
      " 8|  .  .  W  .  W  .  W  .  W  . \n",
      " 9|  .  .  .  W  .  .  .  W  .  . \n",
      "10|  .  .  .  .  W  .  .  .  .  . \n",
      "\n",
      "(6,5)------->>>(5,4)\n",
      "*     1  2  3  4  5  6  7  8  9  10\n",
      " 1|  .  .  .  .  .  .  .  .  .  . \n",
      " 2|  .  .  B  .  .  .  .  .  B  . \n",
      " 3|  .  B  .  B  .  .  .  B  .  B \n",
      " 4|  B  .  B  .  B  .  B  .  B  . \n",
      " 5|  .  B  .  W  .  B  .  B  .  W \n",
      " 6|  B  .  W  .  .  .  .  .  W  . \n",
      " 7|  .  W  .  W  .  W  .  W  .  W \n",
      " 8|  .  .  W  .  W  .  W  .  W  . \n",
      " 9|  .  .  .  W  .  .  .  W  .  . \n",
      "10|  .  .  .  .  W  .  .  .  .  . \n",
      "\n",
      "(4,3)------->>>(6,5)\n",
      "*     1  2  3  4  5  6  7  8  9  10\n",
      " 1|  .  .  .  .  .  .  .  .  .  . \n",
      " 2|  .  .  B  .  .  .  .  .  B  . \n",
      " 3|  .  B  .  B  .  .  .  B  .  B \n",
      " 4|  B  .  .  .  B  .  B  .  B  . \n",
      " 5|  .  B  .  .  .  B  .  B  .  W \n",
      " 6|  B  .  W  .  B  .  .  .  W  . \n",
      " 7|  .  W  .  W  .  W  .  W  .  W \n",
      " 8|  .  .  W  .  W  .  W  .  W  . \n",
      " 9|  .  .  .  W  .  .  .  W  .  . \n",
      "10|  .  .  .  .  W  .  .  .  .  . \n",
      "\n",
      "(7,6)------->>>(5,4)\n",
      "*     1  2  3  4  5  6  7  8  9  10\n",
      " 1|  .  .  .  .  .  .  .  .  .  . \n",
      " 2|  .  .  B  .  .  .  .  .  B  . \n",
      " 3|  .  B  .  B  .  .  .  B  .  B \n",
      " 4|  B  .  .  .  B  .  B  .  B  . \n",
      " 5|  .  B  .  W  .  B  .  B  .  W \n",
      " 6|  B  .  W  .  .  .  .  .  W  . \n",
      " 7|  .  W  .  W  .  .  .  W  .  W \n",
      " 8|  .  .  W  .  W  .  W  .  W  . \n",
      " 9|  .  .  .  W  .  .  .  W  .  . \n",
      "10|  .  .  .  .  W  .  .  .  .  . \n",
      "\n",
      "(5,4)------->>>(3,6)\n",
      "*     1  2  3  4  5  6  7  8  9  10\n",
      " 1|  .  .  .  .  .  .  .  .  .  . \n",
      " 2|  .  .  B  .  .  .  .  .  B  . \n",
      " 3|  .  B  .  B  .  W  .  B  .  B \n",
      " 4|  B  .  .  .  .  .  B  .  B  . \n",
      " 5|  .  B  .  .  .  B  .  B  .  W \n",
      " 6|  B  .  W  .  .  .  .  .  W  . \n",
      " 7|  .  W  .  W  .  .  .  W  .  W \n",
      " 8|  .  .  W  .  W  .  W  .  W  . \n",
      " 9|  .  .  .  W  .  .  .  W  .  . \n",
      "10|  .  .  .  .  W  .  .  .  .  . \n",
      "\n",
      "(4,7)------->>>(2,5)\n",
      "*     1  2  3  4  5  6  7  8  9  10\n",
      " 1|  .  .  .  .  .  .  .  .  .  . \n",
      " 2|  .  .  B  .  B  .  .  .  B  . \n",
      " 3|  .  B  .  B  .  .  .  B  .  B \n",
      " 4|  B  .  .  .  .  .  .  .  B  . \n",
      " 5|  .  B  .  .  .  B  .  B  .  W \n",
      " 6|  B  .  W  .  .  .  .  .  W  . \n",
      " 7|  .  W  .  W  .  .  .  W  .  W \n",
      " 8|  .  .  W  .  W  .  W  .  W  . \n",
      " 9|  .  .  .  W  .  .  .  W  .  . \n",
      "10|  .  .  .  .  W  .  .  .  .  . \n",
      "\n",
      "(6,9)------->>>(4,7)\n",
      "*     1  2  3  4  5  6  7  8  9  10\n",
      " 1|  .  .  .  .  .  .  .  .  .  . \n",
      " 2|  .  .  B  .  B  .  .  .  B  . \n",
      " 3|  .  B  .  B  .  .  .  B  .  B \n",
      " 4|  B  .  .  .  .  .  W  .  B  . \n",
      " 5|  .  B  .  .  .  B  .  .  .  W \n",
      " 6|  B  .  W  .  .  .  .  .  .  . \n",
      " 7|  .  W  .  W  .  .  .  W  .  W \n",
      " 8|  .  .  W  .  W  .  W  .  W  . \n",
      " 9|  .  .  .  W  .  .  .  W  .  . \n",
      "10|  .  .  .  .  W  .  .  .  .  . \n",
      "\n",
      "(4,7)------->>>(6,5)\n",
      "*     1  2  3  4  5  6  7  8  9  10\n",
      " 1|  .  .  .  .  .  .  .  .  .  . \n",
      " 2|  .  .  B  .  B  .  .  .  B  . \n",
      " 3|  .  B  .  B  .  .  .  B  .  B \n",
      " 4|  B  .  .  .  .  .  .  .  B  . \n",
      " 5|  .  B  .  .  .  .  .  .  .  W \n",
      " 6|  B  .  W  .  W  .  .  .  .  . \n",
      " 7|  .  W  .  W  .  .  .  W  .  W \n",
      " 8|  .  .  W  .  W  .  W  .  W  . \n",
      " 9|  .  .  .  W  .  .  .  W  .  . \n",
      "10|  .  .  .  .  W  .  .  .  .  . \n",
      "\n",
      "(3,4)------->>>(4,3)\n",
      "*     1  2  3  4  5  6  7  8  9  10\n",
      " 1|  .  .  .  .  .  .  .  .  .  . \n",
      " 2|  .  .  B  .  B  .  .  .  B  . \n",
      " 3|  .  B  .  .  .  .  .  B  .  B \n",
      " 4|  B  .  B  .  .  .  .  .  B  . \n",
      " 5|  .  B  .  .  .  .  .  .  .  W \n",
      " 6|  B  .  W  .  W  .  .  .  .  . \n",
      " 7|  .  W  .  W  .  .  .  W  .  W \n",
      " 8|  .  .  W  .  W  .  W  .  W  . \n",
      " 9|  .  .  .  W  .  .  .  W  .  . \n",
      "10|  .  .  .  .  W  .  .  .  .  . \n",
      "\n",
      "(7,10)------->>>(6,9)\n",
      "*     1  2  3  4  5  6  7  8  9  10\n",
      " 1|  .  .  .  .  .  .  .  .  .  . \n",
      " 2|  .  .  B  .  B  .  .  .  B  . \n",
      " 3|  .  B  .  .  .  .  .  B  .  B \n",
      " 4|  B  .  B  .  .  .  .  .  B  . \n",
      " 5|  .  B  .  .  .  .  .  .  .  W \n",
      " 6|  B  .  W  .  W  .  .  .  W  . \n",
      " 7|  .  W  .  W  .  .  .  W  .  . \n",
      " 8|  .  .  W  .  W  .  W  .  W  . \n",
      " 9|  .  .  .  W  .  .  .  W  .  . \n",
      "10|  .  .  .  .  W  .  .  .  .  . \n",
      "\n",
      "(2,3)------->>>(3,4)\n",
      "*     1  2  3  4  5  6  7  8  9  10\n",
      " 1|  .  .  .  .  .  .  .  .  .  . \n",
      " 2|  .  .  .  .  B  .  .  .  B  . \n",
      " 3|  .  B  .  B  .  .  .  B  .  B \n",
      " 4|  B  .  B  .  .  .  .  .  B  . \n",
      " 5|  .  B  .  .  .  .  .  .  .  W \n",
      " 6|  B  .  W  .  W  .  .  .  W  . \n",
      " 7|  .  W  .  W  .  .  .  W  .  . \n",
      " 8|  .  .  W  .  W  .  W  .  W  . \n",
      " 9|  .  .  .  W  .  .  .  W  .  . \n",
      "10|  .  .  .  .  W  .  .  .  .  . \n",
      "\n",
      "(8,7)------->>>(7,6)\n",
      "*     1  2  3  4  5  6  7  8  9  10\n",
      " 1|  .  .  .  .  .  .  .  .  .  . \n",
      " 2|  .  .  .  .  B  .  .  .  B  . \n",
      " 3|  .  B  .  B  .  .  .  B  .  B \n",
      " 4|  B  .  B  .  .  .  .  .  B  . \n",
      " 5|  .  B  .  .  .  .  .  .  .  W \n",
      " 6|  B  .  W  .  W  .  .  .  W  . \n",
      " 7|  .  W  .  W  .  W  .  W  .  . \n",
      " 8|  .  .  W  .  W  .  .  .  W  . \n",
      " 9|  .  .  .  W  .  .  .  W  .  . \n",
      "10|  .  .  .  .  W  .  .  .  .  . \n",
      "\n",
      "(3,4)------->>>(4,5)\n",
      "*     1  2  3  4  5  6  7  8  9  10\n",
      " 1|  .  .  .  .  .  .  .  .  .  . \n",
      " 2|  .  .  .  .  B  .  .  .  B  . \n",
      " 3|  .  B  .  .  .  .  .  B  .  B \n",
      " 4|  B  .  B  .  B  .  .  .  B  . \n",
      " 5|  .  B  .  .  .  .  .  .  .  W \n",
      " 6|  B  .  W  .  W  .  .  .  W  . \n",
      " 7|  .  W  .  W  .  W  .  W  .  . \n",
      " 8|  .  .  W  .  W  .  .  .  W  . \n",
      " 9|  .  .  .  W  .  .  .  W  .  . \n",
      "10|  .  .  .  .  W  .  .  .  .  . \n",
      "\n",
      "(7,6)------->>>(6,7)\n",
      "*     1  2  3  4  5  6  7  8  9  10\n",
      " 1|  .  .  .  .  .  .  .  .  .  . \n",
      " 2|  .  .  .  .  B  .  .  .  B  . \n",
      " 3|  .  B  .  .  .  .  .  B  .  B \n",
      " 4|  B  .  B  .  B  .  .  .  B  . \n",
      " 5|  .  B  .  .  .  .  .  .  .  W \n",
      " 6|  B  .  W  .  W  .  W  .  W  . \n",
      " 7|  .  W  .  W  .  .  .  W  .  . \n",
      " 8|  .  .  W  .  W  .  .  .  W  . \n",
      " 9|  .  .  .  W  .  .  .  W  .  . \n",
      "10|  .  .  .  .  W  .  .  .  .  . \n",
      "\n",
      "(2,5)------->>>(3,4)\n",
      "*     1  2  3  4  5  6  7  8  9  10\n",
      " 1|  .  .  .  .  .  .  .  .  .  . \n",
      " 2|  .  .  .  .  .  .  .  .  B  . \n",
      " 3|  .  B  .  B  .  .  .  B  .  B \n",
      " 4|  B  .  B  .  B  .  .  .  B  . \n",
      " 5|  .  B  .  .  .  .  .  .  .  W \n",
      " 6|  B  .  W  .  W  .  W  .  W  . \n",
      " 7|  .  W  .  W  .  .  .  W  .  . \n",
      " 8|  .  .  W  .  W  .  .  .  W  . \n",
      " 9|  .  .  .  W  .  .  .  W  .  . \n",
      "10|  .  .  .  .  W  .  .  .  .  . \n",
      "\n",
      "(6,5)------->>>(5,4)\n",
      "*     1  2  3  4  5  6  7  8  9  10\n",
      " 1|  .  .  .  .  .  .  .  .  .  . \n",
      " 2|  .  .  .  .  .  .  .  .  B  . \n",
      " 3|  .  B  .  B  .  .  .  B  .  B \n",
      " 4|  B  .  B  .  B  .  .  .  B  . \n",
      " 5|  .  B  .  W  .  .  .  .  .  W \n",
      " 6|  B  .  W  .  .  .  W  .  W  . \n",
      " 7|  .  W  .  W  .  .  .  W  .  . \n",
      " 8|  .  .  W  .  W  .  .  .  W  . \n",
      " 9|  .  .  .  W  .  .  .  W  .  . \n",
      "10|  .  .  .  .  W  .  .  .  .  . \n",
      "\n",
      "(4,3)------->>>(6,5)\n",
      "*     1  2  3  4  5  6  7  8  9  10\n",
      " 1|  .  .  .  .  .  .  .  .  .  . \n",
      " 2|  .  .  .  .  .  .  .  .  B  . \n",
      " 3|  .  B  .  B  .  .  .  B  .  B \n",
      " 4|  B  .  .  .  B  .  .  .  B  . \n",
      " 5|  .  B  .  .  .  .  .  .  .  W \n",
      " 6|  B  .  W  .  B  .  W  .  W  . \n",
      " 7|  .  W  .  W  .  .  .  W  .  . \n",
      " 8|  .  .  W  .  W  .  .  .  W  . \n",
      " 9|  .  .  .  W  .  .  .  W  .  . \n",
      "10|  .  .  .  .  W  .  .  .  .  . \n",
      "\n",
      "(7,4)------->>>(5,6)\n",
      "*     1  2  3  4  5  6  7  8  9  10\n",
      " 1|  .  .  .  .  .  .  .  .  .  . \n",
      " 2|  .  .  .  .  .  .  .  .  B  . \n",
      " 3|  .  B  .  B  .  .  .  B  .  B \n",
      " 4|  B  .  .  .  B  .  .  .  B  . \n",
      " 5|  .  B  .  .  .  W  .  .  .  W \n",
      " 6|  B  .  W  .  .  .  W  .  W  . \n",
      " 7|  .  W  .  .  .  .  .  W  .  . \n",
      " 8|  .  .  W  .  W  .  .  .  W  . \n",
      " 9|  .  .  .  W  .  .  .  W  .  . \n",
      "10|  .  .  .  .  W  .  .  .  .  . \n",
      "\n",
      "(5,2)------->>>(7,4)\n"
     ]
    },
    {
     "name": "stdout",
     "output_type": "stream",
     "text": [
      "*     1  2  3  4  5  6  7  8  9  10\n",
      " 1|  .  .  .  .  .  .  .  .  .  . \n",
      " 2|  .  .  .  .  .  .  .  .  B  . \n",
      " 3|  .  B  .  B  .  .  .  B  .  B \n",
      " 4|  B  .  .  .  B  .  .  .  B  . \n",
      " 5|  .  .  .  .  .  W  .  .  .  W \n",
      " 6|  B  .  .  .  .  .  W  .  W  . \n",
      " 7|  .  W  .  B  .  .  .  W  .  . \n",
      " 8|  .  .  W  .  W  .  .  .  W  . \n",
      " 9|  .  .  .  W  .  .  .  W  .  . \n",
      "10|  .  .  .  .  W  .  .  .  .  . \n",
      "\n",
      "(7,4)------->>>(9,6)\n",
      "*     1  2  3  4  5  6  7  8  9  10\n",
      " 1|  .  .  .  .  .  .  .  .  .  . \n",
      " 2|  .  .  .  .  .  .  .  .  B  . \n",
      " 3|  .  B  .  B  .  .  .  B  .  B \n",
      " 4|  B  .  .  .  B  .  .  .  B  . \n",
      " 5|  .  .  .  .  .  W  .  .  .  W \n",
      " 6|  B  .  .  .  .  .  W  .  W  . \n",
      " 7|  .  W  .  .  .  .  .  W  .  . \n",
      " 8|  .  .  W  .  .  .  .  .  W  . \n",
      " 9|  .  .  .  W  .  B  .  W  .  . \n",
      "10|  .  .  .  .  W  .  .  .  .  . \n",
      "\n",
      "(10,5)------->>>(8,7)\n",
      "*     1  2  3  4  5  6  7  8  9  10\n",
      " 1|  .  .  .  .  .  .  .  .  .  . \n",
      " 2|  .  .  .  .  .  .  .  .  B  . \n",
      " 3|  .  B  .  B  .  .  .  B  .  B \n",
      " 4|  B  .  .  .  B  .  .  .  B  . \n",
      " 5|  .  .  .  .  .  W  .  .  .  W \n",
      " 6|  B  .  .  .  .  .  W  .  W  . \n",
      " 7|  .  W  .  .  .  .  .  W  .  . \n",
      " 8|  .  .  W  .  .  .  W  .  W  . \n",
      " 9|  .  .  .  W  .  .  .  W  .  . \n",
      "10|  .  .  .  .  .  .  .  .  .  . \n",
      "\n",
      "(4,5)------->>>(5,4)\n",
      "*     1  2  3  4  5  6  7  8  9  10\n",
      " 1|  .  .  .  .  .  .  .  .  .  . \n",
      " 2|  .  .  .  .  .  .  .  .  B  . \n",
      " 3|  .  B  .  B  .  .  .  B  .  B \n",
      " 4|  B  .  .  .  .  .  .  .  B  . \n",
      " 5|  .  .  .  B  .  W  .  .  .  W \n",
      " 6|  B  .  .  .  .  .  W  .  W  . \n",
      " 7|  .  W  .  .  .  .  .  W  .  . \n",
      " 8|  .  .  W  .  .  .  W  .  W  . \n",
      " 9|  .  .  .  W  .  .  .  W  .  . \n",
      "10|  .  .  .  .  .  .  .  .  .  . \n",
      "\n",
      "(8,9)------->>>(7,10)\n",
      "*     1  2  3  4  5  6  7  8  9  10\n",
      " 1|  .  .  .  .  .  .  .  .  .  . \n",
      " 2|  .  .  .  .  .  .  .  .  B  . \n",
      " 3|  .  B  .  B  .  .  .  B  .  B \n",
      " 4|  B  .  .  .  .  .  .  .  B  . \n",
      " 5|  .  .  .  B  .  W  .  .  .  W \n",
      " 6|  B  .  .  .  .  .  W  .  W  . \n",
      " 7|  .  W  .  .  .  .  .  W  .  W \n",
      " 8|  .  .  W  .  .  .  W  .  .  . \n",
      " 9|  .  .  .  W  .  .  .  W  .  . \n",
      "10|  .  .  .  .  .  .  .  .  .  . \n",
      "\n",
      "(3,2)------->>>(4,3)\n",
      "*     1  2  3  4  5  6  7  8  9  10\n",
      " 1|  .  .  .  .  .  .  .  .  .  . \n",
      " 2|  .  .  .  .  .  .  .  .  B  . \n",
      " 3|  .  .  .  B  .  .  .  B  .  B \n",
      " 4|  B  .  B  .  .  .  .  .  B  . \n",
      " 5|  .  .  .  B  .  W  .  .  .  W \n",
      " 6|  B  .  .  .  .  .  W  .  W  . \n",
      " 7|  .  W  .  .  .  .  .  W  .  W \n",
      " 8|  .  .  W  .  .  .  W  .  .  . \n",
      " 9|  .  .  .  W  .  .  .  W  .  . \n",
      "10|  .  .  .  .  .  .  .  .  .  . \n",
      "\n",
      "(8,7)------->>>(7,6)\n",
      "*     1  2  3  4  5  6  7  8  9  10\n",
      " 1|  .  .  .  .  .  .  .  .  .  . \n",
      " 2|  .  .  .  .  .  .  .  .  B  . \n",
      " 3|  .  .  .  B  .  .  .  B  .  B \n",
      " 4|  B  .  B  .  .  .  .  .  B  . \n",
      " 5|  .  .  .  B  .  W  .  .  .  W \n",
      " 6|  B  .  .  .  .  .  W  .  W  . \n",
      " 7|  .  W  .  .  .  W  .  W  .  W \n",
      " 8|  .  .  W  .  .  .  .  .  .  . \n",
      " 9|  .  .  .  W  .  .  .  W  .  . \n",
      "10|  .  .  .  .  .  .  .  .  .  . \n",
      "\n",
      "(4,3)------->>>(5,2)\n",
      "*     1  2  3  4  5  6  7  8  9  10\n",
      " 1|  .  .  .  .  .  .  .  .  .  . \n",
      " 2|  .  .  .  .  .  .  .  .  B  . \n",
      " 3|  .  .  .  B  .  .  .  B  .  B \n",
      " 4|  B  .  .  .  .  .  .  .  B  . \n",
      " 5|  .  B  .  B  .  W  .  .  .  W \n",
      " 6|  B  .  .  .  .  .  W  .  W  . \n",
      " 7|  .  W  .  .  .  W  .  W  .  W \n",
      " 8|  .  .  W  .  .  .  .  .  .  . \n",
      " 9|  .  .  .  W  .  .  .  W  .  . \n",
      "10|  .  .  .  .  .  .  .  .  .  . \n",
      "\n",
      "(9,4)------->>>(8,5)\n",
      "*     1  2  3  4  5  6  7  8  9  10\n",
      " 1|  .  .  .  .  .  .  .  .  .  . \n",
      " 2|  .  .  .  .  .  .  .  .  B  . \n",
      " 3|  .  .  .  B  .  .  .  B  .  B \n",
      " 4|  B  .  .  .  .  .  .  .  B  . \n",
      " 5|  .  B  .  B  .  W  .  .  .  W \n",
      " 6|  B  .  .  .  .  .  W  .  W  . \n",
      " 7|  .  W  .  .  .  W  .  W  .  W \n",
      " 8|  .  .  W  .  W  .  .  .  .  . \n",
      " 9|  .  .  .  .  .  .  .  W  .  . \n",
      "10|  .  .  .  .  .  .  .  .  .  . \n",
      "\n",
      "(4,9)------->>>(5,8)\n",
      "*     1  2  3  4  5  6  7  8  9  10\n",
      " 1|  .  .  .  .  .  .  .  .  .  . \n",
      " 2|  .  .  .  .  .  .  .  .  B  . \n",
      " 3|  .  .  .  B  .  .  .  B  .  B \n",
      " 4|  B  .  .  .  .  .  .  .  .  . \n",
      " 5|  .  B  .  B  .  W  .  B  .  W \n",
      " 6|  B  .  .  .  .  .  W  .  W  . \n",
      " 7|  .  W  .  .  .  W  .  W  .  W \n",
      " 8|  .  .  W  .  W  .  .  .  .  . \n",
      " 9|  .  .  .  .  .  .  .  W  .  . \n",
      "10|  .  .  .  .  .  .  .  .  .  . \n",
      "\n",
      "(6,7)------->>>(4,9)\n",
      "*     1  2  3  4  5  6  7  8  9  10\n",
      " 1|  .  .  .  .  .  .  .  .  .  . \n",
      " 2|  .  .  .  .  .  .  .  .  B  . \n",
      " 3|  .  .  .  B  .  .  .  B  .  B \n",
      " 4|  B  .  .  .  .  .  .  .  W  . \n",
      " 5|  .  B  .  B  .  W  .  .  .  W \n",
      " 6|  B  .  .  .  .  .  .  .  W  . \n",
      " 7|  .  W  .  .  .  W  .  W  .  W \n",
      " 8|  .  .  W  .  W  .  .  .  .  . \n",
      " 9|  .  .  .  .  .  .  .  W  .  . \n",
      "10|  .  .  .  .  .  .  .  .  .  . \n",
      "\n",
      "(4,9)------->>>(2,7)\n",
      "*     1  2  3  4  5  6  7  8  9  10\n",
      " 1|  .  .  .  .  .  .  .  .  .  . \n",
      " 2|  .  .  .  .  .  .  W  .  B  . \n",
      " 3|  .  .  .  B  .  .  .  .  .  B \n",
      " 4|  B  .  .  .  .  .  .  .  .  . \n",
      " 5|  .  B  .  B  .  W  .  .  .  W \n",
      " 6|  B  .  .  .  .  .  .  .  W  . \n",
      " 7|  .  W  .  .  .  W  .  W  .  W \n",
      " 8|  .  .  W  .  W  .  .  .  .  . \n",
      " 9|  .  .  .  .  .  .  .  W  .  . \n",
      "10|  .  .  .  .  .  .  .  .  .  . \n",
      "\n",
      "(3,4)------->>>(4,3)\n",
      "*     1  2  3  4  5  6  7  8  9  10\n",
      " 1|  .  .  .  .  .  .  .  .  .  . \n",
      " 2|  .  .  .  .  .  .  W  .  B  . \n",
      " 3|  .  .  .  .  .  .  .  .  .  B \n",
      " 4|  B  .  B  .  .  .  .  .  .  . \n",
      " 5|  .  B  .  B  .  W  .  .  .  W \n",
      " 6|  B  .  .  .  .  .  .  .  W  . \n",
      " 7|  .  W  .  .  .  W  .  W  .  W \n",
      " 8|  .  .  W  .  W  .  .  .  .  . \n",
      " 9|  .  .  .  .  .  .  .  W  .  . \n",
      "10|  .  .  .  .  .  .  .  .  .  . \n",
      "\n",
      "(8,5)------->>>(7,4)\n",
      "*     1  2  3  4  5  6  7  8  9  10\n",
      " 1|  .  .  .  .  .  .  .  .  .  . \n",
      " 2|  .  .  .  .  .  .  W  .  B  . \n",
      " 3|  .  .  .  .  .  .  .  .  .  B \n",
      " 4|  B  .  B  .  .  .  .  .  .  . \n",
      " 5|  .  B  .  B  .  W  .  .  .  W \n",
      " 6|  B  .  .  .  .  .  .  .  W  . \n",
      " 7|  .  W  .  W  .  W  .  W  .  W \n",
      " 8|  .  .  W  .  .  .  .  .  .  . \n",
      " 9|  .  .  .  .  .  .  .  W  .  . \n",
      "10|  .  .  .  .  .  .  .  .  .  . \n",
      "\n",
      "(5,4)------->>>(6,5)\n",
      "*     1  2  3  4  5  6  7  8  9  10\n",
      " 1|  .  .  .  .  .  .  .  .  .  . \n",
      " 2|  .  .  .  .  .  .  W  .  B  . \n",
      " 3|  .  .  .  .  .  .  .  .  .  B \n",
      " 4|  B  .  B  .  .  .  .  .  .  . \n",
      " 5|  .  B  .  .  .  W  .  .  .  W \n",
      " 6|  B  .  .  .  B  .  .  .  W  . \n",
      " 7|  .  W  .  W  .  W  .  W  .  W \n",
      " 8|  .  .  W  .  .  .  .  .  .  . \n",
      " 9|  .  .  .  .  .  .  .  W  .  . \n",
      "10|  .  .  .  .  .  .  .  .  .  . \n",
      "\n",
      "(7,6)------->>>(5,4)\n",
      "*     1  2  3  4  5  6  7  8  9  10\n",
      " 1|  .  .  .  .  .  .  .  .  .  . \n",
      " 2|  .  .  .  .  .  .  W  .  B  . \n",
      " 3|  .  .  .  .  .  .  .  .  .  B \n",
      " 4|  B  .  B  .  .  .  .  .  .  . \n",
      " 5|  .  B  .  W  .  W  .  .  .  W \n",
      " 6|  B  .  .  .  .  .  .  .  W  . \n",
      " 7|  .  W  .  W  .  .  .  W  .  W \n",
      " 8|  .  .  W  .  .  .  .  .  .  . \n",
      " 9|  .  .  .  .  .  .  .  W  .  . \n",
      "10|  .  .  .  .  .  .  .  .  .  . \n",
      "\n",
      "(5,4)------->>>(3,2)\n",
      "*     1  2  3  4  5  6  7  8  9  10\n",
      " 1|  .  .  .  .  .  .  .  .  .  . \n",
      " 2|  .  .  .  .  .  .  W  .  B  . \n",
      " 3|  .  W  .  .  .  .  .  .  .  B \n",
      " 4|  B  .  .  .  .  .  .  .  .  . \n",
      " 5|  .  B  .  .  .  W  .  .  .  W \n",
      " 6|  B  .  .  .  .  .  .  .  W  . \n",
      " 7|  .  W  .  W  .  .  .  W  .  W \n",
      " 8|  .  .  W  .  .  .  .  .  .  . \n",
      " 9|  .  .  .  .  .  .  .  W  .  . \n",
      "10|  .  .  .  .  .  .  .  .  .  . \n",
      "\n",
      "(4,1)------->>>(2,3)\n",
      "*     1  2  3  4  5  6  7  8  9  10\n",
      " 1|  .  .  .  .  .  .  .  .  .  . \n",
      " 2|  .  .  B  .  .  .  W  .  B  . \n",
      " 3|  .  .  .  .  .  .  .  .  .  B \n",
      " 4|  .  .  .  .  .  .  .  .  .  . \n",
      " 5|  .  B  .  .  .  W  .  .  .  W \n",
      " 6|  B  .  .  .  .  .  .  .  W  . \n",
      " 7|  .  W  .  W  .  .  .  W  .  W \n",
      " 8|  .  .  W  .  .  .  .  .  .  . \n",
      " 9|  .  .  .  .  .  .  .  W  .  . \n",
      "10|  .  .  .  .  .  .  .  .  .  . \n",
      "\n",
      "(7,4)------->>>(6,5)\n",
      "*     1  2  3  4  5  6  7  8  9  10\n",
      " 1|  .  .  .  .  .  .  .  .  .  . \n",
      " 2|  .  .  B  .  .  .  W  .  B  . \n",
      " 3|  .  .  .  .  .  .  .  .  .  B \n",
      " 4|  .  .  .  .  .  .  .  .  .  . \n",
      " 5|  .  B  .  .  .  W  .  .  .  W \n",
      " 6|  B  .  .  .  W  .  .  .  W  . \n",
      " 7|  .  W  .  .  .  .  .  W  .  W \n",
      " 8|  .  .  W  .  .  .  .  .  .  . \n",
      " 9|  .  .  .  .  .  .  .  W  .  . \n",
      "10|  .  .  .  .  .  .  .  .  .  . \n",
      "\n",
      "(2,3)------->>>(3,2)\n",
      "*     1  2  3  4  5  6  7  8  9  10\n",
      " 1|  .  .  .  .  .  .  .  .  .  . \n",
      " 2|  .  .  .  .  .  .  W  .  B  . \n",
      " 3|  .  B  .  .  .  .  .  .  .  B \n",
      " 4|  .  .  .  .  .  .  .  .  .  . \n",
      " 5|  .  B  .  .  .  W  .  .  .  W \n",
      " 6|  B  .  .  .  W  .  .  .  W  . \n",
      " 7|  .  W  .  .  .  .  .  W  .  W \n",
      " 8|  .  .  W  .  .  .  .  .  .  . \n",
      " 9|  .  .  .  .  .  .  .  W  .  . \n",
      "10|  .  .  .  .  .  .  .  .  .  . \n",
      "\n",
      "(5,6)------->>>(4,7)\n",
      "*     1  2  3  4  5  6  7  8  9  10\n",
      " 1|  .  .  .  .  .  .  .  .  .  . \n",
      " 2|  .  .  .  .  .  .  W  .  B  . \n",
      " 3|  .  B  .  .  .  .  .  .  .  B \n",
      " 4|  .  .  .  .  .  .  W  .  .  . \n",
      " 5|  .  B  .  .  .  .  .  .  .  W \n",
      " 6|  B  .  .  .  W  .  .  .  W  . \n",
      " 7|  .  W  .  .  .  .  .  W  .  W \n",
      " 8|  .  .  W  .  .  .  .  .  .  . \n",
      " 9|  .  .  .  .  .  .  .  W  .  . \n",
      "10|  .  .  .  .  .  .  .  .  .  . \n",
      "\n",
      "(3,2)------->>>(4,3)\n"
     ]
    },
    {
     "name": "stdout",
     "output_type": "stream",
     "text": [
      "*     1  2  3  4  5  6  7  8  9  10\n",
      " 1|  .  .  .  .  .  .  .  .  .  . \n",
      " 2|  .  .  .  .  .  .  W  .  B  . \n",
      " 3|  .  .  .  .  .  .  .  .  .  B \n",
      " 4|  .  .  B  .  .  .  W  .  .  . \n",
      " 5|  .  B  .  .  .  .  .  .  .  W \n",
      " 6|  B  .  .  .  W  .  .  .  W  . \n",
      " 7|  .  W  .  .  .  .  .  W  .  W \n",
      " 8|  .  .  W  .  .  .  .  .  .  . \n",
      " 9|  .  .  .  .  .  .  .  W  .  . \n",
      "10|  .  .  .  .  .  .  .  .  .  . \n",
      "\n",
      "(2,7)------->>>(1,8)\n",
      "*     1  2  3  4  5  6  7  8  9  10\n",
      " 1|  .  .  .  .  .  .  .  W  .  . \n",
      " 2|  .  .  .  .  .  .  .  .  B  . \n",
      " 3|  .  .  .  .  .  .  .  .  .  B \n",
      " 4|  .  .  B  .  .  .  W  .  .  . \n",
      " 5|  .  B  .  .  .  .  .  .  .  W \n",
      " 6|  B  .  .  .  W  .  .  .  W  . \n",
      " 7|  .  W  .  .  .  .  .  W  .  W \n",
      " 8|  .  .  W  .  .  .  .  .  .  . \n",
      " 9|  .  .  .  .  .  .  .  W  .  . \n",
      "10|  .  .  .  .  .  .  .  .  .  . \n",
      "\n",
      "(4,3)------->>>(5,4)\n",
      "*     1  2  3  4  5  6  7  8  9  10\n",
      " 1|  .  .  .  .  .  .  .  W  .  . \n",
      " 2|  .  .  .  .  .  .  .  .  B  . \n",
      " 3|  .  .  .  .  .  .  .  .  .  B \n",
      " 4|  .  .  .  .  .  .  W  .  .  . \n",
      " 5|  .  B  .  B  .  .  .  .  .  W \n",
      " 6|  B  .  .  .  W  .  .  .  W  . \n",
      " 7|  .  W  .  .  .  .  .  W  .  W \n",
      " 8|  .  .  W  .  .  .  .  .  .  . \n",
      " 9|  .  .  .  .  .  .  .  W  .  . \n",
      "10|  .  .  .  .  .  .  .  .  .  . \n",
      "\n",
      "(1,8)------->>>(6,3)\n",
      "*     1  2  3  4  5  6  7  8  9  10\n",
      " 1|  .  .  .  .  .  .  .  .  .  . \n",
      " 2|  .  .  .  .  .  .  .  .  B  . \n",
      " 3|  .  .  .  .  .  .  .  .  .  B \n",
      " 4|  .  .  .  .  .  .  W  .  .  . \n",
      " 5|  .  B  .  .  .  .  .  .  .  W \n",
      " 6|  B  .  W  .  W  .  .  .  W  . \n",
      " 7|  .  W  .  .  .  .  .  W  .  W \n",
      " 8|  .  .  W  .  .  .  .  .  .  . \n",
      " 9|  .  .  .  .  .  .  .  W  .  . \n",
      "10|  .  .  .  .  .  .  .  .  .  . \n",
      "\n",
      "(6,3)------->>>(4,1)\n",
      "*     1  2  3  4  5  6  7  8  9  10\n",
      " 1|  .  .  .  .  .  .  .  .  .  . \n",
      " 2|  .  .  .  .  .  .  .  .  B  . \n",
      " 3|  .  .  .  .  .  .  .  .  .  B \n",
      " 4|  W  .  .  .  .  .  W  .  .  . \n",
      " 5|  .  .  .  .  .  .  .  .  .  W \n",
      " 6|  B  .  .  .  W  .  .  .  W  . \n",
      " 7|  .  W  .  .  .  .  .  W  .  W \n",
      " 8|  .  .  W  .  .  .  .  .  .  . \n",
      " 9|  .  .  .  .  .  .  .  W  .  . \n",
      "10|  .  .  .  .  .  .  .  .  .  . \n",
      "\n",
      "(2,9)------->>>(3,8)\n",
      "*     1  2  3  4  5  6  7  8  9  10\n",
      " 1|  .  .  .  .  .  .  .  .  .  . \n",
      " 2|  .  .  .  .  .  .  .  .  .  . \n",
      " 3|  .  .  .  .  .  .  .  B  .  B \n",
      " 4|  W  .  .  .  .  .  W  .  .  . \n",
      " 5|  .  .  .  .  .  .  .  .  .  W \n",
      " 6|  B  .  .  .  W  .  .  .  W  . \n",
      " 7|  .  W  .  .  .  .  .  W  .  W \n",
      " 8|  .  .  W  .  .  .  .  .  .  . \n",
      " 9|  .  .  .  .  .  .  .  W  .  . \n",
      "10|  .  .  .  .  .  .  .  .  .  . \n",
      "\n",
      "(4,7)------->>>(2,9)\n",
      "*     1  2  3  4  5  6  7  8  9  10\n",
      " 1|  .  .  .  .  .  .  .  .  .  . \n",
      " 2|  .  .  .  .  .  .  .  .  W  . \n",
      " 3|  .  .  .  .  .  .  .  .  .  B \n",
      " 4|  W  .  .  .  .  .  .  .  .  . \n",
      " 5|  .  .  .  .  .  .  .  .  .  W \n",
      " 6|  B  .  .  .  W  .  .  .  W  . \n",
      " 7|  .  W  .  .  .  .  .  W  .  W \n",
      " 8|  .  .  W  .  .  .  .  .  .  . \n",
      " 9|  .  .  .  .  .  .  .  W  .  . \n",
      "10|  .  .  .  .  .  .  .  .  .  . \n",
      "\n",
      "(3,10)------->>>(1,8)\n",
      "*     1  2  3  4  5  6  7  8  9  10\n",
      " 1|  .  .  .  .  .  .  .  B  .  . \n",
      " 2|  .  .  .  .  .  .  .  .  .  . \n",
      " 3|  .  .  .  .  .  .  .  .  .  . \n",
      " 4|  W  .  .  .  .  .  .  .  .  . \n",
      " 5|  .  .  .  .  .  .  .  .  .  W \n",
      " 6|  B  .  .  .  W  .  .  .  W  . \n",
      " 7|  .  W  .  .  .  .  .  W  .  W \n",
      " 8|  .  .  W  .  .  .  .  .  .  . \n",
      " 9|  .  .  .  .  .  .  .  W  .  . \n",
      "10|  .  .  .  .  .  .  .  .  .  . \n",
      "\n",
      "(9,8)------->>>(8,7)\n",
      "*     1  2  3  4  5  6  7  8  9  10\n",
      " 1|  .  .  .  .  .  .  .  B  .  . \n",
      " 2|  .  .  .  .  .  .  .  .  .  . \n",
      " 3|  .  .  .  .  .  .  .  .  .  . \n",
      " 4|  W  .  .  .  .  .  .  .  .  . \n",
      " 5|  .  .  .  .  .  .  .  .  .  W \n",
      " 6|  B  .  .  .  W  .  .  .  W  . \n",
      " 7|  .  W  .  .  .  .  .  W  .  W \n",
      " 8|  .  .  W  .  .  .  W  .  .  . \n",
      " 9|  .  .  .  .  .  .  .  .  .  . \n",
      "10|  .  .  .  .  .  .  .  .  .  . \n",
      "\n",
      "(1,8)------->>>(2,7)\n",
      "*     1  2  3  4  5  6  7  8  9  10\n",
      " 1|  .  .  .  .  .  .  .  .  .  . \n",
      " 2|  .  .  .  .  .  .  B  .  .  . \n",
      " 3|  .  .  .  .  .  .  .  .  .  . \n",
      " 4|  W  .  .  .  .  .  .  .  .  . \n",
      " 5|  .  .  .  .  .  .  .  .  .  W \n",
      " 6|  B  .  .  .  W  .  .  .  W  . \n",
      " 7|  .  W  .  .  .  .  .  W  .  W \n",
      " 8|  .  .  W  .  .  .  W  .  .  . \n",
      " 9|  .  .  .  .  .  .  .  .  .  . \n",
      "10|  .  .  .  .  .  .  .  .  .  . \n",
      "\n",
      "(8,7)------->>>(7,6)\n",
      "*     1  2  3  4  5  6  7  8  9  10\n",
      " 1|  .  .  .  .  .  .  .  .  .  . \n",
      " 2|  .  .  .  .  .  .  B  .  .  . \n",
      " 3|  .  .  .  .  .  .  .  .  .  . \n",
      " 4|  W  .  .  .  .  .  .  .  .  . \n",
      " 5|  .  .  .  .  .  .  .  .  .  W \n",
      " 6|  B  .  .  .  W  .  .  .  W  . \n",
      " 7|  .  W  .  .  .  W  .  W  .  W \n",
      " 8|  .  .  W  .  .  .  .  .  .  . \n",
      " 9|  .  .  .  .  .  .  .  .  .  . \n",
      "10|  .  .  .  .  .  .  .  .  .  . \n",
      "\n",
      "(2,7)------->>>(3,8)\n",
      "*     1  2  3  4  5  6  7  8  9  10\n",
      " 1|  .  .  .  .  .  .  .  .  .  . \n",
      " 2|  .  .  .  .  .  .  .  .  .  . \n",
      " 3|  .  .  .  .  .  .  .  B  .  . \n",
      " 4|  W  .  .  .  .  .  .  .  .  . \n",
      " 5|  .  .  .  .  .  .  .  .  .  W \n",
      " 6|  B  .  .  .  W  .  .  .  W  . \n",
      " 7|  .  W  .  .  .  W  .  W  .  W \n",
      " 8|  .  .  W  .  .  .  .  .  .  . \n",
      " 9|  .  .  .  .  .  .  .  .  .  . \n",
      "10|  .  .  .  .  .  .  .  .  .  . \n",
      "\n",
      "(4,1)------->>>(5,2)\n",
      "*     1  2  3  4  5  6  7  8  9  10\n",
      " 1|  .  .  .  .  .  .  .  .  .  . \n",
      " 2|  .  .  .  .  .  .  .  .  .  . \n",
      " 3|  .  .  .  .  .  .  .  B  .  . \n",
      " 4|  .  .  .  .  .  .  .  .  .  . \n",
      " 5|  .  W  .  .  .  .  .  .  .  W \n",
      " 6|  B  .  .  .  W  .  .  .  W  . \n",
      " 7|  .  W  .  .  .  W  .  W  .  W \n",
      " 8|  .  .  W  .  .  .  .  .  .  . \n",
      " 9|  .  .  .  .  .  .  .  .  .  . \n",
      "10|  .  .  .  .  .  .  .  .  .  . \n",
      "\n",
      "(6,1)------->>>(4,3)\n",
      "*     1  2  3  4  5  6  7  8  9  10\n",
      " 1|  .  .  .  .  .  .  .  .  .  . \n",
      " 2|  .  .  .  .  .  .  .  .  .  . \n",
      " 3|  .  .  .  .  .  .  .  B  .  . \n",
      " 4|  .  .  B  .  .  .  .  .  .  . \n",
      " 5|  .  .  .  .  .  .  .  .  .  W \n",
      " 6|  .  .  .  .  W  .  .  .  W  . \n",
      " 7|  .  W  .  .  .  W  .  W  .  W \n",
      " 8|  .  .  W  .  .  .  .  .  .  . \n",
      " 9|  .  .  .  .  .  .  .  .  .  . \n",
      "10|  .  .  .  .  .  .  .  .  .  . \n",
      "\n",
      "(7,2)------->>>(6,3)\n",
      "*     1  2  3  4  5  6  7  8  9  10\n",
      " 1|  .  .  .  .  .  .  .  .  .  . \n",
      " 2|  .  .  .  .  .  .  .  .  .  . \n",
      " 3|  .  .  .  .  .  .  .  B  .  . \n",
      " 4|  .  .  B  .  .  .  .  .  .  . \n",
      " 5|  .  .  .  .  .  .  .  .  .  W \n",
      " 6|  .  .  W  .  W  .  .  .  W  . \n",
      " 7|  .  .  .  .  .  W  .  W  .  W \n",
      " 8|  .  .  W  .  .  .  .  .  .  . \n",
      " 9|  .  .  .  .  .  .  .  .  .  . \n",
      "10|  .  .  .  .  .  .  .  .  .  . \n",
      "\n",
      "(4,3)------->>>(5,2)\n",
      "*     1  2  3  4  5  6  7  8  9  10\n",
      " 1|  .  .  .  .  .  .  .  .  .  . \n",
      " 2|  .  .  .  .  .  .  .  .  .  . \n",
      " 3|  .  .  .  .  .  .  .  B  .  . \n",
      " 4|  .  .  .  .  .  .  .  .  .  . \n",
      " 5|  .  B  .  .  .  .  .  .  .  W \n",
      " 6|  .  .  W  .  W  .  .  .  W  . \n",
      " 7|  .  .  .  .  .  W  .  W  .  W \n",
      " 8|  .  .  W  .  .  .  .  .  .  . \n",
      " 9|  .  .  .  .  .  .  .  .  .  . \n",
      "10|  .  .  .  .  .  .  .  .  .  . \n",
      "\n",
      "(6,3)------->>>(4,1)\n",
      "*     1  2  3  4  5  6  7  8  9  10\n",
      " 1|  .  .  .  .  .  .  .  .  .  . \n",
      " 2|  .  .  .  .  .  .  .  .  .  . \n",
      " 3|  .  .  .  .  .  .  .  B  .  . \n",
      " 4|  W  .  .  .  .  .  .  .  .  . \n",
      " 5|  .  .  .  .  .  .  .  .  .  W \n",
      " 6|  .  .  .  .  W  .  .  .  W  . \n",
      " 7|  .  .  .  .  .  W  .  W  .  W \n",
      " 8|  .  .  W  .  .  .  .  .  .  . \n",
      " 9|  .  .  .  .  .  .  .  .  .  . \n",
      "10|  .  .  .  .  .  .  .  .  .  . \n",
      "\n",
      "(3,8)------->>>(4,9)\n",
      "*     1  2  3  4  5  6  7  8  9  10\n",
      " 1|  .  .  .  .  .  .  .  .  .  . \n",
      " 2|  .  .  .  .  .  .  .  .  .  . \n",
      " 3|  .  .  .  .  .  .  .  .  .  . \n",
      " 4|  W  .  .  .  .  .  .  .  B  . \n",
      " 5|  .  .  .  .  .  .  .  .  .  W \n",
      " 6|  .  .  .  .  W  .  .  .  W  . \n",
      " 7|  .  .  .  .  .  W  .  W  .  W \n",
      " 8|  .  .  W  .  .  .  .  .  .  . \n",
      " 9|  .  .  .  .  .  .  .  .  .  . \n",
      "10|  .  .  .  .  .  .  .  .  .  . \n",
      "\n",
      "(5,10)------->>>(3,8)\n",
      "*"
     ]
    }
   ],
   "source": [
    "try:\n",
    "    playground.self_play()\n",
    "except RejectedAction as e:\n",
    "    print(e)"
   ]
  },
  {
   "cell_type": "code",
   "execution_count": null,
   "metadata": {},
   "outputs": [],
   "source": []
  },
  {
   "cell_type": "code",
   "execution_count": null,
   "metadata": {},
   "outputs": [],
   "source": []
  },
  {
   "cell_type": "code",
   "execution_count": null,
   "metadata": {},
   "outputs": [],
   "source": []
  },
  {
   "cell_type": "code",
   "execution_count": null,
   "metadata": {},
   "outputs": [],
   "source": []
  },
  {
   "cell_type": "code",
   "execution_count": null,
   "metadata": {},
   "outputs": [],
   "source": []
  },
  {
   "cell_type": "code",
   "execution_count": null,
   "metadata": {},
   "outputs": [],
   "source": []
  },
  {
   "cell_type": "code",
   "execution_count": null,
   "metadata": {},
   "outputs": [],
   "source": []
  },
  {
   "cell_type": "code",
   "execution_count": null,
   "metadata": {},
   "outputs": [],
   "source": []
  },
  {
   "cell_type": "code",
   "execution_count": null,
   "metadata": {},
   "outputs": [],
   "source": []
  },
  {
   "cell_type": "code",
   "execution_count": null,
   "metadata": {},
   "outputs": [],
   "source": []
  },
  {
   "cell_type": "code",
   "execution_count": null,
   "metadata": {},
   "outputs": [],
   "source": []
  },
  {
   "cell_type": "code",
   "execution_count": null,
   "metadata": {},
   "outputs": [],
   "source": []
  },
  {
   "cell_type": "code",
   "execution_count": null,
   "metadata": {},
   "outputs": [],
   "source": []
  },
  {
   "cell_type": "code",
   "execution_count": null,
   "metadata": {},
   "outputs": [],
   "source": []
  },
  {
   "cell_type": "code",
   "execution_count": null,
   "metadata": {},
   "outputs": [],
   "source": []
  },
  {
   "cell_type": "code",
   "execution_count": null,
   "metadata": {},
   "outputs": [],
   "source": []
  },
  {
   "cell_type": "code",
   "execution_count": 259,
   "metadata": {},
   "outputs": [],
   "source": [
    "def calc_expected_score(old_rate, opp_rate):\n",
    "    res = 1 + 10**((opp_rate - old_rate) / 400)\n",
    "    return 1 / res\n",
    "\n",
    "def calc_K(rate):\n",
    "    if rate < 2100:\n",
    "        return 32\n",
    "    if 2200 <= rate < 2400:\n",
    "        return 24\n",
    "    return 16\n",
    "\n",
    "def calc_score(player_number, outcome):\n",
    "    if outcome == 0:\n",
    "        return 0.5\n",
    "    if outcome == player_number:\n",
    "        return 1\n",
    "    return 0\n",
    "\n",
    "def calc_new_rate(player1_rate, player2_rate, outcome):\n",
    "    player1_rate += calc_K(player1_rate) * (calc_score(1, outcome) - calc_expected_score(player1_rate, player2_rate))\n",
    "    player2_rate += calc_K(player2_rate) * (calc_score(2, outcome) - calc_expected_score(player2_rate, player1_rate))\n",
    "    return int(player1_rate), int(player2_rate)"
   ]
  },
  {
   "cell_type": "code",
   "execution_count": 253,
   "metadata": {},
   "outputs": [
    {
     "name": "stdout",
     "output_type": "stream",
     "text": [
      "1601.2698768627572\n"
     ]
    }
   ],
   "source": [
    "player_score = calc_score(1, 2) + calc_score(1, 0) + calc_score(1, 1) + calc_score(1, 1) + calc_score(1, 2)\n",
    "player_expected_score = calc_expected_score(1613, 1609) + calc_expected_score(1613, 1477) + calc_expected_score(1613, 1388) + calc_expected_score(1613, 1586) + calc_expected_score(1613, 1720)\n",
    "player_new_rate = 1613 + calc_K(1613) * (player_score - player_expected_score)\n",
    "print(player_new_rate)\n",
    "#1601"
   ]
  },
  {
   "cell_type": "code",
   "execution_count": 254,
   "metadata": {},
   "outputs": [],
   "source": [
    "import numpy as np\n",
    "import random\n",
    "        "
   ]
  },
  {
   "cell_type": "code",
   "execution_count": 331,
   "metadata": {},
   "outputs": [
    {
     "data": {
      "text/html": [
       "<div>\n",
       "<style scoped>\n",
       "    .dataframe tbody tr th:only-of-type {\n",
       "        vertical-align: middle;\n",
       "    }\n",
       "\n",
       "    .dataframe tbody tr th {\n",
       "        vertical-align: top;\n",
       "    }\n",
       "\n",
       "    .dataframe thead th {\n",
       "        text-align: right;\n",
       "    }\n",
       "</style>\n",
       "<table border=\"1\" class=\"dataframe\">\n",
       "  <thead>\n",
       "    <tr style=\"text-align: right;\">\n",
       "      <th></th>\n",
       "      <th>signup_date</th>\n",
       "      <th>rate</th>\n",
       "      <th>international_win</th>\n",
       "      <th>international_lose</th>\n",
       "      <th>international_draw</th>\n",
       "      <th>turkish_win</th>\n",
       "      <th>turkish_lose</th>\n",
       "      <th>turkish_draw</th>\n",
       "      <th>sessions</th>\n",
       "      <th>longest_session</th>\n",
       "    </tr>\n",
       "    <tr>\n",
       "      <th>player_id</th>\n",
       "      <th></th>\n",
       "      <th></th>\n",
       "      <th></th>\n",
       "      <th></th>\n",
       "      <th></th>\n",
       "      <th></th>\n",
       "      <th></th>\n",
       "      <th></th>\n",
       "      <th></th>\n",
       "      <th></th>\n",
       "    </tr>\n",
       "  </thead>\n",
       "  <tbody>\n",
       "    <tr>\n",
       "      <th>0</th>\n",
       "      <td>5/8/2015</td>\n",
       "      <td>1600</td>\n",
       "      <td>1</td>\n",
       "      <td>1</td>\n",
       "      <td>1</td>\n",
       "      <td>1</td>\n",
       "      <td>1</td>\n",
       "      <td>1</td>\n",
       "      <td>1</td>\n",
       "      <td>30</td>\n",
       "    </tr>\n",
       "    <tr>\n",
       "      <th>1</th>\n",
       "      <td>5/8/2015</td>\n",
       "      <td>1600</td>\n",
       "      <td>1</td>\n",
       "      <td>1</td>\n",
       "      <td>1</td>\n",
       "      <td>1</td>\n",
       "      <td>1</td>\n",
       "      <td>1</td>\n",
       "      <td>1</td>\n",
       "      <td>30</td>\n",
       "    </tr>\n",
       "  </tbody>\n",
       "</table>\n",
       "</div>"
      ],
      "text/plain": [
       "          signup_date  rate  international_win  international_lose  \\\n",
       "player_id                                                            \n",
       "0            5/8/2015  1600                  1                   1   \n",
       "1            5/8/2015  1600                  1                   1   \n",
       "\n",
       "           international_draw  turkish_win  turkish_lose  turkish_draw  \\\n",
       "player_id                                                                \n",
       "0                           1            1             1             1   \n",
       "1                           1            1             1             1   \n",
       "\n",
       "           sessions  longest_session  \n",
       "player_id                             \n",
       "0                 1               30  \n",
       "1                 1               30  "
      ]
     },
     "execution_count": 331,
     "metadata": {},
     "output_type": "execute_result"
    }
   ],
   "source": [
    "import pandas as pd\n",
    "df = pd.read_csv('usersData.csv')\n",
    "df.index.name = 'player_id'\n",
    "df"
   ]
  },
  {
   "cell_type": "code",
   "execution_count": null,
   "metadata": {},
   "outputs": [],
   "source": []
  },
  {
   "cell_type": "code",
   "execution_count": 332,
   "metadata": {},
   "outputs": [
    {
     "data": {
      "text/html": [
       "<div>\n",
       "<style scoped>\n",
       "    .dataframe tbody tr th:only-of-type {\n",
       "        vertical-align: middle;\n",
       "    }\n",
       "\n",
       "    .dataframe tbody tr th {\n",
       "        vertical-align: top;\n",
       "    }\n",
       "\n",
       "    .dataframe thead th {\n",
       "        text-align: right;\n",
       "    }\n",
       "</style>\n",
       "<table border=\"1\" class=\"dataframe\">\n",
       "  <thead>\n",
       "    <tr style=\"text-align: right;\">\n",
       "      <th></th>\n",
       "      <th>signup_date</th>\n",
       "      <th>rate</th>\n",
       "      <th>international_win</th>\n",
       "      <th>international_lose</th>\n",
       "      <th>international_draw</th>\n",
       "      <th>turkish_win</th>\n",
       "      <th>turkish_lose</th>\n",
       "      <th>turkish_draw</th>\n",
       "      <th>sessions</th>\n",
       "      <th>longest_session</th>\n",
       "    </tr>\n",
       "  </thead>\n",
       "  <tbody>\n",
       "    <tr>\n",
       "      <th>0</th>\n",
       "      <td>5/8/2015</td>\n",
       "      <td>1600</td>\n",
       "      <td>1</td>\n",
       "      <td>1</td>\n",
       "      <td>1</td>\n",
       "      <td>1</td>\n",
       "      <td>1</td>\n",
       "      <td>1</td>\n",
       "      <td>1</td>\n",
       "      <td>30</td>\n",
       "    </tr>\n",
       "    <tr>\n",
       "      <th>1</th>\n",
       "      <td>5/8/2015</td>\n",
       "      <td>1600</td>\n",
       "      <td>1</td>\n",
       "      <td>1</td>\n",
       "      <td>1</td>\n",
       "      <td>1</td>\n",
       "      <td>1</td>\n",
       "      <td>1</td>\n",
       "      <td>1</td>\n",
       "      <td>30</td>\n",
       "    </tr>\n",
       "    <tr>\n",
       "      <th>2</th>\n",
       "      <td>2020-02-13</td>\n",
       "      <td>1600</td>\n",
       "      <td>1</td>\n",
       "      <td>1</td>\n",
       "      <td>1</td>\n",
       "      <td>1</td>\n",
       "      <td>1</td>\n",
       "      <td>1</td>\n",
       "      <td>1</td>\n",
       "      <td>30</td>\n",
       "    </tr>\n",
       "    <tr>\n",
       "      <th>3</th>\n",
       "      <td>2020-03-15</td>\n",
       "      <td>1600</td>\n",
       "      <td>1</td>\n",
       "      <td>1</td>\n",
       "      <td>1</td>\n",
       "      <td>1</td>\n",
       "      <td>1</td>\n",
       "      <td>1</td>\n",
       "      <td>1</td>\n",
       "      <td>30</td>\n",
       "    </tr>\n",
       "    <tr>\n",
       "      <th>4</th>\n",
       "      <td>2020-04-23</td>\n",
       "      <td>1600</td>\n",
       "      <td>1</td>\n",
       "      <td>1</td>\n",
       "      <td>1</td>\n",
       "      <td>1</td>\n",
       "      <td>1</td>\n",
       "      <td>1</td>\n",
       "      <td>1</td>\n",
       "      <td>30</td>\n",
       "    </tr>\n",
       "  </tbody>\n",
       "</table>\n",
       "</div>"
      ],
      "text/plain": [
       "  signup_date  rate  international_win  international_lose  \\\n",
       "0    5/8/2015  1600                  1                   1   \n",
       "1    5/8/2015  1600                  1                   1   \n",
       "2  2020-02-13  1600                  1                   1   \n",
       "3  2020-03-15  1600                  1                   1   \n",
       "4  2020-04-23  1600                  1                   1   \n",
       "\n",
       "   international_draw  turkish_win  turkish_lose  turkish_draw  sessions  \\\n",
       "0                   1            1             1             1         1   \n",
       "1                   1            1             1             1         1   \n",
       "2                   1            1             1             1         1   \n",
       "3                   1            1             1             1         1   \n",
       "4                   1            1             1             1         1   \n",
       "\n",
       "   longest_session  \n",
       "0               30  \n",
       "1               30  \n",
       "2               30  \n",
       "3               30  \n",
       "4               30  "
      ]
     },
     "execution_count": 332,
     "metadata": {},
     "output_type": "execute_result"
    }
   ],
   "source": [
    "import datetime\n",
    "from dateutil.relativedelta import relativedelta\n",
    "\n",
    "for i in range(0, 98):\n",
    "    signup_date = (datetime.datetime.now() - relativedelta(days=random.randint(1, 30), months=random.randint(1, 3))).date()\n",
    "    df = df.append({\n",
    "        'signup_date':signup_date,\n",
    "        'rate':1600,\n",
    "        'international_win':1,\n",
    "        'international_lose':1,\n",
    "        'international_draw':1,\n",
    "        'turkish_win':1,\n",
    "        'turkish_lose':1,\n",
    "        'turkish_draw':1,\n",
    "        'sessions':1,\n",
    "        'longest_session':30,\n",
    "    },ignore_index=True)\n",
    "df.head()"
   ]
  },
  {
   "cell_type": "code",
   "execution_count": 354,
   "metadata": {},
   "outputs": [
    {
     "name": "stdout",
     "output_type": "stream",
     "text": [
      "<class 'pandas.core.frame.DataFrame'>\n",
      "RangeIndex: 100 entries, 0 to 99\n",
      "Data columns (total 10 columns):\n",
      " #   Column              Non-Null Count  Dtype \n",
      "---  ------              --------------  ----- \n",
      " 0   signup_date         100 non-null    object\n",
      " 1   rate                100 non-null    int64 \n",
      " 2   international_win   100 non-null    int64 \n",
      " 3   international_lose  100 non-null    int64 \n",
      " 4   international_draw  100 non-null    int64 \n",
      " 5   turkish_win         100 non-null    int64 \n",
      " 6   turkish_lose        100 non-null    int64 \n",
      " 7   turkish_draw        100 non-null    int64 \n",
      " 8   sessions            100 non-null    int64 \n",
      " 9   longest_session     100 non-null    int64 \n",
      "dtypes: int64(9), object(1)\n",
      "memory usage: 7.9+ KB\n"
     ]
    }
   ],
   "source": [
    "df.info()"
   ]
  },
  {
   "cell_type": "code",
   "execution_count": 355,
   "metadata": {},
   "outputs": [],
   "source": [
    "indices = [i for i in range(0, 100)]"
   ]
  },
  {
   "cell_type": "code",
   "execution_count": 367,
   "metadata": {},
   "outputs": [
    {
     "data": {
      "text/html": [
       "<div>\n",
       "<style scoped>\n",
       "    .dataframe tbody tr th:only-of-type {\n",
       "        vertical-align: middle;\n",
       "    }\n",
       "\n",
       "    .dataframe tbody tr th {\n",
       "        vertical-align: top;\n",
       "    }\n",
       "\n",
       "    .dataframe thead th {\n",
       "        text-align: right;\n",
       "    }\n",
       "</style>\n",
       "<table border=\"1\" class=\"dataframe\">\n",
       "  <thead>\n",
       "    <tr style=\"text-align: right;\">\n",
       "      <th></th>\n",
       "      <th>signup_date</th>\n",
       "      <th>rate</th>\n",
       "      <th>international_win</th>\n",
       "      <th>international_lose</th>\n",
       "      <th>international_draw</th>\n",
       "      <th>turkish_win</th>\n",
       "      <th>turkish_lose</th>\n",
       "      <th>turkish_draw</th>\n",
       "      <th>sessions</th>\n",
       "      <th>longest_session</th>\n",
       "    </tr>\n",
       "  </thead>\n",
       "  <tbody>\n",
       "    <tr>\n",
       "      <th>0</th>\n",
       "      <td>5/8/2015</td>\n",
       "      <td>1154</td>\n",
       "      <td>310</td>\n",
       "      <td>394</td>\n",
       "      <td>30</td>\n",
       "      <td>295</td>\n",
       "      <td>391</td>\n",
       "      <td>35</td>\n",
       "      <td>1</td>\n",
       "      <td>30</td>\n",
       "    </tr>\n",
       "    <tr>\n",
       "      <th>1</th>\n",
       "      <td>5/8/2015</td>\n",
       "      <td>991</td>\n",
       "      <td>435</td>\n",
       "      <td>292</td>\n",
       "      <td>31</td>\n",
       "      <td>407</td>\n",
       "      <td>325</td>\n",
       "      <td>26</td>\n",
       "      <td>1</td>\n",
       "      <td>30</td>\n",
       "    </tr>\n",
       "    <tr>\n",
       "      <th>2</th>\n",
       "      <td>2020-02-13</td>\n",
       "      <td>803</td>\n",
       "      <td>304</td>\n",
       "      <td>434</td>\n",
       "      <td>27</td>\n",
       "      <td>330</td>\n",
       "      <td>373</td>\n",
       "      <td>28</td>\n",
       "      <td>1</td>\n",
       "      <td>30</td>\n",
       "    </tr>\n",
       "    <tr>\n",
       "      <th>3</th>\n",
       "      <td>2020-03-15</td>\n",
       "      <td>1236</td>\n",
       "      <td>425</td>\n",
       "      <td>296</td>\n",
       "      <td>27</td>\n",
       "      <td>392</td>\n",
       "      <td>315</td>\n",
       "      <td>36</td>\n",
       "      <td>1</td>\n",
       "      <td>30</td>\n",
       "    </tr>\n",
       "    <tr>\n",
       "      <th>4</th>\n",
       "      <td>2020-04-23</td>\n",
       "      <td>1765</td>\n",
       "      <td>349</td>\n",
       "      <td>352</td>\n",
       "      <td>25</td>\n",
       "      <td>330</td>\n",
       "      <td>338</td>\n",
       "      <td>24</td>\n",
       "      <td>1</td>\n",
       "      <td>30</td>\n",
       "    </tr>\n",
       "  </tbody>\n",
       "</table>\n",
       "</div>"
      ],
      "text/plain": [
       "  signup_date  rate  international_win  international_lose  \\\n",
       "0    5/8/2015  1154                310                 394   \n",
       "1    5/8/2015   991                435                 292   \n",
       "2  2020-02-13   803                304                 434   \n",
       "3  2020-03-15  1236                425                 296   \n",
       "4  2020-04-23  1765                349                 352   \n",
       "\n",
       "   international_draw  turkish_win  turkish_lose  turkish_draw  sessions  \\\n",
       "0                  30          295           391            35         1   \n",
       "1                  31          407           325            26         1   \n",
       "2                  27          330           373            28         1   \n",
       "3                  27          392           315            36         1   \n",
       "4                  25          330           338            24         1   \n",
       "\n",
       "   longest_session  \n",
       "0               30  \n",
       "1               30  \n",
       "2               30  \n",
       "3               30  \n",
       "4               30  "
      ]
     },
     "execution_count": 367,
     "metadata": {},
     "output_type": "execute_result"
    }
   ],
   "source": [
    "\n",
    "\n",
    "def modify(index, df, new_rate, outcome, player_number, mode):\n",
    "    df.loc[index, 'rate'] = max(new_rate, 150)\n",
    "    if mode == 1:\n",
    "        if outcome == player_number:\n",
    "            df.loc[index, 'international_win'] += 1\n",
    "        elif outcome == 0:\n",
    "            df.loc[index, 'international_draw'] += 1\n",
    "        else:\n",
    "            df.loc[index, 'international_lose'] += 1\n",
    "    else:\n",
    "        if outcome == player_number:\n",
    "            df.loc[index, 'turkish_win'] +=  1\n",
    "        elif outcome == 0:\n",
    "            df.loc[index, 'turkish_draw'] += 1\n",
    "        else:\n",
    "            df.loc[index, 'turkish_lose'] += 1\n",
    "            \n",
    "for i in range(5000):\n",
    "    if i == 0:\n",
    "        random.shuffle(lossingside)\n",
    "        \n",
    "    mode = random.randint(0,1)\n",
    "\n",
    "    player1_idx = winningside[i % len(winningside)]\n",
    "    player2_idx = lossingside[i % len(lossingside)]\n",
    "\n",
    "    player1_rate = df['rate'].iloc[player1_idx]\n",
    "    player2_rate = df['rate'].iloc[player2_idx]\n",
    "    outcome = 1\n",
    "    \"\"\"\n",
    "    \n",
    "    player1_idx = indices[i % 97 + 2]\n",
    "    player2_idx = indices[i % 97 + 3]\n",
    "\n",
    "    player1_rate = df['rate'].iloc[player1_idx]\n",
    "    player2_rate = df['rate'].iloc[player2_idx]\n",
    "    \n",
    "    index = indices[i % 97 + 2] if player1_rate > player2_rate else indices[i % 97 + 3]\n",
    "\n",
    "    outcome = random.choices([0, 1, 2], [cnt_draw, cnt_win, cnt_lose])[0]\n",
    "    \"\"\"\n",
    "\n",
    "    \n",
    "    player1_rate, player2_rate = calc_new_rate(player1_rate, player2_rate, outcome)\n",
    "    modify(player1_idx, df, player1_rate, outcome, 1, mode)\n",
    "    modify(player2_idx, df, player2_rate, outcome, 2, mode)\n",
    "\n",
    "df.head()"
   ]
  },
  {
   "cell_type": "code",
   "execution_count": 304,
   "metadata": {},
   "outputs": [
    {
     "data": {
      "text/html": [
       "<div>\n",
       "<style scoped>\n",
       "    .dataframe tbody tr th:only-of-type {\n",
       "        vertical-align: middle;\n",
       "    }\n",
       "\n",
       "    .dataframe tbody tr th {\n",
       "        vertical-align: top;\n",
       "    }\n",
       "\n",
       "    .dataframe thead th {\n",
       "        text-align: right;\n",
       "    }\n",
       "</style>\n",
       "<table border=\"1\" class=\"dataframe\">\n",
       "  <thead>\n",
       "    <tr style=\"text-align: right;\">\n",
       "      <th></th>\n",
       "      <th>signup_date</th>\n",
       "      <th>rate</th>\n",
       "      <th>international_win</th>\n",
       "      <th>international_lose</th>\n",
       "      <th>international_draw</th>\n",
       "      <th>turkish_win</th>\n",
       "      <th>turkish_lose</th>\n",
       "      <th>turkish_draw</th>\n",
       "      <th>sessions</th>\n",
       "      <th>longest_session</th>\n",
       "    </tr>\n",
       "    <tr>\n",
       "      <th>player_id</th>\n",
       "      <th></th>\n",
       "      <th></th>\n",
       "      <th></th>\n",
       "      <th></th>\n",
       "      <th></th>\n",
       "      <th></th>\n",
       "      <th></th>\n",
       "      <th></th>\n",
       "      <th></th>\n",
       "      <th></th>\n",
       "    </tr>\n",
       "  </thead>\n",
       "  <tbody>\n",
       "    <tr>\n",
       "      <th>0</th>\n",
       "      <td>2020-05-08</td>\n",
       "      <td>1810</td>\n",
       "      <td>335</td>\n",
       "      <td>99</td>\n",
       "      <td>1</td>\n",
       "      <td>273</td>\n",
       "      <td>97</td>\n",
       "      <td>1</td>\n",
       "      <td>1</td>\n",
       "      <td>30</td>\n",
       "    </tr>\n",
       "    <tr>\n",
       "      <th>1</th>\n",
       "      <td>2020-05-08</td>\n",
       "      <td>1343</td>\n",
       "      <td>190</td>\n",
       "      <td>187</td>\n",
       "      <td>1</td>\n",
       "      <td>210</td>\n",
       "      <td>217</td>\n",
       "      <td>1</td>\n",
       "      <td>1</td>\n",
       "      <td>30</td>\n",
       "    </tr>\n",
       "    <tr>\n",
       "      <th>2</th>\n",
       "      <td>2020-01-28</td>\n",
       "      <td>1444</td>\n",
       "      <td>214</td>\n",
       "      <td>183</td>\n",
       "      <td>1</td>\n",
       "      <td>200</td>\n",
       "      <td>207</td>\n",
       "      <td>1</td>\n",
       "      <td>1</td>\n",
       "      <td>30</td>\n",
       "    </tr>\n",
       "    <tr>\n",
       "      <th>3</th>\n",
       "      <td>2020-04-22</td>\n",
       "      <td>1336</td>\n",
       "      <td>216</td>\n",
       "      <td>192</td>\n",
       "      <td>1</td>\n",
       "      <td>198</td>\n",
       "      <td>198</td>\n",
       "      <td>1</td>\n",
       "      <td>1</td>\n",
       "      <td>30</td>\n",
       "    </tr>\n",
       "    <tr>\n",
       "      <th>4</th>\n",
       "      <td>2020-02-28</td>\n",
       "      <td>1682</td>\n",
       "      <td>190</td>\n",
       "      <td>184</td>\n",
       "      <td>1</td>\n",
       "      <td>198</td>\n",
       "      <td>232</td>\n",
       "      <td>1</td>\n",
       "      <td>1</td>\n",
       "      <td>30</td>\n",
       "    </tr>\n",
       "  </tbody>\n",
       "</table>\n",
       "</div>"
      ],
      "text/plain": [
       "          signup_date  rate  international_win  international_lose  \\\n",
       "player_id                                                            \n",
       "0          2020-05-08  1810                335                  99   \n",
       "1          2020-05-08  1343                190                 187   \n",
       "2          2020-01-28  1444                214                 183   \n",
       "3          2020-04-22  1336                216                 192   \n",
       "4          2020-02-28  1682                190                 184   \n",
       "\n",
       "           international_draw  turkish_win  turkish_lose  turkish_draw  \\\n",
       "player_id                                                                \n",
       "0                           1          273            97             1   \n",
       "1                           1          210           217             1   \n",
       "2                           1          200           207             1   \n",
       "3                           1          198           198             1   \n",
       "4                           1          198           232             1   \n",
       "\n",
       "           sessions  longest_session  \n",
       "player_id                             \n",
       "0                 1               30  \n",
       "1                 1               30  \n",
       "2                 1               30  \n",
       "3                 1               30  \n",
       "4                 1               30  "
      ]
     },
     "execution_count": 304,
     "metadata": {},
     "output_type": "execute_result"
    }
   ],
   "source": [
    "df = pd.read_csv('data/users.csv')\n",
    "df.index.name = 'player_id'\n",
    "df.head()"
   ]
  },
  {
   "cell_type": "code",
   "execution_count": 368,
   "metadata": {},
   "outputs": [
    {
     "data": {
      "text/plain": [
       "2064"
      ]
     },
     "execution_count": 368,
     "metadata": {},
     "output_type": "execute_result"
    }
   ],
   "source": [
    "max(df.rate)"
   ]
  },
  {
   "cell_type": "code",
   "execution_count": 369,
   "metadata": {},
   "outputs": [
    {
     "data": {
      "text/html": [
       "<div>\n",
       "<style scoped>\n",
       "    .dataframe tbody tr th:only-of-type {\n",
       "        vertical-align: middle;\n",
       "    }\n",
       "\n",
       "    .dataframe tbody tr th {\n",
       "        vertical-align: top;\n",
       "    }\n",
       "\n",
       "    .dataframe thead th {\n",
       "        text-align: right;\n",
       "    }\n",
       "</style>\n",
       "<table border=\"1\" class=\"dataframe\">\n",
       "  <thead>\n",
       "    <tr style=\"text-align: right;\">\n",
       "      <th></th>\n",
       "      <th>signup_date</th>\n",
       "      <th>rate</th>\n",
       "      <th>international_win</th>\n",
       "      <th>international_lose</th>\n",
       "      <th>international_draw</th>\n",
       "      <th>turkish_win</th>\n",
       "      <th>turkish_lose</th>\n",
       "      <th>turkish_draw</th>\n",
       "      <th>sessions</th>\n",
       "      <th>longest_session</th>\n",
       "    </tr>\n",
       "  </thead>\n",
       "  <tbody>\n",
       "    <tr>\n",
       "      <th>0</th>\n",
       "      <td>5/8/2015</td>\n",
       "      <td>1154</td>\n",
       "      <td>310</td>\n",
       "      <td>394</td>\n",
       "      <td>30</td>\n",
       "      <td>295</td>\n",
       "      <td>391</td>\n",
       "      <td>35</td>\n",
       "      <td>1</td>\n",
       "      <td>30</td>\n",
       "    </tr>\n",
       "    <tr>\n",
       "      <th>1</th>\n",
       "      <td>5/8/2015</td>\n",
       "      <td>991</td>\n",
       "      <td>435</td>\n",
       "      <td>292</td>\n",
       "      <td>31</td>\n",
       "      <td>407</td>\n",
       "      <td>325</td>\n",
       "      <td>26</td>\n",
       "      <td>1</td>\n",
       "      <td>30</td>\n",
       "    </tr>\n",
       "    <tr>\n",
       "      <th>2</th>\n",
       "      <td>2020-02-13</td>\n",
       "      <td>803</td>\n",
       "      <td>304</td>\n",
       "      <td>434</td>\n",
       "      <td>27</td>\n",
       "      <td>330</td>\n",
       "      <td>373</td>\n",
       "      <td>28</td>\n",
       "      <td>1</td>\n",
       "      <td>30</td>\n",
       "    </tr>\n",
       "    <tr>\n",
       "      <th>3</th>\n",
       "      <td>2020-03-15</td>\n",
       "      <td>1236</td>\n",
       "      <td>425</td>\n",
       "      <td>296</td>\n",
       "      <td>27</td>\n",
       "      <td>392</td>\n",
       "      <td>315</td>\n",
       "      <td>36</td>\n",
       "      <td>1</td>\n",
       "      <td>30</td>\n",
       "    </tr>\n",
       "    <tr>\n",
       "      <th>4</th>\n",
       "      <td>2020-04-23</td>\n",
       "      <td>1765</td>\n",
       "      <td>349</td>\n",
       "      <td>352</td>\n",
       "      <td>25</td>\n",
       "      <td>330</td>\n",
       "      <td>338</td>\n",
       "      <td>24</td>\n",
       "      <td>1</td>\n",
       "      <td>30</td>\n",
       "    </tr>\n",
       "    <tr>\n",
       "      <th>...</th>\n",
       "      <td>...</td>\n",
       "      <td>...</td>\n",
       "      <td>...</td>\n",
       "      <td>...</td>\n",
       "      <td>...</td>\n",
       "      <td>...</td>\n",
       "      <td>...</td>\n",
       "      <td>...</td>\n",
       "      <td>...</td>\n",
       "      <td>...</td>\n",
       "    </tr>\n",
       "    <tr>\n",
       "      <th>95</th>\n",
       "      <td>2020-01-28</td>\n",
       "      <td>531</td>\n",
       "      <td>335</td>\n",
       "      <td>296</td>\n",
       "      <td>19</td>\n",
       "      <td>354</td>\n",
       "      <td>317</td>\n",
       "      <td>27</td>\n",
       "      <td>1</td>\n",
       "      <td>30</td>\n",
       "    </tr>\n",
       "    <tr>\n",
       "      <th>96</th>\n",
       "      <td>2020-03-26</td>\n",
       "      <td>917</td>\n",
       "      <td>256</td>\n",
       "      <td>395</td>\n",
       "      <td>31</td>\n",
       "      <td>233</td>\n",
       "      <td>441</td>\n",
       "      <td>24</td>\n",
       "      <td>1</td>\n",
       "      <td>30</td>\n",
       "    </tr>\n",
       "    <tr>\n",
       "      <th>97</th>\n",
       "      <td>2020-02-20</td>\n",
       "      <td>492</td>\n",
       "      <td>368</td>\n",
       "      <td>327</td>\n",
       "      <td>27</td>\n",
       "      <td>365</td>\n",
       "      <td>306</td>\n",
       "      <td>26</td>\n",
       "      <td>1</td>\n",
       "      <td>30</td>\n",
       "    </tr>\n",
       "    <tr>\n",
       "      <th>98</th>\n",
       "      <td>2020-03-01</td>\n",
       "      <td>934</td>\n",
       "      <td>279</td>\n",
       "      <td>425</td>\n",
       "      <td>28</td>\n",
       "      <td>269</td>\n",
       "      <td>412</td>\n",
       "      <td>22</td>\n",
       "      <td>1</td>\n",
       "      <td>30</td>\n",
       "    </tr>\n",
       "    <tr>\n",
       "      <th>99</th>\n",
       "      <td>2020-03-06</td>\n",
       "      <td>1287</td>\n",
       "      <td>242</td>\n",
       "      <td>341</td>\n",
       "      <td>29</td>\n",
       "      <td>293</td>\n",
       "      <td>345</td>\n",
       "      <td>29</td>\n",
       "      <td>1</td>\n",
       "      <td>30</td>\n",
       "    </tr>\n",
       "  </tbody>\n",
       "</table>\n",
       "<p>100 rows × 10 columns</p>\n",
       "</div>"
      ],
      "text/plain": [
       "   signup_date  rate  international_win  international_lose  \\\n",
       "0     5/8/2015  1154                310                 394   \n",
       "1     5/8/2015   991                435                 292   \n",
       "2   2020-02-13   803                304                 434   \n",
       "3   2020-03-15  1236                425                 296   \n",
       "4   2020-04-23  1765                349                 352   \n",
       "..         ...   ...                ...                 ...   \n",
       "95  2020-01-28   531                335                 296   \n",
       "96  2020-03-26   917                256                 395   \n",
       "97  2020-02-20   492                368                 327   \n",
       "98  2020-03-01   934                279                 425   \n",
       "99  2020-03-06  1287                242                 341   \n",
       "\n",
       "    international_draw  turkish_win  turkish_lose  turkish_draw  sessions  \\\n",
       "0                   30          295           391            35         1   \n",
       "1                   31          407           325            26         1   \n",
       "2                   27          330           373            28         1   \n",
       "3                   27          392           315            36         1   \n",
       "4                   25          330           338            24         1   \n",
       "..                 ...          ...           ...           ...       ...   \n",
       "95                  19          354           317            27         1   \n",
       "96                  31          233           441            24         1   \n",
       "97                  27          365           306            26         1   \n",
       "98                  28          269           412            22         1   \n",
       "99                  29          293           345            29         1   \n",
       "\n",
       "    longest_session  \n",
       "0                30  \n",
       "1                30  \n",
       "2                30  \n",
       "3                30  \n",
       "4                30  \n",
       "..              ...  \n",
       "95               30  \n",
       "96               30  \n",
       "97               30  \n",
       "98               30  \n",
       "99               30  \n",
       "\n",
       "[100 rows x 10 columns]"
      ]
     },
     "execution_count": 369,
     "metadata": {},
     "output_type": "execute_result"
    }
   ],
   "source": [
    "df"
   ]
  },
  {
   "cell_type": "code",
   "execution_count": 356,
   "metadata": {},
   "outputs": [
    {
     "name": "stdout",
     "output_type": "stream",
     "text": [
      "[50, 51, 52, 53, 54, 55, 56, 57, 58, 59, 60, 61, 62, 63, 64, 65, 66, 67, 68, 69, 70, 71, 72, 73, 74, 75, 76, 77, 78, 79, 80, 81, 82, 83, 84, 85, 86, 87, 88, 89, 90, 91, 92, 93, 94, 95, 96, 97, 98, 99]\n"
     ]
    }
   ],
   "source": [
    "winningside = indices[0: 50]\n",
    "for idx in winningside:\n",
    "    indices.remove(idx)\n",
    "print(indices)"
   ]
  },
  {
   "cell_type": "code",
   "execution_count": 358,
   "metadata": {},
   "outputs": [
    {
     "data": {
      "text/html": [
       "<div>\n",
       "<style scoped>\n",
       "    .dataframe tbody tr th:only-of-type {\n",
       "        vertical-align: middle;\n",
       "    }\n",
       "\n",
       "    .dataframe tbody tr th {\n",
       "        vertical-align: top;\n",
       "    }\n",
       "\n",
       "    .dataframe thead th {\n",
       "        text-align: right;\n",
       "    }\n",
       "</style>\n",
       "<table border=\"1\" class=\"dataframe\">\n",
       "  <thead>\n",
       "    <tr style=\"text-align: right;\">\n",
       "      <th></th>\n",
       "      <th>signup_date</th>\n",
       "      <th>rate</th>\n",
       "      <th>international_win</th>\n",
       "      <th>international_lose</th>\n",
       "      <th>international_draw</th>\n",
       "      <th>turkish_win</th>\n",
       "      <th>turkish_lose</th>\n",
       "      <th>turkish_draw</th>\n",
       "      <th>sessions</th>\n",
       "      <th>longest_session</th>\n",
       "    </tr>\n",
       "  </thead>\n",
       "  <tbody>\n",
       "    <tr>\n",
       "      <th>0</th>\n",
       "      <td>5/8/2015</td>\n",
       "      <td>1226</td>\n",
       "      <td>245</td>\n",
       "      <td>328</td>\n",
       "      <td>20</td>\n",
       "      <td>228</td>\n",
       "      <td>323</td>\n",
       "      <td>21</td>\n",
       "      <td>1</td>\n",
       "      <td>30</td>\n",
       "    </tr>\n",
       "    <tr>\n",
       "      <th>1</th>\n",
       "      <td>5/8/2015</td>\n",
       "      <td>1447</td>\n",
       "      <td>363</td>\n",
       "      <td>237</td>\n",
       "      <td>19</td>\n",
       "      <td>347</td>\n",
       "      <td>247</td>\n",
       "      <td>21</td>\n",
       "      <td>1</td>\n",
       "      <td>30</td>\n",
       "    </tr>\n",
       "    <tr>\n",
       "      <th>2</th>\n",
       "      <td>2020-02-13</td>\n",
       "      <td>1234</td>\n",
       "      <td>237</td>\n",
       "      <td>364</td>\n",
       "      <td>19</td>\n",
       "      <td>265</td>\n",
       "      <td>313</td>\n",
       "      <td>16</td>\n",
       "      <td>1</td>\n",
       "      <td>30</td>\n",
       "    </tr>\n",
       "    <tr>\n",
       "      <th>3</th>\n",
       "      <td>2020-03-15</td>\n",
       "      <td>1460</td>\n",
       "      <td>348</td>\n",
       "      <td>232</td>\n",
       "      <td>16</td>\n",
       "      <td>337</td>\n",
       "      <td>242</td>\n",
       "      <td>21</td>\n",
       "      <td>1</td>\n",
       "      <td>30</td>\n",
       "    </tr>\n",
       "    <tr>\n",
       "      <th>4</th>\n",
       "      <td>2020-04-23</td>\n",
       "      <td>1191</td>\n",
       "      <td>286</td>\n",
       "      <td>352</td>\n",
       "      <td>19</td>\n",
       "      <td>261</td>\n",
       "      <td>338</td>\n",
       "      <td>20</td>\n",
       "      <td>1</td>\n",
       "      <td>30</td>\n",
       "    </tr>\n",
       "    <tr>\n",
       "      <th>...</th>\n",
       "      <td>...</td>\n",
       "      <td>...</td>\n",
       "      <td>...</td>\n",
       "      <td>...</td>\n",
       "      <td>...</td>\n",
       "      <td>...</td>\n",
       "      <td>...</td>\n",
       "      <td>...</td>\n",
       "      <td>...</td>\n",
       "      <td>...</td>\n",
       "    </tr>\n",
       "    <tr>\n",
       "      <th>95</th>\n",
       "      <td>2020-01-28</td>\n",
       "      <td>1430</td>\n",
       "      <td>335</td>\n",
       "      <td>223</td>\n",
       "      <td>17</td>\n",
       "      <td>354</td>\n",
       "      <td>246</td>\n",
       "      <td>23</td>\n",
       "      <td>1</td>\n",
       "      <td>30</td>\n",
       "    </tr>\n",
       "    <tr>\n",
       "      <th>96</th>\n",
       "      <td>2020-03-26</td>\n",
       "      <td>1234</td>\n",
       "      <td>256</td>\n",
       "      <td>332</td>\n",
       "      <td>25</td>\n",
       "      <td>233</td>\n",
       "      <td>373</td>\n",
       "      <td>20</td>\n",
       "      <td>1</td>\n",
       "      <td>30</td>\n",
       "    </tr>\n",
       "    <tr>\n",
       "      <th>97</th>\n",
       "      <td>2020-02-20</td>\n",
       "      <td>1438</td>\n",
       "      <td>368</td>\n",
       "      <td>262</td>\n",
       "      <td>21</td>\n",
       "      <td>365</td>\n",
       "      <td>244</td>\n",
       "      <td>21</td>\n",
       "      <td>1</td>\n",
       "      <td>30</td>\n",
       "    </tr>\n",
       "    <tr>\n",
       "      <th>98</th>\n",
       "      <td>2020-03-01</td>\n",
       "      <td>1270</td>\n",
       "      <td>279</td>\n",
       "      <td>360</td>\n",
       "      <td>25</td>\n",
       "      <td>269</td>\n",
       "      <td>342</td>\n",
       "      <td>19</td>\n",
       "      <td>1</td>\n",
       "      <td>30</td>\n",
       "    </tr>\n",
       "    <tr>\n",
       "      <th>99</th>\n",
       "      <td>2020-03-06</td>\n",
       "      <td>1287</td>\n",
       "      <td>242</td>\n",
       "      <td>341</td>\n",
       "      <td>29</td>\n",
       "      <td>293</td>\n",
       "      <td>345</td>\n",
       "      <td>29</td>\n",
       "      <td>1</td>\n",
       "      <td>30</td>\n",
       "    </tr>\n",
       "  </tbody>\n",
       "</table>\n",
       "<p>100 rows × 10 columns</p>\n",
       "</div>"
      ],
      "text/plain": [
       "   signup_date  rate  international_win  international_lose  \\\n",
       "0     5/8/2015  1226                245                 328   \n",
       "1     5/8/2015  1447                363                 237   \n",
       "2   2020-02-13  1234                237                 364   \n",
       "3   2020-03-15  1460                348                 232   \n",
       "4   2020-04-23  1191                286                 352   \n",
       "..         ...   ...                ...                 ...   \n",
       "95  2020-01-28  1430                335                 223   \n",
       "96  2020-03-26  1234                256                 332   \n",
       "97  2020-02-20  1438                368                 262   \n",
       "98  2020-03-01  1270                279                 360   \n",
       "99  2020-03-06  1287                242                 341   \n",
       "\n",
       "    international_draw  turkish_win  turkish_lose  turkish_draw  sessions  \\\n",
       "0                   20          228           323            21         1   \n",
       "1                   19          347           247            21         1   \n",
       "2                   19          265           313            16         1   \n",
       "3                   16          337           242            21         1   \n",
       "4                   19          261           338            20         1   \n",
       "..                 ...          ...           ...           ...       ...   \n",
       "95                  17          354           246            23         1   \n",
       "96                  25          233           373            20         1   \n",
       "97                  21          365           244            21         1   \n",
       "98                  25          269           342            19         1   \n",
       "99                  29          293           345            29         1   \n",
       "\n",
       "    longest_session  \n",
       "0                30  \n",
       "1                30  \n",
       "2                30  \n",
       "3                30  \n",
       "4                30  \n",
       "..              ...  \n",
       "95               30  \n",
       "96               30  \n",
       "97               30  \n",
       "98               30  \n",
       "99               30  \n",
       "\n",
       "[100 rows x 10 columns]"
      ]
     },
     "execution_count": 358,
     "metadata": {},
     "output_type": "execute_result"
    }
   ],
   "source": [
    "df1 = df.copy()\n",
    "df1"
   ]
  },
  {
   "cell_type": "code",
   "execution_count": 383,
   "metadata": {},
   "outputs": [],
   "source": [
    "df.to_csv('data/users.csv')"
   ]
  },
  {
   "cell_type": "code",
   "execution_count": 385,
   "metadata": {},
   "outputs": [
    {
     "data": {
      "text/html": [
       "<div>\n",
       "<style scoped>\n",
       "    .dataframe tbody tr th:only-of-type {\n",
       "        vertical-align: middle;\n",
       "    }\n",
       "\n",
       "    .dataframe tbody tr th {\n",
       "        vertical-align: top;\n",
       "    }\n",
       "\n",
       "    .dataframe thead th {\n",
       "        text-align: right;\n",
       "    }\n",
       "</style>\n",
       "<table border=\"1\" class=\"dataframe\">\n",
       "  <thead>\n",
       "    <tr style=\"text-align: right;\">\n",
       "      <th></th>\n",
       "      <th>signup_date</th>\n",
       "      <th>rate</th>\n",
       "      <th>international_win</th>\n",
       "      <th>international_lose</th>\n",
       "      <th>international_draw</th>\n",
       "      <th>turkish_win</th>\n",
       "      <th>turkish_lose</th>\n",
       "      <th>turkish_draw</th>\n",
       "      <th>sessions</th>\n",
       "      <th>longest_session</th>\n",
       "    </tr>\n",
       "  </thead>\n",
       "  <tbody>\n",
       "    <tr>\n",
       "      <th>0</th>\n",
       "      <td>5/8/2015</td>\n",
       "      <td>1154</td>\n",
       "      <td>310</td>\n",
       "      <td>394</td>\n",
       "      <td>30</td>\n",
       "      <td>295</td>\n",
       "      <td>391</td>\n",
       "      <td>35</td>\n",
       "      <td>1</td>\n",
       "      <td>30</td>\n",
       "    </tr>\n",
       "    <tr>\n",
       "      <th>1</th>\n",
       "      <td>5/8/2015</td>\n",
       "      <td>991</td>\n",
       "      <td>435</td>\n",
       "      <td>292</td>\n",
       "      <td>31</td>\n",
       "      <td>407</td>\n",
       "      <td>325</td>\n",
       "      <td>26</td>\n",
       "      <td>1</td>\n",
       "      <td>30</td>\n",
       "    </tr>\n",
       "    <tr>\n",
       "      <th>2</th>\n",
       "      <td>2020-02-13</td>\n",
       "      <td>803</td>\n",
       "      <td>304</td>\n",
       "      <td>434</td>\n",
       "      <td>27</td>\n",
       "      <td>330</td>\n",
       "      <td>373</td>\n",
       "      <td>28</td>\n",
       "      <td>1</td>\n",
       "      <td>30</td>\n",
       "    </tr>\n",
       "    <tr>\n",
       "      <th>3</th>\n",
       "      <td>2020-03-15</td>\n",
       "      <td>1236</td>\n",
       "      <td>425</td>\n",
       "      <td>296</td>\n",
       "      <td>27</td>\n",
       "      <td>392</td>\n",
       "      <td>315</td>\n",
       "      <td>36</td>\n",
       "      <td>1</td>\n",
       "      <td>30</td>\n",
       "    </tr>\n",
       "    <tr>\n",
       "      <th>4</th>\n",
       "      <td>2020-04-23</td>\n",
       "      <td>1765</td>\n",
       "      <td>349</td>\n",
       "      <td>352</td>\n",
       "      <td>25</td>\n",
       "      <td>330</td>\n",
       "      <td>338</td>\n",
       "      <td>24</td>\n",
       "      <td>1</td>\n",
       "      <td>30</td>\n",
       "    </tr>\n",
       "    <tr>\n",
       "      <th>...</th>\n",
       "      <td>...</td>\n",
       "      <td>...</td>\n",
       "      <td>...</td>\n",
       "      <td>...</td>\n",
       "      <td>...</td>\n",
       "      <td>...</td>\n",
       "      <td>...</td>\n",
       "      <td>...</td>\n",
       "      <td>...</td>\n",
       "      <td>...</td>\n",
       "    </tr>\n",
       "    <tr>\n",
       "      <th>95</th>\n",
       "      <td>2020-01-28</td>\n",
       "      <td>531</td>\n",
       "      <td>335</td>\n",
       "      <td>296</td>\n",
       "      <td>19</td>\n",
       "      <td>354</td>\n",
       "      <td>317</td>\n",
       "      <td>27</td>\n",
       "      <td>1</td>\n",
       "      <td>30</td>\n",
       "    </tr>\n",
       "    <tr>\n",
       "      <th>96</th>\n",
       "      <td>2020-03-26</td>\n",
       "      <td>917</td>\n",
       "      <td>256</td>\n",
       "      <td>395</td>\n",
       "      <td>31</td>\n",
       "      <td>233</td>\n",
       "      <td>441</td>\n",
       "      <td>24</td>\n",
       "      <td>1</td>\n",
       "      <td>30</td>\n",
       "    </tr>\n",
       "    <tr>\n",
       "      <th>97</th>\n",
       "      <td>2020-02-20</td>\n",
       "      <td>492</td>\n",
       "      <td>368</td>\n",
       "      <td>327</td>\n",
       "      <td>27</td>\n",
       "      <td>365</td>\n",
       "      <td>306</td>\n",
       "      <td>26</td>\n",
       "      <td>1</td>\n",
       "      <td>30</td>\n",
       "    </tr>\n",
       "    <tr>\n",
       "      <th>98</th>\n",
       "      <td>2020-03-01</td>\n",
       "      <td>934</td>\n",
       "      <td>279</td>\n",
       "      <td>425</td>\n",
       "      <td>28</td>\n",
       "      <td>269</td>\n",
       "      <td>412</td>\n",
       "      <td>22</td>\n",
       "      <td>1</td>\n",
       "      <td>30</td>\n",
       "    </tr>\n",
       "    <tr>\n",
       "      <th>99</th>\n",
       "      <td>2020-03-06</td>\n",
       "      <td>1287</td>\n",
       "      <td>242</td>\n",
       "      <td>341</td>\n",
       "      <td>29</td>\n",
       "      <td>293</td>\n",
       "      <td>345</td>\n",
       "      <td>29</td>\n",
       "      <td>1</td>\n",
       "      <td>30</td>\n",
       "    </tr>\n",
       "  </tbody>\n",
       "</table>\n",
       "<p>100 rows × 10 columns</p>\n",
       "</div>"
      ],
      "text/plain": [
       "   signup_date  rate  international_win  international_lose  \\\n",
       "0     5/8/2015  1154                310                 394   \n",
       "1     5/8/2015   991                435                 292   \n",
       "2   2020-02-13   803                304                 434   \n",
       "3   2020-03-15  1236                425                 296   \n",
       "4   2020-04-23  1765                349                 352   \n",
       "..         ...   ...                ...                 ...   \n",
       "95  2020-01-28   531                335                 296   \n",
       "96  2020-03-26   917                256                 395   \n",
       "97  2020-02-20   492                368                 327   \n",
       "98  2020-03-01   934                279                 425   \n",
       "99  2020-03-06  1287                242                 341   \n",
       "\n",
       "    international_draw  turkish_win  turkish_lose  turkish_draw  sessions  \\\n",
       "0                   30          295           391            35         1   \n",
       "1                   31          407           325            26         1   \n",
       "2                   27          330           373            28         1   \n",
       "3                   27          392           315            36         1   \n",
       "4                   25          330           338            24         1   \n",
       "..                 ...          ...           ...           ...       ...   \n",
       "95                  19          354           317            27         1   \n",
       "96                  31          233           441            24         1   \n",
       "97                  27          365           306            26         1   \n",
       "98                  28          269           412            22         1   \n",
       "99                  29          293           345            29         1   \n",
       "\n",
       "    longest_session  \n",
       "0                30  \n",
       "1                30  \n",
       "2                30  \n",
       "3                30  \n",
       "4                30  \n",
       "..              ...  \n",
       "95               30  \n",
       "96               30  \n",
       "97               30  \n",
       "98               30  \n",
       "99               30  \n",
       "\n",
       "[100 rows x 10 columns]"
      ]
     },
     "execution_count": 385,
     "metadata": {},
     "output_type": "execute_result"
    }
   ],
   "source": [
    "df = pd.read_csv('data/users.csv')\n",
    "df"
   ]
  },
  {
   "cell_type": "code",
   "execution_count": 390,
   "metadata": {},
   "outputs": [
    {
     "data": {
      "text/html": [
       "        <script type=\"text/javascript\">\n",
       "        window.PlotlyConfig = {MathJaxConfig: 'local'};\n",
       "        if (window.MathJax) {MathJax.Hub.Config({SVG: {font: \"STIX-Web\"}});}\n",
       "        if (typeof require !== 'undefined') {\n",
       "        require.undef(\"plotly\");\n",
       "        requirejs.config({\n",
       "            paths: {\n",
       "                'plotly': ['https://cdn.plot.ly/plotly-latest.min']\n",
       "            }\n",
       "        });\n",
       "        require(['plotly'], function(Plotly) {\n",
       "            window._Plotly = Plotly;\n",
       "        });\n",
       "        }\n",
       "        </script>\n",
       "        "
      ]
     },
     "metadata": {},
     "output_type": "display_data"
    },
    {
     "data": {
      "text/html": [
       "        <script type=\"text/javascript\">\n",
       "        window.PlotlyConfig = {MathJaxConfig: 'local'};\n",
       "        if (window.MathJax) {MathJax.Hub.Config({SVG: {font: \"STIX-Web\"}});}\n",
       "        if (typeof require !== 'undefined') {\n",
       "        require.undef(\"plotly\");\n",
       "        requirejs.config({\n",
       "            paths: {\n",
       "                'plotly': ['https://cdn.plot.ly/plotly-latest.min']\n",
       "            }\n",
       "        });\n",
       "        require(['plotly'], function(Plotly) {\n",
       "            window._Plotly = Plotly;\n",
       "        });\n",
       "        }\n",
       "        </script>\n",
       "        "
      ]
     },
     "metadata": {},
     "output_type": "display_data"
    }
   ],
   "source": [
    "from plotly.offline import download_plotlyjs, init_notebook_mode, plot, iplot\n",
    "import cufflinks as cf\n",
    "init_notebook_mode(connected=True)\n",
    "cf.go_offline()"
   ]
  },
  {
   "cell_type": "code",
   "execution_count": 391,
   "metadata": {},
   "outputs": [],
   "source": [
    "import plotly.graph_objects as go"
   ]
  },
  {
   "cell_type": "code",
   "execution_count": 393,
   "metadata": {},
   "outputs": [
    {
     "data": {
      "text/plain": [
       "<matplotlib.axes._subplots.AxesSubplot at 0x1a9c3bcb1c8>"
      ]
     },
     "execution_count": 393,
     "metadata": {},
     "output_type": "execute_result"
    },
    {
     "data": {
      "image/png": "[encoded data removed]",
      "text/plain": [
       "<Figure size 432x288 with 1 Axes>"
      ]
     },
     "metadata": {
      "needs_background": "light"
     },
     "output_type": "display_data"
    }
   ],
   "source": [
    "df['rate'].hist()"
   ]
  },
  {
   "cell_type": "code",
   "execution_count": 417,
   "metadata": {},
   "outputs": [
    {
     "data": {
      "application/vnd.plotly.v1+json": {
       "config": {
        "linkText": "Export to plot.ly",
        "plotlyServerURL": "https://plot.ly",
        "showLink": false
       },
       "data": [
        {
         "marker": {
          "color": "rgba(31, 119, 180, 0.8)",
          "line": {
           "color": "rgb(0,0,0)",
           "width": 1.5
          }
         },
         "type": "histogram",
         "x": [
          1154,
          991,
          803,
          1236,
          1765,
          1574,
          1587,
          1609,
          2064,
          1527,
          1572,
          1573,
          1623,
          1224,
          1247,
          1231,
          1733,
          1964,
          1235,
          1989,
          1560,
          1390,
          1600,
          937,
          1608,
          927,
          1662,
          1710,
          1794,
          1616,
          1781,
          1597,
          1017,
          1230,
          1611,
          1595,
          1557,
          1633,
          1268,
          1525,
          1580,
          2036,
          1573,
          798,
          1140,
          1601,
          1315,
          1565,
          1631,
          1394,
          1431,
          887,
          1247,
          1223,
          940,
          1260,
          1436,
          1236,
          1179,
          1425,
          956,
          1401,
          1380,
          982,
          728,
          1173,
          918,
          911,
          1239,
          728,
          924,
          730,
          1023,
          920,
          1478,
          478,
          966,
          1426,
          1389,
          1411,
          901,
          1282,
          1385,
          929,
          881,
          539,
          1439,
          1416,
          949,
          932,
          951,
          938,
          1436,
          1244,
          1238,
          531,
          917,
          492,
          934,
          1287
         ]
        }
       ],
       "layout": {
        "barmode": "group",
        "template": {
         "data": {
          "bar": [
           {
            "error_x": {
             "color": "#2a3f5f"
            },
            "error_y": {
             "color": "#2a3f5f"
            },
            "marker": {
             "line": {
              "color": "#E5ECF6",
              "width": 0.5
             }
            },
            "type": "bar"
           }
          ],
          "barpolar": [
           {
            "marker": {
             "line": {
              "color": "#E5ECF6",
              "width": 0.5
             }
            },
            "type": "barpolar"
           }
          ],
          "carpet": [
           {
            "aaxis": {
             "endlinecolor": "#2a3f5f",
             "gridcolor": "white",
             "linecolor": "white",
             "minorgridcolor": "white",
             "startlinecolor": "#2a3f5f"
            },
            "baxis": {
             "endlinecolor": "#2a3f5f",
             "gridcolor": "white",
             "linecolor": "white",
             "minorgridcolor": "white",
             "startlinecolor": "#2a3f5f"
            },
            "type": "carpet"
           }
          ],
          "choropleth": [
           {
            "colorbar": {
             "outlinewidth": 0,
             "ticks": ""
            },
            "type": "choropleth"
           }
          ],
          "contour": [
           {
            "colorbar": {
             "outlinewidth": 0,
             "ticks": ""
            },
            "colorscale": [
             [
              0,
              "#0d0887"
             ],
             [
              0.1111111111111111,
              "#46039f"
             ],
             [
              0.2222222222222222,
              "#7201a8"
             ],
             [
              0.3333333333333333,
              "#9c179e"
             ],
             [
              0.4444444444444444,
              "#bd3786"
             ],
             [
              0.5555555555555556,
              "#d8576b"
             ],
             [
              0.6666666666666666,
              "#ed7953"
             ],
             [
              0.7777777777777778,
              "#fb9f3a"
             ],
             [
              0.8888888888888888,
              "#fdca26"
             ],
             [
              1,
              "#f0f921"
             ]
            ],
            "type": "contour"
           }
          ],
          "contourcarpet": [
           {
            "colorbar": {
             "outlinewidth": 0,
             "ticks": ""
            },
            "type": "contourcarpet"
           }
          ],
          "heatmap": [
           {
            "colorbar": {
             "outlinewidth": 0,
             "ticks": ""
            },
            "colorscale": [
             [
              0,
              "#0d0887"
             ],
             [
              0.1111111111111111,
              "#46039f"
             ],
             [
              0.2222222222222222,
              "#7201a8"
             ],
             [
              0.3333333333333333,
              "#9c179e"
             ],
             [
              0.4444444444444444,
              "#bd3786"
             ],
             [
              0.5555555555555556,
              "#d8576b"
             ],
             [
              0.6666666666666666,
              "#ed7953"
             ],
             [
              0.7777777777777778,
              "#fb9f3a"
             ],
             [
              0.8888888888888888,
              "#fdca26"
             ],
             [
              1,
              "#f0f921"
             ]
            ],
            "type": "heatmap"
           }
          ],
          "heatmapgl": [
           {
            "colorbar": {
             "outlinewidth": 0,
             "ticks": ""
            },
            "colorscale": [
             [
              0,
              "#0d0887"
             ],
             [
              0.1111111111111111,
              "#46039f"
             ],
             [
              0.2222222222222222,
              "#7201a8"
             ],
             [
              0.3333333333333333,
              "#9c179e"
             ],
             [
              0.4444444444444444,
              "#bd3786"
             ],
             [
              0.5555555555555556,
              "#d8576b"
             ],
             [
              0.6666666666666666,
              "#ed7953"
             ],
             [
              0.7777777777777778,
              "#fb9f3a"
             ],
             [
              0.8888888888888888,
              "#fdca26"
             ],
             [
              1,
              "#f0f921"
             ]
            ],
            "type": "heatmapgl"
           }
          ],
          "histogram": [
           {
            "marker": {
             "colorbar": {
              "outlinewidth": 0,
              "ticks": ""
             }
            },
            "type": "histogram"
           }
          ],
          "histogram2d": [
           {
            "colorbar": {
             "outlinewidth": 0,
             "ticks": ""
            },
            "colorscale": [
             [
              0,
              "#0d0887"
             ],
             [
              0.1111111111111111,
              "#46039f"
             ],
             [
              0.2222222222222222,
              "#7201a8"
             ],
             [
              0.3333333333333333,
              "#9c179e"
             ],
             [
              0.4444444444444444,
              "#bd3786"
             ],
             [
              0.5555555555555556,
              "#d8576b"
             ],
             [
              0.6666666666666666,
              "#ed7953"
             ],
             [
              0.7777777777777778,
              "#fb9f3a"
             ],
             [
              0.8888888888888888,
              "#fdca26"
             ],
             [
              1,
              "#f0f921"
             ]
            ],
            "type": "histogram2d"
           }
          ],
          "histogram2dcontour": [
           {
            "colorbar": {
             "outlinewidth": 0,
             "ticks": ""
            },
            "colorscale": [
             [
              0,
              "#0d0887"
             ],
             [
              0.1111111111111111,
              "#46039f"
             ],
             [
              0.2222222222222222,
              "#7201a8"
             ],
             [
              0.3333333333333333,
              "#9c179e"
             ],
             [
              0.4444444444444444,
              "#bd3786"
             ],
             [
              0.5555555555555556,
              "#d8576b"
             ],
             [
              0.6666666666666666,
              "#ed7953"
             ],
             [
              0.7777777777777778,
              "#fb9f3a"
             ],
             [
              0.8888888888888888,
              "#fdca26"
             ],
             [
              1,
              "#f0f921"
             ]
            ],
            "type": "histogram2dcontour"
           }
          ],
          "mesh3d": [
           {
            "colorbar": {
             "outlinewidth": 0,
             "ticks": ""
            },
            "type": "mesh3d"
           }
          ],
          "parcoords": [
           {
            "line": {
             "colorbar": {
              "outlinewidth": 0,
              "ticks": ""
             }
            },
            "type": "parcoords"
           }
          ],
          "pie": [
           {
            "automargin": true,
            "type": "pie"
           }
          ],
          "scatter": [
           {
            "marker": {
             "colorbar": {
              "outlinewidth": 0,
              "ticks": ""
             }
            },
            "type": "scatter"
           }
          ],
          "scatter3d": [
           {
            "line": {
             "colorbar": {
              "outlinewidth": 0,
              "ticks": ""
             }
            },
            "marker": {
             "colorbar": {
              "outlinewidth": 0,
              "ticks": ""
             }
            },
            "type": "scatter3d"
           }
          ],
          "scattercarpet": [
           {
            "marker": {
             "colorbar": {
              "outlinewidth": 0,
              "ticks": ""
             }
            },
            "type": "scattercarpet"
           }
          ],
          "scattergeo": [
           {
            "marker": {
             "colorbar": {
              "outlinewidth": 0,
              "ticks": ""
             }
            },
            "type": "scattergeo"
           }
          ],
          "scattergl": [
           {
            "marker": {
             "colorbar": {
              "outlinewidth": 0,
              "ticks": ""
             }
            },
            "type": "scattergl"
           }
          ],
          "scattermapbox": [
           {
            "marker": {
             "colorbar": {
              "outlinewidth": 0,
              "ticks": ""
             }
            },
            "type": "scattermapbox"
           }
          ],
          "scatterpolar": [
           {
            "marker": {
             "colorbar": {
              "outlinewidth": 0,
              "ticks": ""
             }
            },
            "type": "scatterpolar"
           }
          ],
          "scatterpolargl": [
           {
            "marker": {
             "colorbar": {
              "outlinewidth": 0,
              "ticks": ""
             }
            },
            "type": "scatterpolargl"
           }
          ],
          "scatterternary": [
           {
            "marker": {
             "colorbar": {
              "outlinewidth": 0,
              "ticks": ""
             }
            },
            "type": "scatterternary"
           }
          ],
          "surface": [
           {
            "colorbar": {
             "outlinewidth": 0,
             "ticks": ""
            },
            "colorscale": [
             [
              0,
              "#0d0887"
             ],
             [
              0.1111111111111111,
              "#46039f"
             ],
             [
              0.2222222222222222,
              "#7201a8"
             ],
             [
              0.3333333333333333,
              "#9c179e"
             ],
             [
              0.4444444444444444,
              "#bd3786"
             ],
             [
              0.5555555555555556,
              "#d8576b"
             ],
             [
              0.6666666666666666,
              "#ed7953"
             ],
             [
              0.7777777777777778,
              "#fb9f3a"
             ],
             [
              0.8888888888888888,
              "#fdca26"
             ],
             [
              1,
              "#f0f921"
             ]
            ],
            "type": "surface"
           }
          ],
          "table": [
           {
            "cells": {
             "fill": {
              "color": "#EBF0F8"
             },
             "line": {
              "color": "white"
             }
            },
            "header": {
             "fill": {
              "color": "#C8D4E3"
             },
             "line": {
              "color": "white"
             }
            },
            "type": "table"
           }
          ]
         },
         "layout": {
          "annotationdefaults": {
           "arrowcolor": "#2a3f5f",
           "arrowhead": 0,
           "arrowwidth": 1
          },
          "coloraxis": {
           "colorbar": {
            "outlinewidth": 0,
            "ticks": ""
           }
          },
          "colorscale": {
           "diverging": [
            [
             0,
             "#8e0152"
            ],
            [
             0.1,
             "#c51b7d"
            ],
            [
             0.2,
             "#de77ae"
            ],
            [
             0.3,
             "#f1b6da"
            ],
            [
             0.4,
             "#fde0ef"
            ],
            [
             0.5,
             "#f7f7f7"
            ],
            [
             0.6,
             "#e6f5d0"
            ],
            [
             0.7,
             "#b8e186"
            ],
            [
             0.8,
             "#7fbc41"
            ],
            [
             0.9,
             "#4d9221"
            ],
            [
             1,
             "#276419"
            ]
           ],
           "sequential": [
            [
             0,
             "#0d0887"
            ],
            [
             0.1111111111111111,
             "#46039f"
            ],
            [
             0.2222222222222222,
             "#7201a8"
            ],
            [
             0.3333333333333333,
             "#9c179e"
            ],
            [
             0.4444444444444444,
             "#bd3786"
            ],
            [
             0.5555555555555556,
             "#d8576b"
            ],
            [
             0.6666666666666666,
             "#ed7953"
            ],
            [
             0.7777777777777778,
             "#fb9f3a"
            ],
            [
             0.8888888888888888,
             "#fdca26"
            ],
            [
             1,
             "#f0f921"
            ]
           ],
           "sequentialminus": [
            [
             0,
             "#0d0887"
            ],
            [
             0.1111111111111111,
             "#46039f"
            ],
            [
             0.2222222222222222,
             "#7201a8"
            ],
            [
             0.3333333333333333,
             "#9c179e"
            ],
            [
             0.4444444444444444,
             "#bd3786"
            ],
            [
             0.5555555555555556,
             "#d8576b"
            ],
            [
             0.6666666666666666,
             "#ed7953"
            ],
            [
             0.7777777777777778,
             "#fb9f3a"
            ],
            [
             0.8888888888888888,
             "#fdca26"
            ],
            [
             1,
             "#f0f921"
            ]
           ]
          },
          "colorway": [
           "#636efa",
           "#EF553B",
           "#00cc96",
           "#ab63fa",
           "#FFA15A",
           "#19d3f3",
           "#FF6692",
           "#B6E880",
           "#FF97FF",
           "#FECB52"
          ],
          "font": {
           "color": "#2a3f5f"
          },
          "geo": {
           "bgcolor": "white",
           "lakecolor": "white",
           "landcolor": "#E5ECF6",
           "showlakes": true,
           "showland": true,
           "subunitcolor": "white"
          },
          "hoverlabel": {
           "align": "left"
          },
          "hovermode": "closest",
          "mapbox": {
           "style": "light"
          },
          "paper_bgcolor": "white",
          "plot_bgcolor": "#E5ECF6",
          "polar": {
           "angularaxis": {
            "gridcolor": "white",
            "linecolor": "white",
            "ticks": ""
           },
           "bgcolor": "#E5ECF6",
           "radialaxis": {
            "gridcolor": "white",
            "linecolor": "white",
            "ticks": ""
           }
          },
          "scene": {
           "xaxis": {
            "backgroundcolor": "#E5ECF6",
            "gridcolor": "white",
            "gridwidth": 2,
            "linecolor": "white",
            "showbackground": true,
            "ticks": "",
            "zerolinecolor": "white"
           },
           "yaxis": {
            "backgroundcolor": "#E5ECF6",
            "gridcolor": "white",
            "gridwidth": 2,
            "linecolor": "white",
            "showbackground": true,
            "ticks": "",
            "zerolinecolor": "white"
           },
           "zaxis": {
            "backgroundcolor": "#E5ECF6",
            "gridcolor": "white",
            "gridwidth": 2,
            "linecolor": "white",
            "showbackground": true,
            "ticks": "",
            "zerolinecolor": "white"
           }
          },
          "shapedefaults": {
           "line": {
            "color": "#2a3f5f"
           }
          },
          "ternary": {
           "aaxis": {
            "gridcolor": "white",
            "linecolor": "white",
            "ticks": ""
           },
           "baxis": {
            "gridcolor": "white",
            "linecolor": "white",
            "ticks": ""
           },
           "bgcolor": "#E5ECF6",
           "caxis": {
            "gridcolor": "white",
            "linecolor": "white",
            "ticks": ""
           }
          },
          "title": {
           "x": 0.05
          },
          "xaxis": {
           "automargin": true,
           "gridcolor": "white",
           "linecolor": "white",
           "ticks": "",
           "title": {
            "standoff": 15
           },
           "zerolinecolor": "white",
           "zerolinewidth": 2
          },
          "yaxis": {
           "automargin": true,
           "gridcolor": "white",
           "linecolor": "white",
           "ticks": "",
           "title": {
            "standoff": 15
           },
           "zerolinecolor": "white",
           "zerolinewidth": 2
          }
         }
        },
        "title": {
         "text": "Users ratings"
        },
        "xaxis": {
         "ticklen": 5,
         "ticks": "inside",
         "title": {
          "text": "ratings"
         },
         "zeroline": false
        },
        "yaxis": {
         "ticklen": 5,
         "ticks": "outside",
         "title": {
          "text": "users"
         },
         "zeroline": false
        }
       }
      },
      "text/html": [
       "<div>\n",
       "        \n",
       "        \n",
       "            <div id=\"d31c25b2-d6fe-4004-b848-4d75b9dbe170\" class=\"plotly-graph-div\" style=\"height:525px; width:100%;\"></div>\n",
       "            <script type=\"text/javascript\">\n",
       "                require([\"plotly\"], function(Plotly) {\n",
       "                    window.PLOTLYENV=window.PLOTLYENV || {};\n",
       "                    \n",
       "                if (document.getElementById(\"d31c25b2-d6fe-4004-b848-4d75b9dbe170\")) {\n",
       "                    Plotly.newPlot(\n",
       "                        'd31c25b2-d6fe-4004-b848-4d75b9dbe170',\n",
       "                        [{\"marker\": {\"color\": \"rgba(31, 119, 180, 0.8)\", \"line\": {\"color\": \"rgb(0,0,0)\", \"width\": 1.5}}, \"type\": \"histogram\", \"x\": [1154, 991, 803, 1236, 1765, 1574, 1587, 1609, 2064, 1527, 1572, 1573, 1623, 1224, 1247, 1231, 1733, 1964, 1235, 1989, 1560, 1390, 1600, 937, 1608, 927, 1662, 1710, 1794, 1616, 1781, 1597, 1017, 1230, 1611, 1595, 1557, 1633, 1268, 1525, 1580, 2036, 1573, 798, 1140, 1601, 1315, 1565, 1631, 1394, 1431, 887, 1247, 1223, 940, 1260, 1436, 1236, 1179, 1425, 956, 1401, 1380, 982, 728, 1173, 918, 911, 1239, 728, 924, 730, 1023, 920, 1478, 478, 966, 1426, 1389, 1411, 901, 1282, 1385, 929, 881, 539, 1439, 1416, 949, 932, 951, 938, 1436, 1244, 1238, 531, 917, 492, 934, 1287]}],\n",
       "                        {\"barmode\": \"group\", \"template\": {\"data\": {\"bar\": [{\"error_x\": {\"color\": \"#2a3f5f\"}, \"error_y\": {\"color\": \"#2a3f5f\"}, \"marker\": {\"line\": {\"color\": \"#E5ECF6\", \"width\": 0.5}}, \"type\": \"bar\"}], \"barpolar\": [{\"marker\": {\"line\": {\"color\": \"#E5ECF6\", \"width\": 0.5}}, \"type\": \"barpolar\"}], \"carpet\": [{\"aaxis\": {\"endlinecolor\": \"#2a3f5f\", \"gridcolor\": \"white\", \"linecolor\": \"white\", \"minorgridcolor\": \"white\", \"startlinecolor\": \"#2a3f5f\"}, \"baxis\": {\"endlinecolor\": \"#2a3f5f\", \"gridcolor\": \"white\", \"linecolor\": \"white\", \"minorgridcolor\": \"white\", \"startlinecolor\": \"#2a3f5f\"}, \"type\": \"carpet\"}], \"choropleth\": [{\"colorbar\": {\"outlinewidth\": 0, \"ticks\": \"\"}, \"type\": \"choropleth\"}], \"contour\": [{\"colorbar\": {\"outlinewidth\": 0, \"ticks\": \"\"}, \"colorscale\": [[0.0, \"#0d0887\"], [0.1111111111111111, \"#46039f\"], [0.2222222222222222, \"#7201a8\"], [0.3333333333333333, \"#9c179e\"], [0.4444444444444444, \"#bd3786\"], [0.5555555555555556, \"#d8576b\"], [0.6666666666666666, \"#ed7953\"], [0.7777777777777778, \"#fb9f3a\"], [0.8888888888888888, \"#fdca26\"], [1.0, \"#f0f921\"]], \"type\": \"contour\"}], \"contourcarpet\": [{\"colorbar\": {\"outlinewidth\": 0, \"ticks\": \"\"}, \"type\": \"contourcarpet\"}], \"heatmap\": [{\"colorbar\": {\"outlinewidth\": 0, \"ticks\": \"\"}, \"colorscale\": [[0.0, \"#0d0887\"], [0.1111111111111111, \"#46039f\"], [0.2222222222222222, \"#7201a8\"], [0.3333333333333333, \"#9c179e\"], [0.4444444444444444, \"#bd3786\"], [0.5555555555555556, \"#d8576b\"], [0.6666666666666666, \"#ed7953\"], [0.7777777777777778, \"#fb9f3a\"], [0.8888888888888888, \"#fdca26\"], [1.0, \"#f0f921\"]], \"type\": \"heatmap\"}], \"heatmapgl\": [{\"colorbar\": {\"outlinewidth\": 0, \"ticks\": \"\"}, \"colorscale\": [[0.0, \"#0d0887\"], [0.1111111111111111, \"#46039f\"], [0.2222222222222222, \"#7201a8\"], [0.3333333333333333, \"#9c179e\"], [0.4444444444444444, \"#bd3786\"], [0.5555555555555556, \"#d8576b\"], [0.6666666666666666, \"#ed7953\"], [0.7777777777777778, \"#fb9f3a\"], [0.8888888888888888, \"#fdca26\"], [1.0, \"#f0f921\"]], \"type\": \"heatmapgl\"}], \"histogram\": [{\"marker\": {\"colorbar\": {\"outlinewidth\": 0, \"ticks\": \"\"}}, \"type\": \"histogram\"}], \"histogram2d\": [{\"colorbar\": {\"outlinewidth\": 0, \"ticks\": \"\"}, \"colorscale\": [[0.0, \"#0d0887\"], [0.1111111111111111, \"#46039f\"], [0.2222222222222222, \"#7201a8\"], [0.3333333333333333, \"#9c179e\"], [0.4444444444444444, \"#bd3786\"], [0.5555555555555556, \"#d8576b\"], [0.6666666666666666, \"#ed7953\"], [0.7777777777777778, \"#fb9f3a\"], [0.8888888888888888, \"#fdca26\"], [1.0, \"#f0f921\"]], \"type\": \"histogram2d\"}], \"histogram2dcontour\": [{\"colorbar\": {\"outlinewidth\": 0, \"ticks\": \"\"}, \"colorscale\": [[0.0, \"#0d0887\"], [0.1111111111111111, \"#46039f\"], [0.2222222222222222, \"#7201a8\"], [0.3333333333333333, \"#9c179e\"], [0.4444444444444444, \"#bd3786\"], [0.5555555555555556, \"#d8576b\"], [0.6666666666666666, \"#ed7953\"], [0.7777777777777778, \"#fb9f3a\"], [0.8888888888888888, \"#fdca26\"], [1.0, \"#f0f921\"]], \"type\": \"histogram2dcontour\"}], \"mesh3d\": [{\"colorbar\": {\"outlinewidth\": 0, \"ticks\": \"\"}, \"type\": \"mesh3d\"}], \"parcoords\": [{\"line\": {\"colorbar\": {\"outlinewidth\": 0, \"ticks\": \"\"}}, \"type\": \"parcoords\"}], \"pie\": [{\"automargin\": true, \"type\": \"pie\"}], \"scatter\": [{\"marker\": {\"colorbar\": {\"outlinewidth\": 0, \"ticks\": \"\"}}, \"type\": \"scatter\"}], \"scatter3d\": [{\"line\": {\"colorbar\": {\"outlinewidth\": 0, \"ticks\": \"\"}}, \"marker\": {\"colorbar\": {\"outlinewidth\": 0, \"ticks\": \"\"}}, \"type\": \"scatter3d\"}], \"scattercarpet\": [{\"marker\": {\"colorbar\": {\"outlinewidth\": 0, \"ticks\": \"\"}}, \"type\": \"scattercarpet\"}], \"scattergeo\": [{\"marker\": {\"colorbar\": {\"outlinewidth\": 0, \"ticks\": \"\"}}, \"type\": \"scattergeo\"}], \"scattergl\": [{\"marker\": {\"colorbar\": {\"outlinewidth\": 0, \"ticks\": \"\"}}, \"type\": \"scattergl\"}], \"scattermapbox\": [{\"marker\": {\"colorbar\": {\"outlinewidth\": 0, \"ticks\": \"\"}}, \"type\": \"scattermapbox\"}], \"scatterpolar\": [{\"marker\": {\"colorbar\": {\"outlinewidth\": 0, \"ticks\": \"\"}}, \"type\": \"scatterpolar\"}], \"scatterpolargl\": [{\"marker\": {\"colorbar\": {\"outlinewidth\": 0, \"ticks\": \"\"}}, \"type\": \"scatterpolargl\"}], \"scatterternary\": [{\"marker\": {\"colorbar\": {\"outlinewidth\": 0, \"ticks\": \"\"}}, \"type\": \"scatterternary\"}], \"surface\": [{\"colorbar\": {\"outlinewidth\": 0, \"ticks\": \"\"}, \"colorscale\": [[0.0, \"#0d0887\"], [0.1111111111111111, \"#46039f\"], [0.2222222222222222, \"#7201a8\"], [0.3333333333333333, \"#9c179e\"], [0.4444444444444444, \"#bd3786\"], [0.5555555555555556, \"#d8576b\"], [0.6666666666666666, \"#ed7953\"], [0.7777777777777778, \"#fb9f3a\"], [0.8888888888888888, \"#fdca26\"], [1.0, \"#f0f921\"]], \"type\": \"surface\"}], \"table\": [{\"cells\": {\"fill\": {\"color\": \"#EBF0F8\"}, \"line\": {\"color\": \"white\"}}, \"header\": {\"fill\": {\"color\": \"#C8D4E3\"}, \"line\": {\"color\": \"white\"}}, \"type\": \"table\"}]}, \"layout\": {\"annotationdefaults\": {\"arrowcolor\": \"#2a3f5f\", \"arrowhead\": 0, \"arrowwidth\": 1}, \"coloraxis\": {\"colorbar\": {\"outlinewidth\": 0, \"ticks\": \"\"}}, \"colorscale\": {\"diverging\": [[0, \"#8e0152\"], [0.1, \"#c51b7d\"], [0.2, \"#de77ae\"], [0.3, \"#f1b6da\"], [0.4, \"#fde0ef\"], [0.5, \"#f7f7f7\"], [0.6, \"#e6f5d0\"], [0.7, \"#b8e186\"], [0.8, \"#7fbc41\"], [0.9, \"#4d9221\"], [1, \"#276419\"]], \"sequential\": [[0.0, \"#0d0887\"], [0.1111111111111111, \"#46039f\"], [0.2222222222222222, \"#7201a8\"], [0.3333333333333333, \"#9c179e\"], [0.4444444444444444, \"#bd3786\"], [0.5555555555555556, \"#d8576b\"], [0.6666666666666666, \"#ed7953\"], [0.7777777777777778, \"#fb9f3a\"], [0.8888888888888888, \"#fdca26\"], [1.0, \"#f0f921\"]], \"sequentialminus\": [[0.0, \"#0d0887\"], [0.1111111111111111, \"#46039f\"], [0.2222222222222222, \"#7201a8\"], [0.3333333333333333, \"#9c179e\"], [0.4444444444444444, \"#bd3786\"], [0.5555555555555556, \"#d8576b\"], [0.6666666666666666, \"#ed7953\"], [0.7777777777777778, \"#fb9f3a\"], [0.8888888888888888, \"#fdca26\"], [1.0, \"#f0f921\"]]}, \"colorway\": [\"#636efa\", \"#EF553B\", \"#00cc96\", \"#ab63fa\", \"#FFA15A\", \"#19d3f3\", \"#FF6692\", \"#B6E880\", \"#FF97FF\", \"#FECB52\"], \"font\": {\"color\": \"#2a3f5f\"}, \"geo\": {\"bgcolor\": \"white\", \"lakecolor\": \"white\", \"landcolor\": \"#E5ECF6\", \"showlakes\": true, \"showland\": true, \"subunitcolor\": \"white\"}, \"hoverlabel\": {\"align\": \"left\"}, \"hovermode\": \"closest\", \"mapbox\": {\"style\": \"light\"}, \"paper_bgcolor\": \"white\", \"plot_bgcolor\": \"#E5ECF6\", \"polar\": {\"angularaxis\": {\"gridcolor\": \"white\", \"linecolor\": \"white\", \"ticks\": \"\"}, \"bgcolor\": \"#E5ECF6\", \"radialaxis\": {\"gridcolor\": \"white\", \"linecolor\": \"white\", \"ticks\": \"\"}}, \"scene\": {\"xaxis\": {\"backgroundcolor\": \"#E5ECF6\", \"gridcolor\": \"white\", \"gridwidth\": 2, \"linecolor\": \"white\", \"showbackground\": true, \"ticks\": \"\", \"zerolinecolor\": \"white\"}, \"yaxis\": {\"backgroundcolor\": \"#E5ECF6\", \"gridcolor\": \"white\", \"gridwidth\": 2, \"linecolor\": \"white\", \"showbackground\": true, \"ticks\": \"\", \"zerolinecolor\": \"white\"}, \"zaxis\": {\"backgroundcolor\": \"#E5ECF6\", \"gridcolor\": \"white\", \"gridwidth\": 2, \"linecolor\": \"white\", \"showbackground\": true, \"ticks\": \"\", \"zerolinecolor\": \"white\"}}, \"shapedefaults\": {\"line\": {\"color\": \"#2a3f5f\"}}, \"ternary\": {\"aaxis\": {\"gridcolor\": \"white\", \"linecolor\": \"white\", \"ticks\": \"\"}, \"baxis\": {\"gridcolor\": \"white\", \"linecolor\": \"white\", \"ticks\": \"\"}, \"bgcolor\": \"#E5ECF6\", \"caxis\": {\"gridcolor\": \"white\", \"linecolor\": \"white\", \"ticks\": \"\"}}, \"title\": {\"x\": 0.05}, \"xaxis\": {\"automargin\": true, \"gridcolor\": \"white\", \"linecolor\": \"white\", \"ticks\": \"\", \"title\": {\"standoff\": 15}, \"zerolinecolor\": \"white\", \"zerolinewidth\": 2}, \"yaxis\": {\"automargin\": true, \"gridcolor\": \"white\", \"linecolor\": \"white\", \"ticks\": \"\", \"title\": {\"standoff\": 15}, \"zerolinecolor\": \"white\", \"zerolinewidth\": 2}}}, \"title\": {\"text\": \"Users ratings\"}, \"xaxis\": {\"ticklen\": 5, \"ticks\": \"inside\", \"title\": {\"text\": \"ratings\"}, \"zeroline\": false}, \"yaxis\": {\"ticklen\": 5, \"ticks\": \"outside\", \"title\": {\"text\": \"users\"}, \"zeroline\": false}},\n",
       "                        {\"responsive\": true}\n",
       "                    ).then(function(){\n",
       "                            \n",
       "var gd = document.getElementById('d31c25b2-d6fe-4004-b848-4d75b9dbe170');\n",
       "var x = new MutationObserver(function (mutations, observer) {{\n",
       "        var display = window.getComputedStyle(gd).display;\n",
       "        if (!display || display === 'none') {{\n",
       "            console.log([gd, 'removed!']);\n",
       "            Plotly.purge(gd);\n",
       "            observer.disconnect();\n",
       "        }}\n",
       "}});\n",
       "\n",
       "// Listen for the removal of the full notebook cells\n",
       "var notebookContainer = gd.closest('#notebook-container');\n",
       "if (notebookContainer) {{\n",
       "    x.observe(notebookContainer, {childList: true});\n",
       "}}\n",
       "\n",
       "// Listen for the clearing of the current output cell\n",
       "var outputEl = gd.closest('.output');\n",
       "if (outputEl) {{\n",
       "    x.observe(outputEl, {childList: true});\n",
       "}}\n",
       "\n",
       "                        })\n",
       "                };\n",
       "                });\n",
       "            </script>\n",
       "        </div>"
      ]
     },
     "metadata": {},
     "output_type": "display_data"
    }
   ],
   "source": [
    "# create trace1 \n",
    "trace1 = go.Histogram(\n",
    "                x = df.rate,\n",
    "                marker = dict(color = 'rgba(31, 119, 180, 0.8)',\n",
    "                              line=dict(color='rgb(0,0,0)',width=1.5))\n",
    "            )\n",
    "layout = dict(barmode = 'group',title = 'Users ratings',\n",
    "             xaxis= dict(title= 'ratings',ticklen= 5,zeroline= False, ticks=\"inside\"), \n",
    "             yaxis = dict(title = 'users', ticklen = 5, zeroline = False, ticks=\"outside\"))\n",
    "data = [trace1]\n",
    "\n",
    "fig = {'data': data, 'layout': layout}\n",
    "iplot(fig)"
   ]
  },
  {
   "cell_type": "code",
   "execution_count": 427,
   "metadata": {},
   "outputs": [
    {
     "data": {
      "application/vnd.plotly.v1+json": {
       "config": {
        "linkText": "Export to plot.ly",
        "plotlyServerURL": "https://plot.ly",
        "showLink": false
       },
       "data": [
        {
         "marker": {
          "color": "rgba(31, 119, 180, 0.8)",
          "line": {
           "color": "rgb(0,0,0)",
           "width": 1.5
          }
         },
         "mode": "markers",
         "type": "scatter",
         "x": [
          0,
          1,
          2,
          3,
          4,
          5,
          6,
          7,
          8,
          9,
          10,
          11,
          12,
          13,
          14,
          15,
          16,
          17,
          18,
          19,
          20,
          21,
          22,
          23,
          24,
          25,
          26,
          27,
          28,
          29,
          30,
          31,
          32,
          33,
          34,
          35,
          36,
          37,
          38,
          39,
          40,
          41,
          42,
          43,
          44,
          45,
          46,
          47,
          48,
          49,
          50,
          51,
          52,
          53,
          54,
          55,
          56,
          57,
          58,
          59,
          60,
          61,
          62,
          63,
          64,
          65,
          66,
          67,
          68,
          69,
          70,
          71,
          72,
          73,
          74,
          75,
          76,
          77,
          78,
          79,
          80,
          81,
          82,
          83,
          84,
          85,
          86,
          87,
          88,
          89,
          90,
          91,
          92,
          93,
          94,
          95,
          96,
          97,
          98,
          99
         ],
         "y": [
          1154,
          991,
          803,
          1236,
          1765,
          1574,
          1587,
          1609,
          2064,
          1527,
          1572,
          1573,
          1623,
          1224,
          1247,
          1231,
          1733,
          1964,
          1235,
          1989,
          1560,
          1390,
          1600,
          937,
          1608,
          927,
          1662,
          1710,
          1794,
          1616,
          1781,
          1597,
          1017,
          1230,
          1611,
          1595,
          1557,
          1633,
          1268,
          1525,
          1580,
          2036,
          1573,
          798,
          1140,
          1601,
          1315,
          1565,
          1631,
          1394,
          1431,
          887,
          1247,
          1223,
          940,
          1260,
          1436,
          1236,
          1179,
          1425,
          956,
          1401,
          1380,
          982,
          728,
          1173,
          918,
          911,
          1239,
          728,
          924,
          730,
          1023,
          920,
          1478,
          478,
          966,
          1426,
          1389,
          1411,
          901,
          1282,
          1385,
          929,
          881,
          539,
          1439,
          1416,
          949,
          932,
          951,
          938,
          1436,
          1244,
          1238,
          531,
          917,
          492,
          934,
          1287
         ]
        }
       ],
       "layout": {
        "barmode": "group",
        "template": {
         "data": {
          "bar": [
           {
            "error_x": {
             "color": "#2a3f5f"
            },
            "error_y": {
             "color": "#2a3f5f"
            },
            "marker": {
             "line": {
              "color": "#E5ECF6",
              "width": 0.5
             }
            },
            "type": "bar"
           }
          ],
          "barpolar": [
           {
            "marker": {
             "line": {
              "color": "#E5ECF6",
              "width": 0.5
             }
            },
            "type": "barpolar"
           }
          ],
          "carpet": [
           {
            "aaxis": {
             "endlinecolor": "#2a3f5f",
             "gridcolor": "white",
             "linecolor": "white",
             "minorgridcolor": "white",
             "startlinecolor": "#2a3f5f"
            },
            "baxis": {
             "endlinecolor": "#2a3f5f",
             "gridcolor": "white",
             "linecolor": "white",
             "minorgridcolor": "white",
             "startlinecolor": "#2a3f5f"
            },
            "type": "carpet"
           }
          ],
          "choropleth": [
           {
            "colorbar": {
             "outlinewidth": 0,
             "ticks": ""
            },
            "type": "choropleth"
           }
          ],
          "contour": [
           {
            "colorbar": {
             "outlinewidth": 0,
             "ticks": ""
            },
            "colorscale": [
             [
              0,
              "#0d0887"
             ],
             [
              0.1111111111111111,
              "#46039f"
             ],
             [
              0.2222222222222222,
              "#7201a8"
             ],
             [
              0.3333333333333333,
              "#9c179e"
             ],
             [
              0.4444444444444444,
              "#bd3786"
             ],
             [
              0.5555555555555556,
              "#d8576b"
             ],
             [
              0.6666666666666666,
              "#ed7953"
             ],
             [
              0.7777777777777778,
              "#fb9f3a"
             ],
             [
              0.8888888888888888,
              "#fdca26"
             ],
             [
              1,
              "#f0f921"
             ]
            ],
            "type": "contour"
           }
          ],
          "contourcarpet": [
           {
            "colorbar": {
             "outlinewidth": 0,
             "ticks": ""
            },
            "type": "contourcarpet"
           }
          ],
          "heatmap": [
           {
            "colorbar": {
             "outlinewidth": 0,
             "ticks": ""
            },
            "colorscale": [
             [
              0,
              "#0d0887"
             ],
             [
              0.1111111111111111,
              "#46039f"
             ],
             [
              0.2222222222222222,
              "#7201a8"
             ],
             [
              0.3333333333333333,
              "#9c179e"
             ],
             [
              0.4444444444444444,
              "#bd3786"
             ],
             [
              0.5555555555555556,
              "#d8576b"
             ],
             [
              0.6666666666666666,
              "#ed7953"
             ],
             [
              0.7777777777777778,
              "#fb9f3a"
             ],
             [
              0.8888888888888888,
              "#fdca26"
             ],
             [
              1,
              "#f0f921"
             ]
            ],
            "type": "heatmap"
           }
          ],
          "heatmapgl": [
           {
            "colorbar": {
             "outlinewidth": 0,
             "ticks": ""
            },
            "colorscale": [
             [
              0,
              "#0d0887"
             ],
             [
              0.1111111111111111,
              "#46039f"
             ],
             [
              0.2222222222222222,
              "#7201a8"
             ],
             [
              0.3333333333333333,
              "#9c179e"
             ],
             [
              0.4444444444444444,
              "#bd3786"
             ],
             [
              0.5555555555555556,
              "#d8576b"
             ],
             [
              0.6666666666666666,
              "#ed7953"
             ],
             [
              0.7777777777777778,
              "#fb9f3a"
             ],
             [
              0.8888888888888888,
              "#fdca26"
             ],
             [
              1,
              "#f0f921"
             ]
            ],
            "type": "heatmapgl"
           }
          ],
          "histogram": [
           {
            "marker": {
             "colorbar": {
              "outlinewidth": 0,
              "ticks": ""
             }
            },
            "type": "histogram"
           }
          ],
          "histogram2d": [
           {
            "colorbar": {
             "outlinewidth": 0,
             "ticks": ""
            },
            "colorscale": [
             [
              0,
              "#0d0887"
             ],
             [
              0.1111111111111111,
              "#46039f"
             ],
             [
              0.2222222222222222,
              "#7201a8"
             ],
             [
              0.3333333333333333,
              "#9c179e"
             ],
             [
              0.4444444444444444,
              "#bd3786"
             ],
             [
              0.5555555555555556,
              "#d8576b"
             ],
             [
              0.6666666666666666,
              "#ed7953"
             ],
             [
              0.7777777777777778,
              "#fb9f3a"
             ],
             [
              0.8888888888888888,
              "#fdca26"
             ],
             [
              1,
              "#f0f921"
             ]
            ],
            "type": "histogram2d"
           }
          ],
          "histogram2dcontour": [
           {
            "colorbar": {
             "outlinewidth": 0,
             "ticks": ""
            },
            "colorscale": [
             [
              0,
              "#0d0887"
             ],
             [
              0.1111111111111111,
              "#46039f"
             ],
             [
              0.2222222222222222,
              "#7201a8"
             ],
             [
              0.3333333333333333,
              "#9c179e"
             ],
             [
              0.4444444444444444,
              "#bd3786"
             ],
             [
              0.5555555555555556,
              "#d8576b"
             ],
             [
              0.6666666666666666,
              "#ed7953"
             ],
             [
              0.7777777777777778,
              "#fb9f3a"
             ],
             [
              0.8888888888888888,
              "#fdca26"
             ],
             [
              1,
              "#f0f921"
             ]
            ],
            "type": "histogram2dcontour"
           }
          ],
          "mesh3d": [
           {
            "colorbar": {
             "outlinewidth": 0,
             "ticks": ""
            },
            "type": "mesh3d"
           }
          ],
          "parcoords": [
           {
            "line": {
             "colorbar": {
              "outlinewidth": 0,
              "ticks": ""
             }
            },
            "type": "parcoords"
           }
          ],
          "pie": [
           {
            "automargin": true,
            "type": "pie"
           }
          ],
          "scatter": [
           {
            "marker": {
             "colorbar": {
              "outlinewidth": 0,
              "ticks": ""
             }
            },
            "type": "scatter"
           }
          ],
          "scatter3d": [
           {
            "line": {
             "colorbar": {
              "outlinewidth": 0,
              "ticks": ""
             }
            },
            "marker": {
             "colorbar": {
              "outlinewidth": 0,
              "ticks": ""
             }
            },
            "type": "scatter3d"
           }
          ],
          "scattercarpet": [
           {
            "marker": {
             "colorbar": {
              "outlinewidth": 0,
              "ticks": ""
             }
            },
            "type": "scattercarpet"
           }
          ],
          "scattergeo": [
           {
            "marker": {
             "colorbar": {
              "outlinewidth": 0,
              "ticks": ""
             }
            },
            "type": "scattergeo"
           }
          ],
          "scattergl": [
           {
            "marker": {
             "colorbar": {
              "outlinewidth": 0,
              "ticks": ""
             }
            },
            "type": "scattergl"
           }
          ],
          "scattermapbox": [
           {
            "marker": {
             "colorbar": {
              "outlinewidth": 0,
              "ticks": ""
             }
            },
            "type": "scattermapbox"
           }
          ],
          "scatterpolar": [
           {
            "marker": {
             "colorbar": {
              "outlinewidth": 0,
              "ticks": ""
             }
            },
            "type": "scatterpolar"
           }
          ],
          "scatterpolargl": [
           {
            "marker": {
             "colorbar": {
              "outlinewidth": 0,
              "ticks": ""
             }
            },
            "type": "scatterpolargl"
           }
          ],
          "scatterternary": [
           {
            "marker": {
             "colorbar": {
              "outlinewidth": 0,
              "ticks": ""
             }
            },
            "type": "scatterternary"
           }
          ],
          "surface": [
           {
            "colorbar": {
             "outlinewidth": 0,
             "ticks": ""
            },
            "colorscale": [
             [
              0,
              "#0d0887"
             ],
             [
              0.1111111111111111,
              "#46039f"
             ],
             [
              0.2222222222222222,
              "#7201a8"
             ],
             [
              0.3333333333333333,
              "#9c179e"
             ],
             [
              0.4444444444444444,
              "#bd3786"
             ],
             [
              0.5555555555555556,
              "#d8576b"
             ],
             [
              0.6666666666666666,
              "#ed7953"
             ],
             [
              0.7777777777777778,
              "#fb9f3a"
             ],
             [
              0.8888888888888888,
              "#fdca26"
             ],
             [
              1,
              "#f0f921"
             ]
            ],
            "type": "surface"
           }
          ],
          "table": [
           {
            "cells": {
             "fill": {
              "color": "#EBF0F8"
             },
             "line": {
              "color": "white"
             }
            },
            "header": {
             "fill": {
              "color": "#C8D4E3"
             },
             "line": {
              "color": "white"
             }
            },
            "type": "table"
           }
          ]
         },
         "layout": {
          "annotationdefaults": {
           "arrowcolor": "#2a3f5f",
           "arrowhead": 0,
           "arrowwidth": 1
          },
          "coloraxis": {
           "colorbar": {
            "outlinewidth": 0,
            "ticks": ""
           }
          },
          "colorscale": {
           "diverging": [
            [
             0,
             "#8e0152"
            ],
            [
             0.1,
             "#c51b7d"
            ],
            [
             0.2,
             "#de77ae"
            ],
            [
             0.3,
             "#f1b6da"
            ],
            [
             0.4,
             "#fde0ef"
            ],
            [
             0.5,
             "#f7f7f7"
            ],
            [
             0.6,
             "#e6f5d0"
            ],
            [
             0.7,
             "#b8e186"
            ],
            [
             0.8,
             "#7fbc41"
            ],
            [
             0.9,
             "#4d9221"
            ],
            [
             1,
             "#276419"
            ]
           ],
           "sequential": [
            [
             0,
             "#0d0887"
            ],
            [
             0.1111111111111111,
             "#46039f"
            ],
            [
             0.2222222222222222,
             "#7201a8"
            ],
            [
             0.3333333333333333,
             "#9c179e"
            ],
            [
             0.4444444444444444,
             "#bd3786"
            ],
            [
             0.5555555555555556,
             "#d8576b"
            ],
            [
             0.6666666666666666,
             "#ed7953"
            ],
            [
             0.7777777777777778,
             "#fb9f3a"
            ],
            [
             0.8888888888888888,
             "#fdca26"
            ],
            [
             1,
             "#f0f921"
            ]
           ],
           "sequentialminus": [
            [
             0,
             "#0d0887"
            ],
            [
             0.1111111111111111,
             "#46039f"
            ],
            [
             0.2222222222222222,
             "#7201a8"
            ],
            [
             0.3333333333333333,
             "#9c179e"
            ],
            [
             0.4444444444444444,
             "#bd3786"
            ],
            [
             0.5555555555555556,
             "#d8576b"
            ],
            [
             0.6666666666666666,
             "#ed7953"
            ],
            [
             0.7777777777777778,
             "#fb9f3a"
            ],
            [
             0.8888888888888888,
             "#fdca26"
            ],
            [
             1,
             "#f0f921"
            ]
           ]
          },
          "colorway": [
           "#636efa",
           "#EF553B",
           "#00cc96",
           "#ab63fa",
           "#FFA15A",
           "#19d3f3",
           "#FF6692",
           "#B6E880",
           "#FF97FF",
           "#FECB52"
          ],
          "font": {
           "color": "#2a3f5f"
          },
          "geo": {
           "bgcolor": "white",
           "lakecolor": "white",
           "landcolor": "#E5ECF6",
           "showlakes": true,
           "showland": true,
           "subunitcolor": "white"
          },
          "hoverlabel": {
           "align": "left"
          },
          "hovermode": "closest",
          "mapbox": {
           "style": "light"
          },
          "paper_bgcolor": "white",
          "plot_bgcolor": "#E5ECF6",
          "polar": {
           "angularaxis": {
            "gridcolor": "white",
            "linecolor": "white",
            "ticks": ""
           },
           "bgcolor": "#E5ECF6",
           "radialaxis": {
            "gridcolor": "white",
            "linecolor": "white",
            "ticks": ""
           }
          },
          "scene": {
           "xaxis": {
            "backgroundcolor": "#E5ECF6",
            "gridcolor": "white",
            "gridwidth": 2,
            "linecolor": "white",
            "showbackground": true,
            "ticks": "",
            "zerolinecolor": "white"
           },
           "yaxis": {
            "backgroundcolor": "#E5ECF6",
            "gridcolor": "white",
            "gridwidth": 2,
            "linecolor": "white",
            "showbackground": true,
            "ticks": "",
            "zerolinecolor": "white"
           },
           "zaxis": {
            "backgroundcolor": "#E5ECF6",
            "gridcolor": "white",
            "gridwidth": 2,
            "linecolor": "white",
            "showbackground": true,
            "ticks": "",
            "zerolinecolor": "white"
           }
          },
          "shapedefaults": {
           "line": {
            "color": "#2a3f5f"
           }
          },
          "ternary": {
           "aaxis": {
            "gridcolor": "white",
            "linecolor": "white",
            "ticks": ""
           },
           "baxis": {
            "gridcolor": "white",
            "linecolor": "white",
            "ticks": ""
           },
           "bgcolor": "#E5ECF6",
           "caxis": {
            "gridcolor": "white",
            "linecolor": "white",
            "ticks": ""
           }
          },
          "title": {
           "x": 0.05
          },
          "xaxis": {
           "automargin": true,
           "gridcolor": "white",
           "linecolor": "white",
           "ticks": "",
           "title": {
            "standoff": 15
           },
           "zerolinecolor": "white",
           "zerolinewidth": 2
          },
          "yaxis": {
           "automargin": true,
           "gridcolor": "white",
           "linecolor": "white",
           "ticks": "",
           "title": {
            "standoff": 15
           },
           "zerolinecolor": "white",
           "zerolinewidth": 2
          }
         }
        },
        "title": {
         "text": "Users ratings"
        },
        "xaxis": {
         "ticklen": 5,
         "ticks": "inside",
         "title": {
          "text": "User ID"
         },
         "zeroline": false
        },
        "yaxis": {
         "ticklen": 5,
         "ticks": "outside",
         "title": {
          "text": "Rate"
         },
         "zeroline": false
        }
       }
      },
      "text/html": [
       "<div>\n",
       "        \n",
       "        \n",
       "            <div id=\"eaea4269-0e27-40ac-831d-7703f88f0135\" class=\"plotly-graph-div\" style=\"height:525px; width:100%;\"></div>\n",
       "            <script type=\"text/javascript\">\n",
       "                require([\"plotly\"], function(Plotly) {\n",
       "                    window.PLOTLYENV=window.PLOTLYENV || {};\n",
       "                    \n",
       "                if (document.getElementById(\"eaea4269-0e27-40ac-831d-7703f88f0135\")) {\n",
       "                    Plotly.newPlot(\n",
       "                        'eaea4269-0e27-40ac-831d-7703f88f0135',\n",
       "                        [{\"marker\": {\"color\": \"rgba(31, 119, 180, 0.8)\", \"line\": {\"color\": \"rgb(0,0,0)\", \"width\": 1.5}}, \"mode\": \"markers\", \"type\": \"scatter\", \"x\": [0, 1, 2, 3, 4, 5, 6, 7, 8, 9, 10, 11, 12, 13, 14, 15, 16, 17, 18, 19, 20, 21, 22, 23, 24, 25, 26, 27, 28, 29, 30, 31, 32, 33, 34, 35, 36, 37, 38, 39, 40, 41, 42, 43, 44, 45, 46, 47, 48, 49, 50, 51, 52, 53, 54, 55, 56, 57, 58, 59, 60, 61, 62, 63, 64, 65, 66, 67, 68, 69, 70, 71, 72, 73, 74, 75, 76, 77, 78, 79, 80, 81, 82, 83, 84, 85, 86, 87, 88, 89, 90, 91, 92, 93, 94, 95, 96, 97, 98, 99], \"y\": [1154, 991, 803, 1236, 1765, 1574, 1587, 1609, 2064, 1527, 1572, 1573, 1623, 1224, 1247, 1231, 1733, 1964, 1235, 1989, 1560, 1390, 1600, 937, 1608, 927, 1662, 1710, 1794, 1616, 1781, 1597, 1017, 1230, 1611, 1595, 1557, 1633, 1268, 1525, 1580, 2036, 1573, 798, 1140, 1601, 1315, 1565, 1631, 1394, 1431, 887, 1247, 1223, 940, 1260, 1436, 1236, 1179, 1425, 956, 1401, 1380, 982, 728, 1173, 918, 911, 1239, 728, 924, 730, 1023, 920, 1478, 478, 966, 1426, 1389, 1411, 901, 1282, 1385, 929, 881, 539, 1439, 1416, 949, 932, 951, 938, 1436, 1244, 1238, 531, 917, 492, 934, 1287]}],\n",
       "                        {\"barmode\": \"group\", \"template\": {\"data\": {\"bar\": [{\"error_x\": {\"color\": \"#2a3f5f\"}, \"error_y\": {\"color\": \"#2a3f5f\"}, \"marker\": {\"line\": {\"color\": \"#E5ECF6\", \"width\": 0.5}}, \"type\": \"bar\"}], \"barpolar\": [{\"marker\": {\"line\": {\"color\": \"#E5ECF6\", \"width\": 0.5}}, \"type\": \"barpolar\"}], \"carpet\": [{\"aaxis\": {\"endlinecolor\": \"#2a3f5f\", \"gridcolor\": \"white\", \"linecolor\": \"white\", \"minorgridcolor\": \"white\", \"startlinecolor\": \"#2a3f5f\"}, \"baxis\": {\"endlinecolor\": \"#2a3f5f\", \"gridcolor\": \"white\", \"linecolor\": \"white\", \"minorgridcolor\": \"white\", \"startlinecolor\": \"#2a3f5f\"}, \"type\": \"carpet\"}], \"choropleth\": [{\"colorbar\": {\"outlinewidth\": 0, \"ticks\": \"\"}, \"type\": \"choropleth\"}], \"contour\": [{\"colorbar\": {\"outlinewidth\": 0, \"ticks\": \"\"}, \"colorscale\": [[0.0, \"#0d0887\"], [0.1111111111111111, \"#46039f\"], [0.2222222222222222, \"#7201a8\"], [0.3333333333333333, \"#9c179e\"], [0.4444444444444444, \"#bd3786\"], [0.5555555555555556, \"#d8576b\"], [0.6666666666666666, \"#ed7953\"], [0.7777777777777778, \"#fb9f3a\"], [0.8888888888888888, \"#fdca26\"], [1.0, \"#f0f921\"]], \"type\": \"contour\"}], \"contourcarpet\": [{\"colorbar\": {\"outlinewidth\": 0, \"ticks\": \"\"}, \"type\": \"contourcarpet\"}], \"heatmap\": [{\"colorbar\": {\"outlinewidth\": 0, \"ticks\": \"\"}, \"colorscale\": [[0.0, \"#0d0887\"], [0.1111111111111111, \"#46039f\"], [0.2222222222222222, \"#7201a8\"], [0.3333333333333333, \"#9c179e\"], [0.4444444444444444, \"#bd3786\"], [0.5555555555555556, \"#d8576b\"], [0.6666666666666666, \"#ed7953\"], [0.7777777777777778, \"#fb9f3a\"], [0.8888888888888888, \"#fdca26\"], [1.0, \"#f0f921\"]], \"type\": \"heatmap\"}], \"heatmapgl\": [{\"colorbar\": {\"outlinewidth\": 0, \"ticks\": \"\"}, \"colorscale\": [[0.0, \"#0d0887\"], [0.1111111111111111, \"#46039f\"], [0.2222222222222222, \"#7201a8\"], [0.3333333333333333, \"#9c179e\"], [0.4444444444444444, \"#bd3786\"], [0.5555555555555556, \"#d8576b\"], [0.6666666666666666, \"#ed7953\"], [0.7777777777777778, \"#fb9f3a\"], [0.8888888888888888, \"#fdca26\"], [1.0, \"#f0f921\"]], \"type\": \"heatmapgl\"}], \"histogram\": [{\"marker\": {\"colorbar\": {\"outlinewidth\": 0, \"ticks\": \"\"}}, \"type\": \"histogram\"}], \"histogram2d\": [{\"colorbar\": {\"outlinewidth\": 0, \"ticks\": \"\"}, \"colorscale\": [[0.0, \"#0d0887\"], [0.1111111111111111, \"#46039f\"], [0.2222222222222222, \"#7201a8\"], [0.3333333333333333, \"#9c179e\"], [0.4444444444444444, \"#bd3786\"], [0.5555555555555556, \"#d8576b\"], [0.6666666666666666, \"#ed7953\"], [0.7777777777777778, \"#fb9f3a\"], [0.8888888888888888, \"#fdca26\"], [1.0, \"#f0f921\"]], \"type\": \"histogram2d\"}], \"histogram2dcontour\": [{\"colorbar\": {\"outlinewidth\": 0, \"ticks\": \"\"}, \"colorscale\": [[0.0, \"#0d0887\"], [0.1111111111111111, \"#46039f\"], [0.2222222222222222, \"#7201a8\"], [0.3333333333333333, \"#9c179e\"], [0.4444444444444444, \"#bd3786\"], [0.5555555555555556, \"#d8576b\"], [0.6666666666666666, \"#ed7953\"], [0.7777777777777778, \"#fb9f3a\"], [0.8888888888888888, \"#fdca26\"], [1.0, \"#f0f921\"]], \"type\": \"histogram2dcontour\"}], \"mesh3d\": [{\"colorbar\": {\"outlinewidth\": 0, \"ticks\": \"\"}, \"type\": \"mesh3d\"}], \"parcoords\": [{\"line\": {\"colorbar\": {\"outlinewidth\": 0, \"ticks\": \"\"}}, \"type\": \"parcoords\"}], \"pie\": [{\"automargin\": true, \"type\": \"pie\"}], \"scatter\": [{\"marker\": {\"colorbar\": {\"outlinewidth\": 0, \"ticks\": \"\"}}, \"type\": \"scatter\"}], \"scatter3d\": [{\"line\": {\"colorbar\": {\"outlinewidth\": 0, \"ticks\": \"\"}}, \"marker\": {\"colorbar\": {\"outlinewidth\": 0, \"ticks\": \"\"}}, \"type\": \"scatter3d\"}], \"scattercarpet\": [{\"marker\": {\"colorbar\": {\"outlinewidth\": 0, \"ticks\": \"\"}}, \"type\": \"scattercarpet\"}], \"scattergeo\": [{\"marker\": {\"colorbar\": {\"outlinewidth\": 0, \"ticks\": \"\"}}, \"type\": \"scattergeo\"}], \"scattergl\": [{\"marker\": {\"colorbar\": {\"outlinewidth\": 0, \"ticks\": \"\"}}, \"type\": \"scattergl\"}], \"scattermapbox\": [{\"marker\": {\"colorbar\": {\"outlinewidth\": 0, \"ticks\": \"\"}}, \"type\": \"scattermapbox\"}], \"scatterpolar\": [{\"marker\": {\"colorbar\": {\"outlinewidth\": 0, \"ticks\": \"\"}}, \"type\": \"scatterpolar\"}], \"scatterpolargl\": [{\"marker\": {\"colorbar\": {\"outlinewidth\": 0, \"ticks\": \"\"}}, \"type\": \"scatterpolargl\"}], \"scatterternary\": [{\"marker\": {\"colorbar\": {\"outlinewidth\": 0, \"ticks\": \"\"}}, \"type\": \"scatterternary\"}], \"surface\": [{\"colorbar\": {\"outlinewidth\": 0, \"ticks\": \"\"}, \"colorscale\": [[0.0, \"#0d0887\"], [0.1111111111111111, \"#46039f\"], [0.2222222222222222, \"#7201a8\"], [0.3333333333333333, \"#9c179e\"], [0.4444444444444444, \"#bd3786\"], [0.5555555555555556, \"#d8576b\"], [0.6666666666666666, \"#ed7953\"], [0.7777777777777778, \"#fb9f3a\"], [0.8888888888888888, \"#fdca26\"], [1.0, \"#f0f921\"]], \"type\": \"surface\"}], \"table\": [{\"cells\": {\"fill\": {\"color\": \"#EBF0F8\"}, \"line\": {\"color\": \"white\"}}, \"header\": {\"fill\": {\"color\": \"#C8D4E3\"}, \"line\": {\"color\": \"white\"}}, \"type\": \"table\"}]}, \"layout\": {\"annotationdefaults\": {\"arrowcolor\": \"#2a3f5f\", \"arrowhead\": 0, \"arrowwidth\": 1}, \"coloraxis\": {\"colorbar\": {\"outlinewidth\": 0, \"ticks\": \"\"}}, \"colorscale\": {\"diverging\": [[0, \"#8e0152\"], [0.1, \"#c51b7d\"], [0.2, \"#de77ae\"], [0.3, \"#f1b6da\"], [0.4, \"#fde0ef\"], [0.5, \"#f7f7f7\"], [0.6, \"#e6f5d0\"], [0.7, \"#b8e186\"], [0.8, \"#7fbc41\"], [0.9, \"#4d9221\"], [1, \"#276419\"]], \"sequential\": [[0.0, \"#0d0887\"], [0.1111111111111111, \"#46039f\"], [0.2222222222222222, \"#7201a8\"], [0.3333333333333333, \"#9c179e\"], [0.4444444444444444, \"#bd3786\"], [0.5555555555555556, \"#d8576b\"], [0.6666666666666666, \"#ed7953\"], [0.7777777777777778, \"#fb9f3a\"], [0.8888888888888888, \"#fdca26\"], [1.0, \"#f0f921\"]], \"sequentialminus\": [[0.0, \"#0d0887\"], [0.1111111111111111, \"#46039f\"], [0.2222222222222222, \"#7201a8\"], [0.3333333333333333, \"#9c179e\"], [0.4444444444444444, \"#bd3786\"], [0.5555555555555556, \"#d8576b\"], [0.6666666666666666, \"#ed7953\"], [0.7777777777777778, \"#fb9f3a\"], [0.8888888888888888, \"#fdca26\"], [1.0, \"#f0f921\"]]}, \"colorway\": [\"#636efa\", \"#EF553B\", \"#00cc96\", \"#ab63fa\", \"#FFA15A\", \"#19d3f3\", \"#FF6692\", \"#B6E880\", \"#FF97FF\", \"#FECB52\"], \"font\": {\"color\": \"#2a3f5f\"}, \"geo\": {\"bgcolor\": \"white\", \"lakecolor\": \"white\", \"landcolor\": \"#E5ECF6\", \"showlakes\": true, \"showland\": true, \"subunitcolor\": \"white\"}, \"hoverlabel\": {\"align\": \"left\"}, \"hovermode\": \"closest\", \"mapbox\": {\"style\": \"light\"}, \"paper_bgcolor\": \"white\", \"plot_bgcolor\": \"#E5ECF6\", \"polar\": {\"angularaxis\": {\"gridcolor\": \"white\", \"linecolor\": \"white\", \"ticks\": \"\"}, \"bgcolor\": \"#E5ECF6\", \"radialaxis\": {\"gridcolor\": \"white\", \"linecolor\": \"white\", \"ticks\": \"\"}}, \"scene\": {\"xaxis\": {\"backgroundcolor\": \"#E5ECF6\", \"gridcolor\": \"white\", \"gridwidth\": 2, \"linecolor\": \"white\", \"showbackground\": true, \"ticks\": \"\", \"zerolinecolor\": \"white\"}, \"yaxis\": {\"backgroundcolor\": \"#E5ECF6\", \"gridcolor\": \"white\", \"gridwidth\": 2, \"linecolor\": \"white\", \"showbackground\": true, \"ticks\": \"\", \"zerolinecolor\": \"white\"}, \"zaxis\": {\"backgroundcolor\": \"#E5ECF6\", \"gridcolor\": \"white\", \"gridwidth\": 2, \"linecolor\": \"white\", \"showbackground\": true, \"ticks\": \"\", \"zerolinecolor\": \"white\"}}, \"shapedefaults\": {\"line\": {\"color\": \"#2a3f5f\"}}, \"ternary\": {\"aaxis\": {\"gridcolor\": \"white\", \"linecolor\": \"white\", \"ticks\": \"\"}, \"baxis\": {\"gridcolor\": \"white\", \"linecolor\": \"white\", \"ticks\": \"\"}, \"bgcolor\": \"#E5ECF6\", \"caxis\": {\"gridcolor\": \"white\", \"linecolor\": \"white\", \"ticks\": \"\"}}, \"title\": {\"x\": 0.05}, \"xaxis\": {\"automargin\": true, \"gridcolor\": \"white\", \"linecolor\": \"white\", \"ticks\": \"\", \"title\": {\"standoff\": 15}, \"zerolinecolor\": \"white\", \"zerolinewidth\": 2}, \"yaxis\": {\"automargin\": true, \"gridcolor\": \"white\", \"linecolor\": \"white\", \"ticks\": \"\", \"title\": {\"standoff\": 15}, \"zerolinecolor\": \"white\", \"zerolinewidth\": 2}}}, \"title\": {\"text\": \"Users ratings\"}, \"xaxis\": {\"ticklen\": 5, \"ticks\": \"inside\", \"title\": {\"text\": \"User ID\"}, \"zeroline\": false}, \"yaxis\": {\"ticklen\": 5, \"ticks\": \"outside\", \"title\": {\"text\": \"Rate\"}, \"zeroline\": false}},\n",
       "                        {\"responsive\": true}\n",
       "                    ).then(function(){\n",
       "                            \n",
       "var gd = document.getElementById('eaea4269-0e27-40ac-831d-7703f88f0135');\n",
       "var x = new MutationObserver(function (mutations, observer) {{\n",
       "        var display = window.getComputedStyle(gd).display;\n",
       "        if (!display || display === 'none') {{\n",
       "            console.log([gd, 'removed!']);\n",
       "            Plotly.purge(gd);\n",
       "            observer.disconnect();\n",
       "        }}\n",
       "}});\n",
       "\n",
       "// Listen for the removal of the full notebook cells\n",
       "var notebookContainer = gd.closest('#notebook-container');\n",
       "if (notebookContainer) {{\n",
       "    x.observe(notebookContainer, {childList: true});\n",
       "}}\n",
       "\n",
       "// Listen for the clearing of the current output cell\n",
       "var outputEl = gd.closest('.output');\n",
       "if (outputEl) {{\n",
       "    x.observe(outputEl, {childList: true});\n",
       "}}\n",
       "\n",
       "                        })\n",
       "                };\n",
       "                });\n",
       "            </script>\n",
       "        </div>"
      ]
     },
     "metadata": {},
     "output_type": "display_data"
    }
   ],
   "source": [
    "# create trace1 \n",
    "trace1 = go.Scatter(\n",
    "                y = df.rate,\n",
    "                x = df.index,\n",
    "                mode = 'markers',\n",
    "                marker = dict(color = 'rgba(31, 119, 180, 0.8)',\n",
    "                              line=dict(color='rgb(0,0,0)',width=1.5))\n",
    "            )\n",
    "layout = dict(barmode = 'group',title = 'Users ratings',\n",
    "             xaxis= dict(title= 'User ID',ticklen= 5,zeroline= False, ticks=\"inside\"), \n",
    "             yaxis = dict(title = 'Rate', ticklen = 5, zeroline = False, ticks=\"outside\"))\n",
    "data = [trace1]\n",
    "\n",
    "fig = {'data': data, 'layout': layout}\n",
    "iplot(fig)"
   ]
  },
  {
   "cell_type": "code",
   "execution_count": 431,
   "metadata": {},
   "outputs": [
    {
     "data": {
      "application/vnd.plotly.v1+json": {
       "config": {
        "linkText": "Export to plot.ly",
        "plotlyServerURL": "https://plot.ly",
        "showLink": false
       },
       "data": [
        {
         "marker": {
          "color": "rgba(31, 119, 180, 0.8)",
          "line": {
           "color": "rgb(0,0,0)",
           "width": 1.5
          }
         },
         "mode": "markers",
         "type": "scatter",
         "x": [
          1154,
          991,
          803,
          1236,
          1765,
          1574,
          1587,
          1609,
          2064,
          1527,
          1572,
          1573,
          1623,
          1224,
          1247,
          1231,
          1733,
          1964,
          1235,
          1989,
          1560,
          1390,
          1600,
          937,
          1608,
          927,
          1662,
          1710,
          1794,
          1616,
          1781,
          1597,
          1017,
          1230,
          1611,
          1595,
          1557,
          1633,
          1268,
          1525,
          1580,
          2036,
          1573,
          798,
          1140,
          1601,
          1315,
          1565,
          1631,
          1394,
          1431,
          887,
          1247,
          1223,
          940,
          1260,
          1436,
          1236,
          1179,
          1425,
          956,
          1401,
          1380,
          982,
          728,
          1173,
          918,
          911,
          1239,
          728,
          924,
          730,
          1023,
          920,
          1478,
          478,
          966,
          1426,
          1389,
          1411,
          901,
          1282,
          1385,
          929,
          881,
          539,
          1439,
          1416,
          949,
          932,
          951,
          938,
          1436,
          1244,
          1238,
          531,
          917,
          492,
          934,
          1287
         ],
         "y": [
          310,
          435,
          304,
          425,
          349,
          284,
          318,
          410,
          320,
          309,
          356,
          292,
          405,
          393,
          323,
          330,
          461,
          308,
          305,
          394,
          403,
          338,
          439,
          324,
          434,
          414,
          422,
          424,
          381,
          422,
          437,
          317,
          441,
          461,
          309,
          390,
          340,
          411,
          414,
          445,
          414,
          328,
          318,
          361,
          339,
          307,
          458,
          292,
          416,
          426,
          339,
          237,
          257,
          263,
          242,
          269,
          345,
          258,
          253,
          334,
          241,
          354,
          339,
          382,
          257,
          245,
          357,
          257,
          279,
          347,
          260,
          346,
          353,
          245,
          354,
          220,
          379,
          346,
          374,
          331,
          220,
          259,
          335,
          255,
          261,
          252,
          356,
          349,
          330,
          351,
          347,
          270,
          353,
          253,
          247,
          335,
          256,
          368,
          279,
          242
         ]
        }
       ],
       "layout": {
        "template": {
         "data": {
          "bar": [
           {
            "error_x": {
             "color": "#2a3f5f"
            },
            "error_y": {
             "color": "#2a3f5f"
            },
            "marker": {
             "line": {
              "color": "#E5ECF6",
              "width": 0.5
             }
            },
            "type": "bar"
           }
          ],
          "barpolar": [
           {
            "marker": {
             "line": {
              "color": "#E5ECF6",
              "width": 0.5
             }
            },
            "type": "barpolar"
           }
          ],
          "carpet": [
           {
            "aaxis": {
             "endlinecolor": "#2a3f5f",
             "gridcolor": "white",
             "linecolor": "white",
             "minorgridcolor": "white",
             "startlinecolor": "#2a3f5f"
            },
            "baxis": {
             "endlinecolor": "#2a3f5f",
             "gridcolor": "white",
             "linecolor": "white",
             "minorgridcolor": "white",
             "startlinecolor": "#2a3f5f"
            },
            "type": "carpet"
           }
          ],
          "choropleth": [
           {
            "colorbar": {
             "outlinewidth": 0,
             "ticks": ""
            },
            "type": "choropleth"
           }
          ],
          "contour": [
           {
            "colorbar": {
             "outlinewidth": 0,
             "ticks": ""
            },
            "colorscale": [
             [
              0,
              "#0d0887"
             ],
             [
              0.1111111111111111,
              "#46039f"
             ],
             [
              0.2222222222222222,
              "#7201a8"
             ],
             [
              0.3333333333333333,
              "#9c179e"
             ],
             [
              0.4444444444444444,
              "#bd3786"
             ],
             [
              0.5555555555555556,
              "#d8576b"
             ],
             [
              0.6666666666666666,
              "#ed7953"
             ],
             [
              0.7777777777777778,
              "#fb9f3a"
             ],
             [
              0.8888888888888888,
              "#fdca26"
             ],
             [
              1,
              "#f0f921"
             ]
            ],
            "type": "contour"
           }
          ],
          "contourcarpet": [
           {
            "colorbar": {
             "outlinewidth": 0,
             "ticks": ""
            },
            "type": "contourcarpet"
           }
          ],
          "heatmap": [
           {
            "colorbar": {
             "outlinewidth": 0,
             "ticks": ""
            },
            "colorscale": [
             [
              0,
              "#0d0887"
             ],
             [
              0.1111111111111111,
              "#46039f"
             ],
             [
              0.2222222222222222,
              "#7201a8"
             ],
             [
              0.3333333333333333,
              "#9c179e"
             ],
             [
              0.4444444444444444,
              "#bd3786"
             ],
             [
              0.5555555555555556,
              "#d8576b"
             ],
             [
              0.6666666666666666,
              "#ed7953"
             ],
             [
              0.7777777777777778,
              "#fb9f3a"
             ],
             [
              0.8888888888888888,
              "#fdca26"
             ],
             [
              1,
              "#f0f921"
             ]
            ],
            "type": "heatmap"
           }
          ],
          "heatmapgl": [
           {
            "colorbar": {
             "outlinewidth": 0,
             "ticks": ""
            },
            "colorscale": [
             [
              0,
              "#0d0887"
             ],
             [
              0.1111111111111111,
              "#46039f"
             ],
             [
              0.2222222222222222,
              "#7201a8"
             ],
             [
              0.3333333333333333,
              "#9c179e"
             ],
             [
              0.4444444444444444,
              "#bd3786"
             ],
             [
              0.5555555555555556,
              "#d8576b"
             ],
             [
              0.6666666666666666,
              "#ed7953"
             ],
             [
              0.7777777777777778,
              "#fb9f3a"
             ],
             [
              0.8888888888888888,
              "#fdca26"
             ],
             [
              1,
              "#f0f921"
             ]
            ],
            "type": "heatmapgl"
           }
          ],
          "histogram": [
           {
            "marker": {
             "colorbar": {
              "outlinewidth": 0,
              "ticks": ""
             }
            },
            "type": "histogram"
           }
          ],
          "histogram2d": [
           {
            "colorbar": {
             "outlinewidth": 0,
             "ticks": ""
            },
            "colorscale": [
             [
              0,
              "#0d0887"
             ],
             [
              0.1111111111111111,
              "#46039f"
             ],
             [
              0.2222222222222222,
              "#7201a8"
             ],
             [
              0.3333333333333333,
              "#9c179e"
             ],
             [
              0.4444444444444444,
              "#bd3786"
             ],
             [
              0.5555555555555556,
              "#d8576b"
             ],
             [
              0.6666666666666666,
              "#ed7953"
             ],
             [
              0.7777777777777778,
              "#fb9f3a"
             ],
             [
              0.8888888888888888,
              "#fdca26"
             ],
             [
              1,
              "#f0f921"
             ]
            ],
            "type": "histogram2d"
           }
          ],
          "histogram2dcontour": [
           {
            "colorbar": {
             "outlinewidth": 0,
             "ticks": ""
            },
            "colorscale": [
             [
              0,
              "#0d0887"
             ],
             [
              0.1111111111111111,
              "#46039f"
             ],
             [
              0.2222222222222222,
              "#7201a8"
             ],
             [
              0.3333333333333333,
              "#9c179e"
             ],
             [
              0.4444444444444444,
              "#bd3786"
             ],
             [
              0.5555555555555556,
              "#d8576b"
             ],
             [
              0.6666666666666666,
              "#ed7953"
             ],
             [
              0.7777777777777778,
              "#fb9f3a"
             ],
             [
              0.8888888888888888,
              "#fdca26"
             ],
             [
              1,
              "#f0f921"
             ]
            ],
            "type": "histogram2dcontour"
           }
          ],
          "mesh3d": [
           {
            "colorbar": {
             "outlinewidth": 0,
             "ticks": ""
            },
            "type": "mesh3d"
           }
          ],
          "parcoords": [
           {
            "line": {
             "colorbar": {
              "outlinewidth": 0,
              "ticks": ""
             }
            },
            "type": "parcoords"
           }
          ],
          "pie": [
           {
            "automargin": true,
            "type": "pie"
           }
          ],
          "scatter": [
           {
            "marker": {
             "colorbar": {
              "outlinewidth": 0,
              "ticks": ""
             }
            },
            "type": "scatter"
           }
          ],
          "scatter3d": [
           {
            "line": {
             "colorbar": {
              "outlinewidth": 0,
              "ticks": ""
             }
            },
            "marker": {
             "colorbar": {
              "outlinewidth": 0,
              "ticks": ""
             }
            },
            "type": "scatter3d"
           }
          ],
          "scattercarpet": [
           {
            "marker": {
             "colorbar": {
              "outlinewidth": 0,
              "ticks": ""
             }
            },
            "type": "scattercarpet"
           }
          ],
          "scattergeo": [
           {
            "marker": {
             "colorbar": {
              "outlinewidth": 0,
              "ticks": ""
             }
            },
            "type": "scattergeo"
           }
          ],
          "scattergl": [
           {
            "marker": {
             "colorbar": {
              "outlinewidth": 0,
              "ticks": ""
             }
            },
            "type": "scattergl"
           }
          ],
          "scattermapbox": [
           {
            "marker": {
             "colorbar": {
              "outlinewidth": 0,
              "ticks": ""
             }
            },
            "type": "scattermapbox"
           }
          ],
          "scatterpolar": [
           {
            "marker": {
             "colorbar": {
              "outlinewidth": 0,
              "ticks": ""
             }
            },
            "type": "scatterpolar"
           }
          ],
          "scatterpolargl": [
           {
            "marker": {
             "colorbar": {
              "outlinewidth": 0,
              "ticks": ""
             }
            },
            "type": "scatterpolargl"
           }
          ],
          "scatterternary": [
           {
            "marker": {
             "colorbar": {
              "outlinewidth": 0,
              "ticks": ""
             }
            },
            "type": "scatterternary"
           }
          ],
          "surface": [
           {
            "colorbar": {
             "outlinewidth": 0,
             "ticks": ""
            },
            "colorscale": [
             [
              0,
              "#0d0887"
             ],
             [
              0.1111111111111111,
              "#46039f"
             ],
             [
              0.2222222222222222,
              "#7201a8"
             ],
             [
              0.3333333333333333,
              "#9c179e"
             ],
             [
              0.4444444444444444,
              "#bd3786"
             ],
             [
              0.5555555555555556,
              "#d8576b"
             ],
             [
              0.6666666666666666,
              "#ed7953"
             ],
             [
              0.7777777777777778,
              "#fb9f3a"
             ],
             [
              0.8888888888888888,
              "#fdca26"
             ],
             [
              1,
              "#f0f921"
             ]
            ],
            "type": "surface"
           }
          ],
          "table": [
           {
            "cells": {
             "fill": {
              "color": "#EBF0F8"
             },
             "line": {
              "color": "white"
             }
            },
            "header": {
             "fill": {
              "color": "#C8D4E3"
             },
             "line": {
              "color": "white"
             }
            },
            "type": "table"
           }
          ]
         },
         "layout": {
          "annotationdefaults": {
           "arrowcolor": "#2a3f5f",
           "arrowhead": 0,
           "arrowwidth": 1
          },
          "coloraxis": {
           "colorbar": {
            "outlinewidth": 0,
            "ticks": ""
           }
          },
          "colorscale": {
           "diverging": [
            [
             0,
             "#8e0152"
            ],
            [
             0.1,
             "#c51b7d"
            ],
            [
             0.2,
             "#de77ae"
            ],
            [
             0.3,
             "#f1b6da"
            ],
            [
             0.4,
             "#fde0ef"
            ],
            [
             0.5,
             "#f7f7f7"
            ],
            [
             0.6,
             "#e6f5d0"
            ],
            [
             0.7,
             "#b8e186"
            ],
            [
             0.8,
             "#7fbc41"
            ],
            [
             0.9,
             "#4d9221"
            ],
            [
             1,
             "#276419"
            ]
           ],
           "sequential": [
            [
             0,
             "#0d0887"
            ],
            [
             0.1111111111111111,
             "#46039f"
            ],
            [
             0.2222222222222222,
             "#7201a8"
            ],
            [
             0.3333333333333333,
             "#9c179e"
            ],
            [
             0.4444444444444444,
             "#bd3786"
            ],
            [
             0.5555555555555556,
             "#d8576b"
            ],
            [
             0.6666666666666666,
             "#ed7953"
            ],
            [
             0.7777777777777778,
             "#fb9f3a"
            ],
            [
             0.8888888888888888,
             "#fdca26"
            ],
            [
             1,
             "#f0f921"
            ]
           ],
           "sequentialminus": [
            [
             0,
             "#0d0887"
            ],
            [
             0.1111111111111111,
             "#46039f"
            ],
            [
             0.2222222222222222,
             "#7201a8"
            ],
            [
             0.3333333333333333,
             "#9c179e"
            ],
            [
             0.4444444444444444,
             "#bd3786"
            ],
            [
             0.5555555555555556,
             "#d8576b"
            ],
            [
             0.6666666666666666,
             "#ed7953"
            ],
            [
             0.7777777777777778,
             "#fb9f3a"
            ],
            [
             0.8888888888888888,
             "#fdca26"
            ],
            [
             1,
             "#f0f921"
            ]
           ]
          },
          "colorway": [
           "#636efa",
           "#EF553B",
           "#00cc96",
           "#ab63fa",
           "#FFA15A",
           "#19d3f3",
           "#FF6692",
           "#B6E880",
           "#FF97FF",
           "#FECB52"
          ],
          "font": {
           "color": "#2a3f5f"
          },
          "geo": {
           "bgcolor": "white",
           "lakecolor": "white",
           "landcolor": "#E5ECF6",
           "showlakes": true,
           "showland": true,
           "subunitcolor": "white"
          },
          "hoverlabel": {
           "align": "left"
          },
          "hovermode": "closest",
          "mapbox": {
           "style": "light"
          },
          "paper_bgcolor": "white",
          "plot_bgcolor": "#E5ECF6",
          "polar": {
           "angularaxis": {
            "gridcolor": "white",
            "linecolor": "white",
            "ticks": ""
           },
           "bgcolor": "#E5ECF6",
           "radialaxis": {
            "gridcolor": "white",
            "linecolor": "white",
            "ticks": ""
           }
          },
          "scene": {
           "xaxis": {
            "backgroundcolor": "#E5ECF6",
            "gridcolor": "white",
            "gridwidth": 2,
            "linecolor": "white",
            "showbackground": true,
            "ticks": "",
            "zerolinecolor": "white"
           },
           "yaxis": {
            "backgroundcolor": "#E5ECF6",
            "gridcolor": "white",
            "gridwidth": 2,
            "linecolor": "white",
            "showbackground": true,
            "ticks": "",
            "zerolinecolor": "white"
           },
           "zaxis": {
            "backgroundcolor": "#E5ECF6",
            "gridcolor": "white",
            "gridwidth": 2,
            "linecolor": "white",
            "showbackground": true,
            "ticks": "",
            "zerolinecolor": "white"
           }
          },
          "shapedefaults": {
           "line": {
            "color": "#2a3f5f"
           }
          },
          "ternary": {
           "aaxis": {
            "gridcolor": "white",
            "linecolor": "white",
            "ticks": ""
           },
           "baxis": {
            "gridcolor": "white",
            "linecolor": "white",
            "ticks": ""
           },
           "bgcolor": "#E5ECF6",
           "caxis": {
            "gridcolor": "white",
            "linecolor": "white",
            "ticks": ""
           }
          },
          "title": {
           "x": 0.05
          },
          "xaxis": {
           "automargin": true,
           "gridcolor": "white",
           "linecolor": "white",
           "ticks": "",
           "title": {
            "standoff": 15
           },
           "zerolinecolor": "white",
           "zerolinewidth": 2
          },
          "yaxis": {
           "automargin": true,
           "gridcolor": "white",
           "linecolor": "white",
           "ticks": "",
           "title": {
            "standoff": 15
           },
           "zerolinecolor": "white",
           "zerolinewidth": 2
          }
         }
        },
        "title": {
         "text": "International wins vs Rating"
        },
        "xaxis": {
         "ticklen": 5,
         "ticks": "inside",
         "title": {
          "text": "International wins"
         },
         "zeroline": false
        },
        "yaxis": {
         "ticklen": 5,
         "ticks": "outside",
         "title": {
          "text": "Rating"
         },
         "zeroline": false
        }
       }
      },
      "text/html": [
       "<div>\n",
       "        \n",
       "        \n",
       "            <div id=\"ea1ad3b6-41d7-4ac5-9834-0fafdac17e15\" class=\"plotly-graph-div\" style=\"height:525px; width:100%;\"></div>\n",
       "            <script type=\"text/javascript\">\n",
       "                require([\"plotly\"], function(Plotly) {\n",
       "                    window.PLOTLYENV=window.PLOTLYENV || {};\n",
       "                    \n",
       "                if (document.getElementById(\"ea1ad3b6-41d7-4ac5-9834-0fafdac17e15\")) {\n",
       "                    Plotly.newPlot(\n",
       "                        'ea1ad3b6-41d7-4ac5-9834-0fafdac17e15',\n",
       "                        [{\"marker\": {\"color\": \"rgba(31, 119, 180, 0.8)\", \"line\": {\"color\": \"rgb(0,0,0)\", \"width\": 1.5}}, \"mode\": \"markers\", \"type\": \"scatter\", \"x\": [1154, 991, 803, 1236, 1765, 1574, 1587, 1609, 2064, 1527, 1572, 1573, 1623, 1224, 1247, 1231, 1733, 1964, 1235, 1989, 1560, 1390, 1600, 937, 1608, 927, 1662, 1710, 1794, 1616, 1781, 1597, 1017, 1230, 1611, 1595, 1557, 1633, 1268, 1525, 1580, 2036, 1573, 798, 1140, 1601, 1315, 1565, 1631, 1394, 1431, 887, 1247, 1223, 940, 1260, 1436, 1236, 1179, 1425, 956, 1401, 1380, 982, 728, 1173, 918, 911, 1239, 728, 924, 730, 1023, 920, 1478, 478, 966, 1426, 1389, 1411, 901, 1282, 1385, 929, 881, 539, 1439, 1416, 949, 932, 951, 938, 1436, 1244, 1238, 531, 917, 492, 934, 1287], \"y\": [310, 435, 304, 425, 349, 284, 318, 410, 320, 309, 356, 292, 405, 393, 323, 330, 461, 308, 305, 394, 403, 338, 439, 324, 434, 414, 422, 424, 381, 422, 437, 317, 441, 461, 309, 390, 340, 411, 414, 445, 414, 328, 318, 361, 339, 307, 458, 292, 416, 426, 339, 237, 257, 263, 242, 269, 345, 258, 253, 334, 241, 354, 339, 382, 257, 245, 357, 257, 279, 347, 260, 346, 353, 245, 354, 220, 379, 346, 374, 331, 220, 259, 335, 255, 261, 252, 356, 349, 330, 351, 347, 270, 353, 253, 247, 335, 256, 368, 279, 242]}],\n",
       "                        {\"template\": {\"data\": {\"bar\": [{\"error_x\": {\"color\": \"#2a3f5f\"}, \"error_y\": {\"color\": \"#2a3f5f\"}, \"marker\": {\"line\": {\"color\": \"#E5ECF6\", \"width\": 0.5}}, \"type\": \"bar\"}], \"barpolar\": [{\"marker\": {\"line\": {\"color\": \"#E5ECF6\", \"width\": 0.5}}, \"type\": \"barpolar\"}], \"carpet\": [{\"aaxis\": {\"endlinecolor\": \"#2a3f5f\", \"gridcolor\": \"white\", \"linecolor\": \"white\", \"minorgridcolor\": \"white\", \"startlinecolor\": \"#2a3f5f\"}, \"baxis\": {\"endlinecolor\": \"#2a3f5f\", \"gridcolor\": \"white\", \"linecolor\": \"white\", \"minorgridcolor\": \"white\", \"startlinecolor\": \"#2a3f5f\"}, \"type\": \"carpet\"}], \"choropleth\": [{\"colorbar\": {\"outlinewidth\": 0, \"ticks\": \"\"}, \"type\": \"choropleth\"}], \"contour\": [{\"colorbar\": {\"outlinewidth\": 0, \"ticks\": \"\"}, \"colorscale\": [[0.0, \"#0d0887\"], [0.1111111111111111, \"#46039f\"], [0.2222222222222222, \"#7201a8\"], [0.3333333333333333, \"#9c179e\"], [0.4444444444444444, \"#bd3786\"], [0.5555555555555556, \"#d8576b\"], [0.6666666666666666, \"#ed7953\"], [0.7777777777777778, \"#fb9f3a\"], [0.8888888888888888, \"#fdca26\"], [1.0, \"#f0f921\"]], \"type\": \"contour\"}], \"contourcarpet\": [{\"colorbar\": {\"outlinewidth\": 0, \"ticks\": \"\"}, \"type\": \"contourcarpet\"}], \"heatmap\": [{\"colorbar\": {\"outlinewidth\": 0, \"ticks\": \"\"}, \"colorscale\": [[0.0, \"#0d0887\"], [0.1111111111111111, \"#46039f\"], [0.2222222222222222, \"#7201a8\"], [0.3333333333333333, \"#9c179e\"], [0.4444444444444444, \"#bd3786\"], [0.5555555555555556, \"#d8576b\"], [0.6666666666666666, \"#ed7953\"], [0.7777777777777778, \"#fb9f3a\"], [0.8888888888888888, \"#fdca26\"], [1.0, \"#f0f921\"]], \"type\": \"heatmap\"}], \"heatmapgl\": [{\"colorbar\": {\"outlinewidth\": 0, \"ticks\": \"\"}, \"colorscale\": [[0.0, \"#0d0887\"], [0.1111111111111111, \"#46039f\"], [0.2222222222222222, \"#7201a8\"], [0.3333333333333333, \"#9c179e\"], [0.4444444444444444, \"#bd3786\"], [0.5555555555555556, \"#d8576b\"], [0.6666666666666666, \"#ed7953\"], [0.7777777777777778, \"#fb9f3a\"], [0.8888888888888888, \"#fdca26\"], [1.0, \"#f0f921\"]], \"type\": \"heatmapgl\"}], \"histogram\": [{\"marker\": {\"colorbar\": {\"outlinewidth\": 0, \"ticks\": \"\"}}, \"type\": \"histogram\"}], \"histogram2d\": [{\"colorbar\": {\"outlinewidth\": 0, \"ticks\": \"\"}, \"colorscale\": [[0.0, \"#0d0887\"], [0.1111111111111111, \"#46039f\"], [0.2222222222222222, \"#7201a8\"], [0.3333333333333333, \"#9c179e\"], [0.4444444444444444, \"#bd3786\"], [0.5555555555555556, \"#d8576b\"], [0.6666666666666666, \"#ed7953\"], [0.7777777777777778, \"#fb9f3a\"], [0.8888888888888888, \"#fdca26\"], [1.0, \"#f0f921\"]], \"type\": \"histogram2d\"}], \"histogram2dcontour\": [{\"colorbar\": {\"outlinewidth\": 0, \"ticks\": \"\"}, \"colorscale\": [[0.0, \"#0d0887\"], [0.1111111111111111, \"#46039f\"], [0.2222222222222222, \"#7201a8\"], [0.3333333333333333, \"#9c179e\"], [0.4444444444444444, \"#bd3786\"], [0.5555555555555556, \"#d8576b\"], [0.6666666666666666, \"#ed7953\"], [0.7777777777777778, \"#fb9f3a\"], [0.8888888888888888, \"#fdca26\"], [1.0, \"#f0f921\"]], \"type\": \"histogram2dcontour\"}], \"mesh3d\": [{\"colorbar\": {\"outlinewidth\": 0, \"ticks\": \"\"}, \"type\": \"mesh3d\"}], \"parcoords\": [{\"line\": {\"colorbar\": {\"outlinewidth\": 0, \"ticks\": \"\"}}, \"type\": \"parcoords\"}], \"pie\": [{\"automargin\": true, \"type\": \"pie\"}], \"scatter\": [{\"marker\": {\"colorbar\": {\"outlinewidth\": 0, \"ticks\": \"\"}}, \"type\": \"scatter\"}], \"scatter3d\": [{\"line\": {\"colorbar\": {\"outlinewidth\": 0, \"ticks\": \"\"}}, \"marker\": {\"colorbar\": {\"outlinewidth\": 0, \"ticks\": \"\"}}, \"type\": \"scatter3d\"}], \"scattercarpet\": [{\"marker\": {\"colorbar\": {\"outlinewidth\": 0, \"ticks\": \"\"}}, \"type\": \"scattercarpet\"}], \"scattergeo\": [{\"marker\": {\"colorbar\": {\"outlinewidth\": 0, \"ticks\": \"\"}}, \"type\": \"scattergeo\"}], \"scattergl\": [{\"marker\": {\"colorbar\": {\"outlinewidth\": 0, \"ticks\": \"\"}}, \"type\": \"scattergl\"}], \"scattermapbox\": [{\"marker\": {\"colorbar\": {\"outlinewidth\": 0, \"ticks\": \"\"}}, \"type\": \"scattermapbox\"}], \"scatterpolar\": [{\"marker\": {\"colorbar\": {\"outlinewidth\": 0, \"ticks\": \"\"}}, \"type\": \"scatterpolar\"}], \"scatterpolargl\": [{\"marker\": {\"colorbar\": {\"outlinewidth\": 0, \"ticks\": \"\"}}, \"type\": \"scatterpolargl\"}], \"scatterternary\": [{\"marker\": {\"colorbar\": {\"outlinewidth\": 0, \"ticks\": \"\"}}, \"type\": \"scatterternary\"}], \"surface\": [{\"colorbar\": {\"outlinewidth\": 0, \"ticks\": \"\"}, \"colorscale\": [[0.0, \"#0d0887\"], [0.1111111111111111, \"#46039f\"], [0.2222222222222222, \"#7201a8\"], [0.3333333333333333, \"#9c179e\"], [0.4444444444444444, \"#bd3786\"], [0.5555555555555556, \"#d8576b\"], [0.6666666666666666, \"#ed7953\"], [0.7777777777777778, \"#fb9f3a\"], [0.8888888888888888, \"#fdca26\"], [1.0, \"#f0f921\"]], \"type\": \"surface\"}], \"table\": [{\"cells\": {\"fill\": {\"color\": \"#EBF0F8\"}, \"line\": {\"color\": \"white\"}}, \"header\": {\"fill\": {\"color\": \"#C8D4E3\"}, \"line\": {\"color\": \"white\"}}, \"type\": \"table\"}]}, \"layout\": {\"annotationdefaults\": {\"arrowcolor\": \"#2a3f5f\", \"arrowhead\": 0, \"arrowwidth\": 1}, \"coloraxis\": {\"colorbar\": {\"outlinewidth\": 0, \"ticks\": \"\"}}, \"colorscale\": {\"diverging\": [[0, \"#8e0152\"], [0.1, \"#c51b7d\"], [0.2, \"#de77ae\"], [0.3, \"#f1b6da\"], [0.4, \"#fde0ef\"], [0.5, \"#f7f7f7\"], [0.6, \"#e6f5d0\"], [0.7, \"#b8e186\"], [0.8, \"#7fbc41\"], [0.9, \"#4d9221\"], [1, \"#276419\"]], \"sequential\": [[0.0, \"#0d0887\"], [0.1111111111111111, \"#46039f\"], [0.2222222222222222, \"#7201a8\"], [0.3333333333333333, \"#9c179e\"], [0.4444444444444444, \"#bd3786\"], [0.5555555555555556, \"#d8576b\"], [0.6666666666666666, \"#ed7953\"], [0.7777777777777778, \"#fb9f3a\"], [0.8888888888888888, \"#fdca26\"], [1.0, \"#f0f921\"]], \"sequentialminus\": [[0.0, \"#0d0887\"], [0.1111111111111111, \"#46039f\"], [0.2222222222222222, \"#7201a8\"], [0.3333333333333333, \"#9c179e\"], [0.4444444444444444, \"#bd3786\"], [0.5555555555555556, \"#d8576b\"], [0.6666666666666666, \"#ed7953\"], [0.7777777777777778, \"#fb9f3a\"], [0.8888888888888888, \"#fdca26\"], [1.0, \"#f0f921\"]]}, \"colorway\": [\"#636efa\", \"#EF553B\", \"#00cc96\", \"#ab63fa\", \"#FFA15A\", \"#19d3f3\", \"#FF6692\", \"#B6E880\", \"#FF97FF\", \"#FECB52\"], \"font\": {\"color\": \"#2a3f5f\"}, \"geo\": {\"bgcolor\": \"white\", \"lakecolor\": \"white\", \"landcolor\": \"#E5ECF6\", \"showlakes\": true, \"showland\": true, \"subunitcolor\": \"white\"}, \"hoverlabel\": {\"align\": \"left\"}, \"hovermode\": \"closest\", \"mapbox\": {\"style\": \"light\"}, \"paper_bgcolor\": \"white\", \"plot_bgcolor\": \"#E5ECF6\", \"polar\": {\"angularaxis\": {\"gridcolor\": \"white\", \"linecolor\": \"white\", \"ticks\": \"\"}, \"bgcolor\": \"#E5ECF6\", \"radialaxis\": {\"gridcolor\": \"white\", \"linecolor\": \"white\", \"ticks\": \"\"}}, \"scene\": {\"xaxis\": {\"backgroundcolor\": \"#E5ECF6\", \"gridcolor\": \"white\", \"gridwidth\": 2, \"linecolor\": \"white\", \"showbackground\": true, \"ticks\": \"\", \"zerolinecolor\": \"white\"}, \"yaxis\": {\"backgroundcolor\": \"#E5ECF6\", \"gridcolor\": \"white\", \"gridwidth\": 2, \"linecolor\": \"white\", \"showbackground\": true, \"ticks\": \"\", \"zerolinecolor\": \"white\"}, \"zaxis\": {\"backgroundcolor\": \"#E5ECF6\", \"gridcolor\": \"white\", \"gridwidth\": 2, \"linecolor\": \"white\", \"showbackground\": true, \"ticks\": \"\", \"zerolinecolor\": \"white\"}}, \"shapedefaults\": {\"line\": {\"color\": \"#2a3f5f\"}}, \"ternary\": {\"aaxis\": {\"gridcolor\": \"white\", \"linecolor\": \"white\", \"ticks\": \"\"}, \"baxis\": {\"gridcolor\": \"white\", \"linecolor\": \"white\", \"ticks\": \"\"}, \"bgcolor\": \"#E5ECF6\", \"caxis\": {\"gridcolor\": \"white\", \"linecolor\": \"white\", \"ticks\": \"\"}}, \"title\": {\"x\": 0.05}, \"xaxis\": {\"automargin\": true, \"gridcolor\": \"white\", \"linecolor\": \"white\", \"ticks\": \"\", \"title\": {\"standoff\": 15}, \"zerolinecolor\": \"white\", \"zerolinewidth\": 2}, \"yaxis\": {\"automargin\": true, \"gridcolor\": \"white\", \"linecolor\": \"white\", \"ticks\": \"\", \"title\": {\"standoff\": 15}, \"zerolinecolor\": \"white\", \"zerolinewidth\": 2}}}, \"title\": {\"text\": \"International wins vs Rating\"}, \"xaxis\": {\"ticklen\": 5, \"ticks\": \"inside\", \"title\": {\"text\": \"International wins\"}, \"zeroline\": false}, \"yaxis\": {\"ticklen\": 5, \"ticks\": \"outside\", \"title\": {\"text\": \"Rating\"}, \"zeroline\": false}},\n",
       "                        {\"responsive\": true}\n",
       "                    ).then(function(){\n",
       "                            \n",
       "var gd = document.getElementById('ea1ad3b6-41d7-4ac5-9834-0fafdac17e15');\n",
       "var x = new MutationObserver(function (mutations, observer) {{\n",
       "        var display = window.getComputedStyle(gd).display;\n",
       "        if (!display || display === 'none') {{\n",
       "            console.log([gd, 'removed!']);\n",
       "            Plotly.purge(gd);\n",
       "            observer.disconnect();\n",
       "        }}\n",
       "}});\n",
       "\n",
       "// Listen for the removal of the full notebook cells\n",
       "var notebookContainer = gd.closest('#notebook-container');\n",
       "if (notebookContainer) {{\n",
       "    x.observe(notebookContainer, {childList: true});\n",
       "}}\n",
       "\n",
       "// Listen for the clearing of the current output cell\n",
       "var outputEl = gd.closest('.output');\n",
       "if (outputEl) {{\n",
       "    x.observe(outputEl, {childList: true});\n",
       "}}\n",
       "\n",
       "                        })\n",
       "                };\n",
       "                });\n",
       "            </script>\n",
       "        </div>"
      ]
     },
     "metadata": {},
     "output_type": "display_data"
    }
   ],
   "source": [
    "# create trace1 \n",
    "trace1 = go.Scatter(\n",
    "                y = df.international_win,\n",
    "                x = df.rate,\n",
    "                mode = 'markers',\n",
    "                marker = dict(color = 'rgba(31, 119, 180, 0.8)',\n",
    "                              line=dict(color='rgb(0,0,0)',width=1.5))\n",
    "            )\n",
    "layout = dict(title = 'International wins vs Rating',\n",
    "             xaxis= dict(title= 'International wins',ticklen= 5,zeroline= False, ticks=\"inside\"), \n",
    "             yaxis = dict(title = 'Rating', ticklen = 5, zeroline = False, ticks=\"outside\"))\n",
    "data = [trace1]\n",
    "\n",
    "fig = {'data': data, 'layout': layout}\n",
    "iplot(fig)"
   ]
  }
 ],
 "metadata": {
  "kernelspec": {
   "display_name": "Python 3",
   "language": "python",
   "name": "python3"
  },
  "language_info": {
   "codemirror_mode": {
    "name": "ipython",
    "version": 3
   },
   "file_extension": ".py",
   "mimetype": "text/x-python",
   "name": "python",
   "nbconvert_exporter": "python",
   "pygments_lexer": "ipython3",
   "version": "3.7.6"
  }
 },
 "nbformat": 4,
 "nbformat_minor": 2
}
