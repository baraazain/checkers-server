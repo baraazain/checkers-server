{
 "cells": [
  {
   "cell_type": "code",
   "execution_count": 9,
   "metadata": {},
   "outputs": [],
   "source": [
    "from copy import deepcopy\n",
    "\n",
    "import numpy as np\n",
    "\n",
    "import ai.config as config\n",
    "from model.game import Action\n",
    "from ai.agent import AlphaZero\n",
    "\n",
    "\n",
    "import ai.utils as ut\n",
    "import ai.treesearch as ts"
   ]
  },
  {
   "cell_type": "code",
   "execution_count": 2,
   "metadata": {},
   "outputs": [],
   "source": []
  },
  {
   "cell_type": "code",
   "execution_count": null,
   "metadata": {},
   "outputs": [],
   "source": []
  },
  {
   "cell_type": "code",
   "execution_count": null,
   "metadata": {},
   "outputs": [],
   "source": []
  },
  {
   "cell_type": "code",
   "execution_count": null,
   "metadata": {},
   "outputs": [],
   "source": [
    "    "
   ]
  },
  {
   "cell_type": "code",
   "execution_count": null,
   "metadata": {},
   "outputs": [],
   "source": []
  },
  {
   "cell_type": "code",
   "execution_count": null,
   "metadata": {},
   "outputs": [],
   "source": []
  },
  {
   "cell_type": "code",
   "execution_count": 53,
   "metadata": {},
   "outputs": [],
   "source": [
    "class RejectedActionError(Exception):\n",
    "    pass"
   ]
  },
  {
   "cell_type": "code",
   "execution_count": null,
   "metadata": {},
   "outputs": [],
   "source": []
  },
  {
   "cell_type": "code",
   "execution_count": null,
   "metadata": {},
   "outputs": [],
   "source": []
  },
  {
   "cell_type": "code",
   "execution_count": null,
   "metadata": {},
   "outputs": [],
   "source": []
  },
  {
   "cell_type": "code",
   "execution_count": null,
   "metadata": {},
   "outputs": [],
   "source": []
  },
  {
   "cell_type": "code",
   "execution_count": 46,
   "metadata": {},
   "outputs": [],
   "source": [
    "import time\n",
    "import random\n",
    "\n",
    "from IPython.display import display\n",
    "from plotly.offline import download_plotlyjs, init_notebook_mode, plot, iplot\n",
    "\n",
    "import cufflinks as cf\n",
    "import plotly.graph_objects as go\n",
    "\n",
    "from ai.model import NeuralNetwork\n",
    "from model.international_game import InternationalGame"
   ]
  },
  {
   "cell_type": "code",
   "execution_count": 47,
   "metadata": {},
   "outputs": [
    {
     "data": {
      "text/html": [
       "        <script type=\"text/javascript\">\n",
       "        window.PlotlyConfig = {MathJaxConfig: 'local'};\n",
       "        if (window.MathJax) {MathJax.Hub.Config({SVG: {font: \"STIX-Web\"}});}\n",
       "        if (typeof require !== 'undefined') {\n",
       "        require.undef(\"plotly\");\n",
       "        requirejs.config({\n",
       "            paths: {\n",
       "                'plotly': ['https://cdn.plot.ly/plotly-latest.min']\n",
       "            }\n",
       "        });\n",
       "        require(['plotly'], function(Plotly) {\n",
       "            window._Plotly = Plotly;\n",
       "        });\n",
       "        }\n",
       "        </script>\n",
       "        "
      ]
     },
     "metadata": {},
     "output_type": "display_data"
    },
    {
     "data": {
      "text/html": [
       "        <script type=\"text/javascript\">\n",
       "        window.PlotlyConfig = {MathJaxConfig: 'local'};\n",
       "        if (window.MathJax) {MathJax.Hub.Config({SVG: {font: \"STIX-Web\"}});}\n",
       "        if (typeof require !== 'undefined') {\n",
       "        require.undef(\"plotly\");\n",
       "        requirejs.config({\n",
       "            paths: {\n",
       "                'plotly': ['https://cdn.plot.ly/plotly-latest.min']\n",
       "            }\n",
       "        });\n",
       "        require(['plotly'], function(Plotly) {\n",
       "            window._Plotly = Plotly;\n",
       "        });\n",
       "        }\n",
       "        </script>\n",
       "        "
      ]
     },
     "metadata": {},
     "output_type": "display_data"
    }
   ],
   "source": [
    "init_notebook_mode(connected=True)\n",
    "cf.go_offline()\n",
    "np.random.seed(5)"
   ]
  },
  {
   "cell_type": "code",
   "execution_count": 48,
   "metadata": {},
   "outputs": [],
   "source": [
    "action_space_shape = len(ut.get_action_space(10, 10))\n",
    "current_model = NeuralNetwork(config.REG_CONST, config.LEARNING_RATE, \n",
    "                                      (10,10,25), action_space_shape, config.HIDDEN_CNN_LAYERS)"
   ]
  },
  {
   "cell_type": "code",
   "execution_count": 49,
   "metadata": {},
   "outputs": [],
   "source": [
    "currentAgent = AlphaZero(config.MCTS_SIMS)"
   ]
  },
  {
   "cell_type": "code",
   "execution_count": 105,
   "metadata": {},
   "outputs": [],
   "source": [
    "def self_play():\n",
    "    pass"
   ]
  },
  {
   "cell_type": "code",
   "execution_count": 18,
   "metadata": {},
   "outputs": [
    {
     "data": {
      "text/html": [
       "        <script type=\"text/javascript\">\n",
       "        window.PlotlyConfig = {MathJaxConfig: 'local'};\n",
       "        if (window.MathJax) {MathJax.Hub.Config({SVG: {font: \"STIX-Web\"}});}\n",
       "        if (typeof require !== 'undefined') {\n",
       "        require.undef(\"plotly\");\n",
       "        requirejs.config({\n",
       "            paths: {\n",
       "                'plotly': ['https://cdn.plot.ly/plotly-latest.min']\n",
       "            }\n",
       "        });\n",
       "        require(['plotly'], function(Plotly) {\n",
       "            window._Plotly = Plotly;\n",
       "        });\n",
       "        }\n",
       "        </script>\n",
       "        "
      ]
     },
     "metadata": {},
     "output_type": "display_data"
    },
    {
     "data": {
      "text/html": [
       "        <script type=\"text/javascript\">\n",
       "        window.PlotlyConfig = {MathJaxConfig: 'local'};\n",
       "        if (window.MathJax) {MathJax.Hub.Config({SVG: {font: \"STIX-Web\"}});}\n",
       "        if (typeof require !== 'undefined') {\n",
       "        require.undef(\"plotly\");\n",
       "        requirejs.config({\n",
       "            paths: {\n",
       "                'plotly': ['https://cdn.plot.ly/plotly-latest.min']\n",
       "            }\n",
       "        });\n",
       "        require(['plotly'], function(Plotly) {\n",
       "            window._Plotly = Plotly;\n",
       "        });\n",
       "        }\n",
       "        </script>\n",
       "        "
      ]
     },
     "metadata": {},
     "output_type": "display_data"
    }
   ],
   "source": [
    "\n",
    "\n",
    "class PlayGround:\n",
    "    def __init__(self):\n",
    "        self.action_space_shape = len(get_action_space(10, 10))\n",
    "        self.current_model = NeuralNetwork(config.REG_CONST, config.LEARNING_RATE, \n",
    "                                      (10,10,25),   self.action_space_shape, config.HIDDEN_CNN_LAYERS)\n",
    "\n",
    "        #self.best_model = NeuralNetwork(config.REG_CONST, config.LEARNING_RATE, \n",
    "                                   #(10,10,25),   self.action_space_shape, config.HIDDEN_CNN_LAYERS)\n",
    "        \n",
    "        self.best_model.model.set_weights(self.current_model.model.get_weights())\n",
    "        self.exp = []\n",
    "        self.turn = []\n",
    "        \n",
    "        self.fig = go.FigureWidget()\n",
    "        self.fig.update_layout(xaxis_title=\"Turn\", yaxis_title='Expected value')\n",
    "        #self.fig.add_scatter(fill='tozeroy')\n",
    "        self.fig.add_scatter()\n",
    "\n",
    "    def plot_figure(self):\n",
    "        display(self.fig)\n",
    "        \n",
    "    def update_plot(self):\n",
    "        with self.fig.batch_update():\n",
    "            self.fig.data[0].x = self.turn\n",
    "            self.fig.data[0].y = self.exp\n",
    "            \n",
    "    def apply_and_update(self, game, playing_agent: AlphaZero, other_agent: AlphaZero, action: Action, action_id: int):\n",
    "        print(game.grid)\n",
    "        print(action)\n",
    "        if not game.is_legal_action(action):\n",
    "            print(game.current_turn)\n",
    "            actions = game.get_all_possible_actions()\n",
    "            for act in actions:\n",
    "                print(act)\n",
    "            raise RejectedAction(\"your fucked bro!\")\n",
    "        game.apply_action(action)\n",
    "        playing_agent.update_root(action_id)\n",
    "        if other_agent is not None:\n",
    "            other_agent.update_root(action_id)\n",
    "            \n",
    "        #return sample_builder\n",
    "\n",
    "    def self_play(self):\n",
    "        current_Agent = AlphaZero(config.MCTS_SIMS, config.CPUCT, self.current_model, pov=0, name=\"Current AlphaZero\")\n",
    "        \n",
    "        game = InternationalGame(1, None, None, None)\n",
    "        sample_builder = SampleBuilder()\n",
    "\n",
    "        for ep in range(config.EPISODES):\n",
    "            game.init()\n",
    "            current_Agent.build_mcts(StateStack(deepcopy(GameState(game))))\n",
    "\n",
    "            turn = 1\n",
    "            player: AlphaZero = current_Agent\n",
    "\n",
    "            while not game.end():\n",
    "                player.pov = game.currentTurn\n",
    "                tau = 1 if turn < config.TURNS_UNTIL_TAU0 else 0\n",
    "                try:\n",
    "                    action, action_id, state_stack, value, pi = player.train_act(tau)\n",
    "                except KeyError as e:\n",
    "                    print(e)\n",
    "                    print(player.mcts.root.edges)\n",
    "\n",
    "                if player.pov == 1:\n",
    "                    self.turn.append(turn)\n",
    "                    self.exp.append(value)\n",
    "                self.apply_and_update(game, current_Agent, None, action, action_id)\n",
    "                self.update_plot()\n",
    "                sample_builder.commit_move(state_stack, pi)\n",
    "                turn += 1\n",
    "                print('*', end='')\n",
    "\n",
    "            value = evaluate(game)\n",
    "            sample_builder.commit_sample(value, config.MAXIMIZER)\n",
    "\n",
    "        return sample_builder\n",
    "    \n",
    "    def fit(self, sample_builder:SampleBuilder):\n",
    "        for i in range(10):\n",
    "            minibatch = random.sample(sample_builder.samples, min(config.BATCH_SIZE, len(sample_builder.samples)))\n",
    "            training_states = np.array([row['state'].get_deep_representation_stack() for row in minibatch])\n",
    "            training_targets = {'value_head': np.array([row['value'] for row in minibatch]),\n",
    "                                'policy_head': np.array([row['policy'] for row in minibatch])}\n",
    "\n",
    "            ret = self.current_model.fit(training_states, training_targets, epochs=config.EPOCHS, verbose=1, validation_split=0, batch_size = 32)"
   ]
  },
  {
   "cell_type": "code",
   "execution_count": 19,
   "metadata": {},
   "outputs": [],
   "source": [
    "playground = PlayGround()"
   ]
  },
  {
   "cell_type": "code",
   "execution_count": 13,
   "metadata": {},
   "outputs": [],
   "source": [
    "#playground.plot_figure()"
   ]
  },
  {
   "cell_type": "code",
   "execution_count": 20,
   "metadata": {},
   "outputs": [
    {
     "name": "stdout",
     "output_type": "stream",
     "text": [
      "     1  2  3  4  5  6  7  8  9  10\n",
      " 1|  .  B  .  B  .  B  .  B  .  B \n",
      " 2|  B  .  B  .  B  .  B  .  B  . \n",
      " 3|  .  B  .  B  .  B  .  B  .  B \n",
      " 4|  B  .  B  .  B  .  B  .  B  . \n",
      " 5|  .  .  .  .  .  .  .  .  .  . \n",
      " 6|  .  .  .  .  .  .  .  .  .  . \n",
      " 7|  .  W  .  W  .  W  .  W  .  W \n",
      " 8|  W  .  W  .  W  .  W  .  W  . \n",
      " 9|  .  W  .  W  .  W  .  W  .  W \n",
      "10|  W  .  W  .  W  .  W  .  W  . \n",
      "\n",
      "(7,6)------->>>(6,5)\n",
      "*     1  2  3  4  5  6  7  8  9  10\n",
      " 1|  .  B  .  B  .  B  .  B  .  B \n",
      " 2|  B  .  B  .  B  .  B  .  B  . \n",
      " 3|  .  B  .  B  .  B  .  B  .  B \n",
      " 4|  B  .  B  .  B  .  B  .  B  . \n",
      " 5|  .  .  .  .  .  .  .  .  .  . \n",
      " 6|  .  .  .  .  W  .  .  .  .  . \n",
      " 7|  .  W  .  W  .  .  .  W  .  W \n",
      " 8|  W  .  W  .  W  .  W  .  W  . \n",
      " 9|  .  W  .  W  .  W  .  W  .  W \n",
      "10|  W  .  W  .  W  .  W  .  W  . \n",
      "\n",
      "(4,9)------->>>(5,8)\n",
      "*     1  2  3  4  5  6  7  8  9  10\n",
      " 1|  .  B  .  B  .  B  .  B  .  B \n",
      " 2|  B  .  B  .  B  .  B  .  B  . \n",
      " 3|  .  B  .  B  .  B  .  B  .  B \n",
      " 4|  B  .  B  .  B  .  B  .  .  . \n",
      " 5|  .  .  .  .  .  .  .  B  .  . \n",
      " 6|  .  .  .  .  W  .  .  .  .  . \n",
      " 7|  .  W  .  W  .  .  .  W  .  W \n",
      " 8|  W  .  W  .  W  .  W  .  W  . \n",
      " 9|  .  W  .  W  .  W  .  W  .  W \n",
      "10|  W  .  W  .  W  .  W  .  W  . \n",
      "\n",
      "(8,5)------->>>(7,6)\n",
      "*     1  2  3  4  5  6  7  8  9  10\n",
      " 1|  .  B  .  B  .  B  .  B  .  B \n",
      " 2|  B  .  B  .  B  .  B  .  B  . \n",
      " 3|  .  B  .  B  .  B  .  B  .  B \n",
      " 4|  B  .  B  .  B  .  B  .  .  . \n",
      " 5|  .  .  .  .  .  .  .  B  .  . \n",
      " 6|  .  .  .  .  W  .  .  .  .  . \n",
      " 7|  .  W  .  W  .  W  .  W  .  W \n",
      " 8|  W  .  W  .  .  .  W  .  W  . \n",
      " 9|  .  W  .  W  .  W  .  W  .  W \n",
      "10|  W  .  W  .  W  .  W  .  W  . \n",
      "\n",
      "(4,5)------->>>(5,6)\n",
      "*     1  2  3  4  5  6  7  8  9  10\n",
      " 1|  .  B  .  B  .  B  .  B  .  B \n",
      " 2|  B  .  B  .  B  .  B  .  B  . \n",
      " 3|  .  B  .  B  .  B  .  B  .  B \n",
      " 4|  B  .  B  .  .  .  B  .  .  . \n",
      " 5|  .  .  .  .  .  B  .  B  .  . \n",
      " 6|  .  .  .  .  W  .  .  .  .  . \n",
      " 7|  .  W  .  W  .  W  .  W  .  W \n",
      " 8|  W  .  W  .  .  .  W  .  W  . \n",
      " 9|  .  W  .  W  .  W  .  W  .  W \n",
      "10|  W  .  W  .  W  .  W  .  W  . \n",
      "\n",
      "(7,2)------->>>(6,3)\n",
      "*     1  2  3  4  5  6  7  8  9  10\n",
      " 1|  .  B  .  B  .  B  .  B  .  B \n",
      " 2|  B  .  B  .  B  .  B  .  B  . \n",
      " 3|  .  B  .  B  .  B  .  B  .  B \n",
      " 4|  B  .  B  .  .  .  B  .  .  . \n",
      " 5|  .  .  .  .  .  B  .  B  .  . \n",
      " 6|  .  .  W  .  W  .  .  .  .  . \n",
      " 7|  .  .  .  W  .  W  .  W  .  W \n",
      " 8|  W  .  W  .  .  .  W  .  W  . \n",
      " 9|  .  W  .  W  .  W  .  W  .  W \n",
      "10|  W  .  W  .  W  .  W  .  W  . \n",
      "\n",
      "(4,3)------->>>(5,4)\n",
      "*     1  2  3  4  5  6  7  8  9  10\n",
      " 1|  .  B  .  B  .  B  .  B  .  B \n",
      " 2|  B  .  B  .  B  .  B  .  B  . \n",
      " 3|  .  B  .  B  .  B  .  B  .  B \n",
      " 4|  B  .  .  .  .  .  B  .  .  . \n",
      " 5|  .  .  .  B  .  B  .  B  .  . \n",
      " 6|  .  .  W  .  W  .  .  .  .  . \n",
      " 7|  .  .  .  W  .  W  .  W  .  W \n",
      " 8|  W  .  W  .  .  .  W  .  W  . \n",
      " 9|  .  W  .  W  .  W  .  W  .  W \n",
      "10|  W  .  W  .  W  .  W  .  W  . \n",
      "\n",
      "(6,3)------->>>(4,5)\n",
      "*     1  2  3  4  5  6  7  8  9  10\n",
      " 1|  .  B  .  B  .  B  .  B  .  B \n",
      " 2|  B  .  B  .  B  .  B  .  B  . \n",
      " 3|  .  B  .  B  .  B  .  B  .  B \n",
      " 4|  B  .  .  .  W  .  B  .  .  . \n",
      " 5|  .  .  .  .  .  B  .  B  .  . \n",
      " 6|  .  .  .  .  W  .  .  .  .  . \n",
      " 7|  .  .  .  W  .  W  .  W  .  W \n",
      " 8|  W  .  W  .  .  .  W  .  W  . \n",
      " 9|  .  W  .  W  .  W  .  W  .  W \n",
      "10|  W  .  W  .  W  .  W  .  W  . \n",
      "\n",
      "(4,5)------->>>(6,7)\n",
      "*     1  2  3  4  5  6  7  8  9  10\n",
      " 1|  .  B  .  B  .  B  .  B  .  B \n",
      " 2|  B  .  B  .  B  .  B  .  B  . \n",
      " 3|  .  B  .  B  .  B  .  B  .  B \n",
      " 4|  B  .  .  .  .  .  B  .  .  . \n",
      " 5|  .  .  .  .  .  .  .  B  .  . \n",
      " 6|  .  .  .  .  W  .  W  .  .  . \n",
      " 7|  .  .  .  W  .  W  .  W  .  W \n",
      " 8|  W  .  W  .  .  .  W  .  W  . \n",
      " 9|  .  W  .  W  .  W  .  W  .  W \n",
      "10|  W  .  W  .  W  .  W  .  W  . \n",
      "\n",
      "(6,7)------->>>(4,9)\n",
      "*     1  2  3  4  5  6  7  8  9  10\n",
      " 1|  .  B  .  B  .  B  .  B  .  B \n",
      " 2|  B  .  B  .  B  .  B  .  B  . \n",
      " 3|  .  B  .  B  .  B  .  B  .  B \n",
      " 4|  B  .  .  .  .  .  B  .  W  . \n",
      " 5|  .  .  .  .  .  .  .  .  .  . \n",
      " 6|  .  .  .  .  W  .  .  .  .  . \n",
      " 7|  .  .  .  W  .  W  .  W  .  W \n",
      " 8|  W  .  W  .  .  .  W  .  W  . \n",
      " 9|  .  W  .  W  .  W  .  W  .  W \n",
      "10|  W  .  W  .  W  .  W  .  W  . \n",
      "\n",
      "(3,10)------->>>(5,8)\n",
      "*     1  2  3  4  5  6  7  8  9  10\n",
      " 1|  .  B  .  B  .  B  .  B  .  B \n",
      " 2|  B  .  B  .  B  .  B  .  B  . \n",
      " 3|  .  B  .  B  .  B  .  B  .  . \n",
      " 4|  B  .  .  .  .  .  B  .  .  . \n",
      " 5|  .  .  .  .  .  .  .  B  .  . \n",
      " 6|  .  .  .  .  W  .  .  .  .  . \n",
      " 7|  .  .  .  W  .  W  .  W  .  W \n",
      " 8|  W  .  W  .  .  .  W  .  W  . \n",
      " 9|  .  W  .  W  .  W  .  W  .  W \n",
      "10|  W  .  W  .  W  .  W  .  W  . \n",
      "\n",
      "(9,6)------->>>(8,5)\n",
      "*     1  2  3  4  5  6  7  8  9  10\n",
      " 1|  .  B  .  B  .  B  .  B  .  B \n",
      " 2|  B  .  B  .  B  .  B  .  B  . \n",
      " 3|  .  B  .  B  .  B  .  B  .  . \n",
      " 4|  B  .  .  .  .  .  B  .  .  . \n",
      " 5|  .  .  .  .  .  .  .  B  .  . \n",
      " 6|  .  .  .  .  W  .  .  .  .  . \n",
      " 7|  .  .  .  W  .  W  .  W  .  W \n",
      " 8|  W  .  W  .  W  .  W  .  W  . \n",
      " 9|  .  W  .  W  .  .  .  W  .  W \n",
      "10|  W  .  W  .  W  .  W  .  W  . \n",
      "\n",
      "(3,8)------->>>(4,9)\n",
      "*     1  2  3  4  5  6  7  8  9  10\n",
      " 1|  .  B  .  B  .  B  .  B  .  B \n",
      " 2|  B  .  B  .  B  .  B  .  B  . \n",
      " 3|  .  B  .  B  .  B  .  .  .  . \n",
      " 4|  B  .  .  .  .  .  B  .  B  . \n",
      " 5|  .  .  .  .  .  .  .  B  .  . \n",
      " 6|  .  .  .  .  W  .  .  .  .  . \n",
      " 7|  .  .  .  W  .  W  .  W  .  W \n",
      " 8|  W  .  W  .  W  .  W  .  W  . \n",
      " 9|  .  W  .  W  .  .  .  W  .  W \n",
      "10|  W  .  W  .  W  .  W  .  W  . \n",
      "\n",
      "(8,1)------->>>(7,2)\n",
      "*     1  2  3  4  5  6  7  8  9  10\n",
      " 1|  .  B  .  B  .  B  .  B  .  B \n",
      " 2|  B  .  B  .  B  .  B  .  B  . \n",
      " 3|  .  B  .  B  .  B  .  .  .  . \n",
      " 4|  B  .  .  .  .  .  B  .  B  . \n",
      " 5|  .  .  .  .  .  .  .  B  .  . \n",
      " 6|  .  .  .  .  W  .  .  .  .  . \n",
      " 7|  .  W  .  W  .  W  .  W  .  W \n",
      " 8|  .  .  W  .  W  .  W  .  W  . \n",
      " 9|  .  W  .  W  .  .  .  W  .  W \n",
      "10|  W  .  W  .  W  .  W  .  W  . \n",
      "\n",
      "(3,2)------->>>(4,3)\n",
      "*     1  2  3  4  5  6  7  8  9  10\n",
      " 1|  .  B  .  B  .  B  .  B  .  B \n",
      " 2|  B  .  B  .  B  .  B  .  B  . \n",
      " 3|  .  .  .  B  .  B  .  .  .  . \n",
      " 4|  B  .  B  .  .  .  B  .  B  . \n",
      " 5|  .  .  .  .  .  .  .  B  .  . \n",
      " 6|  .  .  .  .  W  .  .  .  .  . \n",
      " 7|  .  W  .  W  .  W  .  W  .  W \n",
      " 8|  .  .  W  .  W  .  W  .  W  . \n",
      " 9|  .  W  .  W  .  .  .  W  .  W \n",
      "10|  W  .  W  .  W  .  W  .  W  . \n",
      "\n",
      "(7,2)------->>>(6,1)\n",
      "*     1  2  3  4  5  6  7  8  9  10\n",
      " 1|  .  B  .  B  .  B  .  B  .  B \n",
      " 2|  B  .  B  .  B  .  B  .  B  . \n",
      " 3|  .  .  .  B  .  B  .  .  .  . \n",
      " 4|  B  .  B  .  .  .  B  .  B  . \n",
      " 5|  .  .  .  .  .  .  .  B  .  . \n",
      " 6|  W  .  .  .  W  .  .  .  .  . \n",
      " 7|  .  .  .  W  .  W  .  W  .  W \n",
      " 8|  .  .  W  .  W  .  W  .  W  . \n",
      " 9|  .  W  .  W  .  .  .  W  .  W \n",
      "10|  W  .  W  .  W  .  W  .  W  . \n",
      "\n",
      "(2,9)------->>>(3,8)\n",
      "*     1  2  3  4  5  6  7  8  9  10\n",
      " 1|  .  B  .  B  .  B  .  B  .  B \n",
      " 2|  B  .  B  .  B  .  B  .  .  . \n",
      " 3|  .  .  .  B  .  B  .  B  .  . \n",
      " 4|  B  .  B  .  .  .  B  .  B  . \n",
      " 5|  .  .  .  .  .  .  .  B  .  . \n",
      " 6|  W  .  .  .  W  .  .  .  .  . \n",
      " 7|  .  .  .  W  .  W  .  W  .  W \n",
      " 8|  .  .  W  .  W  .  W  .  W  . \n",
      " 9|  .  W  .  W  .  .  .  W  .  W \n",
      "10|  W  .  W  .  W  .  W  .  W  . \n",
      "\n",
      "(6,1)------->>>(5,2)\n",
      "*     1  2  3  4  5  6  7  8  9  10\n",
      " 1|  .  B  .  B  .  B  .  B  .  B \n",
      " 2|  B  .  B  .  B  .  B  .  .  . \n",
      " 3|  .  .  .  B  .  B  .  B  .  . \n",
      " 4|  B  .  B  .  .  .  B  .  B  . \n",
      " 5|  .  W  .  .  .  .  .  B  .  . \n",
      " 6|  .  .  .  .  W  .  .  .  .  . \n",
      " 7|  .  .  .  W  .  W  .  W  .  W \n",
      " 8|  .  .  W  .  W  .  W  .  W  . \n",
      " 9|  .  W  .  W  .  .  .  W  .  W \n",
      "10|  W  .  W  .  W  .  W  .  W  . \n",
      "\n",
      "(4,1)------->>>(6,3)\n",
      "*     1  2  3  4  5  6  7  8  9  10\n",
      " 1|  .  B  .  B  .  B  .  B  .  B \n",
      " 2|  B  .  B  .  B  .  B  .  .  . \n",
      " 3|  .  .  .  B  .  B  .  B  .  . \n",
      " 4|  .  .  B  .  .  .  B  .  B  . \n",
      " 5|  .  .  .  .  .  .  .  B  .  . \n",
      " 6|  .  .  B  .  W  .  .  .  .  . \n",
      " 7|  .  .  .  W  .  W  .  W  .  W \n",
      " 8|  .  .  W  .  W  .  W  .  W  . \n",
      " 9|  .  W  .  W  .  .  .  W  .  W \n",
      "10|  W  .  W  .  W  .  W  .  W  . \n",
      "\n",
      "(7,4)------->>>(5,2)\n",
      "*     1  2  3  4  5  6  7  8  9  10\n",
      " 1|  .  B  .  B  .  B  .  B  .  B \n",
      " 2|  B  .  B  .  B  .  B  .  .  . \n",
      " 3|  .  .  .  B  .  B  .  B  .  . \n",
      " 4|  .  .  B  .  .  .  B  .  B  . \n",
      " 5|  .  W  .  .  .  .  .  B  .  . \n",
      " 6|  .  .  .  .  W  .  .  .  .  . \n",
      " 7|  .  .  .  .  .  W  .  W  .  W \n",
      " 8|  .  .  W  .  W  .  W  .  W  . \n",
      " 9|  .  W  .  W  .  .  .  W  .  W \n",
      "10|  W  .  W  .  W  .  W  .  W  . \n",
      "\n",
      "(4,3)------->>>(6,1)\n",
      "*     1  2  3  4  5  6  7  8  9  10\n",
      " 1|  .  B  .  B  .  B  .  B  .  B \n",
      " 2|  B  .  B  .  B  .  B  .  .  . \n",
      " 3|  .  .  .  B  .  B  .  B  .  . \n",
      " 4|  .  .  .  .  .  .  B  .  B  . \n",
      " 5|  .  .  .  .  .  .  .  B  .  . \n",
      " 6|  B  .  .  .  W  .  .  .  .  . \n",
      " 7|  .  .  .  .  .  W  .  W  .  W \n",
      " 8|  .  .  W  .  W  .  W  .  W  . \n",
      " 9|  .  W  .  W  .  .  .  W  .  W \n",
      "10|  W  .  W  .  W  .  W  .  W  . \n",
      "\n",
      "(8,5)------->>>(7,4)\n"
     ]
    },
    {
     "name": "stdout",
     "output_type": "stream",
     "text": [
      "*     1  2  3  4  5  6  7  8  9  10\n",
      " 1|  .  B  .  B  .  B  .  B  .  B \n",
      " 2|  B  .  B  .  B  .  B  .  .  . \n",
      " 3|  .  .  .  B  .  B  .  B  .  . \n",
      " 4|  .  .  .  .  .  .  B  .  B  . \n",
      " 5|  .  .  .  .  .  .  .  B  .  . \n",
      " 6|  B  .  .  .  W  .  .  .  .  . \n",
      " 7|  .  .  .  W  .  W  .  W  .  W \n",
      " 8|  .  .  W  .  .  .  W  .  W  . \n",
      " 9|  .  W  .  W  .  .  .  W  .  W \n",
      "10|  W  .  W  .  W  .  W  .  W  . \n",
      "\n",
      "(3,4)------->>>(4,3)\n",
      "*     1  2  3  4  5  6  7  8  9  10\n",
      " 1|  .  B  .  B  .  B  .  B  .  B \n",
      " 2|  B  .  B  .  B  .  B  .  .  . \n",
      " 3|  .  .  .  .  .  B  .  B  .  . \n",
      " 4|  .  .  B  .  .  .  B  .  B  . \n",
      " 5|  .  .  .  .  .  .  .  B  .  . \n",
      " 6|  B  .  .  .  W  .  .  .  .  . \n",
      " 7|  .  .  .  W  .  W  .  W  .  W \n",
      " 8|  .  .  W  .  .  .  W  .  W  . \n",
      " 9|  .  W  .  W  .  .  .  W  .  W \n",
      "10|  W  .  W  .  W  .  W  .  W  . \n",
      "\n",
      "(9,4)------->>>(8,5)\n",
      "*     1  2  3  4  5  6  7  8  9  10\n",
      " 1|  .  B  .  B  .  B  .  B  .  B \n",
      " 2|  B  .  B  .  B  .  B  .  .  . \n",
      " 3|  .  .  .  .  .  B  .  B  .  . \n",
      " 4|  .  .  B  .  .  .  B  .  B  . \n",
      " 5|  .  .  .  .  .  .  .  B  .  . \n",
      " 6|  B  .  .  .  W  .  .  .  .  . \n",
      " 7|  .  .  .  W  .  W  .  W  .  W \n",
      " 8|  .  .  W  .  W  .  W  .  W  . \n",
      " 9|  .  W  .  .  .  .  .  W  .  W \n",
      "10|  W  .  W  .  W  .  W  .  W  . \n",
      "\n",
      "(2,1)------->>>(3,2)\n",
      "*     1  2  3  4  5  6  7  8  9  10\n",
      " 1|  .  B  .  B  .  B  .  B  .  B \n",
      " 2|  .  .  B  .  B  .  B  .  .  . \n",
      " 3|  .  B  .  .  .  B  .  B  .  . \n",
      " 4|  .  .  B  .  .  .  B  .  B  . \n",
      " 5|  .  .  .  .  .  .  .  B  .  . \n",
      " 6|  B  .  .  .  W  .  .  .  .  . \n",
      " 7|  .  .  .  W  .  W  .  W  .  W \n",
      " 8|  .  .  W  .  W  .  W  .  W  . \n",
      " 9|  .  W  .  .  .  .  .  W  .  W \n",
      "10|  W  .  W  .  W  .  W  .  W  . \n",
      "\n",
      "(10,3)------->>>(9,4)\n",
      "*     1  2  3  4  5  6  7  8  9  10\n",
      " 1|  .  B  .  B  .  B  .  B  .  B \n",
      " 2|  .  .  B  .  B  .  B  .  .  . \n",
      " 3|  .  B  .  .  .  B  .  B  .  . \n",
      " 4|  .  .  B  .  .  .  B  .  B  . \n",
      " 5|  .  .  .  .  .  .  .  B  .  . \n",
      " 6|  B  .  .  .  W  .  .  .  .  . \n",
      " 7|  .  .  .  W  .  W  .  W  .  W \n",
      " 8|  .  .  W  .  W  .  W  .  W  . \n",
      " 9|  .  W  .  W  .  .  .  W  .  W \n",
      "10|  W  .  .  .  W  .  W  .  W  . \n",
      "\n",
      "(4,3)------->>>(5,2)\n",
      "*     1  2  3  4  5  6  7  8  9  10\n",
      " 1|  .  B  .  B  .  B  .  B  .  B \n",
      " 2|  .  .  B  .  B  .  B  .  .  . \n",
      " 3|  .  B  .  .  .  B  .  B  .  . \n",
      " 4|  .  .  .  .  .  .  B  .  B  . \n",
      " 5|  .  B  .  .  .  .  .  B  .  . \n",
      " 6|  B  .  .  .  W  .  .  .  .  . \n",
      " 7|  .  .  .  W  .  W  .  W  .  W \n",
      " 8|  .  .  W  .  W  .  W  .  W  . \n",
      " 9|  .  W  .  W  .  .  .  W  .  W \n",
      "10|  W  .  .  .  W  .  W  .  W  . \n",
      "\n",
      "(10,7)------->>>(9,6)\n",
      "*     1  2  3  4  5  6  7  8  9  10\n",
      " 1|  .  B  .  B  .  B  .  B  .  B \n",
      " 2|  .  .  B  .  B  .  B  .  .  . \n",
      " 3|  .  B  .  .  .  B  .  B  .  . \n",
      " 4|  .  .  .  .  .  .  B  .  B  . \n",
      " 5|  .  B  .  .  .  .  .  B  .  . \n",
      " 6|  B  .  .  .  W  .  .  .  .  . \n",
      " 7|  .  .  .  W  .  W  .  W  .  W \n",
      " 8|  .  .  W  .  W  .  W  .  W  . \n",
      " 9|  .  W  .  W  .  W  .  W  .  W \n",
      "10|  W  .  .  .  W  .  .  .  W  . \n",
      "\n",
      "(2,5)------->>>(3,4)\n",
      "*     1  2  3  4  5  6  7  8  9  10\n",
      " 1|  .  B  .  B  .  B  .  B  .  B \n",
      " 2|  .  .  B  .  .  .  B  .  .  . \n",
      " 3|  .  B  .  B  .  B  .  B  .  . \n",
      " 4|  .  .  .  .  .  .  B  .  B  . \n",
      " 5|  .  B  .  .  .  .  .  B  .  . \n",
      " 6|  B  .  .  .  W  .  .  .  .  . \n",
      " 7|  .  .  .  W  .  W  .  W  .  W \n",
      " 8|  .  .  W  .  W  .  W  .  W  . \n",
      " 9|  .  W  .  W  .  W  .  W  .  W \n",
      "10|  W  .  .  .  W  .  .  .  W  . \n",
      "\n",
      "(6,5)------->>>(5,4)\n",
      "*     1  2  3  4  5  6  7  8  9  10\n",
      " 1|  .  B  .  B  .  B  .  B  .  B \n",
      " 2|  .  .  B  .  .  .  B  .  .  . \n",
      " 3|  .  B  .  B  .  B  .  B  .  . \n",
      " 4|  .  .  .  .  .  .  B  .  B  . \n",
      " 5|  .  B  .  W  .  .  .  B  .  . \n",
      " 6|  B  .  .  .  .  .  .  .  .  . \n",
      " 7|  .  .  .  W  .  W  .  W  .  W \n",
      " 8|  .  .  W  .  W  .  W  .  W  . \n",
      " 9|  .  W  .  W  .  W  .  W  .  W \n",
      "10|  W  .  .  .  W  .  .  .  W  . \n",
      "\n",
      "(3,2)------->>>(4,1)\n",
      "*     1  2  3  4  5  6  7  8  9  10\n",
      " 1|  .  B  .  B  .  B  .  B  .  B \n",
      " 2|  .  .  B  .  .  .  B  .  .  . \n",
      " 3|  .  .  .  B  .  B  .  B  .  . \n",
      " 4|  B  .  .  .  .  .  B  .  B  . \n",
      " 5|  .  B  .  W  .  .  .  B  .  . \n",
      " 6|  B  .  .  .  .  .  .  .  .  . \n",
      " 7|  .  .  .  W  .  W  .  W  .  W \n",
      " 8|  .  .  W  .  W  .  W  .  W  . \n",
      " 9|  .  W  .  W  .  W  .  W  .  W \n",
      "10|  W  .  .  .  W  .  .  .  W  . \n",
      "\n",
      "(7,6)------->>>(6,5)\n",
      "*     1  2  3  4  5  6  7  8  9  10\n",
      " 1|  .  B  .  B  .  B  .  B  .  B \n",
      " 2|  .  .  B  .  .  .  B  .  .  . \n",
      " 3|  .  .  .  B  .  B  .  B  .  . \n",
      " 4|  B  .  .  .  .  .  B  .  B  . \n",
      " 5|  .  B  .  W  .  .  .  B  .  . \n",
      " 6|  B  .  .  .  W  .  .  .  .  . \n",
      " 7|  .  .  .  W  .  .  .  W  .  W \n",
      " 8|  .  .  W  .  W  .  W  .  W  . \n",
      " 9|  .  W  .  W  .  W  .  W  .  W \n",
      "10|  W  .  .  .  W  .  .  .  W  . \n",
      "\n",
      "(3,6)------->>>(4,5)\n",
      "*     1  2  3  4  5  6  7  8  9  10\n",
      " 1|  .  B  .  B  .  B  .  B  .  B \n",
      " 2|  .  .  B  .  .  .  B  .  .  . \n",
      " 3|  .  .  .  B  .  .  .  B  .  . \n",
      " 4|  B  .  .  .  B  .  B  .  B  . \n",
      " 5|  .  B  .  W  .  .  .  B  .  . \n",
      " 6|  B  .  .  .  W  .  .  .  .  . \n",
      " 7|  .  .  .  W  .  .  .  W  .  W \n",
      " 8|  .  .  W  .  W  .  W  .  W  . \n",
      " 9|  .  W  .  W  .  W  .  W  .  W \n",
      "10|  W  .  .  .  W  .  .  .  W  . \n",
      "\n",
      "(5,4)------->>>(3,6)\n",
      "*     1  2  3  4  5  6  7  8  9  10\n",
      " 1|  .  B  .  B  .  B  .  B  .  B \n",
      " 2|  .  .  B  .  .  .  B  .  .  . \n",
      " 3|  .  .  .  B  .  W  .  B  .  . \n",
      " 4|  B  .  .  .  .  .  B  .  B  . \n",
      " 5|  .  B  .  .  .  .  .  B  .  . \n",
      " 6|  B  .  .  .  W  .  .  .  .  . \n",
      " 7|  .  .  .  W  .  .  .  W  .  W \n",
      " 8|  .  .  W  .  W  .  W  .  W  . \n",
      " 9|  .  W  .  W  .  W  .  W  .  W \n",
      "10|  W  .  .  .  W  .  .  .  W  . \n",
      "\n",
      "(4,7)------->>>(2,5)\n",
      "*     1  2  3  4  5  6  7  8  9  10\n",
      " 1|  .  B  .  B  .  B  .  B  .  B \n",
      " 2|  .  .  B  .  B  .  B  .  .  . \n",
      " 3|  .  .  .  B  .  .  .  B  .  . \n",
      " 4|  B  .  .  .  .  .  .  .  B  . \n",
      " 5|  .  B  .  .  .  .  .  B  .  . \n",
      " 6|  B  .  .  .  W  .  .  .  .  . \n",
      " 7|  .  .  .  W  .  .  .  W  .  W \n",
      " 8|  .  .  W  .  W  .  W  .  W  . \n",
      " 9|  .  W  .  W  .  W  .  W  .  W \n",
      "10|  W  .  .  .  W  .  .  .  W  . \n",
      "\n",
      "(8,7)------->>>(7,6)\n",
      "*     1  2  3  4  5  6  7  8  9  10\n",
      " 1|  .  B  .  B  .  B  .  B  .  B \n",
      " 2|  .  .  B  .  B  .  B  .  .  . \n",
      " 3|  .  .  .  B  .  .  .  B  .  . \n",
      " 4|  B  .  .  .  .  .  .  .  B  . \n",
      " 5|  .  B  .  .  .  .  .  B  .  . \n",
      " 6|  B  .  .  .  W  .  .  .  .  . \n",
      " 7|  .  .  .  W  .  W  .  W  .  W \n",
      " 8|  .  .  W  .  W  .  .  .  W  . \n",
      " 9|  .  W  .  W  .  W  .  W  .  W \n",
      "10|  W  .  .  .  W  .  .  .  W  . \n",
      "\n",
      "(1,8)------->>>(2,9)\n",
      "*     1  2  3  4  5  6  7  8  9  10\n",
      " 1|  .  B  .  B  .  B  .  .  .  B \n",
      " 2|  .  .  B  .  B  .  B  .  B  . \n",
      " 3|  .  .  .  B  .  .  .  B  .  . \n",
      " 4|  B  .  .  .  .  .  .  .  B  . \n",
      " 5|  .  B  .  .  .  .  .  B  .  . \n",
      " 6|  B  .  .  .  W  .  .  .  .  . \n",
      " 7|  .  .  .  W  .  W  .  W  .  W \n",
      " 8|  .  .  W  .  W  .  .  .  W  . \n",
      " 9|  .  W  .  W  .  W  .  W  .  W \n",
      "10|  W  .  .  .  W  .  .  .  W  . \n",
      "\n",
      "(9,6)------->>>(8,7)\n",
      "*     1  2  3  4  5  6  7  8  9  10\n",
      " 1|  .  B  .  B  .  B  .  .  .  B \n",
      " 2|  .  .  B  .  B  .  B  .  B  . \n",
      " 3|  .  .  .  B  .  .  .  B  .  . \n",
      " 4|  B  .  .  .  .  .  .  .  B  . \n",
      " 5|  .  B  .  .  .  .  .  B  .  . \n",
      " 6|  B  .  .  .  W  .  .  .  .  . \n",
      " 7|  .  .  .  W  .  W  .  W  .  W \n",
      " 8|  .  .  W  .  W  .  W  .  W  . \n",
      " 9|  .  W  .  W  .  .  .  W  .  W \n",
      "10|  W  .  .  .  W  .  .  .  W  . \n",
      "\n",
      "(2,5)------->>>(3,6)\n",
      "*     1  2  3  4  5  6  7  8  9  10\n",
      " 1|  .  B  .  B  .  B  .  .  .  B \n",
      " 2|  .  .  B  .  .  .  B  .  B  . \n",
      " 3|  .  .  .  B  .  B  .  B  .  . \n",
      " 4|  B  .  .  .  .  .  .  .  B  . \n",
      " 5|  .  B  .  .  .  .  .  B  .  . \n",
      " 6|  B  .  .  .  W  .  .  .  .  . \n",
      " 7|  .  .  .  W  .  W  .  W  .  W \n",
      " 8|  .  .  W  .  W  .  W  .  W  . \n",
      " 9|  .  W  .  W  .  .  .  W  .  W \n",
      "10|  W  .  .  .  W  .  .  .  W  . \n",
      "\n",
      "(9,2)------->>>(8,1)\n",
      "*     1  2  3  4  5  6  7  8  9  10\n",
      " 1|  .  B  .  B  .  B  .  .  .  B \n",
      " 2|  .  .  B  .  .  .  B  .  B  . \n",
      " 3|  .  .  .  B  .  B  .  B  .  . \n",
      " 4|  B  .  .  .  .  .  .  .  B  . \n",
      " 5|  .  B  .  .  .  .  .  B  .  . \n",
      " 6|  B  .  .  .  W  .  .  .  .  . \n",
      " 7|  .  .  .  W  .  W  .  W  .  W \n",
      " 8|  W  .  W  .  W  .  W  .  W  . \n",
      " 9|  .  .  .  W  .  .  .  W  .  W \n",
      "10|  W  .  .  .  W  .  .  .  W  . \n",
      "\n",
      "(3,6)------->>>(4,7)\n",
      "*     1  2  3  4  5  6  7  8  9  10\n",
      " 1|  .  B  .  B  .  B  .  .  .  B \n",
      " 2|  .  .  B  .  .  .  B  .  B  . \n",
      " 3|  .  .  .  B  .  .  .  B  .  . \n",
      " 4|  B  .  .  .  .  .  B  .  B  . \n",
      " 5|  .  B  .  .  .  .  .  B  .  . \n",
      " 6|  B  .  .  .  W  .  .  .  .  . \n",
      " 7|  .  .  .  W  .  W  .  W  .  W \n",
      " 8|  W  .  W  .  W  .  W  .  W  . \n",
      " 9|  .  .  .  W  .  .  .  W  .  W \n",
      "10|  W  .  .  .  W  .  .  .  W  . \n",
      "\n",
      "(8,1)------->>>(7,2)\n",
      "*     1  2  3  4  5  6  7  8  9  10\n",
      " 1|  .  B  .  B  .  B  .  .  .  B \n",
      " 2|  .  .  B  .  .  .  B  .  B  . \n",
      " 3|  .  .  .  B  .  .  .  B  .  . \n",
      " 4|  B  .  .  .  .  .  B  .  B  . \n",
      " 5|  .  B  .  .  .  .  .  B  .  . \n",
      " 6|  B  .  .  .  W  .  .  .  .  . \n",
      " 7|  .  W  .  W  .  W  .  W  .  W \n",
      " 8|  .  .  W  .  W  .  W  .  W  . \n",
      " 9|  .  .  .  W  .  .  .  W  .  W \n",
      "10|  W  .  .  .  W  .  .  .  W  . \n",
      "\n",
      "(2,7)------->>>(3,6)\n"
     ]
    },
    {
     "name": "stdout",
     "output_type": "stream",
     "text": [
      "*     1  2  3  4  5  6  7  8  9  10\n",
      " 1|  .  B  .  B  .  B  .  .  .  B \n",
      " 2|  .  .  B  .  .  .  .  .  B  . \n",
      " 3|  .  .  .  B  .  B  .  B  .  . \n",
      " 4|  B  .  .  .  .  .  B  .  B  . \n",
      " 5|  .  B  .  .  .  .  .  B  .  . \n",
      " 6|  B  .  .  .  W  .  .  .  .  . \n",
      " 7|  .  W  .  W  .  W  .  W  .  W \n",
      " 8|  .  .  W  .  W  .  W  .  W  . \n",
      " 9|  .  .  .  W  .  .  .  W  .  W \n",
      "10|  W  .  .  .  W  .  .  .  W  . \n",
      "\n",
      "(10,1)------->>>(9,2)\n",
      "*     1  2  3  4  5  6  7  8  9  10\n",
      " 1|  .  B  .  B  .  B  .  .  .  B \n",
      " 2|  .  .  B  .  .  .  .  .  B  . \n",
      " 3|  .  .  .  B  .  B  .  B  .  . \n",
      " 4|  B  .  .  .  .  .  B  .  B  . \n",
      " 5|  .  B  .  .  .  .  .  B  .  . \n",
      " 6|  B  .  .  .  W  .  .  .  .  . \n",
      " 7|  .  W  .  W  .  W  .  W  .  W \n",
      " 8|  .  .  W  .  W  .  W  .  W  . \n",
      " 9|  .  W  .  W  .  .  .  W  .  W \n",
      "10|  .  .  .  .  W  .  .  .  W  . \n",
      "\n",
      "(1,6)------->>>(2,7)\n",
      "*     1  2  3  4  5  6  7  8  9  10\n",
      " 1|  .  B  .  B  .  .  .  .  .  B \n",
      " 2|  .  .  B  .  .  .  B  .  B  . \n",
      " 3|  .  .  .  B  .  B  .  B  .  . \n",
      " 4|  B  .  .  .  .  .  B  .  B  . \n",
      " 5|  .  B  .  .  .  .  .  B  .  . \n",
      " 6|  B  .  .  .  W  .  .  .  .  . \n",
      " 7|  .  W  .  W  .  W  .  W  .  W \n",
      " 8|  .  .  W  .  W  .  W  .  W  . \n",
      " 9|  .  W  .  W  .  .  .  W  .  W \n",
      "10|  .  .  .  .  W  .  .  .  W  . \n",
      "\n",
      "(9,2)------->>>(8,1)\n",
      "*     1  2  3  4  5  6  7  8  9  10\n",
      " 1|  .  B  .  B  .  .  .  .  .  B \n",
      " 2|  .  .  B  .  .  .  B  .  B  . \n",
      " 3|  .  .  .  B  .  B  .  B  .  . \n",
      " 4|  B  .  .  .  .  .  B  .  B  . \n",
      " 5|  .  B  .  .  .  .  .  B  .  . \n",
      " 6|  B  .  .  .  W  .  .  .  .  . \n",
      " 7|  .  W  .  W  .  W  .  W  .  W \n",
      " 8|  W  .  W  .  W  .  W  .  W  . \n",
      " 9|  .  .  .  W  .  .  .  W  .  W \n",
      "10|  .  .  .  .  W  .  .  .  W  . \n",
      "\n",
      "(3,6)------->>>(4,5)\n",
      "*     1  2  3  4  5  6  7  8  9  10\n",
      " 1|  .  B  .  B  .  .  .  .  .  B \n",
      " 2|  .  .  B  .  .  .  B  .  B  . \n",
      " 3|  .  .  .  B  .  .  .  B  .  . \n",
      " 4|  B  .  .  .  B  .  B  .  B  . \n",
      " 5|  .  B  .  .  .  .  .  B  .  . \n",
      " 6|  B  .  .  .  W  .  .  .  .  . \n",
      " 7|  .  W  .  W  .  W  .  W  .  W \n",
      " 8|  W  .  W  .  W  .  W  .  W  . \n",
      " 9|  .  .  .  W  .  .  .  W  .  W \n",
      "10|  .  .  .  .  W  .  .  .  W  . \n",
      "\n",
      "(7,2)------->>>(6,3)\n",
      "*     1  2  3  4  5  6  7  8  9  10\n",
      " 1|  .  B  .  B  .  .  .  .  .  B \n",
      " 2|  .  .  B  .  .  .  B  .  B  . \n",
      " 3|  .  .  .  B  .  .  .  B  .  . \n",
      " 4|  B  .  .  .  B  .  B  .  B  . \n",
      " 5|  .  B  .  .  .  .  .  B  .  . \n",
      " 6|  B  .  W  .  W  .  .  .  .  . \n",
      " 7|  .  .  .  W  .  W  .  W  .  W \n",
      " 8|  W  .  W  .  W  .  W  .  W  . \n",
      " 9|  .  .  .  W  .  .  .  W  .  W \n",
      "10|  .  .  .  .  W  .  .  .  W  . \n",
      "\n",
      "(2,7)------->>>(3,6)\n",
      "*     1  2  3  4  5  6  7  8  9  10\n",
      " 1|  .  B  .  B  .  .  .  .  .  B \n",
      " 2|  .  .  B  .  .  .  .  .  B  . \n",
      " 3|  .  .  .  B  .  B  .  B  .  . \n",
      " 4|  B  .  .  .  B  .  B  .  B  . \n",
      " 5|  .  B  .  .  .  .  .  B  .  . \n",
      " 6|  B  .  W  .  W  .  .  .  .  . \n",
      " 7|  .  .  .  W  .  W  .  W  .  W \n",
      " 8|  W  .  W  .  W  .  W  .  W  . \n",
      " 9|  .  .  .  W  .  .  .  W  .  W \n",
      "10|  .  .  .  .  W  .  .  .  W  . \n",
      "\n",
      "(8,1)------->>>(7,2)\n",
      "*     1  2  3  4  5  6  7  8  9  10\n",
      " 1|  .  B  .  B  .  .  .  .  .  B \n",
      " 2|  .  .  B  .  .  .  .  .  B  . \n",
      " 3|  .  .  .  B  .  B  .  B  .  . \n",
      " 4|  B  .  .  .  B  .  B  .  B  . \n",
      " 5|  .  B  .  .  .  .  .  B  .  . \n",
      " 6|  B  .  W  .  W  .  .  .  .  . \n",
      " 7|  .  W  .  W  .  W  .  W  .  W \n",
      " 8|  .  .  W  .  W  .  W  .  W  . \n",
      " 9|  .  .  .  W  .  .  .  W  .  W \n",
      "10|  .  .  .  .  W  .  .  .  W  . \n",
      "\n",
      "(4,5)------->>>(5,6)\n",
      "*     1  2  3  4  5  6  7  8  9  10\n",
      " 1|  .  B  .  B  .  .  .  .  .  B \n",
      " 2|  .  .  B  .  .  .  .  .  B  . \n",
      " 3|  .  .  .  B  .  B  .  B  .  . \n",
      " 4|  B  .  .  .  .  .  B  .  B  . \n",
      " 5|  .  B  .  .  .  B  .  B  .  . \n",
      " 6|  B  .  W  .  W  .  .  .  .  . \n",
      " 7|  .  W  .  W  .  W  .  W  .  W \n",
      " 8|  .  .  W  .  W  .  W  .  W  . \n",
      " 9|  .  .  .  W  .  .  .  W  .  W \n",
      "10|  .  .  .  .  W  .  .  .  W  . \n",
      "\n",
      "(7,8)------->>>(6,9)\n",
      "*     1  2  3  4  5  6  7  8  9  10\n",
      " 1|  .  B  .  B  .  .  .  .  .  B \n",
      " 2|  .  .  B  .  .  .  .  .  B  . \n",
      " 3|  .  .  .  B  .  B  .  B  .  . \n",
      " 4|  B  .  .  .  .  .  B  .  B  . \n",
      " 5|  .  B  .  .  .  B  .  B  .  . \n",
      " 6|  B  .  W  .  W  .  .  .  W  . \n",
      " 7|  .  W  .  W  .  W  .  .  .  W \n",
      " 8|  .  .  W  .  W  .  W  .  W  . \n",
      " 9|  .  .  .  W  .  .  .  W  .  W \n",
      "10|  .  .  .  .  W  .  .  .  W  . \n",
      "\n",
      "(3,6)------->>>(4,5)\n",
      "*     1  2  3  4  5  6  7  8  9  10\n",
      " 1|  .  B  .  B  .  .  .  .  .  B \n",
      " 2|  .  .  B  .  .  .  .  .  B  . \n",
      " 3|  .  .  .  B  .  .  .  B  .  . \n",
      " 4|  B  .  .  .  B  .  B  .  B  . \n",
      " 5|  .  B  .  .  .  B  .  B  .  . \n",
      " 6|  B  .  W  .  W  .  .  .  W  . \n",
      " 7|  .  W  .  W  .  W  .  .  .  W \n",
      " 8|  .  .  W  .  W  .  W  .  W  . \n",
      " 9|  .  .  .  W  .  .  .  W  .  W \n",
      "10|  .  .  .  .  W  .  .  .  W  . \n",
      "\n",
      "(8,9)------->>>(7,8)\n",
      "*     1  2  3  4  5  6  7  8  9  10\n",
      " 1|  .  B  .  B  .  .  .  .  .  B \n",
      " 2|  .  .  B  .  .  .  .  .  B  . \n",
      " 3|  .  .  .  B  .  .  .  B  .  . \n",
      " 4|  B  .  .  .  B  .  B  .  B  . \n",
      " 5|  .  B  .  .  .  B  .  B  .  . \n",
      " 6|  B  .  W  .  W  .  .  .  W  . \n",
      " 7|  .  W  .  W  .  W  .  W  .  W \n",
      " 8|  .  .  W  .  W  .  W  .  .  . \n",
      " 9|  .  .  .  W  .  .  .  W  .  W \n",
      "10|  .  .  .  .  W  .  .  .  W  . \n",
      "\n",
      "(2,3)------->>>(3,2)\n",
      "*     1  2  3  4  5  6  7  8  9  10\n",
      " 1|  .  B  .  B  .  .  .  .  .  B \n",
      " 2|  .  .  .  .  .  .  .  .  B  . \n",
      " 3|  .  B  .  B  .  .  .  B  .  . \n",
      " 4|  B  .  .  .  B  .  B  .  B  . \n",
      " 5|  .  B  .  .  .  B  .  B  .  . \n",
      " 6|  B  .  W  .  W  .  .  .  W  . \n",
      " 7|  .  W  .  W  .  W  .  W  .  W \n",
      " 8|  .  .  W  .  W  .  W  .  .  . \n",
      " 9|  .  .  .  W  .  .  .  W  .  W \n",
      "10|  .  .  .  .  W  .  .  .  W  . \n",
      "\n",
      "(6,9)------->>>(5,10)\n",
      "*     1  2  3  4  5  6  7  8  9  10\n",
      " 1|  .  B  .  B  .  .  .  .  .  B \n",
      " 2|  .  .  .  .  .  .  .  .  B  . \n",
      " 3|  .  B  .  B  .  .  .  B  .  . \n",
      " 4|  B  .  .  .  B  .  B  .  B  . \n",
      " 5|  .  B  .  .  .  B  .  B  .  W \n",
      " 6|  B  .  W  .  W  .  .  .  .  . \n",
      " 7|  .  W  .  W  .  W  .  W  .  W \n",
      " 8|  .  .  W  .  W  .  W  .  .  . \n",
      " 9|  .  .  .  W  .  .  .  W  .  W \n",
      "10|  .  .  .  .  W  .  .  .  W  . \n",
      "\n",
      "(1,4)------->>>(2,3)\n",
      "*     1  2  3  4  5  6  7  8  9  10\n",
      " 1|  .  B  .  .  .  .  .  .  .  B \n",
      " 2|  .  .  B  .  .  .  .  .  B  . \n",
      " 3|  .  B  .  B  .  .  .  B  .  . \n",
      " 4|  B  .  .  .  B  .  B  .  B  . \n",
      " 5|  .  B  .  .  .  B  .  B  .  W \n",
      " 6|  B  .  W  .  W  .  .  .  .  . \n",
      " 7|  .  W  .  W  .  W  .  W  .  W \n",
      " 8|  .  .  W  .  W  .  W  .  .  . \n",
      " 9|  .  .  .  W  .  .  .  W  .  W \n",
      "10|  .  .  .  .  W  .  .  .  W  . \n",
      "\n",
      "(9,8)------->>>(8,9)\n",
      "*     1  2  3  4  5  6  7  8  9  10\n",
      " 1|  .  B  .  .  .  .  .  .  .  B \n",
      " 2|  .  .  B  .  .  .  .  .  B  . \n",
      " 3|  .  B  .  B  .  .  .  B  .  . \n",
      " 4|  B  .  .  .  B  .  B  .  B  . \n",
      " 5|  .  B  .  .  .  B  .  B  .  W \n",
      " 6|  B  .  W  .  W  .  .  .  .  . \n",
      " 7|  .  W  .  W  .  W  .  W  .  W \n",
      " 8|  .  .  W  .  W  .  W  .  W  . \n",
      " 9|  .  .  .  W  .  .  .  .  .  W \n",
      "10|  .  .  .  .  W  .  .  .  W  . \n",
      "\n",
      "(3,2)------->>>(4,3)\n",
      "*     1  2  3  4  5  6  7  8  9  10\n",
      " 1|  .  B  .  .  .  .  .  .  .  B \n",
      " 2|  .  .  B  .  .  .  .  .  B  . \n",
      " 3|  .  .  .  B  .  .  .  B  .  . \n",
      " 4|  B  .  B  .  B  .  B  .  B  . \n",
      " 5|  .  B  .  .  .  B  .  B  .  W \n",
      " 6|  B  .  W  .  W  .  .  .  .  . \n",
      " 7|  .  W  .  W  .  W  .  W  .  W \n",
      " 8|  .  .  W  .  W  .  W  .  W  . \n",
      " 9|  .  .  .  W  .  .  .  .  .  W \n",
      "10|  .  .  .  .  W  .  .  .  W  . \n",
      "\n",
      "(10,9)------->>>(9,8)\n",
      "*     1  2  3  4  5  6  7  8  9  10\n",
      " 1|  .  B  .  .  .  .  .  .  .  B \n",
      " 2|  .  .  B  .  .  .  .  .  B  . \n",
      " 3|  .  .  .  B  .  .  .  B  .  . \n",
      " 4|  B  .  B  .  B  .  B  .  B  . \n",
      " 5|  .  B  .  .  .  B  .  B  .  W \n",
      " 6|  B  .  W  .  W  .  .  .  .  . \n",
      " 7|  .  W  .  W  .  W  .  W  .  W \n",
      " 8|  .  .  W  .  W  .  W  .  W  . \n",
      " 9|  .  .  .  W  .  .  .  W  .  W \n",
      "10|  .  .  .  .  W  .  .  .  .  . \n",
      "\n",
      "(2,9)------->>>(3,10)\n",
      "*     1  2  3  4  5  6  7  8  9  10\n",
      " 1|  .  B  .  .  .  .  .  .  .  B \n",
      " 2|  .  .  B  .  .  .  .  .  .  . \n",
      " 3|  .  .  .  B  .  .  .  B  .  B \n",
      " 4|  B  .  B  .  B  .  B  .  B  . \n",
      " 5|  .  B  .  .  .  B  .  B  .  W \n",
      " 6|  B  .  W  .  W  .  .  .  .  . \n",
      " 7|  .  W  .  W  .  W  .  W  .  W \n",
      " 8|  .  .  W  .  W  .  W  .  W  . \n",
      " 9|  .  .  .  W  .  .  .  W  .  W \n",
      "10|  .  .  .  .  W  .  .  .  .  . \n",
      "\n",
      "(7,8)------->>>(6,9)\n",
      "*     1  2  3  4  5  6  7  8  9  10\n",
      " 1|  .  B  .  .  .  .  .  .  .  B \n",
      " 2|  .  .  B  .  .  .  .  .  .  . \n",
      " 3|  .  .  .  B  .  .  .  B  .  B \n",
      " 4|  B  .  B  .  B  .  B  .  B  . \n",
      " 5|  .  B  .  .  .  B  .  B  .  W \n",
      " 6|  B  .  W  .  W  .  .  .  W  . \n",
      " 7|  .  W  .  W  .  W  .  .  .  W \n",
      " 8|  .  .  W  .  W  .  W  .  W  . \n",
      " 9|  .  .  .  W  .  .  .  W  .  W \n",
      "10|  .  .  .  .  W  .  .  .  .  . \n",
      "\n",
      "(2,3)------->>>(3,2)\n",
      "*     1  2  3  4  5  6  7  8  9  10\n",
      " 1|  .  B  .  .  .  .  .  .  .  B \n",
      " 2|  .  .  .  .  .  .  .  .  .  . \n",
      " 3|  .  B  .  B  .  .  .  B  .  B \n",
      " 4|  B  .  B  .  B  .  B  .  B  . \n",
      " 5|  .  B  .  .  .  B  .  B  .  W \n",
      " 6|  B  .  W  .  W  .  .  .  W  . \n",
      " 7|  .  W  .  W  .  W  .  .  .  W \n",
      " 8|  .  .  W  .  W  .  W  .  W  . \n",
      " 9|  .  .  .  W  .  .  .  W  .  W \n",
      "10|  .  .  .  .  W  .  .  .  .  . \n",
      "\n",
      "(8,9)------->>>(7,8)\n"
     ]
    },
    {
     "name": "stdout",
     "output_type": "stream",
     "text": [
      "*     1  2  3  4  5  6  7  8  9  10\n",
      " 1|  .  B  .  .  .  .  .  .  .  B \n",
      " 2|  .  .  .  .  .  .  .  .  .  . \n",
      " 3|  .  B  .  B  .  .  .  B  .  B \n",
      " 4|  B  .  B  .  B  .  B  .  B  . \n",
      " 5|  .  B  .  .  .  B  .  B  .  W \n",
      " 6|  B  .  W  .  W  .  .  .  W  . \n",
      " 7|  .  W  .  W  .  W  .  W  .  W \n",
      " 8|  .  .  W  .  W  .  W  .  .  . \n",
      " 9|  .  .  .  W  .  .  .  W  .  W \n",
      "10|  .  .  .  .  W  .  .  .  .  . \n",
      "\n",
      "(1,2)------->>>(2,3)\n",
      "*     1  2  3  4  5  6  7  8  9  10\n",
      " 1|  .  .  .  .  .  .  .  .  .  B \n",
      " 2|  .  .  B  .  .  .  .  .  .  . \n",
      " 3|  .  B  .  B  .  .  .  B  .  B \n",
      " 4|  B  .  B  .  B  .  B  .  B  . \n",
      " 5|  .  B  .  .  .  B  .  B  .  W \n",
      " 6|  B  .  W  .  W  .  .  .  W  . \n",
      " 7|  .  W  .  W  .  W  .  W  .  W \n",
      " 8|  .  .  W  .  W  .  W  .  .  . \n",
      " 9|  .  .  .  W  .  .  .  W  .  W \n",
      "10|  .  .  .  .  W  .  .  .  .  . \n",
      "\n",
      "(9,10)------->>>(8,9)\n",
      "*     1  2  3  4  5  6  7  8  9  10\n",
      " 1|  .  .  .  .  .  .  .  .  .  B \n",
      " 2|  .  .  B  .  .  .  .  .  .  . \n",
      " 3|  .  B  .  B  .  .  .  B  .  B \n",
      " 4|  B  .  B  .  B  .  B  .  B  . \n",
      " 5|  .  B  .  .  .  B  .  B  .  W \n",
      " 6|  B  .  W  .  W  .  .  .  W  . \n",
      " 7|  .  W  .  W  .  W  .  W  .  W \n",
      " 8|  .  .  W  .  W  .  W  .  W  . \n",
      " 9|  .  .  .  W  .  .  .  W  .  . \n",
      "10|  .  .  .  .  W  .  .  .  .  . \n",
      "\n",
      "(1,10)------->>>(2,9)\n",
      "*     1  2  3  4  5  6  7  8  9  10\n",
      " 1|  .  .  .  .  .  .  .  .  .  . \n",
      " 2|  .  .  B  .  .  .  .  .  B  . \n",
      " 3|  .  B  .  B  .  .  .  B  .  B \n",
      " 4|  B  .  B  .  B  .  B  .  B  . \n",
      " 5|  .  B  .  .  .  B  .  B  .  W \n",
      " 6|  B  .  W  .  W  .  .  .  W  . \n",
      " 7|  .  W  .  W  .  W  .  W  .  W \n",
      " 8|  .  .  W  .  W  .  W  .  W  . \n",
      " 9|  .  .  .  W  .  .  .  W  .  . \n",
      "10|  .  .  .  .  W  .  .  .  .  . \n",
      "\n",
      "(6,5)------->>>(5,4)\n",
      "*     1  2  3  4  5  6  7  8  9  10\n",
      " 1|  .  .  .  .  .  .  .  .  .  . \n",
      " 2|  .  .  B  .  .  .  .  .  B  . \n",
      " 3|  .  B  .  B  .  .  .  B  .  B \n",
      " 4|  B  .  B  .  B  .  B  .  B  . \n",
      " 5|  .  B  .  W  .  B  .  B  .  W \n",
      " 6|  B  .  W  .  .  .  .  .  W  . \n",
      " 7|  .  W  .  W  .  W  .  W  .  W \n",
      " 8|  .  .  W  .  W  .  W  .  W  . \n",
      " 9|  .  .  .  W  .  .  .  W  .  . \n",
      "10|  .  .  .  .  W  .  .  .  .  . \n",
      "\n",
      "(4,3)------->>>(6,5)\n",
      "*     1  2  3  4  5  6  7  8  9  10\n",
      " 1|  .  .  .  .  .  .  .  .  .  . \n",
      " 2|  .  .  B  .  .  .  .  .  B  . \n",
      " 3|  .  B  .  B  .  .  .  B  .  B \n",
      " 4|  B  .  .  .  B  .  B  .  B  . \n",
      " 5|  .  B  .  .  .  B  .  B  .  W \n",
      " 6|  B  .  W  .  B  .  .  .  W  . \n",
      " 7|  .  W  .  W  .  W  .  W  .  W \n",
      " 8|  .  .  W  .  W  .  W  .  W  . \n",
      " 9|  .  .  .  W  .  .  .  W  .  . \n",
      "10|  .  .  .  .  W  .  .  .  .  . \n",
      "\n",
      "(7,6)------->>>(5,4)\n",
      "*     1  2  3  4  5  6  7  8  9  10\n",
      " 1|  .  .  .  .  .  .  .  .  .  . \n",
      " 2|  .  .  B  .  .  .  .  .  B  . \n",
      " 3|  .  B  .  B  .  .  .  B  .  B \n",
      " 4|  B  .  .  .  B  .  B  .  B  . \n",
      " 5|  .  B  .  W  .  B  .  B  .  W \n",
      " 6|  B  .  W  .  .  .  .  .  W  . \n",
      " 7|  .  W  .  W  .  .  .  W  .  W \n",
      " 8|  .  .  W  .  W  .  W  .  W  . \n",
      " 9|  .  .  .  W  .  .  .  W  .  . \n",
      "10|  .  .  .  .  W  .  .  .  .  . \n",
      "\n",
      "(5,4)------->>>(3,6)\n",
      "*     1  2  3  4  5  6  7  8  9  10\n",
      " 1|  .  .  .  .  .  .  .  .  .  . \n",
      " 2|  .  .  B  .  .  .  .  .  B  . \n",
      " 3|  .  B  .  B  .  W  .  B  .  B \n",
      " 4|  B  .  .  .  .  .  B  .  B  . \n",
      " 5|  .  B  .  .  .  B  .  B  .  W \n",
      " 6|  B  .  W  .  .  .  .  .  W  . \n",
      " 7|  .  W  .  W  .  .  .  W  .  W \n",
      " 8|  .  .  W  .  W  .  W  .  W  . \n",
      " 9|  .  .  .  W  .  .  .  W  .  . \n",
      "10|  .  .  .  .  W  .  .  .  .  . \n",
      "\n",
      "(4,7)------->>>(2,5)\n",
      "*     1  2  3  4  5  6  7  8  9  10\n",
      " 1|  .  .  .  .  .  .  .  .  .  . \n",
      " 2|  .  .  B  .  B  .  .  .  B  . \n",
      " 3|  .  B  .  B  .  .  .  B  .  B \n",
      " 4|  B  .  .  .  .  .  .  .  B  . \n",
      " 5|  .  B  .  .  .  B  .  B  .  W \n",
      " 6|  B  .  W  .  .  .  .  .  W  . \n",
      " 7|  .  W  .  W  .  .  .  W  .  W \n",
      " 8|  .  .  W  .  W  .  W  .  W  . \n",
      " 9|  .  .  .  W  .  .  .  W  .  . \n",
      "10|  .  .  .  .  W  .  .  .  .  . \n",
      "\n",
      "(6,9)------->>>(4,7)\n",
      "*     1  2  3  4  5  6  7  8  9  10\n",
      " 1|  .  .  .  .  .  .  .  .  .  . \n",
      " 2|  .  .  B  .  B  .  .  .  B  . \n",
      " 3|  .  B  .  B  .  .  .  B  .  B \n",
      " 4|  B  .  .  .  .  .  W  .  B  . \n",
      " 5|  .  B  .  .  .  B  .  .  .  W \n",
      " 6|  B  .  W  .  .  .  .  .  .  . \n",
      " 7|  .  W  .  W  .  .  .  W  .  W \n",
      " 8|  .  .  W  .  W  .  W  .  W  . \n",
      " 9|  .  .  .  W  .  .  .  W  .  . \n",
      "10|  .  .  .  .  W  .  .  .  .  . \n",
      "\n",
      "(4,7)------->>>(6,5)\n",
      "*     1  2  3  4  5  6  7  8  9  10\n",
      " 1|  .  .  .  .  .  .  .  .  .  . \n",
      " 2|  .  .  B  .  B  .  .  .  B  . \n",
      " 3|  .  B  .  B  .  .  .  B  .  B \n",
      " 4|  B  .  .  .  .  .  .  .  B  . \n",
      " 5|  .  B  .  .  .  .  .  .  .  W \n",
      " 6|  B  .  W  .  W  .  .  .  .  . \n",
      " 7|  .  W  .  W  .  .  .  W  .  W \n",
      " 8|  .  .  W  .  W  .  W  .  W  . \n",
      " 9|  .  .  .  W  .  .  .  W  .  . \n",
      "10|  .  .  .  .  W  .  .  .  .  . \n",
      "\n",
      "(3,4)------->>>(4,3)\n",
      "*     1  2  3  4  5  6  7  8  9  10\n",
      " 1|  .  .  .  .  .  .  .  .  .  . \n",
      " 2|  .  .  B  .  B  .  .  .  B  . \n",
      " 3|  .  B  .  .  .  .  .  B  .  B \n",
      " 4|  B  .  B  .  .  .  .  .  B  . \n",
      " 5|  .  B  .  .  .  .  .  .  .  W \n",
      " 6|  B  .  W  .  W  .  .  .  .  . \n",
      " 7|  .  W  .  W  .  .  .  W  .  W \n",
      " 8|  .  .  W  .  W  .  W  .  W  . \n",
      " 9|  .  .  .  W  .  .  .  W  .  . \n",
      "10|  .  .  .  .  W  .  .  .  .  . \n",
      "\n",
      "(7,10)------->>>(6,9)\n",
      "*     1  2  3  4  5  6  7  8  9  10\n",
      " 1|  .  .  .  .  .  .  .  .  .  . \n",
      " 2|  .  .  B  .  B  .  .  .  B  . \n",
      " 3|  .  B  .  .  .  .  .  B  .  B \n",
      " 4|  B  .  B  .  .  .  .  .  B  . \n",
      " 5|  .  B  .  .  .  .  .  .  .  W \n",
      " 6|  B  .  W  .  W  .  .  .  W  . \n",
      " 7|  .  W  .  W  .  .  .  W  .  . \n",
      " 8|  .  .  W  .  W  .  W  .  W  . \n",
      " 9|  .  .  .  W  .  .  .  W  .  . \n",
      "10|  .  .  .  .  W  .  .  .  .  . \n",
      "\n",
      "(2,3)------->>>(3,4)\n",
      "*     1  2  3  4  5  6  7  8  9  10\n",
      " 1|  .  .  .  .  .  .  .  .  .  . \n",
      " 2|  .  .  .  .  B  .  .  .  B  . \n",
      " 3|  .  B  .  B  .  .  .  B  .  B \n",
      " 4|  B  .  B  .  .  .  .  .  B  . \n",
      " 5|  .  B  .  .  .  .  .  .  .  W \n",
      " 6|  B  .  W  .  W  .  .  .  W  . \n",
      " 7|  .  W  .  W  .  .  .  W  .  . \n",
      " 8|  .  .  W  .  W  .  W  .  W  . \n",
      " 9|  .  .  .  W  .  .  .  W  .  . \n",
      "10|  .  .  .  .  W  .  .  .  .  . \n",
      "\n",
      "(8,7)------->>>(7,6)\n",
      "*     1  2  3  4  5  6  7  8  9  10\n",
      " 1|  .  .  .  .  .  .  .  .  .  . \n",
      " 2|  .  .  .  .  B  .  .  .  B  . \n",
      " 3|  .  B  .  B  .  .  .  B  .  B \n",
      " 4|  B  .  B  .  .  .  .  .  B  . \n",
      " 5|  .  B  .  .  .  .  .  .  .  W \n",
      " 6|  B  .  W  .  W  .  .  .  W  . \n",
      " 7|  .  W  .  W  .  W  .  W  .  . \n",
      " 8|  .  .  W  .  W  .  .  .  W  . \n",
      " 9|  .  .  .  W  .  .  .  W  .  . \n",
      "10|  .  .  .  .  W  .  .  .  .  . \n",
      "\n",
      "(3,4)------->>>(4,5)\n",
      "*     1  2  3  4  5  6  7  8  9  10\n",
      " 1|  .  .  .  .  .  .  .  .  .  . \n",
      " 2|  .  .  .  .  B  .  .  .  B  . \n",
      " 3|  .  B  .  .  .  .  .  B  .  B \n",
      " 4|  B  .  B  .  B  .  .  .  B  . \n",
      " 5|  .  B  .  .  .  .  .  .  .  W \n",
      " 6|  B  .  W  .  W  .  .  .  W  . \n",
      " 7|  .  W  .  W  .  W  .  W  .  . \n",
      " 8|  .  .  W  .  W  .  .  .  W  . \n",
      " 9|  .  .  .  W  .  .  .  W  .  . \n",
      "10|  .  .  .  .  W  .  .  .  .  . \n",
      "\n",
      "(7,6)------->>>(6,7)\n",
      "*     1  2  3  4  5  6  7  8  9  10\n",
      " 1|  .  .  .  .  .  .  .  .  .  . \n",
      " 2|  .  .  .  .  B  .  .  .  B  . \n",
      " 3|  .  B  .  .  .  .  .  B  .  B \n",
      " 4|  B  .  B  .  B  .  .  .  B  . \n",
      " 5|  .  B  .  .  .  .  .  .  .  W \n",
      " 6|  B  .  W  .  W  .  W  .  W  . \n",
      " 7|  .  W  .  W  .  .  .  W  .  . \n",
      " 8|  .  .  W  .  W  .  .  .  W  . \n",
      " 9|  .  .  .  W  .  .  .  W  .  . \n",
      "10|  .  .  .  .  W  .  .  .  .  . \n",
      "\n",
      "(2,5)------->>>(3,4)\n",
      "*     1  2  3  4  5  6  7  8  9  10\n",
      " 1|  .  .  .  .  .  .  .  .  .  . \n",
      " 2|  .  .  .  .  .  .  .  .  B  . \n",
      " 3|  .  B  .  B  .  .  .  B  .  B \n",
      " 4|  B  .  B  .  B  .  .  .  B  . \n",
      " 5|  .  B  .  .  .  .  .  .  .  W \n",
      " 6|  B  .  W  .  W  .  W  .  W  . \n",
      " 7|  .  W  .  W  .  .  .  W  .  . \n",
      " 8|  .  .  W  .  W  .  .  .  W  . \n",
      " 9|  .  .  .  W  .  .  .  W  .  . \n",
      "10|  .  .  .  .  W  .  .  .  .  . \n",
      "\n",
      "(6,5)------->>>(5,4)\n",
      "*     1  2  3  4  5  6  7  8  9  10\n",
      " 1|  .  .  .  .  .  .  .  .  .  . \n",
      " 2|  .  .  .  .  .  .  .  .  B  . \n",
      " 3|  .  B  .  B  .  .  .  B  .  B \n",
      " 4|  B  .  B  .  B  .  .  .  B  . \n",
      " 5|  .  B  .  W  .  .  .  .  .  W \n",
      " 6|  B  .  W  .  .  .  W  .  W  . \n",
      " 7|  .  W  .  W  .  .  .  W  .  . \n",
      " 8|  .  .  W  .  W  .  .  .  W  . \n",
      " 9|  .  .  .  W  .  .  .  W  .  . \n",
      "10|  .  .  .  .  W  .  .  .  .  . \n",
      "\n",
      "(4,3)------->>>(6,5)\n",
      "*     1  2  3  4  5  6  7  8  9  10\n",
      " 1|  .  .  .  .  .  .  .  .  .  . \n",
      " 2|  .  .  .  .  .  .  .  .  B  . \n",
      " 3|  .  B  .  B  .  .  .  B  .  B \n",
      " 4|  B  .  .  .  B  .  .  .  B  . \n",
      " 5|  .  B  .  .  .  .  .  .  .  W \n",
      " 6|  B  .  W  .  B  .  W  .  W  . \n",
      " 7|  .  W  .  W  .  .  .  W  .  . \n",
      " 8|  .  .  W  .  W  .  .  .  W  . \n",
      " 9|  .  .  .  W  .  .  .  W  .  . \n",
      "10|  .  .  .  .  W  .  .  .  .  . \n",
      "\n",
      "(7,4)------->>>(5,6)\n",
      "*     1  2  3  4  5  6  7  8  9  10\n",
      " 1|  .  .  .  .  .  .  .  .  .  . \n",
      " 2|  .  .  .  .  .  .  .  .  B  . \n",
      " 3|  .  B  .  B  .  .  .  B  .  B \n",
      " 4|  B  .  .  .  B  .  .  .  B  . \n",
      " 5|  .  B  .  .  .  W  .  .  .  W \n",
      " 6|  B  .  W  .  .  .  W  .  W  . \n",
      " 7|  .  W  .  .  .  .  .  W  .  . \n",
      " 8|  .  .  W  .  W  .  .  .  W  . \n",
      " 9|  .  .  .  W  .  .  .  W  .  . \n",
      "10|  .  .  .  .  W  .  .  .  .  . \n",
      "\n",
      "(5,2)------->>>(7,4)\n"
     ]
    },
    {
     "name": "stdout",
     "output_type": "stream",
     "text": [
      "*     1  2  3  4  5  6  7  8  9  10\n",
      " 1|  .  .  .  .  .  .  .  .  .  . \n",
      " 2|  .  .  .  .  .  .  .  .  B  . \n",
      " 3|  .  B  .  B  .  .  .  B  .  B \n",
      " 4|  B  .  .  .  B  .  .  .  B  . \n",
      " 5|  .  .  .  .  .  W  .  .  .  W \n",
      " 6|  B  .  .  .  .  .  W  .  W  . \n",
      " 7|  .  W  .  B  .  .  .  W  .  . \n",
      " 8|  .  .  W  .  W  .  .  .  W  . \n",
      " 9|  .  .  .  W  .  .  .  W  .  . \n",
      "10|  .  .  .  .  W  .  .  .  .  . \n",
      "\n",
      "(7,4)------->>>(9,6)\n",
      "*     1  2  3  4  5  6  7  8  9  10\n",
      " 1|  .  .  .  .  .  .  .  .  .  . \n",
      " 2|  .  .  .  .  .  .  .  .  B  . \n",
      " 3|  .  B  .  B  .  .  .  B  .  B \n",
      " 4|  B  .  .  .  B  .  .  .  B  . \n",
      " 5|  .  .  .  .  .  W  .  .  .  W \n",
      " 6|  B  .  .  .  .  .  W  .  W  . \n",
      " 7|  .  W  .  .  .  .  .  W  .  . \n",
      " 8|  .  .  W  .  .  .  .  .  W  . \n",
      " 9|  .  .  .  W  .  B  .  W  .  . \n",
      "10|  .  .  .  .  W  .  .  .  .  . \n",
      "\n",
      "(10,5)------->>>(8,7)\n",
      "*     1  2  3  4  5  6  7  8  9  10\n",
      " 1|  .  .  .  .  .  .  .  .  .  . \n",
      " 2|  .  .  .  .  .  .  .  .  B  . \n",
      " 3|  .  B  .  B  .  .  .  B  .  B \n",
      " 4|  B  .  .  .  B  .  .  .  B  . \n",
      " 5|  .  .  .  .  .  W  .  .  .  W \n",
      " 6|  B  .  .  .  .  .  W  .  W  . \n",
      " 7|  .  W  .  .  .  .  .  W  .  . \n",
      " 8|  .  .  W  .  .  .  W  .  W  . \n",
      " 9|  .  .  .  W  .  .  .  W  .  . \n",
      "10|  .  .  .  .  .  .  .  .  .  . \n",
      "\n",
      "(4,5)------->>>(5,4)\n",
      "*     1  2  3  4  5  6  7  8  9  10\n",
      " 1|  .  .  .  .  .  .  .  .  .  . \n",
      " 2|  .  .  .  .  .  .  .  .  B  . \n",
      " 3|  .  B  .  B  .  .  .  B  .  B \n",
      " 4|  B  .  .  .  .  .  .  .  B  . \n",
      " 5|  .  .  .  B  .  W  .  .  .  W \n",
      " 6|  B  .  .  .  .  .  W  .  W  . \n",
      " 7|  .  W  .  .  .  .  .  W  .  . \n",
      " 8|  .  .  W  .  .  .  W  .  W  . \n",
      " 9|  .  .  .  W  .  .  .  W  .  . \n",
      "10|  .  .  .  .  .  .  .  .  .  . \n",
      "\n",
      "(8,9)------->>>(7,10)\n",
      "*     1  2  3  4  5  6  7  8  9  10\n",
      " 1|  .  .  .  .  .  .  .  .  .  . \n",
      " 2|  .  .  .  .  .  .  .  .  B  . \n",
      " 3|  .  B  .  B  .  .  .  B  .  B \n",
      " 4|  B  .  .  .  .  .  .  .  B  . \n",
      " 5|  .  .  .  B  .  W  .  .  .  W \n",
      " 6|  B  .  .  .  .  .  W  .  W  . \n",
      " 7|  .  W  .  .  .  .  .  W  .  W \n",
      " 8|  .  .  W  .  .  .  W  .  .  . \n",
      " 9|  .  .  .  W  .  .  .  W  .  . \n",
      "10|  .  .  .  .  .  .  .  .  .  . \n",
      "\n",
      "(3,2)------->>>(4,3)\n",
      "*     1  2  3  4  5  6  7  8  9  10\n",
      " 1|  .  .  .  .  .  .  .  .  .  . \n",
      " 2|  .  .  .  .  .  .  .  .  B  . \n",
      " 3|  .  .  .  B  .  .  .  B  .  B \n",
      " 4|  B  .  B  .  .  .  .  .  B  . \n",
      " 5|  .  .  .  B  .  W  .  .  .  W \n",
      " 6|  B  .  .  .  .  .  W  .  W  . \n",
      " 7|  .  W  .  .  .  .  .  W  .  W \n",
      " 8|  .  .  W  .  .  .  W  .  .  . \n",
      " 9|  .  .  .  W  .  .  .  W  .  . \n",
      "10|  .  .  .  .  .  .  .  .  .  . \n",
      "\n",
      "(8,7)------->>>(7,6)\n",
      "*     1  2  3  4  5  6  7  8  9  10\n",
      " 1|  .  .  .  .  .  .  .  .  .  . \n",
      " 2|  .  .  .  .  .  .  .  .  B  . \n",
      " 3|  .  .  .  B  .  .  .  B  .  B \n",
      " 4|  B  .  B  .  .  .  .  .  B  . \n",
      " 5|  .  .  .  B  .  W  .  .  .  W \n",
      " 6|  B  .  .  .  .  .  W  .  W  . \n",
      " 7|  .  W  .  .  .  W  .  W  .  W \n",
      " 8|  .  .  W  .  .  .  .  .  .  . \n",
      " 9|  .  .  .  W  .  .  .  W  .  . \n",
      "10|  .  .  .  .  .  .  .  .  .  . \n",
      "\n",
      "(4,3)------->>>(5,2)\n",
      "*     1  2  3  4  5  6  7  8  9  10\n",
      " 1|  .  .  .  .  .  .  .  .  .  . \n",
      " 2|  .  .  .  .  .  .  .  .  B  . \n",
      " 3|  .  .  .  B  .  .  .  B  .  B \n",
      " 4|  B  .  .  .  .  .  .  .  B  . \n",
      " 5|  .  B  .  B  .  W  .  .  .  W \n",
      " 6|  B  .  .  .  .  .  W  .  W  . \n",
      " 7|  .  W  .  .  .  W  .  W  .  W \n",
      " 8|  .  .  W  .  .  .  .  .  .  . \n",
      " 9|  .  .  .  W  .  .  .  W  .  . \n",
      "10|  .  .  .  .  .  .  .  .  .  . \n",
      "\n",
      "(9,4)------->>>(8,5)\n",
      "*     1  2  3  4  5  6  7  8  9  10\n",
      " 1|  .  .  .  .  .  .  .  .  .  . \n",
      " 2|  .  .  .  .  .  .  .  .  B  . \n",
      " 3|  .  .  .  B  .  .  .  B  .  B \n",
      " 4|  B  .  .  .  .  .  .  .  B  . \n",
      " 5|  .  B  .  B  .  W  .  .  .  W \n",
      " 6|  B  .  .  .  .  .  W  .  W  . \n",
      " 7|  .  W  .  .  .  W  .  W  .  W \n",
      " 8|  .  .  W  .  W  .  .  .  .  . \n",
      " 9|  .  .  .  .  .  .  .  W  .  . \n",
      "10|  .  .  .  .  .  .  .  .  .  . \n",
      "\n",
      "(4,9)------->>>(5,8)\n",
      "*     1  2  3  4  5  6  7  8  9  10\n",
      " 1|  .  .  .  .  .  .  .  .  .  . \n",
      " 2|  .  .  .  .  .  .  .  .  B  . \n",
      " 3|  .  .  .  B  .  .  .  B  .  B \n",
      " 4|  B  .  .  .  .  .  .  .  .  . \n",
      " 5|  .  B  .  B  .  W  .  B  .  W \n",
      " 6|  B  .  .  .  .  .  W  .  W  . \n",
      " 7|  .  W  .  .  .  W  .  W  .  W \n",
      " 8|  .  .  W  .  W  .  .  .  .  . \n",
      " 9|  .  .  .  .  .  .  .  W  .  . \n",
      "10|  .  .  .  .  .  .  .  .  .  . \n",
      "\n",
      "(6,7)------->>>(4,9)\n",
      "*     1  2  3  4  5  6  7  8  9  10\n",
      " 1|  .  .  .  .  .  .  .  .  .  . \n",
      " 2|  .  .  .  .  .  .  .  .  B  . \n",
      " 3|  .  .  .  B  .  .  .  B  .  B \n",
      " 4|  B  .  .  .  .  .  .  .  W  . \n",
      " 5|  .  B  .  B  .  W  .  .  .  W \n",
      " 6|  B  .  .  .  .  .  .  .  W  . \n",
      " 7|  .  W  .  .  .  W  .  W  .  W \n",
      " 8|  .  .  W  .  W  .  .  .  .  . \n",
      " 9|  .  .  .  .  .  .  .  W  .  . \n",
      "10|  .  .  .  .  .  .  .  .  .  . \n",
      "\n",
      "(4,9)------->>>(2,7)\n",
      "*     1  2  3  4  5  6  7  8  9  10\n",
      " 1|  .  .  .  .  .  .  .  .  .  . \n",
      " 2|  .  .  .  .  .  .  W  .  B  . \n",
      " 3|  .  .  .  B  .  .  .  .  .  B \n",
      " 4|  B  .  .  .  .  .  .  .  .  . \n",
      " 5|  .  B  .  B  .  W  .  .  .  W \n",
      " 6|  B  .  .  .  .  .  .  .  W  . \n",
      " 7|  .  W  .  .  .  W  .  W  .  W \n",
      " 8|  .  .  W  .  W  .  .  .  .  . \n",
      " 9|  .  .  .  .  .  .  .  W  .  . \n",
      "10|  .  .  .  .  .  .  .  .  .  . \n",
      "\n",
      "(3,4)------->>>(4,3)\n",
      "*     1  2  3  4  5  6  7  8  9  10\n",
      " 1|  .  .  .  .  .  .  .  .  .  . \n",
      " 2|  .  .  .  .  .  .  W  .  B  . \n",
      " 3|  .  .  .  .  .  .  .  .  .  B \n",
      " 4|  B  .  B  .  .  .  .  .  .  . \n",
      " 5|  .  B  .  B  .  W  .  .  .  W \n",
      " 6|  B  .  .  .  .  .  .  .  W  . \n",
      " 7|  .  W  .  .  .  W  .  W  .  W \n",
      " 8|  .  .  W  .  W  .  .  .  .  . \n",
      " 9|  .  .  .  .  .  .  .  W  .  . \n",
      "10|  .  .  .  .  .  .  .  .  .  . \n",
      "\n",
      "(8,5)------->>>(7,4)\n",
      "*     1  2  3  4  5  6  7  8  9  10\n",
      " 1|  .  .  .  .  .  .  .  .  .  . \n",
      " 2|  .  .  .  .  .  .  W  .  B  . \n",
      " 3|  .  .  .  .  .  .  .  .  .  B \n",
      " 4|  B  .  B  .  .  .  .  .  .  . \n",
      " 5|  .  B  .  B  .  W  .  .  .  W \n",
      " 6|  B  .  .  .  .  .  .  .  W  . \n",
      " 7|  .  W  .  W  .  W  .  W  .  W \n",
      " 8|  .  .  W  .  .  .  .  .  .  . \n",
      " 9|  .  .  .  .  .  .  .  W  .  . \n",
      "10|  .  .  .  .  .  .  .  .  .  . \n",
      "\n",
      "(5,4)------->>>(6,5)\n",
      "*     1  2  3  4  5  6  7  8  9  10\n",
      " 1|  .  .  .  .  .  .  .  .  .  . \n",
      " 2|  .  .  .  .  .  .  W  .  B  . \n",
      " 3|  .  .  .  .  .  .  .  .  .  B \n",
      " 4|  B  .  B  .  .  .  .  .  .  . \n",
      " 5|  .  B  .  .  .  W  .  .  .  W \n",
      " 6|  B  .  .  .  B  .  .  .  W  . \n",
      " 7|  .  W  .  W  .  W  .  W  .  W \n",
      " 8|  .  .  W  .  .  .  .  .  .  . \n",
      " 9|  .  .  .  .  .  .  .  W  .  . \n",
      "10|  .  .  .  .  .  .  .  .  .  . \n",
      "\n",
      "(7,6)------->>>(5,4)\n",
      "*     1  2  3  4  5  6  7  8  9  10\n",
      " 1|  .  .  .  .  .  .  .  .  .  . \n",
      " 2|  .  .  .  .  .  .  W  .  B  . \n",
      " 3|  .  .  .  .  .  .  .  .  .  B \n",
      " 4|  B  .  B  .  .  .  .  .  .  . \n",
      " 5|  .  B  .  W  .  W  .  .  .  W \n",
      " 6|  B  .  .  .  .  .  .  .  W  . \n",
      " 7|  .  W  .  W  .  .  .  W  .  W \n",
      " 8|  .  .  W  .  .  .  .  .  .  . \n",
      " 9|  .  .  .  .  .  .  .  W  .  . \n",
      "10|  .  .  .  .  .  .  .  .  .  . \n",
      "\n",
      "(5,4)------->>>(3,2)\n",
      "*     1  2  3  4  5  6  7  8  9  10\n",
      " 1|  .  .  .  .  .  .  .  .  .  . \n",
      " 2|  .  .  .  .  .  .  W  .  B  . \n",
      " 3|  .  W  .  .  .  .  .  .  .  B \n",
      " 4|  B  .  .  .  .  .  .  .  .  . \n",
      " 5|  .  B  .  .  .  W  .  .  .  W \n",
      " 6|  B  .  .  .  .  .  .  .  W  . \n",
      " 7|  .  W  .  W  .  .  .  W  .  W \n",
      " 8|  .  .  W  .  .  .  .  .  .  . \n",
      " 9|  .  .  .  .  .  .  .  W  .  . \n",
      "10|  .  .  .  .  .  .  .  .  .  . \n",
      "\n",
      "(4,1)------->>>(2,3)\n",
      "*     1  2  3  4  5  6  7  8  9  10\n",
      " 1|  .  .  .  .  .  .  .  .  .  . \n",
      " 2|  .  .  B  .  .  .  W  .  B  . \n",
      " 3|  .  .  .  .  .  .  .  .  .  B \n",
      " 4|  .  .  .  .  .  .  .  .  .  . \n",
      " 5|  .  B  .  .  .  W  .  .  .  W \n",
      " 6|  B  .  .  .  .  .  .  .  W  . \n",
      " 7|  .  W  .  W  .  .  .  W  .  W \n",
      " 8|  .  .  W  .  .  .  .  .  .  . \n",
      " 9|  .  .  .  .  .  .  .  W  .  . \n",
      "10|  .  .  .  .  .  .  .  .  .  . \n",
      "\n",
      "(7,4)------->>>(6,5)\n",
      "*     1  2  3  4  5  6  7  8  9  10\n",
      " 1|  .  .  .  .  .  .  .  .  .  . \n",
      " 2|  .  .  B  .  .  .  W  .  B  . \n",
      " 3|  .  .  .  .  .  .  .  .  .  B \n",
      " 4|  .  .  .  .  .  .  .  .  .  . \n",
      " 5|  .  B  .  .  .  W  .  .  .  W \n",
      " 6|  B  .  .  .  W  .  .  .  W  . \n",
      " 7|  .  W  .  .  .  .  .  W  .  W \n",
      " 8|  .  .  W  .  .  .  .  .  .  . \n",
      " 9|  .  .  .  .  .  .  .  W  .  . \n",
      "10|  .  .  .  .  .  .  .  .  .  . \n",
      "\n",
      "(2,3)------->>>(3,2)\n",
      "*     1  2  3  4  5  6  7  8  9  10\n",
      " 1|  .  .  .  .  .  .  .  .  .  . \n",
      " 2|  .  .  .  .  .  .  W  .  B  . \n",
      " 3|  .  B  .  .  .  .  .  .  .  B \n",
      " 4|  .  .  .  .  .  .  .  .  .  . \n",
      " 5|  .  B  .  .  .  W  .  .  .  W \n",
      " 6|  B  .  .  .  W  .  .  .  W  . \n",
      " 7|  .  W  .  .  .  .  .  W  .  W \n",
      " 8|  .  .  W  .  .  .  .  .  .  . \n",
      " 9|  .  .  .  .  .  .  .  W  .  . \n",
      "10|  .  .  .  .  .  .  .  .  .  . \n",
      "\n",
      "(5,6)------->>>(4,7)\n",
      "*     1  2  3  4  5  6  7  8  9  10\n",
      " 1|  .  .  .  .  .  .  .  .  .  . \n",
      " 2|  .  .  .  .  .  .  W  .  B  . \n",
      " 3|  .  B  .  .  .  .  .  .  .  B \n",
      " 4|  .  .  .  .  .  .  W  .  .  . \n",
      " 5|  .  B  .  .  .  .  .  .  .  W \n",
      " 6|  B  .  .  .  W  .  .  .  W  . \n",
      " 7|  .  W  .  .  .  .  .  W  .  W \n",
      " 8|  .  .  W  .  .  .  .  .  .  . \n",
      " 9|  .  .  .  .  .  .  .  W  .  . \n",
      "10|  .  .  .  .  .  .  .  .  .  . \n",
      "\n",
      "(3,2)------->>>(4,3)\n"
     ]
    },
    {
     "name": "stdout",
     "output_type": "stream",
     "text": [
      "*     1  2  3  4  5  6  7  8  9  10\n",
      " 1|  .  .  .  .  .  .  .  .  .  . \n",
      " 2|  .  .  .  .  .  .  W  .  B  . \n",
      " 3|  .  .  .  .  .  .  .  .  .  B \n",
      " 4|  .  .  B  .  .  .  W  .  .  . \n",
      " 5|  .  B  .  .  .  .  .  .  .  W \n",
      " 6|  B  .  .  .  W  .  .  .  W  . \n",
      " 7|  .  W  .  .  .  .  .  W  .  W \n",
      " 8|  .  .  W  .  .  .  .  .  .  . \n",
      " 9|  .  .  .  .  .  .  .  W  .  . \n",
      "10|  .  .  .  .  .  .  .  .  .  . \n",
      "\n",
      "(2,7)------->>>(1,8)\n",
      "*     1  2  3  4  5  6  7  8  9  10\n",
      " 1|  .  .  .  .  .  .  .  W  .  . \n",
      " 2|  .  .  .  .  .  .  .  .  B  . \n",
      " 3|  .  .  .  .  .  .  .  .  .  B \n",
      " 4|  .  .  B  .  .  .  W  .  .  . \n",
      " 5|  .  B  .  .  .  .  .  .  .  W \n",
      " 6|  B  .  .  .  W  .  .  .  W  . \n",
      " 7|  .  W  .  .  .  .  .  W  .  W \n",
      " 8|  .  .  W  .  .  .  .  .  .  . \n",
      " 9|  .  .  .  .  .  .  .  W  .  . \n",
      "10|  .  .  .  .  .  .  .  .  .  . \n",
      "\n",
      "(4,3)------->>>(5,4)\n",
      "*     1  2  3  4  5  6  7  8  9  10\n",
      " 1|  .  .  .  .  .  .  .  W  .  . \n",
      " 2|  .  .  .  .  .  .  .  .  B  . \n",
      " 3|  .  .  .  .  .  .  .  .  .  B \n",
      " 4|  .  .  .  .  .  .  W  .  .  . \n",
      " 5|  .  B  .  B  .  .  .  .  .  W \n",
      " 6|  B  .  .  .  W  .  .  .  W  . \n",
      " 7|  .  W  .  .  .  .  .  W  .  W \n",
      " 8|  .  .  W  .  .  .  .  .  .  . \n",
      " 9|  .  .  .  .  .  .  .  W  .  . \n",
      "10|  .  .  .  .  .  .  .  .  .  . \n",
      "\n",
      "(1,8)------->>>(6,3)\n",
      "*     1  2  3  4  5  6  7  8  9  10\n",
      " 1|  .  .  .  .  .  .  .  .  .  . \n",
      " 2|  .  .  .  .  .  .  .  .  B  . \n",
      " 3|  .  .  .  .  .  .  .  .  .  B \n",
      " 4|  .  .  .  .  .  .  W  .  .  . \n",
      " 5|  .  B  .  .  .  .  .  .  .  W \n",
      " 6|  B  .  W  .  W  .  .  .  W  . \n",
      " 7|  .  W  .  .  .  .  .  W  .  W \n",
      " 8|  .  .  W  .  .  .  .  .  .  . \n",
      " 9|  .  .  .  .  .  .  .  W  .  . \n",
      "10|  .  .  .  .  .  .  .  .  .  . \n",
      "\n",
      "(6,3)------->>>(4,1)\n",
      "*     1  2  3  4  5  6  7  8  9  10\n",
      " 1|  .  .  .  .  .  .  .  .  .  . \n",
      " 2|  .  .  .  .  .  .  .  .  B  . \n",
      " 3|  .  .  .  .  .  .  .  .  .  B \n",
      " 4|  W  .  .  .  .  .  W  .  .  . \n",
      " 5|  .  .  .  .  .  .  .  .  .  W \n",
      " 6|  B  .  .  .  W  .  .  .  W  . \n",
      " 7|  .  W  .  .  .  .  .  W  .  W \n",
      " 8|  .  .  W  .  .  .  .  .  .  . \n",
      " 9|  .  .  .  .  .  .  .  W  .  . \n",
      "10|  .  .  .  .  .  .  .  .  .  . \n",
      "\n",
      "(2,9)------->>>(3,8)\n",
      "*     1  2  3  4  5  6  7  8  9  10\n",
      " 1|  .  .  .  .  .  .  .  .  .  . \n",
      " 2|  .  .  .  .  .  .  .  .  .  . \n",
      " 3|  .  .  .  .  .  .  .  B  .  B \n",
      " 4|  W  .  .  .  .  .  W  .  .  . \n",
      " 5|  .  .  .  .  .  .  .  .  .  W \n",
      " 6|  B  .  .  .  W  .  .  .  W  . \n",
      " 7|  .  W  .  .  .  .  .  W  .  W \n",
      " 8|  .  .  W  .  .  .  .  .  .  . \n",
      " 9|  .  .  .  .  .  .  .  W  .  . \n",
      "10|  .  .  .  .  .  .  .  .  .  . \n",
      "\n",
      "(4,7)------->>>(2,9)\n",
      "*     1  2  3  4  5  6  7  8  9  10\n",
      " 1|  .  .  .  .  .  .  .  .  .  . \n",
      " 2|  .  .  .  .  .  .  .  .  W  . \n",
      " 3|  .  .  .  .  .  .  .  .  .  B \n",
      " 4|  W  .  .  .  .  .  .  .  .  . \n",
      " 5|  .  .  .  .  .  .  .  .  .  W \n",
      " 6|  B  .  .  .  W  .  .  .  W  . \n",
      " 7|  .  W  .  .  .  .  .  W  .  W \n",
      " 8|  .  .  W  .  .  .  .  .  .  . \n",
      " 9|  .  .  .  .  .  .  .  W  .  . \n",
      "10|  .  .  .  .  .  .  .  .  .  . \n",
      "\n",
      "(3,10)------->>>(1,8)\n",
      "*     1  2  3  4  5  6  7  8  9  10\n",
      " 1|  .  .  .  .  .  .  .  B  .  . \n",
      " 2|  .  .  .  .  .  .  .  .  .  . \n",
      " 3|  .  .  .  .  .  .  .  .  .  . \n",
      " 4|  W  .  .  .  .  .  .  .  .  . \n",
      " 5|  .  .  .  .  .  .  .  .  .  W \n",
      " 6|  B  .  .  .  W  .  .  .  W  . \n",
      " 7|  .  W  .  .  .  .  .  W  .  W \n",
      " 8|  .  .  W  .  .  .  .  .  .  . \n",
      " 9|  .  .  .  .  .  .  .  W  .  . \n",
      "10|  .  .  .  .  .  .  .  .  .  . \n",
      "\n",
      "(9,8)------->>>(8,7)\n",
      "*     1  2  3  4  5  6  7  8  9  10\n",
      " 1|  .  .  .  .  .  .  .  B  .  . \n",
      " 2|  .  .  .  .  .  .  .  .  .  . \n",
      " 3|  .  .  .  .  .  .  .  .  .  . \n",
      " 4|  W  .  .  .  .  .  .  .  .  . \n",
      " 5|  .  .  .  .  .  .  .  .  .  W \n",
      " 6|  B  .  .  .  W  .  .  .  W  . \n",
      " 7|  .  W  .  .  .  .  .  W  .  W \n",
      " 8|  .  .  W  .  .  .  W  .  .  . \n",
      " 9|  .  .  .  .  .  .  .  .  .  . \n",
      "10|  .  .  .  .  .  .  .  .  .  . \n",
      "\n",
      "(1,8)------->>>(2,7)\n",
      "*     1  2  3  4  5  6  7  8  9  10\n",
      " 1|  .  .  .  .  .  .  .  .  .  . \n",
      " 2|  .  .  .  .  .  .  B  .  .  . \n",
      " 3|  .  .  .  .  .  .  .  .  .  . \n",
      " 4|  W  .  .  .  .  .  .  .  .  . \n",
      " 5|  .  .  .  .  .  .  .  .  .  W \n",
      " 6|  B  .  .  .  W  .  .  .  W  . \n",
      " 7|  .  W  .  .  .  .  .  W  .  W \n",
      " 8|  .  .  W  .  .  .  W  .  .  . \n",
      " 9|  .  .  .  .  .  .  .  .  .  . \n",
      "10|  .  .  .  .  .  .  .  .  .  . \n",
      "\n",
      "(8,7)------->>>(7,6)\n",
      "*     1  2  3  4  5  6  7  8  9  10\n",
      " 1|  .  .  .  .  .  .  .  .  .  . \n",
      " 2|  .  .  .  .  .  .  B  .  .  . \n",
      " 3|  .  .  .  .  .  .  .  .  .  . \n",
      " 4|  W  .  .  .  .  .  .  .  .  . \n",
      " 5|  .  .  .  .  .  .  .  .  .  W \n",
      " 6|  B  .  .  .  W  .  .  .  W  . \n",
      " 7|  .  W  .  .  .  W  .  W  .  W \n",
      " 8|  .  .  W  .  .  .  .  .  .  . \n",
      " 9|  .  .  .  .  .  .  .  .  .  . \n",
      "10|  .  .  .  .  .  .  .  .  .  . \n",
      "\n",
      "(2,7)------->>>(3,8)\n",
      "*     1  2  3  4  5  6  7  8  9  10\n",
      " 1|  .  .  .  .  .  .  .  .  .  . \n",
      " 2|  .  .  .  .  .  .  .  .  .  . \n",
      " 3|  .  .  .  .  .  .  .  B  .  . \n",
      " 4|  W  .  .  .  .  .  .  .  .  . \n",
      " 5|  .  .  .  .  .  .  .  .  .  W \n",
      " 6|  B  .  .  .  W  .  .  .  W  . \n",
      " 7|  .  W  .  .  .  W  .  W  .  W \n",
      " 8|  .  .  W  .  .  .  .  .  .  . \n",
      " 9|  .  .  .  .  .  .  .  .  .  . \n",
      "10|  .  .  .  .  .  .  .  .  .  . \n",
      "\n",
      "(4,1)------->>>(5,2)\n",
      "*     1  2  3  4  5  6  7  8  9  10\n",
      " 1|  .  .  .  .  .  .  .  .  .  . \n",
      " 2|  .  .  .  .  .  .  .  .  .  . \n",
      " 3|  .  .  .  .  .  .  .  B  .  . \n",
      " 4|  .  .  .  .  .  .  .  .  .  . \n",
      " 5|  .  W  .  .  .  .  .  .  .  W \n",
      " 6|  B  .  .  .  W  .  .  .  W  . \n",
      " 7|  .  W  .  .  .  W  .  W  .  W \n",
      " 8|  .  .  W  .  .  .  .  .  .  . \n",
      " 9|  .  .  .  .  .  .  .  .  .  . \n",
      "10|  .  .  .  .  .  .  .  .  .  . \n",
      "\n",
      "(6,1)------->>>(4,3)\n",
      "*     1  2  3  4  5  6  7  8  9  10\n",
      " 1|  .  .  .  .  .  .  .  .  .  . \n",
      " 2|  .  .  .  .  .  .  .  .  .  . \n",
      " 3|  .  .  .  .  .  .  .  B  .  . \n",
      " 4|  .  .  B  .  .  .  .  .  .  . \n",
      " 5|  .  .  .  .  .  .  .  .  .  W \n",
      " 6|  .  .  .  .  W  .  .  .  W  . \n",
      " 7|  .  W  .  .  .  W  .  W  .  W \n",
      " 8|  .  .  W  .  .  .  .  .  .  . \n",
      " 9|  .  .  .  .  .  .  .  .  .  . \n",
      "10|  .  .  .  .  .  .  .  .  .  . \n",
      "\n",
      "(7,2)------->>>(6,3)\n",
      "*     1  2  3  4  5  6  7  8  9  10\n",
      " 1|  .  .  .  .  .  .  .  .  .  . \n",
      " 2|  .  .  .  .  .  .  .  .  .  . \n",
      " 3|  .  .  .  .  .  .  .  B  .  . \n",
      " 4|  .  .  B  .  .  .  .  .  .  . \n",
      " 5|  .  .  .  .  .  .  .  .  .  W \n",
      " 6|  .  .  W  .  W  .  .  .  W  . \n",
      " 7|  .  .  .  .  .  W  .  W  .  W \n",
      " 8|  .  .  W  .  .  .  .  .  .  . \n",
      " 9|  .  .  .  .  .  .  .  .  .  . \n",
      "10|  .  .  .  .  .  .  .  .  .  . \n",
      "\n",
      "(4,3)------->>>(5,2)\n",
      "*     1  2  3  4  5  6  7  8  9  10\n",
      " 1|  .  .  .  .  .  .  .  .  .  . \n",
      " 2|  .  .  .  .  .  .  .  .  .  . \n",
      " 3|  .  .  .  .  .  .  .  B  .  . \n",
      " 4|  .  .  .  .  .  .  .  .  .  . \n",
      " 5|  .  B  .  .  .  .  .  .  .  W \n",
      " 6|  .  .  W  .  W  .  .  .  W  . \n",
      " 7|  .  .  .  .  .  W  .  W  .  W \n",
      " 8|  .  .  W  .  .  .  .  .  .  . \n",
      " 9|  .  .  .  .  .  .  .  .  .  . \n",
      "10|  .  .  .  .  .  .  .  .  .  . \n",
      "\n",
      "(6,3)------->>>(4,1)\n",
      "*     1  2  3  4  5  6  7  8  9  10\n",
      " 1|  .  .  .  .  .  .  .  .  .  . \n",
      " 2|  .  .  .  .  .  .  .  .  .  . \n",
      " 3|  .  .  .  .  .  .  .  B  .  . \n",
      " 4|  W  .  .  .  .  .  .  .  .  . \n",
      " 5|  .  .  .  .  .  .  .  .  .  W \n",
      " 6|  .  .  .  .  W  .  .  .  W  . \n",
      " 7|  .  .  .  .  .  W  .  W  .  W \n",
      " 8|  .  .  W  .  .  .  .  .  .  . \n",
      " 9|  .  .  .  .  .  .  .  .  .  . \n",
      "10|  .  .  .  .  .  .  .  .  .  . \n",
      "\n",
      "(3,8)------->>>(4,9)\n",
      "*     1  2  3  4  5  6  7  8  9  10\n",
      " 1|  .  .  .  .  .  .  .  .  .  . \n",
      " 2|  .  .  .  .  .  .  .  .  .  . \n",
      " 3|  .  .  .  .  .  .  .  .  .  . \n",
      " 4|  W  .  .  .  .  .  .  .  B  . \n",
      " 5|  .  .  .  .  .  .  .  .  .  W \n",
      " 6|  .  .  .  .  W  .  .  .  W  . \n",
      " 7|  .  .  .  .  .  W  .  W  .  W \n",
      " 8|  .  .  W  .  .  .  .  .  .  . \n",
      " 9|  .  .  .  .  .  .  .  .  .  . \n",
      "10|  .  .  .  .  .  .  .  .  .  . \n",
      "\n",
      "(5,10)------->>>(3,8)\n",
      "*"
     ]
    }
   ],
   "source": [
    "try:\n",
    "    playground.self_play()\n",
    "except RejectedAction as e:\n",
    "    print(e)"
   ]
  },
  {
   "cell_type": "code",
   "execution_count": null,
   "metadata": {},
   "outputs": [],
   "source": []
  },
  {
   "cell_type": "code",
   "execution_count": null,
   "metadata": {},
   "outputs": [],
   "source": []
  },
  {
   "cell_type": "code",
   "execution_count": null,
   "metadata": {},
   "outputs": [],
   "source": []
  },
  {
   "cell_type": "code",
   "execution_count": null,
   "metadata": {},
   "outputs": [],
   "source": []
  },
  {
   "cell_type": "code",
   "execution_count": null,
   "metadata": {},
   "outputs": [],
   "source": []
  },
  {
   "cell_type": "code",
   "execution_count": null,
   "metadata": {},
   "outputs": [],
   "source": []
  },
  {
   "cell_type": "code",
   "execution_count": null,
   "metadata": {},
   "outputs": [],
   "source": []
  },
  {
   "cell_type": "code",
   "execution_count": null,
   "metadata": {},
   "outputs": [],
   "source": []
  },
  {
   "cell_type": "code",
   "execution_count": null,
   "metadata": {},
   "outputs": [],
   "source": []
  },
  {
   "cell_type": "code",
   "execution_count": null,
   "metadata": {},
   "outputs": [],
   "source": []
  },
  {
   "cell_type": "code",
   "execution_count": null,
   "metadata": {},
   "outputs": [],
   "source": []
  },
  {
   "cell_type": "code",
   "execution_count": null,
   "metadata": {},
   "outputs": [],
   "source": []
  },
  {
   "cell_type": "code",
   "execution_count": null,
   "metadata": {},
   "outputs": [],
   "source": []
  },
  {
   "cell_type": "code",
   "execution_count": null,
   "metadata": {},
   "outputs": [],
   "source": []
  },
  {
   "cell_type": "code",
   "execution_count": null,
   "metadata": {},
   "outputs": [],
   "source": []
  },
  {
   "cell_type": "code",
   "execution_count": null,
   "metadata": {},
   "outputs": [],
   "source": []
  },
  {
   "cell_type": "code",
   "execution_count": 259,
   "metadata": {},
   "outputs": [],
   "source": [
    "def calc_expected_score(old_rate, opp_rate):\n",
    "    res = 1 + 10**((opp_rate - old_rate) / 400)\n",
    "    return 1 / res\n",
    "\n",
    "def calc_K(rate):\n",
    "    if rate < 2100:\n",
    "        return 32\n",
    "    if 2200 <= rate < 2400:\n",
    "        return 24\n",
    "    return 16\n",
    "\n",
    "def calc_score(player_number, outcome):\n",
    "    if outcome == 0:\n",
    "        return 0.5\n",
    "    if outcome == player_number:\n",
    "        return 1\n",
    "    return 0\n",
    "\n",
    "def calc_new_rate(player1_rate, player2_rate, outcome):\n",
    "    player1_rate += calc_K(player1_rate) * (calc_score(1, outcome) - calc_expected_score(player1_rate, player2_rate))\n",
    "    player2_rate += calc_K(player2_rate) * (calc_score(2, outcome) - calc_expected_score(player2_rate, player1_rate))\n",
    "    return int(player1_rate), int(player2_rate)"
   ]
  },
  {
   "cell_type": "code",
   "execution_count": 253,
   "metadata": {},
   "outputs": [
    {
     "name": "stdout",
     "output_type": "stream",
     "text": [
      "1601.2698768627572\n"
     ]
    }
   ],
   "source": [
    "player_score = calc_score(1, 2) + calc_score(1, 0) + calc_score(1, 1) + calc_score(1, 1) + calc_score(1, 2)\n",
    "player_expected_score = calc_expected_score(1613, 1609) + calc_expected_score(1613, 1477) + calc_expected_score(1613, 1388) + calc_expected_score(1613, 1586) + calc_expected_score(1613, 1720)\n",
    "player_new_rate = 1613 + calc_K(1613) * (player_score - player_expected_score)\n",
    "print(player_new_rate)\n",
    "#1601"
   ]
  },
  {
   "cell_type": "code",
   "execution_count": 254,
   "metadata": {},
   "outputs": [],
   "source": [
    "import numpy as np\n",
    "import random\n",
    "        "
   ]
  },
  {
   "cell_type": "code",
   "execution_count": 454,
   "metadata": {},
   "outputs": [
    {
     "data": {
      "text/html": [
       "<div>\n",
       "<style scoped>\n",
       "    .dataframe tbody tr th:only-of-type {\n",
       "        vertical-align: middle;\n",
       "    }\n",
       "\n",
       "    .dataframe tbody tr th {\n",
       "        vertical-align: top;\n",
       "    }\n",
       "\n",
       "    .dataframe thead th {\n",
       "        text-align: right;\n",
       "    }\n",
       "</style>\n",
       "<table border=\"1\" class=\"dataframe\">\n",
       "  <thead>\n",
       "    <tr style=\"text-align: right;\">\n",
       "      <th></th>\n",
       "      <th>signup_date</th>\n",
       "      <th>rate</th>\n",
       "      <th>international_win</th>\n",
       "      <th>international_lose</th>\n",
       "      <th>international_draw</th>\n",
       "      <th>turkish_win</th>\n",
       "      <th>turkish_lose</th>\n",
       "      <th>turkish_draw</th>\n",
       "      <th>sessions</th>\n",
       "      <th>longest_session</th>\n",
       "    </tr>\n",
       "    <tr>\n",
       "      <th>player_id</th>\n",
       "      <th></th>\n",
       "      <th></th>\n",
       "      <th></th>\n",
       "      <th></th>\n",
       "      <th></th>\n",
       "      <th></th>\n",
       "      <th></th>\n",
       "      <th></th>\n",
       "      <th></th>\n",
       "      <th></th>\n",
       "    </tr>\n",
       "  </thead>\n",
       "  <tbody>\n",
       "  </tbody>\n",
       "</table>\n",
       "</div>"
      ],
      "text/plain": [
       "Empty DataFrame\n",
       "Columns: [signup_date, rate, international_win, international_lose, international_draw, turkish_win, turkish_lose, turkish_draw, sessions, longest_session]\n",
       "Index: []"
      ]
     },
     "execution_count": 454,
     "metadata": {},
     "output_type": "execute_result"
    }
   ],
   "source": [
    "import pandas as pd\n",
    "df = pd.read_csv('data/usersData.csv')\n",
    "df.index.name = 'player_id'\n",
    "df"
   ]
  },
  {
   "cell_type": "code",
   "execution_count": null,
   "metadata": {},
   "outputs": [],
   "source": []
  },
  {
   "cell_type": "code",
   "execution_count": 455,
   "metadata": {},
   "outputs": [
    {
     "data": {
      "text/html": [
       "<div>\n",
       "<style scoped>\n",
       "    .dataframe tbody tr th:only-of-type {\n",
       "        vertical-align: middle;\n",
       "    }\n",
       "\n",
       "    .dataframe tbody tr th {\n",
       "        vertical-align: top;\n",
       "    }\n",
       "\n",
       "    .dataframe thead th {\n",
       "        text-align: right;\n",
       "    }\n",
       "</style>\n",
       "<table border=\"1\" class=\"dataframe\">\n",
       "  <thead>\n",
       "    <tr style=\"text-align: right;\">\n",
       "      <th></th>\n",
       "      <th>signup_date</th>\n",
       "      <th>rate</th>\n",
       "      <th>international_win</th>\n",
       "      <th>international_lose</th>\n",
       "      <th>international_draw</th>\n",
       "      <th>turkish_win</th>\n",
       "      <th>turkish_lose</th>\n",
       "      <th>turkish_draw</th>\n",
       "      <th>sessions</th>\n",
       "      <th>longest_session</th>\n",
       "    </tr>\n",
       "  </thead>\n",
       "  <tbody>\n",
       "    <tr>\n",
       "      <th>0</th>\n",
       "      <td>2020-01-30</td>\n",
       "      <td>1600</td>\n",
       "      <td>1</td>\n",
       "      <td>1</td>\n",
       "      <td>1</td>\n",
       "      <td>1</td>\n",
       "      <td>1</td>\n",
       "      <td>1</td>\n",
       "      <td>1</td>\n",
       "      <td>30</td>\n",
       "    </tr>\n",
       "    <tr>\n",
       "      <th>1</th>\n",
       "      <td>2020-03-14</td>\n",
       "      <td>1600</td>\n",
       "      <td>1</td>\n",
       "      <td>1</td>\n",
       "      <td>1</td>\n",
       "      <td>1</td>\n",
       "      <td>1</td>\n",
       "      <td>1</td>\n",
       "      <td>1</td>\n",
       "      <td>30</td>\n",
       "    </tr>\n",
       "    <tr>\n",
       "      <th>2</th>\n",
       "      <td>2020-04-11</td>\n",
       "      <td>1600</td>\n",
       "      <td>1</td>\n",
       "      <td>1</td>\n",
       "      <td>1</td>\n",
       "      <td>1</td>\n",
       "      <td>1</td>\n",
       "      <td>1</td>\n",
       "      <td>1</td>\n",
       "      <td>30</td>\n",
       "    </tr>\n",
       "    <tr>\n",
       "      <th>3</th>\n",
       "      <td>2020-02-20</td>\n",
       "      <td>1600</td>\n",
       "      <td>1</td>\n",
       "      <td>1</td>\n",
       "      <td>1</td>\n",
       "      <td>1</td>\n",
       "      <td>1</td>\n",
       "      <td>1</td>\n",
       "      <td>1</td>\n",
       "      <td>30</td>\n",
       "    </tr>\n",
       "    <tr>\n",
       "      <th>4</th>\n",
       "      <td>2020-04-09</td>\n",
       "      <td>1600</td>\n",
       "      <td>1</td>\n",
       "      <td>1</td>\n",
       "      <td>1</td>\n",
       "      <td>1</td>\n",
       "      <td>1</td>\n",
       "      <td>1</td>\n",
       "      <td>1</td>\n",
       "      <td>30</td>\n",
       "    </tr>\n",
       "  </tbody>\n",
       "</table>\n",
       "</div>"
      ],
      "text/plain": [
       "  signup_date  rate international_win international_lose international_draw  \\\n",
       "0  2020-01-30  1600                 1                  1                  1   \n",
       "1  2020-03-14  1600                 1                  1                  1   \n",
       "2  2020-04-11  1600                 1                  1                  1   \n",
       "3  2020-02-20  1600                 1                  1                  1   \n",
       "4  2020-04-09  1600                 1                  1                  1   \n",
       "\n",
       "  turkish_win turkish_lose turkish_draw sessions longest_session  \n",
       "0           1            1            1        1              30  \n",
       "1           1            1            1        1              30  \n",
       "2           1            1            1        1              30  \n",
       "3           1            1            1        1              30  \n",
       "4           1            1            1        1              30  "
      ]
     },
     "execution_count": 455,
     "metadata": {},
     "output_type": "execute_result"
    }
   ],
   "source": [
    "import datetime\n",
    "from dateutil.relativedelta import relativedelta\n",
    "\n",
    "for i in range(0, 100):\n",
    "    signup_date = (datetime.datetime.now() - relativedelta(days=random.randint(1, 30), months=random.randint(1, 3))).date()\n",
    "    df = df.append({\n",
    "        'signup_date':signup_date,\n",
    "        'rate':1600,\n",
    "        'international_win':1,\n",
    "        'international_lose':1,\n",
    "        'international_draw':1,\n",
    "        'turkish_win':1,\n",
    "        'turkish_lose':1,\n",
    "        'turkish_draw':1,\n",
    "        'sessions':1,\n",
    "        'longest_session':30,\n",
    "    },ignore_index=True)\n",
    "df.head()"
   ]
  },
  {
   "cell_type": "code",
   "execution_count": 456,
   "metadata": {},
   "outputs": [
    {
     "name": "stdout",
     "output_type": "stream",
     "text": [
      "<class 'pandas.core.frame.DataFrame'>\n",
      "RangeIndex: 100 entries, 0 to 99\n",
      "Data columns (total 10 columns):\n",
      " #   Column              Non-Null Count  Dtype \n",
      "---  ------              --------------  ----- \n",
      " 0   signup_date         100 non-null    object\n",
      " 1   rate                100 non-null    object\n",
      " 2   international_win   100 non-null    object\n",
      " 3   international_lose  100 non-null    object\n",
      " 4   international_draw  100 non-null    object\n",
      " 5   turkish_win         100 non-null    object\n",
      " 6   turkish_lose        100 non-null    object\n",
      " 7   turkish_draw        100 non-null    object\n",
      " 8   sessions            100 non-null    object\n",
      " 9   longest_session     100 non-null    object\n",
      "dtypes: object(10)\n",
      "memory usage: 7.9+ KB\n"
     ]
    }
   ],
   "source": [
    "df.info()"
   ]
  },
  {
   "cell_type": "code",
   "execution_count": 501,
   "metadata": {},
   "outputs": [],
   "source": [
    "indices = [i for i in range(0, 100)]\n"
   ]
  },
  {
   "cell_type": "code",
   "execution_count": 459,
   "metadata": {},
   "outputs": [
    {
     "name": "stdout",
     "output_type": "stream",
     "text": [
      "[50, 51, 52, 53, 54, 55, 56, 57, 58, 59, 60, 61, 62, 63, 64, 65, 66, 67, 68, 69, 70, 71, 72, 73, 74, 75, 76, 77, 78, 79, 80, 81, 82, 83, 84, 85, 86, 87, 88, 89, 90, 91, 92, 93, 94, 95, 96, 97, 98, 99]\n"
     ]
    }
   ],
   "source": [
    "winningside = indices[0: 50]\n",
    "for idx in winningside:\n",
    "    indices.remove(idx)\n",
    "print(indices)"
   ]
  },
  {
   "cell_type": "code",
   "execution_count": 461,
   "metadata": {},
   "outputs": [],
   "source": [
    "lossingside = indices"
   ]
  },
  {
   "cell_type": "code",
   "execution_count": null,
   "metadata": {},
   "outputs": [],
   "source": []
  },
  {
   "cell_type": "code",
   "execution_count": 504,
   "metadata": {},
   "outputs": [],
   "source": [
    "\n",
    "\n",
    "def modify(index, df, new_rate, outcome, player_number, mode):\n",
    "    df.loc[index, 'rate'] = max(new_rate, 150)\n",
    "    if mode == 1:\n",
    "        if outcome == player_number:\n",
    "            df.loc[index, 'international_win'] += 1\n",
    "        elif outcome == 0:\n",
    "            df.loc[index, 'international_draw'] += 1\n",
    "        else:\n",
    "            df.loc[index, 'international_lose'] += 1\n",
    "    else:\n",
    "        if outcome == player_number:\n",
    "            df.loc[index, 'turkish_win'] +=  1\n",
    "        elif outcome == 0:\n",
    "            df.loc[index, 'turkish_draw'] += 1\n",
    "        else:\n",
    "            df.loc[index, 'turkish_lose'] += 1\n",
    "            \n",
    "for i in range(10000):\n",
    "    if i % 3:\n",
    "        df = df.sort_values('rate').reset_index().drop('index', axis = 1)        \n",
    "    mode = 1\n",
    "    \"\"\"    \n",
    "    player1_idx = indices[i % 99]\n",
    "    player2_idx = indices[i % 99 + 1]\n",
    "\n",
    "    player1_rate = df['rate'].iloc[player1_idx]\n",
    "    player2_rate = df['rate'].iloc[player2_idx]\n",
    "    if player1_rate < player2_rate:\n",
    "        player1_rate, player2_rate = player2_rate, player1_rate\n",
    "        player1_idx, player2_idx = player2_idx, player1_idx\n",
    "    dif = player1_rate - player2_rate\n",
    "    if dif >= 10:\n",
    "        outcome = 1\n",
    "    else:\n",
    "        if 10 < dif < 20:\n",
    "            outcome = random.choices([1, 2], [0.65, 0.35])[0]\n",
    "        else:\n",
    "            outcome = random.choices([1, 2])[0]\n",
    "    \"\"\"    \n",
    "\n",
    "    player1_idx = indices[i % 99]\n",
    "    player2_idx = indices[i % 99 + 1]\n",
    "\n",
    "    player1_rate = df['rate'].iloc[player1_idx]\n",
    "    player2_rate = df['rate'].iloc[player2_idx]\n",
    "    \n",
    "    #index = indices[i % 99] if player1_rate > player2_rate else indices[i % 99 + 1]\n",
    "\n",
    "    outcome = 1\n",
    "    \n",
    "    player1_rate, player2_rate = calc_new_rate(player1_rate, player2_rate, outcome)\n",
    "    modify(player1_idx, df, player1_rate, outcome, 1, mode)\n",
    "    modify(player2_idx, df, player2_rate, outcome, 2, mode)"
   ]
  },
  {
   "cell_type": "code",
   "execution_count": null,
   "metadata": {},
   "outputs": [],
   "source": []
  },
  {
   "cell_type": "code",
   "execution_count": null,
   "metadata": {},
   "outputs": [],
   "source": []
  },
  {
   "cell_type": "code",
   "execution_count": null,
   "metadata": {},
   "outputs": [],
   "source": []
  },
  {
   "cell_type": "code",
   "execution_count": null,
   "metadata": {},
   "outputs": [],
   "source": []
  },
  {
   "cell_type": "code",
   "execution_count": null,
   "metadata": {},
   "outputs": [],
   "source": []
  },
  {
   "cell_type": "code",
   "execution_count": null,
   "metadata": {},
   "outputs": [],
   "source": []
  },
  {
   "cell_type": "code",
   "execution_count": null,
   "metadata": {},
   "outputs": [],
   "source": []
  },
  {
   "cell_type": "code",
   "execution_count": null,
   "metadata": {},
   "outputs": [],
   "source": []
  },
  {
   "cell_type": "code",
   "execution_count": null,
   "metadata": {},
   "outputs": [],
   "source": []
  },
  {
   "cell_type": "code",
   "execution_count": null,
   "metadata": {},
   "outputs": [],
   "source": []
  },
  {
   "cell_type": "code",
   "execution_count": null,
   "metadata": {},
   "outputs": [],
   "source": []
  },
  {
   "cell_type": "code",
   "execution_count": 541,
   "metadata": {},
   "outputs": [
    {
     "data": {
      "text/html": [
       "<div>\n",
       "<style scoped>\n",
       "    .dataframe tbody tr th:only-of-type {\n",
       "        vertical-align: middle;\n",
       "    }\n",
       "\n",
       "    .dataframe tbody tr th {\n",
       "        vertical-align: top;\n",
       "    }\n",
       "\n",
       "    .dataframe thead th {\n",
       "        text-align: right;\n",
       "    }\n",
       "</style>\n",
       "<table border=\"1\" class=\"dataframe\">\n",
       "  <thead>\n",
       "    <tr style=\"text-align: right;\">\n",
       "      <th></th>\n",
       "      <th>signup_date</th>\n",
       "      <th>rate</th>\n",
       "      <th>category</th>\n",
       "      <th>international_win</th>\n",
       "      <th>international_lose</th>\n",
       "      <th>international_draw</th>\n",
       "      <th>turkish_win</th>\n",
       "      <th>turkish_lose</th>\n",
       "      <th>turkish_draw</th>\n",
       "    </tr>\n",
       "  </thead>\n",
       "  <tbody>\n",
       "    <tr>\n",
       "      <th>0</th>\n",
       "      <td>2020-01-27</td>\n",
       "      <td>1664</td>\n",
       "      <td>Class B</td>\n",
       "      <td>50</td>\n",
       "      <td>44</td>\n",
       "      <td>1</td>\n",
       "      <td>58</td>\n",
       "      <td>60</td>\n",
       "      <td>1</td>\n",
       "    </tr>\n",
       "    <tr>\n",
       "      <th>1</th>\n",
       "      <td>2020-01-27</td>\n",
       "      <td>1440</td>\n",
       "      <td>Class C</td>\n",
       "      <td>46</td>\n",
       "      <td>60</td>\n",
       "      <td>1</td>\n",
       "      <td>47</td>\n",
       "      <td>43</td>\n",
       "      <td>1</td>\n",
       "    </tr>\n",
       "    <tr>\n",
       "      <th>2</th>\n",
       "      <td>2020-01-27</td>\n",
       "      <td>1504</td>\n",
       "      <td>Class C</td>\n",
       "      <td>46</td>\n",
       "      <td>60</td>\n",
       "      <td>1</td>\n",
       "      <td>51</td>\n",
       "      <td>43</td>\n",
       "      <td>1</td>\n",
       "    </tr>\n",
       "    <tr>\n",
       "      <th>3</th>\n",
       "      <td>2020-01-29</td>\n",
       "      <td>1680</td>\n",
       "      <td>Class B</td>\n",
       "      <td>63</td>\n",
       "      <td>56</td>\n",
       "      <td>1</td>\n",
       "      <td>45</td>\n",
       "      <td>47</td>\n",
       "      <td>1</td>\n",
       "    </tr>\n",
       "    <tr>\n",
       "      <th>4</th>\n",
       "      <td>2020-01-30</td>\n",
       "      <td>1488</td>\n",
       "      <td>Class C</td>\n",
       "      <td>50</td>\n",
       "      <td>58</td>\n",
       "      <td>1</td>\n",
       "      <td>47</td>\n",
       "      <td>46</td>\n",
       "      <td>1</td>\n",
       "    </tr>\n",
       "    <tr>\n",
       "      <th>...</th>\n",
       "      <td>...</td>\n",
       "      <td>...</td>\n",
       "      <td>...</td>\n",
       "      <td>...</td>\n",
       "      <td>...</td>\n",
       "      <td>...</td>\n",
       "      <td>...</td>\n",
       "      <td>...</td>\n",
       "      <td>...</td>\n",
       "    </tr>\n",
       "    <tr>\n",
       "      <th>95</th>\n",
       "      <td>2020-04-21</td>\n",
       "      <td>1472</td>\n",
       "      <td>Class C</td>\n",
       "      <td>49</td>\n",
       "      <td>46</td>\n",
       "      <td>1</td>\n",
       "      <td>46</td>\n",
       "      <td>57</td>\n",
       "      <td>1</td>\n",
       "    </tr>\n",
       "    <tr>\n",
       "      <th>96</th>\n",
       "      <td>2020-04-21</td>\n",
       "      <td>1632</td>\n",
       "      <td>Class B</td>\n",
       "      <td>55</td>\n",
       "      <td>57</td>\n",
       "      <td>1</td>\n",
       "      <td>51</td>\n",
       "      <td>47</td>\n",
       "      <td>1</td>\n",
       "    </tr>\n",
       "    <tr>\n",
       "      <th>97</th>\n",
       "      <td>2020-04-23</td>\n",
       "      <td>1903</td>\n",
       "      <td>Class A</td>\n",
       "      <td>51</td>\n",
       "      <td>54</td>\n",
       "      <td>1</td>\n",
       "      <td>63</td>\n",
       "      <td>41</td>\n",
       "      <td>1</td>\n",
       "    </tr>\n",
       "    <tr>\n",
       "      <th>98</th>\n",
       "      <td>2020-04-23</td>\n",
       "      <td>1872</td>\n",
       "      <td>Class A</td>\n",
       "      <td>50</td>\n",
       "      <td>46</td>\n",
       "      <td>1</td>\n",
       "      <td>56</td>\n",
       "      <td>43</td>\n",
       "      <td>1</td>\n",
       "    </tr>\n",
       "    <tr>\n",
       "      <th>99</th>\n",
       "      <td>2020-04-24</td>\n",
       "      <td>1328</td>\n",
       "      <td>Class D</td>\n",
       "      <td>42</td>\n",
       "      <td>50</td>\n",
       "      <td>1</td>\n",
       "      <td>41</td>\n",
       "      <td>50</td>\n",
       "      <td>1</td>\n",
       "    </tr>\n",
       "  </tbody>\n",
       "</table>\n",
       "<p>100 rows × 9 columns</p>\n",
       "</div>"
      ],
      "text/plain": [
       "   signup_date  rate category  international_win  international_lose  \\\n",
       "0   2020-01-27  1664  Class B                 50                  44   \n",
       "1   2020-01-27  1440  Class C                 46                  60   \n",
       "2   2020-01-27  1504  Class C                 46                  60   \n",
       "3   2020-01-29  1680  Class B                 63                  56   \n",
       "4   2020-01-30  1488  Class C                 50                  58   \n",
       "..         ...   ...      ...                ...                 ...   \n",
       "95  2020-04-21  1472  Class C                 49                  46   \n",
       "96  2020-04-21  1632  Class B                 55                  57   \n",
       "97  2020-04-23  1903  Class A                 51                  54   \n",
       "98  2020-04-23  1872  Class A                 50                  46   \n",
       "99  2020-04-24  1328  Class D                 42                  50   \n",
       "\n",
       "    international_draw  turkish_win  turkish_lose  turkish_draw  \n",
       "0                    1           58            60             1  \n",
       "1                    1           47            43             1  \n",
       "2                    1           51            43             1  \n",
       "3                    1           45            47             1  \n",
       "4                    1           47            46             1  \n",
       "..                 ...          ...           ...           ...  \n",
       "95                   1           46            57             1  \n",
       "96                   1           51            47             1  \n",
       "97                   1           63            41             1  \n",
       "98                   1           56            43             1  \n",
       "99                   1           41            50             1  \n",
       "\n",
       "[100 rows x 9 columns]"
      ]
     },
     "execution_count": 541,
     "metadata": {},
     "output_type": "execute_result"
    }
   ],
   "source": [
    "df = pd.read_csv('data/users v3.csv')\n",
    "df"
   ]
  },
  {
   "cell_type": "code",
   "execution_count": 522,
   "metadata": {},
   "outputs": [
    {
     "data": {
      "text/html": [
       "        <script type=\"text/javascript\">\n",
       "        window.PlotlyConfig = {MathJaxConfig: 'local'};\n",
       "        if (window.MathJax) {MathJax.Hub.Config({SVG: {font: \"STIX-Web\"}});}\n",
       "        if (typeof require !== 'undefined') {\n",
       "        require.undef(\"plotly\");\n",
       "        requirejs.config({\n",
       "            paths: {\n",
       "                'plotly': ['https://cdn.plot.ly/plotly-latest.min']\n",
       "            }\n",
       "        });\n",
       "        require(['plotly'], function(Plotly) {\n",
       "            window._Plotly = Plotly;\n",
       "        });\n",
       "        }\n",
       "        </script>\n",
       "        "
      ]
     },
     "metadata": {},
     "output_type": "display_data"
    },
    {
     "data": {
      "text/html": [
       "        <script type=\"text/javascript\">\n",
       "        window.PlotlyConfig = {MathJaxConfig: 'local'};\n",
       "        if (window.MathJax) {MathJax.Hub.Config({SVG: {font: \"STIX-Web\"}});}\n",
       "        if (typeof require !== 'undefined') {\n",
       "        require.undef(\"plotly\");\n",
       "        requirejs.config({\n",
       "            paths: {\n",
       "                'plotly': ['https://cdn.plot.ly/plotly-latest.min']\n",
       "            }\n",
       "        });\n",
       "        require(['plotly'], function(Plotly) {\n",
       "            window._Plotly = Plotly;\n",
       "        });\n",
       "        }\n",
       "        </script>\n",
       "        "
      ]
     },
     "metadata": {},
     "output_type": "display_data"
    }
   ],
   "source": [
    "from plotly.offline import download_plotlyjs, init_notebook_mode, plot, iplot\n",
    "import cufflinks as cf\n",
    "init_notebook_mode(connected=True)\n",
    "cf.go_offline()"
   ]
  },
  {
   "cell_type": "code",
   "execution_count": 548,
   "metadata": {},
   "outputs": [],
   "source": [
    "import plotly.graph_objects as go\n",
    "import plotly.express as px"
   ]
  },
  {
   "cell_type": "code",
   "execution_count": 542,
   "metadata": {},
   "outputs": [
    {
     "data": {
      "text/plain": [
       "<matplotlib.axes._subplots.AxesSubplot at 0x1a9c671bd48>"
      ]
     },
     "execution_count": 542,
     "metadata": {},
     "output_type": "execute_result"
    },
    {
     "data": {
      "image/png": "[encoded data removed]",
      "text/plain": [
       "<Figure size 432x288 with 1 Axes>"
      ]
     },
     "metadata": {
      "needs_background": "light"
     },
     "output_type": "display_data"
    }
   ],
   "source": [
    "df['rate'].hist()"
   ]
  },
  {
   "cell_type": "code",
   "execution_count": 657,
   "metadata": {},
   "outputs": [],
   "source": [
    "def players_category_histogram(df):\n",
    "    categories = ['novices',\n",
    "                  'Class D',\n",
    "                  'Class C',\n",
    "                  'Class B',\n",
    "                  'Class A',\n",
    "                  'Expert',\n",
    "                  'Candidate Master',\n",
    "                  'Master',\n",
    "                  'International Master',\n",
    "                  'Grand Master']\n",
    "    traces = []\n",
    "    for cat in reversed(categories):\n",
    "        trace = go.Histogram(x = df[df.category == cat].rate,\n",
    "                             marker = dict(line=dict(color='rgb(0,0,0)',\n",
    "                                                     width=1.5)),\n",
    "                             name = cat)\n",
    "        traces.append(trace)\n",
    "\n",
    "    layout = dict(barmode = 'overlay',\n",
    "                  title = 'Users ratings',\n",
    "                  xaxis= dict(title= 'Ratings',\n",
    "                              ticklen= 5,\n",
    "                              zeroline= False, \n",
    "                              ticks=\"inside\"),\n",
    "                  yaxis = dict(title = 'Count',\n",
    "                               ticklen = 5,\n",
    "                               zeroline = False,\n",
    "                               ticks=\"outside\"))\n",
    "    return {'data': traces, 'layout': layout}"
   ]
  },
  {
   "cell_type": "code",
   "execution_count": 658,
   "metadata": {},
   "outputs": [
    {
     "data": {
      "application/vnd.plotly.v1+json": {
       "config": {
        "linkText": "Export to plot.ly",
        "plotlyServerURL": "https://plot.ly",
        "showLink": false
       },
       "data": [
        {
         "marker": {
          "line": {
           "color": "rgb(0,0,0)",
           "width": 1.5
          }
         },
         "name": "Grand Master",
         "type": "histogram",
         "x": []
        },
        {
         "marker": {
          "line": {
           "color": "rgb(0,0,0)",
           "width": 1.5
          }
         },
         "name": "International Master",
         "type": "histogram",
         "x": []
        },
        {
         "marker": {
          "line": {
           "color": "rgb(0,0,0)",
           "width": 1.5
          }
         },
         "name": "Master",
         "type": "histogram",
         "x": []
        },
        {
         "marker": {
          "line": {
           "color": "rgb(0,0,0)",
           "width": 1.5
          }
         },
         "name": "Candidate Master",
         "type": "histogram",
         "x": []
        },
        {
         "marker": {
          "line": {
           "color": "rgb(0,0,0)",
           "width": 1.5
          }
         },
         "name": "Expert",
         "type": "histogram",
         "x": [
          2000,
          2035,
          2017
         ]
        },
        {
         "marker": {
          "line": {
           "color": "rgb(0,0,0)",
           "width": 1.5
          }
         },
         "name": "Class A",
         "type": "histogram",
         "x": [
          1824,
          1808,
          1919,
          1840,
          1888,
          1855,
          1808,
          1984,
          1856,
          1935,
          1950,
          1824,
          1968,
          1903,
          1872
         ]
        },
        {
         "marker": {
          "line": {
           "color": "rgb(0,0,0)",
           "width": 1.5
          }
         },
         "name": "Class B",
         "type": "histogram",
         "x": [
          1664,
          1680,
          1680,
          1600,
          1744,
          1776,
          1696,
          1792,
          1792,
          1648,
          1648,
          1696,
          1632,
          1744,
          1776,
          1615,
          1712,
          1648,
          1760,
          1728,
          1632,
          1680,
          1712,
          1664,
          1664,
          1616,
          1600,
          1728,
          1616,
          1696,
          1760,
          1632
         ]
        },
        {
         "marker": {
          "line": {
           "color": "rgb(0,0,0)",
           "width": 1.5
          }
         },
         "name": "Class C",
         "type": "histogram",
         "x": [
          1440,
          1504,
          1488,
          1488,
          1536,
          1424,
          1408,
          1424,
          1520,
          1568,
          1536,
          1584,
          1520,
          1456,
          1440,
          1568,
          1536,
          1552,
          1552,
          1408,
          1456,
          1520,
          1552,
          1584,
          1585,
          1504,
          1472,
          1488,
          1504,
          1568,
          1440,
          1472
         ]
        },
        {
         "marker": {
          "line": {
           "color": "rgb(0,0,0)",
           "width": 1.5
          }
         },
         "name": "Class D",
         "type": "histogram",
         "x": [
          1344,
          1392,
          1296,
          1360,
          1360,
          1216,
          1264,
          1344,
          1312,
          1264,
          1200,
          1248,
          1376,
          1232,
          1280,
          1376,
          1392,
          1328
         ]
        },
        {
         "marker": {
          "line": {
           "color": "rgb(0,0,0)",
           "width": 1.5
          }
         },
         "name": "novices",
         "type": "histogram",
         "x": []
        }
       ],
       "layout": {
        "barmode": "overlay",
        "template": {
         "data": {
          "bar": [
           {
            "error_x": {
             "color": "#2a3f5f"
            },
            "error_y": {
             "color": "#2a3f5f"
            },
            "marker": {
             "line": {
              "color": "#E5ECF6",
              "width": 0.5
             }
            },
            "type": "bar"
           }
          ],
          "barpolar": [
           {
            "marker": {
             "line": {
              "color": "#E5ECF6",
              "width": 0.5
             }
            },
            "type": "barpolar"
           }
          ],
          "carpet": [
           {
            "aaxis": {
             "endlinecolor": "#2a3f5f",
             "gridcolor": "white",
             "linecolor": "white",
             "minorgridcolor": "white",
             "startlinecolor": "#2a3f5f"
            },
            "baxis": {
             "endlinecolor": "#2a3f5f",
             "gridcolor": "white",
             "linecolor": "white",
             "minorgridcolor": "white",
             "startlinecolor": "#2a3f5f"
            },
            "type": "carpet"
           }
          ],
          "choropleth": [
           {
            "colorbar": {
             "outlinewidth": 0,
             "ticks": ""
            },
            "type": "choropleth"
           }
          ],
          "contour": [
           {
            "colorbar": {
             "outlinewidth": 0,
             "ticks": ""
            },
            "colorscale": [
             [
              0,
              "#0d0887"
             ],
             [
              0.1111111111111111,
              "#46039f"
             ],
             [
              0.2222222222222222,
              "#7201a8"
             ],
             [
              0.3333333333333333,
              "#9c179e"
             ],
             [
              0.4444444444444444,
              "#bd3786"
             ],
             [
              0.5555555555555556,
              "#d8576b"
             ],
             [
              0.6666666666666666,
              "#ed7953"
             ],
             [
              0.7777777777777778,
              "#fb9f3a"
             ],
             [
              0.8888888888888888,
              "#fdca26"
             ],
             [
              1,
              "#f0f921"
             ]
            ],
            "type": "contour"
           }
          ],
          "contourcarpet": [
           {
            "colorbar": {
             "outlinewidth": 0,
             "ticks": ""
            },
            "type": "contourcarpet"
           }
          ],
          "heatmap": [
           {
            "colorbar": {
             "outlinewidth": 0,
             "ticks": ""
            },
            "colorscale": [
             [
              0,
              "#0d0887"
             ],
             [
              0.1111111111111111,
              "#46039f"
             ],
             [
              0.2222222222222222,
              "#7201a8"
             ],
             [
              0.3333333333333333,
              "#9c179e"
             ],
             [
              0.4444444444444444,
              "#bd3786"
             ],
             [
              0.5555555555555556,
              "#d8576b"
             ],
             [
              0.6666666666666666,
              "#ed7953"
             ],
             [
              0.7777777777777778,
              "#fb9f3a"
             ],
             [
              0.8888888888888888,
              "#fdca26"
             ],
             [
              1,
              "#f0f921"
             ]
            ],
            "type": "heatmap"
           }
          ],
          "heatmapgl": [
           {
            "colorbar": {
             "outlinewidth": 0,
             "ticks": ""
            },
            "colorscale": [
             [
              0,
              "#0d0887"
             ],
             [
              0.1111111111111111,
              "#46039f"
             ],
             [
              0.2222222222222222,
              "#7201a8"
             ],
             [
              0.3333333333333333,
              "#9c179e"
             ],
             [
              0.4444444444444444,
              "#bd3786"
             ],
             [
              0.5555555555555556,
              "#d8576b"
             ],
             [
              0.6666666666666666,
              "#ed7953"
             ],
             [
              0.7777777777777778,
              "#fb9f3a"
             ],
             [
              0.8888888888888888,
              "#fdca26"
             ],
             [
              1,
              "#f0f921"
             ]
            ],
            "type": "heatmapgl"
           }
          ],
          "histogram": [
           {
            "marker": {
             "colorbar": {
              "outlinewidth": 0,
              "ticks": ""
             }
            },
            "type": "histogram"
           }
          ],
          "histogram2d": [
           {
            "colorbar": {
             "outlinewidth": 0,
             "ticks": ""
            },
            "colorscale": [
             [
              0,
              "#0d0887"
             ],
             [
              0.1111111111111111,
              "#46039f"
             ],
             [
              0.2222222222222222,
              "#7201a8"
             ],
             [
              0.3333333333333333,
              "#9c179e"
             ],
             [
              0.4444444444444444,
              "#bd3786"
             ],
             [
              0.5555555555555556,
              "#d8576b"
             ],
             [
              0.6666666666666666,
              "#ed7953"
             ],
             [
              0.7777777777777778,
              "#fb9f3a"
             ],
             [
              0.8888888888888888,
              "#fdca26"
             ],
             [
              1,
              "#f0f921"
             ]
            ],
            "type": "histogram2d"
           }
          ],
          "histogram2dcontour": [
           {
            "colorbar": {
             "outlinewidth": 0,
             "ticks": ""
            },
            "colorscale": [
             [
              0,
              "#0d0887"
             ],
             [
              0.1111111111111111,
              "#46039f"
             ],
             [
              0.2222222222222222,
              "#7201a8"
             ],
             [
              0.3333333333333333,
              "#9c179e"
             ],
             [
              0.4444444444444444,
              "#bd3786"
             ],
             [
              0.5555555555555556,
              "#d8576b"
             ],
             [
              0.6666666666666666,
              "#ed7953"
             ],
             [
              0.7777777777777778,
              "#fb9f3a"
             ],
             [
              0.8888888888888888,
              "#fdca26"
             ],
             [
              1,
              "#f0f921"
             ]
            ],
            "type": "histogram2dcontour"
           }
          ],
          "mesh3d": [
           {
            "colorbar": {
             "outlinewidth": 0,
             "ticks": ""
            },
            "type": "mesh3d"
           }
          ],
          "parcoords": [
           {
            "line": {
             "colorbar": {
              "outlinewidth": 0,
              "ticks": ""
             }
            },
            "type": "parcoords"
           }
          ],
          "pie": [
           {
            "automargin": true,
            "type": "pie"
           }
          ],
          "scatter": [
           {
            "marker": {
             "colorbar": {
              "outlinewidth": 0,
              "ticks": ""
             }
            },
            "type": "scatter"
           }
          ],
          "scatter3d": [
           {
            "line": {
             "colorbar": {
              "outlinewidth": 0,
              "ticks": ""
             }
            },
            "marker": {
             "colorbar": {
              "outlinewidth": 0,
              "ticks": ""
             }
            },
            "type": "scatter3d"
           }
          ],
          "scattercarpet": [
           {
            "marker": {
             "colorbar": {
              "outlinewidth": 0,
              "ticks": ""
             }
            },
            "type": "scattercarpet"
           }
          ],
          "scattergeo": [
           {
            "marker": {
             "colorbar": {
              "outlinewidth": 0,
              "ticks": ""
             }
            },
            "type": "scattergeo"
           }
          ],
          "scattergl": [
           {
            "marker": {
             "colorbar": {
              "outlinewidth": 0,
              "ticks": ""
             }
            },
            "type": "scattergl"
           }
          ],
          "scattermapbox": [
           {
            "marker": {
             "colorbar": {
              "outlinewidth": 0,
              "ticks": ""
             }
            },
            "type": "scattermapbox"
           }
          ],
          "scatterpolar": [
           {
            "marker": {
             "colorbar": {
              "outlinewidth": 0,
              "ticks": ""
             }
            },
            "type": "scatterpolar"
           }
          ],
          "scatterpolargl": [
           {
            "marker": {
             "colorbar": {
              "outlinewidth": 0,
              "ticks": ""
             }
            },
            "type": "scatterpolargl"
           }
          ],
          "scatterternary": [
           {
            "marker": {
             "colorbar": {
              "outlinewidth": 0,
              "ticks": ""
             }
            },
            "type": "scatterternary"
           }
          ],
          "surface": [
           {
            "colorbar": {
             "outlinewidth": 0,
             "ticks": ""
            },
            "colorscale": [
             [
              0,
              "#0d0887"
             ],
             [
              0.1111111111111111,
              "#46039f"
             ],
             [
              0.2222222222222222,
              "#7201a8"
             ],
             [
              0.3333333333333333,
              "#9c179e"
             ],
             [
              0.4444444444444444,
              "#bd3786"
             ],
             [
              0.5555555555555556,
              "#d8576b"
             ],
             [
              0.6666666666666666,
              "#ed7953"
             ],
             [
              0.7777777777777778,
              "#fb9f3a"
             ],
             [
              0.8888888888888888,
              "#fdca26"
             ],
             [
              1,
              "#f0f921"
             ]
            ],
            "type": "surface"
           }
          ],
          "table": [
           {
            "cells": {
             "fill": {
              "color": "#EBF0F8"
             },
             "line": {
              "color": "white"
             }
            },
            "header": {
             "fill": {
              "color": "#C8D4E3"
             },
             "line": {
              "color": "white"
             }
            },
            "type": "table"
           }
          ]
         },
         "layout": {
          "annotationdefaults": {
           "arrowcolor": "#2a3f5f",
           "arrowhead": 0,
           "arrowwidth": 1
          },
          "coloraxis": {
           "colorbar": {
            "outlinewidth": 0,
            "ticks": ""
           }
          },
          "colorscale": {
           "diverging": [
            [
             0,
             "#8e0152"
            ],
            [
             0.1,
             "#c51b7d"
            ],
            [
             0.2,
             "#de77ae"
            ],
            [
             0.3,
             "#f1b6da"
            ],
            [
             0.4,
             "#fde0ef"
            ],
            [
             0.5,
             "#f7f7f7"
            ],
            [
             0.6,
             "#e6f5d0"
            ],
            [
             0.7,
             "#b8e186"
            ],
            [
             0.8,
             "#7fbc41"
            ],
            [
             0.9,
             "#4d9221"
            ],
            [
             1,
             "#276419"
            ]
           ],
           "sequential": [
            [
             0,
             "#0d0887"
            ],
            [
             0.1111111111111111,
             "#46039f"
            ],
            [
             0.2222222222222222,
             "#7201a8"
            ],
            [
             0.3333333333333333,
             "#9c179e"
            ],
            [
             0.4444444444444444,
             "#bd3786"
            ],
            [
             0.5555555555555556,
             "#d8576b"
            ],
            [
             0.6666666666666666,
             "#ed7953"
            ],
            [
             0.7777777777777778,
             "#fb9f3a"
            ],
            [
             0.8888888888888888,
             "#fdca26"
            ],
            [
             1,
             "#f0f921"
            ]
           ],
           "sequentialminus": [
            [
             0,
             "#0d0887"
            ],
            [
             0.1111111111111111,
             "#46039f"
            ],
            [
             0.2222222222222222,
             "#7201a8"
            ],
            [
             0.3333333333333333,
             "#9c179e"
            ],
            [
             0.4444444444444444,
             "#bd3786"
            ],
            [
             0.5555555555555556,
             "#d8576b"
            ],
            [
             0.6666666666666666,
             "#ed7953"
            ],
            [
             0.7777777777777778,
             "#fb9f3a"
            ],
            [
             0.8888888888888888,
             "#fdca26"
            ],
            [
             1,
             "#f0f921"
            ]
           ]
          },
          "colorway": [
           "#636efa",
           "#EF553B",
           "#00cc96",
           "#ab63fa",
           "#FFA15A",
           "#19d3f3",
           "#FF6692",
           "#B6E880",
           "#FF97FF",
           "#FECB52"
          ],
          "font": {
           "color": "#2a3f5f"
          },
          "geo": {
           "bgcolor": "white",
           "lakecolor": "white",
           "landcolor": "#E5ECF6",
           "showlakes": true,
           "showland": true,
           "subunitcolor": "white"
          },
          "hoverlabel": {
           "align": "left"
          },
          "hovermode": "closest",
          "mapbox": {
           "style": "light"
          },
          "paper_bgcolor": "white",
          "plot_bgcolor": "#E5ECF6",
          "polar": {
           "angularaxis": {
            "gridcolor": "white",
            "linecolor": "white",
            "ticks": ""
           },
           "bgcolor": "#E5ECF6",
           "radialaxis": {
            "gridcolor": "white",
            "linecolor": "white",
            "ticks": ""
           }
          },
          "scene": {
           "xaxis": {
            "backgroundcolor": "#E5ECF6",
            "gridcolor": "white",
            "gridwidth": 2,
            "linecolor": "white",
            "showbackground": true,
            "ticks": "",
            "zerolinecolor": "white"
           },
           "yaxis": {
            "backgroundcolor": "#E5ECF6",
            "gridcolor": "white",
            "gridwidth": 2,
            "linecolor": "white",
            "showbackground": true,
            "ticks": "",
            "zerolinecolor": "white"
           },
           "zaxis": {
            "backgroundcolor": "#E5ECF6",
            "gridcolor": "white",
            "gridwidth": 2,
            "linecolor": "white",
            "showbackground": true,
            "ticks": "",
            "zerolinecolor": "white"
           }
          },
          "shapedefaults": {
           "line": {
            "color": "#2a3f5f"
           }
          },
          "ternary": {
           "aaxis": {
            "gridcolor": "white",
            "linecolor": "white",
            "ticks": ""
           },
           "baxis": {
            "gridcolor": "white",
            "linecolor": "white",
            "ticks": ""
           },
           "bgcolor": "#E5ECF6",
           "caxis": {
            "gridcolor": "white",
            "linecolor": "white",
            "ticks": ""
           }
          },
          "title": {
           "x": 0.05
          },
          "xaxis": {
           "automargin": true,
           "gridcolor": "white",
           "linecolor": "white",
           "ticks": "",
           "title": {
            "standoff": 15
           },
           "zerolinecolor": "white",
           "zerolinewidth": 2
          },
          "yaxis": {
           "automargin": true,
           "gridcolor": "white",
           "linecolor": "white",
           "ticks": "",
           "title": {
            "standoff": 15
           },
           "zerolinecolor": "white",
           "zerolinewidth": 2
          }
         }
        },
        "title": {
         "text": "Users ratings"
        },
        "xaxis": {
         "ticklen": 5,
         "ticks": "inside",
         "title": {
          "text": "Ratings"
         },
         "zeroline": false
        },
        "yaxis": {
         "ticklen": 5,
         "ticks": "outside",
         "title": {
          "text": "Count"
         },
         "zeroline": false
        }
       }
      },
      "text/html": [
       "<div>\n",
       "        \n",
       "        \n",
       "            <div id=\"492622bf-5483-4203-9d4f-043334956f4b\" class=\"plotly-graph-div\" style=\"height:525px; width:100%;\"></div>\n",
       "            <script type=\"text/javascript\">\n",
       "                require([\"plotly\"], function(Plotly) {\n",
       "                    window.PLOTLYENV=window.PLOTLYENV || {};\n",
       "                    \n",
       "                if (document.getElementById(\"492622bf-5483-4203-9d4f-043334956f4b\")) {\n",
       "                    Plotly.newPlot(\n",
       "                        '492622bf-5483-4203-9d4f-043334956f4b',\n",
       "                        [{\"marker\": {\"line\": {\"color\": \"rgb(0,0,0)\", \"width\": 1.5}}, \"name\": \"Grand Master\", \"type\": \"histogram\", \"x\": []}, {\"marker\": {\"line\": {\"color\": \"rgb(0,0,0)\", \"width\": 1.5}}, \"name\": \"International Master\", \"type\": \"histogram\", \"x\": []}, {\"marker\": {\"line\": {\"color\": \"rgb(0,0,0)\", \"width\": 1.5}}, \"name\": \"Master\", \"type\": \"histogram\", \"x\": []}, {\"marker\": {\"line\": {\"color\": \"rgb(0,0,0)\", \"width\": 1.5}}, \"name\": \"Candidate Master\", \"type\": \"histogram\", \"x\": []}, {\"marker\": {\"line\": {\"color\": \"rgb(0,0,0)\", \"width\": 1.5}}, \"name\": \"Expert\", \"type\": \"histogram\", \"x\": [2000, 2035, 2017]}, {\"marker\": {\"line\": {\"color\": \"rgb(0,0,0)\", \"width\": 1.5}}, \"name\": \"Class A\", \"type\": \"histogram\", \"x\": [1824, 1808, 1919, 1840, 1888, 1855, 1808, 1984, 1856, 1935, 1950, 1824, 1968, 1903, 1872]}, {\"marker\": {\"line\": {\"color\": \"rgb(0,0,0)\", \"width\": 1.5}}, \"name\": \"Class B\", \"type\": \"histogram\", \"x\": [1664, 1680, 1680, 1600, 1744, 1776, 1696, 1792, 1792, 1648, 1648, 1696, 1632, 1744, 1776, 1615, 1712, 1648, 1760, 1728, 1632, 1680, 1712, 1664, 1664, 1616, 1600, 1728, 1616, 1696, 1760, 1632]}, {\"marker\": {\"line\": {\"color\": \"rgb(0,0,0)\", \"width\": 1.5}}, \"name\": \"Class C\", \"type\": \"histogram\", \"x\": [1440, 1504, 1488, 1488, 1536, 1424, 1408, 1424, 1520, 1568, 1536, 1584, 1520, 1456, 1440, 1568, 1536, 1552, 1552, 1408, 1456, 1520, 1552, 1584, 1585, 1504, 1472, 1488, 1504, 1568, 1440, 1472]}, {\"marker\": {\"line\": {\"color\": \"rgb(0,0,0)\", \"width\": 1.5}}, \"name\": \"Class D\", \"type\": \"histogram\", \"x\": [1344, 1392, 1296, 1360, 1360, 1216, 1264, 1344, 1312, 1264, 1200, 1248, 1376, 1232, 1280, 1376, 1392, 1328]}, {\"marker\": {\"line\": {\"color\": \"rgb(0,0,0)\", \"width\": 1.5}}, \"name\": \"novices\", \"type\": \"histogram\", \"x\": []}],\n",
       "                        {\"barmode\": \"overlay\", \"template\": {\"data\": {\"bar\": [{\"error_x\": {\"color\": \"#2a3f5f\"}, \"error_y\": {\"color\": \"#2a3f5f\"}, \"marker\": {\"line\": {\"color\": \"#E5ECF6\", \"width\": 0.5}}, \"type\": \"bar\"}], \"barpolar\": [{\"marker\": {\"line\": {\"color\": \"#E5ECF6\", \"width\": 0.5}}, \"type\": \"barpolar\"}], \"carpet\": [{\"aaxis\": {\"endlinecolor\": \"#2a3f5f\", \"gridcolor\": \"white\", \"linecolor\": \"white\", \"minorgridcolor\": \"white\", \"startlinecolor\": \"#2a3f5f\"}, \"baxis\": {\"endlinecolor\": \"#2a3f5f\", \"gridcolor\": \"white\", \"linecolor\": \"white\", \"minorgridcolor\": \"white\", \"startlinecolor\": \"#2a3f5f\"}, \"type\": \"carpet\"}], \"choropleth\": [{\"colorbar\": {\"outlinewidth\": 0, \"ticks\": \"\"}, \"type\": \"choropleth\"}], \"contour\": [{\"colorbar\": {\"outlinewidth\": 0, \"ticks\": \"\"}, \"colorscale\": [[0.0, \"#0d0887\"], [0.1111111111111111, \"#46039f\"], [0.2222222222222222, \"#7201a8\"], [0.3333333333333333, \"#9c179e\"], [0.4444444444444444, \"#bd3786\"], [0.5555555555555556, \"#d8576b\"], [0.6666666666666666, \"#ed7953\"], [0.7777777777777778, \"#fb9f3a\"], [0.8888888888888888, \"#fdca26\"], [1.0, \"#f0f921\"]], \"type\": \"contour\"}], \"contourcarpet\": [{\"colorbar\": {\"outlinewidth\": 0, \"ticks\": \"\"}, \"type\": \"contourcarpet\"}], \"heatmap\": [{\"colorbar\": {\"outlinewidth\": 0, \"ticks\": \"\"}, \"colorscale\": [[0.0, \"#0d0887\"], [0.1111111111111111, \"#46039f\"], [0.2222222222222222, \"#7201a8\"], [0.3333333333333333, \"#9c179e\"], [0.4444444444444444, \"#bd3786\"], [0.5555555555555556, \"#d8576b\"], [0.6666666666666666, \"#ed7953\"], [0.7777777777777778, \"#fb9f3a\"], [0.8888888888888888, \"#fdca26\"], [1.0, \"#f0f921\"]], \"type\": \"heatmap\"}], \"heatmapgl\": [{\"colorbar\": {\"outlinewidth\": 0, \"ticks\": \"\"}, \"colorscale\": [[0.0, \"#0d0887\"], [0.1111111111111111, \"#46039f\"], [0.2222222222222222, \"#7201a8\"], [0.3333333333333333, \"#9c179e\"], [0.4444444444444444, \"#bd3786\"], [0.5555555555555556, \"#d8576b\"], [0.6666666666666666, \"#ed7953\"], [0.7777777777777778, \"#fb9f3a\"], [0.8888888888888888, \"#fdca26\"], [1.0, \"#f0f921\"]], \"type\": \"heatmapgl\"}], \"histogram\": [{\"marker\": {\"colorbar\": {\"outlinewidth\": 0, \"ticks\": \"\"}}, \"type\": \"histogram\"}], \"histogram2d\": [{\"colorbar\": {\"outlinewidth\": 0, \"ticks\": \"\"}, \"colorscale\": [[0.0, \"#0d0887\"], [0.1111111111111111, \"#46039f\"], [0.2222222222222222, \"#7201a8\"], [0.3333333333333333, \"#9c179e\"], [0.4444444444444444, \"#bd3786\"], [0.5555555555555556, \"#d8576b\"], [0.6666666666666666, \"#ed7953\"], [0.7777777777777778, \"#fb9f3a\"], [0.8888888888888888, \"#fdca26\"], [1.0, \"#f0f921\"]], \"type\": \"histogram2d\"}], \"histogram2dcontour\": [{\"colorbar\": {\"outlinewidth\": 0, \"ticks\": \"\"}, \"colorscale\": [[0.0, \"#0d0887\"], [0.1111111111111111, \"#46039f\"], [0.2222222222222222, \"#7201a8\"], [0.3333333333333333, \"#9c179e\"], [0.4444444444444444, \"#bd3786\"], [0.5555555555555556, \"#d8576b\"], [0.6666666666666666, \"#ed7953\"], [0.7777777777777778, \"#fb9f3a\"], [0.8888888888888888, \"#fdca26\"], [1.0, \"#f0f921\"]], \"type\": \"histogram2dcontour\"}], \"mesh3d\": [{\"colorbar\": {\"outlinewidth\": 0, \"ticks\": \"\"}, \"type\": \"mesh3d\"}], \"parcoords\": [{\"line\": {\"colorbar\": {\"outlinewidth\": 0, \"ticks\": \"\"}}, \"type\": \"parcoords\"}], \"pie\": [{\"automargin\": true, \"type\": \"pie\"}], \"scatter\": [{\"marker\": {\"colorbar\": {\"outlinewidth\": 0, \"ticks\": \"\"}}, \"type\": \"scatter\"}], \"scatter3d\": [{\"line\": {\"colorbar\": {\"outlinewidth\": 0, \"ticks\": \"\"}}, \"marker\": {\"colorbar\": {\"outlinewidth\": 0, \"ticks\": \"\"}}, \"type\": \"scatter3d\"}], \"scattercarpet\": [{\"marker\": {\"colorbar\": {\"outlinewidth\": 0, \"ticks\": \"\"}}, \"type\": \"scattercarpet\"}], \"scattergeo\": [{\"marker\": {\"colorbar\": {\"outlinewidth\": 0, \"ticks\": \"\"}}, \"type\": \"scattergeo\"}], \"scattergl\": [{\"marker\": {\"colorbar\": {\"outlinewidth\": 0, \"ticks\": \"\"}}, \"type\": \"scattergl\"}], \"scattermapbox\": [{\"marker\": {\"colorbar\": {\"outlinewidth\": 0, \"ticks\": \"\"}}, \"type\": \"scattermapbox\"}], \"scatterpolar\": [{\"marker\": {\"colorbar\": {\"outlinewidth\": 0, \"ticks\": \"\"}}, \"type\": \"scatterpolar\"}], \"scatterpolargl\": [{\"marker\": {\"colorbar\": {\"outlinewidth\": 0, \"ticks\": \"\"}}, \"type\": \"scatterpolargl\"}], \"scatterternary\": [{\"marker\": {\"colorbar\": {\"outlinewidth\": 0, \"ticks\": \"\"}}, \"type\": \"scatterternary\"}], \"surface\": [{\"colorbar\": {\"outlinewidth\": 0, \"ticks\": \"\"}, \"colorscale\": [[0.0, \"#0d0887\"], [0.1111111111111111, \"#46039f\"], [0.2222222222222222, \"#7201a8\"], [0.3333333333333333, \"#9c179e\"], [0.4444444444444444, \"#bd3786\"], [0.5555555555555556, \"#d8576b\"], [0.6666666666666666, \"#ed7953\"], [0.7777777777777778, \"#fb9f3a\"], [0.8888888888888888, \"#fdca26\"], [1.0, \"#f0f921\"]], \"type\": \"surface\"}], \"table\": [{\"cells\": {\"fill\": {\"color\": \"#EBF0F8\"}, \"line\": {\"color\": \"white\"}}, \"header\": {\"fill\": {\"color\": \"#C8D4E3\"}, \"line\": {\"color\": \"white\"}}, \"type\": \"table\"}]}, \"layout\": {\"annotationdefaults\": {\"arrowcolor\": \"#2a3f5f\", \"arrowhead\": 0, \"arrowwidth\": 1}, \"coloraxis\": {\"colorbar\": {\"outlinewidth\": 0, \"ticks\": \"\"}}, \"colorscale\": {\"diverging\": [[0, \"#8e0152\"], [0.1, \"#c51b7d\"], [0.2, \"#de77ae\"], [0.3, \"#f1b6da\"], [0.4, \"#fde0ef\"], [0.5, \"#f7f7f7\"], [0.6, \"#e6f5d0\"], [0.7, \"#b8e186\"], [0.8, \"#7fbc41\"], [0.9, \"#4d9221\"], [1, \"#276419\"]], \"sequential\": [[0.0, \"#0d0887\"], [0.1111111111111111, \"#46039f\"], [0.2222222222222222, \"#7201a8\"], [0.3333333333333333, \"#9c179e\"], [0.4444444444444444, \"#bd3786\"], [0.5555555555555556, \"#d8576b\"], [0.6666666666666666, \"#ed7953\"], [0.7777777777777778, \"#fb9f3a\"], [0.8888888888888888, \"#fdca26\"], [1.0, \"#f0f921\"]], \"sequentialminus\": [[0.0, \"#0d0887\"], [0.1111111111111111, \"#46039f\"], [0.2222222222222222, \"#7201a8\"], [0.3333333333333333, \"#9c179e\"], [0.4444444444444444, \"#bd3786\"], [0.5555555555555556, \"#d8576b\"], [0.6666666666666666, \"#ed7953\"], [0.7777777777777778, \"#fb9f3a\"], [0.8888888888888888, \"#fdca26\"], [1.0, \"#f0f921\"]]}, \"colorway\": [\"#636efa\", \"#EF553B\", \"#00cc96\", \"#ab63fa\", \"#FFA15A\", \"#19d3f3\", \"#FF6692\", \"#B6E880\", \"#FF97FF\", \"#FECB52\"], \"font\": {\"color\": \"#2a3f5f\"}, \"geo\": {\"bgcolor\": \"white\", \"lakecolor\": \"white\", \"landcolor\": \"#E5ECF6\", \"showlakes\": true, \"showland\": true, \"subunitcolor\": \"white\"}, \"hoverlabel\": {\"align\": \"left\"}, \"hovermode\": \"closest\", \"mapbox\": {\"style\": \"light\"}, \"paper_bgcolor\": \"white\", \"plot_bgcolor\": \"#E5ECF6\", \"polar\": {\"angularaxis\": {\"gridcolor\": \"white\", \"linecolor\": \"white\", \"ticks\": \"\"}, \"bgcolor\": \"#E5ECF6\", \"radialaxis\": {\"gridcolor\": \"white\", \"linecolor\": \"white\", \"ticks\": \"\"}}, \"scene\": {\"xaxis\": {\"backgroundcolor\": \"#E5ECF6\", \"gridcolor\": \"white\", \"gridwidth\": 2, \"linecolor\": \"white\", \"showbackground\": true, \"ticks\": \"\", \"zerolinecolor\": \"white\"}, \"yaxis\": {\"backgroundcolor\": \"#E5ECF6\", \"gridcolor\": \"white\", \"gridwidth\": 2, \"linecolor\": \"white\", \"showbackground\": true, \"ticks\": \"\", \"zerolinecolor\": \"white\"}, \"zaxis\": {\"backgroundcolor\": \"#E5ECF6\", \"gridcolor\": \"white\", \"gridwidth\": 2, \"linecolor\": \"white\", \"showbackground\": true, \"ticks\": \"\", \"zerolinecolor\": \"white\"}}, \"shapedefaults\": {\"line\": {\"color\": \"#2a3f5f\"}}, \"ternary\": {\"aaxis\": {\"gridcolor\": \"white\", \"linecolor\": \"white\", \"ticks\": \"\"}, \"baxis\": {\"gridcolor\": \"white\", \"linecolor\": \"white\", \"ticks\": \"\"}, \"bgcolor\": \"#E5ECF6\", \"caxis\": {\"gridcolor\": \"white\", \"linecolor\": \"white\", \"ticks\": \"\"}}, \"title\": {\"x\": 0.05}, \"xaxis\": {\"automargin\": true, \"gridcolor\": \"white\", \"linecolor\": \"white\", \"ticks\": \"\", \"title\": {\"standoff\": 15}, \"zerolinecolor\": \"white\", \"zerolinewidth\": 2}, \"yaxis\": {\"automargin\": true, \"gridcolor\": \"white\", \"linecolor\": \"white\", \"ticks\": \"\", \"title\": {\"standoff\": 15}, \"zerolinecolor\": \"white\", \"zerolinewidth\": 2}}}, \"title\": {\"text\": \"Users ratings\"}, \"xaxis\": {\"ticklen\": 5, \"ticks\": \"inside\", \"title\": {\"text\": \"Ratings\"}, \"zeroline\": false}, \"yaxis\": {\"ticklen\": 5, \"ticks\": \"outside\", \"title\": {\"text\": \"Count\"}, \"zeroline\": false}},\n",
       "                        {\"responsive\": true}\n",
       "                    ).then(function(){\n",
       "                            \n",
       "var gd = document.getElementById('492622bf-5483-4203-9d4f-043334956f4b');\n",
       "var x = new MutationObserver(function (mutations, observer) {{\n",
       "        var display = window.getComputedStyle(gd).display;\n",
       "        if (!display || display === 'none') {{\n",
       "            console.log([gd, 'removed!']);\n",
       "            Plotly.purge(gd);\n",
       "            observer.disconnect();\n",
       "        }}\n",
       "}});\n",
       "\n",
       "// Listen for the removal of the full notebook cells\n",
       "var notebookContainer = gd.closest('#notebook-container');\n",
       "if (notebookContainer) {{\n",
       "    x.observe(notebookContainer, {childList: true});\n",
       "}}\n",
       "\n",
       "// Listen for the clearing of the current output cell\n",
       "var outputEl = gd.closest('.output');\n",
       "if (outputEl) {{\n",
       "    x.observe(outputEl, {childList: true});\n",
       "}}\n",
       "\n",
       "                        })\n",
       "                };\n",
       "                });\n",
       "            </script>\n",
       "        </div>"
      ]
     },
     "metadata": {},
     "output_type": "display_data"
    }
   ],
   "source": [
    "iplot(players_category_histogram(df))"
   ]
  },
  {
   "cell_type": "code",
   "execution_count": 571,
   "metadata": {},
   "outputs": [
    {
     "data": {
      "application/vnd.plotly.v1+json": {
       "config": {
        "linkText": "Export to plot.ly",
        "plotlyServerURL": "https://plot.ly",
        "showLink": false
       },
       "data": [
        {
         "marker": {
          "color": "rgba(31, 119, 180, 0.8)",
          "line": {
           "color": "rgb(0,0,0)",
           "width": 1.5
          }
         },
         "mode": "markers",
         "type": "scatter",
         "x": [
          0,
          1,
          2,
          3,
          4,
          5,
          6,
          7,
          8,
          9,
          10,
          11,
          12,
          13,
          14,
          15,
          16,
          17,
          18,
          19,
          20,
          21,
          22,
          23,
          24,
          25,
          26,
          27,
          28,
          29,
          30,
          31,
          32,
          33,
          34,
          35,
          36,
          37,
          38,
          39,
          40,
          41,
          42,
          43,
          44,
          45,
          46,
          47,
          48,
          49,
          50,
          51,
          52,
          53,
          54,
          55,
          56,
          57,
          58,
          59,
          60,
          61,
          62,
          63,
          64,
          65,
          66,
          67,
          68,
          69,
          70,
          71,
          72,
          73,
          74,
          75,
          76,
          77,
          78,
          79,
          80,
          81,
          82,
          83,
          84,
          85,
          86,
          87,
          88,
          89,
          90,
          91,
          92,
          93,
          94,
          95,
          96,
          97,
          98,
          99
         ],
         "y": [
          1664,
          1440,
          1504,
          1680,
          1488,
          1680,
          1488,
          1600,
          1744,
          1776,
          1536,
          1824,
          1696,
          1344,
          1792,
          1392,
          1424,
          1792,
          1648,
          1648,
          1808,
          1408,
          2000,
          1696,
          1632,
          1424,
          1744,
          1776,
          1296,
          1520,
          1919,
          1568,
          1536,
          1360,
          1584,
          1520,
          1360,
          1456,
          1615,
          1216,
          1264,
          1440,
          1344,
          1312,
          1712,
          1648,
          1568,
          1840,
          1536,
          1888,
          1760,
          1552,
          1855,
          1552,
          1728,
          1632,
          1264,
          1200,
          1680,
          1408,
          2035,
          1456,
          1248,
          1376,
          1520,
          1552,
          1808,
          1712,
          1232,
          1664,
          1584,
          1664,
          1616,
          1280,
          1600,
          2017,
          1728,
          1984,
          1585,
          1856,
          1504,
          1935,
          1950,
          1472,
          1488,
          1504,
          1568,
          1824,
          1376,
          1616,
          1440,
          1696,
          1968,
          1392,
          1760,
          1472,
          1632,
          1903,
          1872,
          1328
         ]
        }
       ],
       "layout": {
        "barmode": "group",
        "template": {
         "data": {
          "bar": [
           {
            "error_x": {
             "color": "#2a3f5f"
            },
            "error_y": {
             "color": "#2a3f5f"
            },
            "marker": {
             "line": {
              "color": "#E5ECF6",
              "width": 0.5
             }
            },
            "type": "bar"
           }
          ],
          "barpolar": [
           {
            "marker": {
             "line": {
              "color": "#E5ECF6",
              "width": 0.5
             }
            },
            "type": "barpolar"
           }
          ],
          "carpet": [
           {
            "aaxis": {
             "endlinecolor": "#2a3f5f",
             "gridcolor": "white",
             "linecolor": "white",
             "minorgridcolor": "white",
             "startlinecolor": "#2a3f5f"
            },
            "baxis": {
             "endlinecolor": "#2a3f5f",
             "gridcolor": "white",
             "linecolor": "white",
             "minorgridcolor": "white",
             "startlinecolor": "#2a3f5f"
            },
            "type": "carpet"
           }
          ],
          "choropleth": [
           {
            "colorbar": {
             "outlinewidth": 0,
             "ticks": ""
            },
            "type": "choropleth"
           }
          ],
          "contour": [
           {
            "colorbar": {
             "outlinewidth": 0,
             "ticks": ""
            },
            "colorscale": [
             [
              0,
              "#0d0887"
             ],
             [
              0.1111111111111111,
              "#46039f"
             ],
             [
              0.2222222222222222,
              "#7201a8"
             ],
             [
              0.3333333333333333,
              "#9c179e"
             ],
             [
              0.4444444444444444,
              "#bd3786"
             ],
             [
              0.5555555555555556,
              "#d8576b"
             ],
             [
              0.6666666666666666,
              "#ed7953"
             ],
             [
              0.7777777777777778,
              "#fb9f3a"
             ],
             [
              0.8888888888888888,
              "#fdca26"
             ],
             [
              1,
              "#f0f921"
             ]
            ],
            "type": "contour"
           }
          ],
          "contourcarpet": [
           {
            "colorbar": {
             "outlinewidth": 0,
             "ticks": ""
            },
            "type": "contourcarpet"
           }
          ],
          "heatmap": [
           {
            "colorbar": {
             "outlinewidth": 0,
             "ticks": ""
            },
            "colorscale": [
             [
              0,
              "#0d0887"
             ],
             [
              0.1111111111111111,
              "#46039f"
             ],
             [
              0.2222222222222222,
              "#7201a8"
             ],
             [
              0.3333333333333333,
              "#9c179e"
             ],
             [
              0.4444444444444444,
              "#bd3786"
             ],
             [
              0.5555555555555556,
              "#d8576b"
             ],
             [
              0.6666666666666666,
              "#ed7953"
             ],
             [
              0.7777777777777778,
              "#fb9f3a"
             ],
             [
              0.8888888888888888,
              "#fdca26"
             ],
             [
              1,
              "#f0f921"
             ]
            ],
            "type": "heatmap"
           }
          ],
          "heatmapgl": [
           {
            "colorbar": {
             "outlinewidth": 0,
             "ticks": ""
            },
            "colorscale": [
             [
              0,
              "#0d0887"
             ],
             [
              0.1111111111111111,
              "#46039f"
             ],
             [
              0.2222222222222222,
              "#7201a8"
             ],
             [
              0.3333333333333333,
              "#9c179e"
             ],
             [
              0.4444444444444444,
              "#bd3786"
             ],
             [
              0.5555555555555556,
              "#d8576b"
             ],
             [
              0.6666666666666666,
              "#ed7953"
             ],
             [
              0.7777777777777778,
              "#fb9f3a"
             ],
             [
              0.8888888888888888,
              "#fdca26"
             ],
             [
              1,
              "#f0f921"
             ]
            ],
            "type": "heatmapgl"
           }
          ],
          "histogram": [
           {
            "marker": {
             "colorbar": {
              "outlinewidth": 0,
              "ticks": ""
             }
            },
            "type": "histogram"
           }
          ],
          "histogram2d": [
           {
            "colorbar": {
             "outlinewidth": 0,
             "ticks": ""
            },
            "colorscale": [
             [
              0,
              "#0d0887"
             ],
             [
              0.1111111111111111,
              "#46039f"
             ],
             [
              0.2222222222222222,
              "#7201a8"
             ],
             [
              0.3333333333333333,
              "#9c179e"
             ],
             [
              0.4444444444444444,
              "#bd3786"
             ],
             [
              0.5555555555555556,
              "#d8576b"
             ],
             [
              0.6666666666666666,
              "#ed7953"
             ],
             [
              0.7777777777777778,
              "#fb9f3a"
             ],
             [
              0.8888888888888888,
              "#fdca26"
             ],
             [
              1,
              "#f0f921"
             ]
            ],
            "type": "histogram2d"
           }
          ],
          "histogram2dcontour": [
           {
            "colorbar": {
             "outlinewidth": 0,
             "ticks": ""
            },
            "colorscale": [
             [
              0,
              "#0d0887"
             ],
             [
              0.1111111111111111,
              "#46039f"
             ],
             [
              0.2222222222222222,
              "#7201a8"
             ],
             [
              0.3333333333333333,
              "#9c179e"
             ],
             [
              0.4444444444444444,
              "#bd3786"
             ],
             [
              0.5555555555555556,
              "#d8576b"
             ],
             [
              0.6666666666666666,
              "#ed7953"
             ],
             [
              0.7777777777777778,
              "#fb9f3a"
             ],
             [
              0.8888888888888888,
              "#fdca26"
             ],
             [
              1,
              "#f0f921"
             ]
            ],
            "type": "histogram2dcontour"
           }
          ],
          "mesh3d": [
           {
            "colorbar": {
             "outlinewidth": 0,
             "ticks": ""
            },
            "type": "mesh3d"
           }
          ],
          "parcoords": [
           {
            "line": {
             "colorbar": {
              "outlinewidth": 0,
              "ticks": ""
             }
            },
            "type": "parcoords"
           }
          ],
          "pie": [
           {
            "automargin": true,
            "type": "pie"
           }
          ],
          "scatter": [
           {
            "marker": {
             "colorbar": {
              "outlinewidth": 0,
              "ticks": ""
             }
            },
            "type": "scatter"
           }
          ],
          "scatter3d": [
           {
            "line": {
             "colorbar": {
              "outlinewidth": 0,
              "ticks": ""
             }
            },
            "marker": {
             "colorbar": {
              "outlinewidth": 0,
              "ticks": ""
             }
            },
            "type": "scatter3d"
           }
          ],
          "scattercarpet": [
           {
            "marker": {
             "colorbar": {
              "outlinewidth": 0,
              "ticks": ""
             }
            },
            "type": "scattercarpet"
           }
          ],
          "scattergeo": [
           {
            "marker": {
             "colorbar": {
              "outlinewidth": 0,
              "ticks": ""
             }
            },
            "type": "scattergeo"
           }
          ],
          "scattergl": [
           {
            "marker": {
             "colorbar": {
              "outlinewidth": 0,
              "ticks": ""
             }
            },
            "type": "scattergl"
           }
          ],
          "scattermapbox": [
           {
            "marker": {
             "colorbar": {
              "outlinewidth": 0,
              "ticks": ""
             }
            },
            "type": "scattermapbox"
           }
          ],
          "scatterpolar": [
           {
            "marker": {
             "colorbar": {
              "outlinewidth": 0,
              "ticks": ""
             }
            },
            "type": "scatterpolar"
           }
          ],
          "scatterpolargl": [
           {
            "marker": {
             "colorbar": {
              "outlinewidth": 0,
              "ticks": ""
             }
            },
            "type": "scatterpolargl"
           }
          ],
          "scatterternary": [
           {
            "marker": {
             "colorbar": {
              "outlinewidth": 0,
              "ticks": ""
             }
            },
            "type": "scatterternary"
           }
          ],
          "surface": [
           {
            "colorbar": {
             "outlinewidth": 0,
             "ticks": ""
            },
            "colorscale": [
             [
              0,
              "#0d0887"
             ],
             [
              0.1111111111111111,
              "#46039f"
             ],
             [
              0.2222222222222222,
              "#7201a8"
             ],
             [
              0.3333333333333333,
              "#9c179e"
             ],
             [
              0.4444444444444444,
              "#bd3786"
             ],
             [
              0.5555555555555556,
              "#d8576b"
             ],
             [
              0.6666666666666666,
              "#ed7953"
             ],
             [
              0.7777777777777778,
              "#fb9f3a"
             ],
             [
              0.8888888888888888,
              "#fdca26"
             ],
             [
              1,
              "#f0f921"
             ]
            ],
            "type": "surface"
           }
          ],
          "table": [
           {
            "cells": {
             "fill": {
              "color": "#EBF0F8"
             },
             "line": {
              "color": "white"
             }
            },
            "header": {
             "fill": {
              "color": "#C8D4E3"
             },
             "line": {
              "color": "white"
             }
            },
            "type": "table"
           }
          ]
         },
         "layout": {
          "annotationdefaults": {
           "arrowcolor": "#2a3f5f",
           "arrowhead": 0,
           "arrowwidth": 1
          },
          "coloraxis": {
           "colorbar": {
            "outlinewidth": 0,
            "ticks": ""
           }
          },
          "colorscale": {
           "diverging": [
            [
             0,
             "#8e0152"
            ],
            [
             0.1,
             "#c51b7d"
            ],
            [
             0.2,
             "#de77ae"
            ],
            [
             0.3,
             "#f1b6da"
            ],
            [
             0.4,
             "#fde0ef"
            ],
            [
             0.5,
             "#f7f7f7"
            ],
            [
             0.6,
             "#e6f5d0"
            ],
            [
             0.7,
             "#b8e186"
            ],
            [
             0.8,
             "#7fbc41"
            ],
            [
             0.9,
             "#4d9221"
            ],
            [
             1,
             "#276419"
            ]
           ],
           "sequential": [
            [
             0,
             "#0d0887"
            ],
            [
             0.1111111111111111,
             "#46039f"
            ],
            [
             0.2222222222222222,
             "#7201a8"
            ],
            [
             0.3333333333333333,
             "#9c179e"
            ],
            [
             0.4444444444444444,
             "#bd3786"
            ],
            [
             0.5555555555555556,
             "#d8576b"
            ],
            [
             0.6666666666666666,
             "#ed7953"
            ],
            [
             0.7777777777777778,
             "#fb9f3a"
            ],
            [
             0.8888888888888888,
             "#fdca26"
            ],
            [
             1,
             "#f0f921"
            ]
           ],
           "sequentialminus": [
            [
             0,
             "#0d0887"
            ],
            [
             0.1111111111111111,
             "#46039f"
            ],
            [
             0.2222222222222222,
             "#7201a8"
            ],
            [
             0.3333333333333333,
             "#9c179e"
            ],
            [
             0.4444444444444444,
             "#bd3786"
            ],
            [
             0.5555555555555556,
             "#d8576b"
            ],
            [
             0.6666666666666666,
             "#ed7953"
            ],
            [
             0.7777777777777778,
             "#fb9f3a"
            ],
            [
             0.8888888888888888,
             "#fdca26"
            ],
            [
             1,
             "#f0f921"
            ]
           ]
          },
          "colorway": [
           "#636efa",
           "#EF553B",
           "#00cc96",
           "#ab63fa",
           "#FFA15A",
           "#19d3f3",
           "#FF6692",
           "#B6E880",
           "#FF97FF",
           "#FECB52"
          ],
          "font": {
           "color": "#2a3f5f"
          },
          "geo": {
           "bgcolor": "white",
           "lakecolor": "white",
           "landcolor": "#E5ECF6",
           "showlakes": true,
           "showland": true,
           "subunitcolor": "white"
          },
          "hoverlabel": {
           "align": "left"
          },
          "hovermode": "closest",
          "mapbox": {
           "style": "light"
          },
          "paper_bgcolor": "white",
          "plot_bgcolor": "#E5ECF6",
          "polar": {
           "angularaxis": {
            "gridcolor": "white",
            "linecolor": "white",
            "ticks": ""
           },
           "bgcolor": "#E5ECF6",
           "radialaxis": {
            "gridcolor": "white",
            "linecolor": "white",
            "ticks": ""
           }
          },
          "scene": {
           "xaxis": {
            "backgroundcolor": "#E5ECF6",
            "gridcolor": "white",
            "gridwidth": 2,
            "linecolor": "white",
            "showbackground": true,
            "ticks": "",
            "zerolinecolor": "white"
           },
           "yaxis": {
            "backgroundcolor": "#E5ECF6",
            "gridcolor": "white",
            "gridwidth": 2,
            "linecolor": "white",
            "showbackground": true,
            "ticks": "",
            "zerolinecolor": "white"
           },
           "zaxis": {
            "backgroundcolor": "#E5ECF6",
            "gridcolor": "white",
            "gridwidth": 2,
            "linecolor": "white",
            "showbackground": true,
            "ticks": "",
            "zerolinecolor": "white"
           }
          },
          "shapedefaults": {
           "line": {
            "color": "#2a3f5f"
           }
          },
          "ternary": {
           "aaxis": {
            "gridcolor": "white",
            "linecolor": "white",
            "ticks": ""
           },
           "baxis": {
            "gridcolor": "white",
            "linecolor": "white",
            "ticks": ""
           },
           "bgcolor": "#E5ECF6",
           "caxis": {
            "gridcolor": "white",
            "linecolor": "white",
            "ticks": ""
           }
          },
          "title": {
           "x": 0.05
          },
          "xaxis": {
           "automargin": true,
           "gridcolor": "white",
           "linecolor": "white",
           "ticks": "",
           "title": {
            "standoff": 15
           },
           "zerolinecolor": "white",
           "zerolinewidth": 2
          },
          "yaxis": {
           "automargin": true,
           "gridcolor": "white",
           "linecolor": "white",
           "ticks": "",
           "title": {
            "standoff": 15
           },
           "zerolinecolor": "white",
           "zerolinewidth": 2
          }
         }
        },
        "title": {
         "text": "Users ratings"
        },
        "xaxis": {
         "ticklen": 5,
         "ticks": "inside",
         "title": {
          "text": "User ID"
         },
         "zeroline": false
        },
        "yaxis": {
         "ticklen": 5,
         "ticks": "outside",
         "title": {
          "text": "Rate"
         },
         "zeroline": false
        }
       }
      },
      "text/html": [
       "<div>\n",
       "        \n",
       "        \n",
       "            <div id=\"1c0a38cb-eafb-4e23-999f-757e06798215\" class=\"plotly-graph-div\" style=\"height:525px; width:100%;\"></div>\n",
       "            <script type=\"text/javascript\">\n",
       "                require([\"plotly\"], function(Plotly) {\n",
       "                    window.PLOTLYENV=window.PLOTLYENV || {};\n",
       "                    \n",
       "                if (document.getElementById(\"1c0a38cb-eafb-4e23-999f-757e06798215\")) {\n",
       "                    Plotly.newPlot(\n",
       "                        '1c0a38cb-eafb-4e23-999f-757e06798215',\n",
       "                        [{\"marker\": {\"color\": \"rgba(31, 119, 180, 0.8)\", \"line\": {\"color\": \"rgb(0,0,0)\", \"width\": 1.5}}, \"mode\": \"markers\", \"type\": \"scatter\", \"x\": [0, 1, 2, 3, 4, 5, 6, 7, 8, 9, 10, 11, 12, 13, 14, 15, 16, 17, 18, 19, 20, 21, 22, 23, 24, 25, 26, 27, 28, 29, 30, 31, 32, 33, 34, 35, 36, 37, 38, 39, 40, 41, 42, 43, 44, 45, 46, 47, 48, 49, 50, 51, 52, 53, 54, 55, 56, 57, 58, 59, 60, 61, 62, 63, 64, 65, 66, 67, 68, 69, 70, 71, 72, 73, 74, 75, 76, 77, 78, 79, 80, 81, 82, 83, 84, 85, 86, 87, 88, 89, 90, 91, 92, 93, 94, 95, 96, 97, 98, 99], \"y\": [1664, 1440, 1504, 1680, 1488, 1680, 1488, 1600, 1744, 1776, 1536, 1824, 1696, 1344, 1792, 1392, 1424, 1792, 1648, 1648, 1808, 1408, 2000, 1696, 1632, 1424, 1744, 1776, 1296, 1520, 1919, 1568, 1536, 1360, 1584, 1520, 1360, 1456, 1615, 1216, 1264, 1440, 1344, 1312, 1712, 1648, 1568, 1840, 1536, 1888, 1760, 1552, 1855, 1552, 1728, 1632, 1264, 1200, 1680, 1408, 2035, 1456, 1248, 1376, 1520, 1552, 1808, 1712, 1232, 1664, 1584, 1664, 1616, 1280, 1600, 2017, 1728, 1984, 1585, 1856, 1504, 1935, 1950, 1472, 1488, 1504, 1568, 1824, 1376, 1616, 1440, 1696, 1968, 1392, 1760, 1472, 1632, 1903, 1872, 1328]}],\n",
       "                        {\"barmode\": \"group\", \"template\": {\"data\": {\"bar\": [{\"error_x\": {\"color\": \"#2a3f5f\"}, \"error_y\": {\"color\": \"#2a3f5f\"}, \"marker\": {\"line\": {\"color\": \"#E5ECF6\", \"width\": 0.5}}, \"type\": \"bar\"}], \"barpolar\": [{\"marker\": {\"line\": {\"color\": \"#E5ECF6\", \"width\": 0.5}}, \"type\": \"barpolar\"}], \"carpet\": [{\"aaxis\": {\"endlinecolor\": \"#2a3f5f\", \"gridcolor\": \"white\", \"linecolor\": \"white\", \"minorgridcolor\": \"white\", \"startlinecolor\": \"#2a3f5f\"}, \"baxis\": {\"endlinecolor\": \"#2a3f5f\", \"gridcolor\": \"white\", \"linecolor\": \"white\", \"minorgridcolor\": \"white\", \"startlinecolor\": \"#2a3f5f\"}, \"type\": \"carpet\"}], \"choropleth\": [{\"colorbar\": {\"outlinewidth\": 0, \"ticks\": \"\"}, \"type\": \"choropleth\"}], \"contour\": [{\"colorbar\": {\"outlinewidth\": 0, \"ticks\": \"\"}, \"colorscale\": [[0.0, \"#0d0887\"], [0.1111111111111111, \"#46039f\"], [0.2222222222222222, \"#7201a8\"], [0.3333333333333333, \"#9c179e\"], [0.4444444444444444, \"#bd3786\"], [0.5555555555555556, \"#d8576b\"], [0.6666666666666666, \"#ed7953\"], [0.7777777777777778, \"#fb9f3a\"], [0.8888888888888888, \"#fdca26\"], [1.0, \"#f0f921\"]], \"type\": \"contour\"}], \"contourcarpet\": [{\"colorbar\": {\"outlinewidth\": 0, \"ticks\": \"\"}, \"type\": \"contourcarpet\"}], \"heatmap\": [{\"colorbar\": {\"outlinewidth\": 0, \"ticks\": \"\"}, \"colorscale\": [[0.0, \"#0d0887\"], [0.1111111111111111, \"#46039f\"], [0.2222222222222222, \"#7201a8\"], [0.3333333333333333, \"#9c179e\"], [0.4444444444444444, \"#bd3786\"], [0.5555555555555556, \"#d8576b\"], [0.6666666666666666, \"#ed7953\"], [0.7777777777777778, \"#fb9f3a\"], [0.8888888888888888, \"#fdca26\"], [1.0, \"#f0f921\"]], \"type\": \"heatmap\"}], \"heatmapgl\": [{\"colorbar\": {\"outlinewidth\": 0, \"ticks\": \"\"}, \"colorscale\": [[0.0, \"#0d0887\"], [0.1111111111111111, \"#46039f\"], [0.2222222222222222, \"#7201a8\"], [0.3333333333333333, \"#9c179e\"], [0.4444444444444444, \"#bd3786\"], [0.5555555555555556, \"#d8576b\"], [0.6666666666666666, \"#ed7953\"], [0.7777777777777778, \"#fb9f3a\"], [0.8888888888888888, \"#fdca26\"], [1.0, \"#f0f921\"]], \"type\": \"heatmapgl\"}], \"histogram\": [{\"marker\": {\"colorbar\": {\"outlinewidth\": 0, \"ticks\": \"\"}}, \"type\": \"histogram\"}], \"histogram2d\": [{\"colorbar\": {\"outlinewidth\": 0, \"ticks\": \"\"}, \"colorscale\": [[0.0, \"#0d0887\"], [0.1111111111111111, \"#46039f\"], [0.2222222222222222, \"#7201a8\"], [0.3333333333333333, \"#9c179e\"], [0.4444444444444444, \"#bd3786\"], [0.5555555555555556, \"#d8576b\"], [0.6666666666666666, \"#ed7953\"], [0.7777777777777778, \"#fb9f3a\"], [0.8888888888888888, \"#fdca26\"], [1.0, \"#f0f921\"]], \"type\": \"histogram2d\"}], \"histogram2dcontour\": [{\"colorbar\": {\"outlinewidth\": 0, \"ticks\": \"\"}, \"colorscale\": [[0.0, \"#0d0887\"], [0.1111111111111111, \"#46039f\"], [0.2222222222222222, \"#7201a8\"], [0.3333333333333333, \"#9c179e\"], [0.4444444444444444, \"#bd3786\"], [0.5555555555555556, \"#d8576b\"], [0.6666666666666666, \"#ed7953\"], [0.7777777777777778, \"#fb9f3a\"], [0.8888888888888888, \"#fdca26\"], [1.0, \"#f0f921\"]], \"type\": \"histogram2dcontour\"}], \"mesh3d\": [{\"colorbar\": {\"outlinewidth\": 0, \"ticks\": \"\"}, \"type\": \"mesh3d\"}], \"parcoords\": [{\"line\": {\"colorbar\": {\"outlinewidth\": 0, \"ticks\": \"\"}}, \"type\": \"parcoords\"}], \"pie\": [{\"automargin\": true, \"type\": \"pie\"}], \"scatter\": [{\"marker\": {\"colorbar\": {\"outlinewidth\": 0, \"ticks\": \"\"}}, \"type\": \"scatter\"}], \"scatter3d\": [{\"line\": {\"colorbar\": {\"outlinewidth\": 0, \"ticks\": \"\"}}, \"marker\": {\"colorbar\": {\"outlinewidth\": 0, \"ticks\": \"\"}}, \"type\": \"scatter3d\"}], \"scattercarpet\": [{\"marker\": {\"colorbar\": {\"outlinewidth\": 0, \"ticks\": \"\"}}, \"type\": \"scattercarpet\"}], \"scattergeo\": [{\"marker\": {\"colorbar\": {\"outlinewidth\": 0, \"ticks\": \"\"}}, \"type\": \"scattergeo\"}], \"scattergl\": [{\"marker\": {\"colorbar\": {\"outlinewidth\": 0, \"ticks\": \"\"}}, \"type\": \"scattergl\"}], \"scattermapbox\": [{\"marker\": {\"colorbar\": {\"outlinewidth\": 0, \"ticks\": \"\"}}, \"type\": \"scattermapbox\"}], \"scatterpolar\": [{\"marker\": {\"colorbar\": {\"outlinewidth\": 0, \"ticks\": \"\"}}, \"type\": \"scatterpolar\"}], \"scatterpolargl\": [{\"marker\": {\"colorbar\": {\"outlinewidth\": 0, \"ticks\": \"\"}}, \"type\": \"scatterpolargl\"}], \"scatterternary\": [{\"marker\": {\"colorbar\": {\"outlinewidth\": 0, \"ticks\": \"\"}}, \"type\": \"scatterternary\"}], \"surface\": [{\"colorbar\": {\"outlinewidth\": 0, \"ticks\": \"\"}, \"colorscale\": [[0.0, \"#0d0887\"], [0.1111111111111111, \"#46039f\"], [0.2222222222222222, \"#7201a8\"], [0.3333333333333333, \"#9c179e\"], [0.4444444444444444, \"#bd3786\"], [0.5555555555555556, \"#d8576b\"], [0.6666666666666666, \"#ed7953\"], [0.7777777777777778, \"#fb9f3a\"], [0.8888888888888888, \"#fdca26\"], [1.0, \"#f0f921\"]], \"type\": \"surface\"}], \"table\": [{\"cells\": {\"fill\": {\"color\": \"#EBF0F8\"}, \"line\": {\"color\": \"white\"}}, \"header\": {\"fill\": {\"color\": \"#C8D4E3\"}, \"line\": {\"color\": \"white\"}}, \"type\": \"table\"}]}, \"layout\": {\"annotationdefaults\": {\"arrowcolor\": \"#2a3f5f\", \"arrowhead\": 0, \"arrowwidth\": 1}, \"coloraxis\": {\"colorbar\": {\"outlinewidth\": 0, \"ticks\": \"\"}}, \"colorscale\": {\"diverging\": [[0, \"#8e0152\"], [0.1, \"#c51b7d\"], [0.2, \"#de77ae\"], [0.3, \"#f1b6da\"], [0.4, \"#fde0ef\"], [0.5, \"#f7f7f7\"], [0.6, \"#e6f5d0\"], [0.7, \"#b8e186\"], [0.8, \"#7fbc41\"], [0.9, \"#4d9221\"], [1, \"#276419\"]], \"sequential\": [[0.0, \"#0d0887\"], [0.1111111111111111, \"#46039f\"], [0.2222222222222222, \"#7201a8\"], [0.3333333333333333, \"#9c179e\"], [0.4444444444444444, \"#bd3786\"], [0.5555555555555556, \"#d8576b\"], [0.6666666666666666, \"#ed7953\"], [0.7777777777777778, \"#fb9f3a\"], [0.8888888888888888, \"#fdca26\"], [1.0, \"#f0f921\"]], \"sequentialminus\": [[0.0, \"#0d0887\"], [0.1111111111111111, \"#46039f\"], [0.2222222222222222, \"#7201a8\"], [0.3333333333333333, \"#9c179e\"], [0.4444444444444444, \"#bd3786\"], [0.5555555555555556, \"#d8576b\"], [0.6666666666666666, \"#ed7953\"], [0.7777777777777778, \"#fb9f3a\"], [0.8888888888888888, \"#fdca26\"], [1.0, \"#f0f921\"]]}, \"colorway\": [\"#636efa\", \"#EF553B\", \"#00cc96\", \"#ab63fa\", \"#FFA15A\", \"#19d3f3\", \"#FF6692\", \"#B6E880\", \"#FF97FF\", \"#FECB52\"], \"font\": {\"color\": \"#2a3f5f\"}, \"geo\": {\"bgcolor\": \"white\", \"lakecolor\": \"white\", \"landcolor\": \"#E5ECF6\", \"showlakes\": true, \"showland\": true, \"subunitcolor\": \"white\"}, \"hoverlabel\": {\"align\": \"left\"}, \"hovermode\": \"closest\", \"mapbox\": {\"style\": \"light\"}, \"paper_bgcolor\": \"white\", \"plot_bgcolor\": \"#E5ECF6\", \"polar\": {\"angularaxis\": {\"gridcolor\": \"white\", \"linecolor\": \"white\", \"ticks\": \"\"}, \"bgcolor\": \"#E5ECF6\", \"radialaxis\": {\"gridcolor\": \"white\", \"linecolor\": \"white\", \"ticks\": \"\"}}, \"scene\": {\"xaxis\": {\"backgroundcolor\": \"#E5ECF6\", \"gridcolor\": \"white\", \"gridwidth\": 2, \"linecolor\": \"white\", \"showbackground\": true, \"ticks\": \"\", \"zerolinecolor\": \"white\"}, \"yaxis\": {\"backgroundcolor\": \"#E5ECF6\", \"gridcolor\": \"white\", \"gridwidth\": 2, \"linecolor\": \"white\", \"showbackground\": true, \"ticks\": \"\", \"zerolinecolor\": \"white\"}, \"zaxis\": {\"backgroundcolor\": \"#E5ECF6\", \"gridcolor\": \"white\", \"gridwidth\": 2, \"linecolor\": \"white\", \"showbackground\": true, \"ticks\": \"\", \"zerolinecolor\": \"white\"}}, \"shapedefaults\": {\"line\": {\"color\": \"#2a3f5f\"}}, \"ternary\": {\"aaxis\": {\"gridcolor\": \"white\", \"linecolor\": \"white\", \"ticks\": \"\"}, \"baxis\": {\"gridcolor\": \"white\", \"linecolor\": \"white\", \"ticks\": \"\"}, \"bgcolor\": \"#E5ECF6\", \"caxis\": {\"gridcolor\": \"white\", \"linecolor\": \"white\", \"ticks\": \"\"}}, \"title\": {\"x\": 0.05}, \"xaxis\": {\"automargin\": true, \"gridcolor\": \"white\", \"linecolor\": \"white\", \"ticks\": \"\", \"title\": {\"standoff\": 15}, \"zerolinecolor\": \"white\", \"zerolinewidth\": 2}, \"yaxis\": {\"automargin\": true, \"gridcolor\": \"white\", \"linecolor\": \"white\", \"ticks\": \"\", \"title\": {\"standoff\": 15}, \"zerolinecolor\": \"white\", \"zerolinewidth\": 2}}}, \"title\": {\"text\": \"Users ratings\"}, \"xaxis\": {\"ticklen\": 5, \"ticks\": \"inside\", \"title\": {\"text\": \"User ID\"}, \"zeroline\": false}, \"yaxis\": {\"ticklen\": 5, \"ticks\": \"outside\", \"title\": {\"text\": \"Rate\"}, \"zeroline\": false}},\n",
       "                        {\"responsive\": true}\n",
       "                    ).then(function(){\n",
       "                            \n",
       "var gd = document.getElementById('1c0a38cb-eafb-4e23-999f-757e06798215');\n",
       "var x = new MutationObserver(function (mutations, observer) {{\n",
       "        var display = window.getComputedStyle(gd).display;\n",
       "        if (!display || display === 'none') {{\n",
       "            console.log([gd, 'removed!']);\n",
       "            Plotly.purge(gd);\n",
       "            observer.disconnect();\n",
       "        }}\n",
       "}});\n",
       "\n",
       "// Listen for the removal of the full notebook cells\n",
       "var notebookContainer = gd.closest('#notebook-container');\n",
       "if (notebookContainer) {{\n",
       "    x.observe(notebookContainer, {childList: true});\n",
       "}}\n",
       "\n",
       "// Listen for the clearing of the current output cell\n",
       "var outputEl = gd.closest('.output');\n",
       "if (outputEl) {{\n",
       "    x.observe(outputEl, {childList: true});\n",
       "}}\n",
       "\n",
       "                        })\n",
       "                };\n",
       "                });\n",
       "            </script>\n",
       "        </div>"
      ]
     },
     "metadata": {},
     "output_type": "display_data"
    }
   ],
   "source": [
    "# create trace1 \n",
    "trace1 = go.Scatter(\n",
    "                y = df.rate,\n",
    "                x = df.index,\n",
    "                mode = 'markers',\n",
    "                marker = dict(color = 'rgba(31, 119, 180, 0.8)',\n",
    "                              line=dict(color='rgb(0,0,0)',width=1.5))\n",
    "            )\n",
    "layout = dict(barmode = 'group',title = 'Users ratings',\n",
    "             xaxis= dict(title= 'User ID',ticklen= 5,zeroline= False, ticks=\"inside\"), \n",
    "             yaxis = dict(title = 'Rate', ticklen = 5, zeroline = False, ticks=\"outside\"))\n",
    "data = [trace1]\n",
    "\n",
    "fig = {'data': data, 'layout': layout}\n",
    "iplot(fig)"
   ]
  },
  {
   "cell_type": "code",
   "execution_count": 526,
   "metadata": {},
   "outputs": [
    {
     "data": {
      "application/vnd.plotly.v1+json": {
       "config": {
        "linkText": "Export to plot.ly",
        "plotlyServerURL": "https://plot.ly",
        "showLink": false
       },
       "data": [
        {
         "marker": {
          "color": "rgba(31, 119, 180, 0.8)",
          "line": {
           "color": "rgb(0,0,0)",
           "width": 1.5
          }
         },
         "mode": "markers",
         "type": "scatter",
         "x": [
          1664,
          1440,
          1504,
          1680,
          1488,
          1680,
          1488,
          1600,
          1744,
          1776,
          1536,
          1824,
          1696,
          1344,
          1792,
          1392,
          1424,
          1792,
          1648,
          1648,
          1808,
          1408,
          2000,
          1696,
          1632,
          1424,
          1744,
          1776,
          1296,
          1520,
          1919,
          1568,
          1536,
          1360,
          1584,
          1520,
          1360,
          1456,
          1615,
          1216,
          1264,
          1440,
          1344,
          1312,
          1712,
          1648,
          1568,
          1840,
          1536,
          1888,
          1760,
          1552,
          1855,
          1552,
          1728,
          1632,
          1264,
          1200,
          1680,
          1408,
          2035,
          1456,
          1248,
          1376,
          1520,
          1552,
          1808,
          1712,
          1232,
          1664,
          1584,
          1664,
          1616,
          1280,
          1600,
          2017,
          1728,
          1984,
          1585,
          1856,
          1504,
          1935,
          1950,
          1472,
          1488,
          1504,
          1568,
          1824,
          1376,
          1616,
          1440,
          1696,
          1968,
          1392,
          1760,
          1472,
          1632,
          1903,
          1872,
          1328
         ],
         "y": [
          50,
          46,
          46,
          63,
          50,
          59,
          49,
          51,
          50,
          57,
          54,
          69,
          56,
          44,
          56,
          50,
          39,
          69,
          65,
          54,
          60,
          38,
          69,
          48,
          59,
          43,
          58,
          52,
          33,
          42,
          55,
          42,
          53,
          45,
          51,
          60,
          43,
          35,
          56,
          42,
          42,
          50,
          46,
          48,
          49,
          56,
          50,
          56,
          48,
          62,
          53,
          50,
          59,
          45,
          54,
          51,
          42,
          45,
          57,
          37,
          71,
          44,
          43,
          40,
          62,
          56,
          61,
          52,
          43,
          62,
          52,
          59,
          53,
          44,
          54,
          76,
          65,
          71,
          55,
          49,
          50,
          55,
          65,
          43,
          57,
          59,
          49,
          59,
          43,
          53,
          48,
          55,
          63,
          51,
          58,
          49,
          55,
          51,
          50,
          42
         ]
        }
       ],
       "layout": {
        "template": {
         "data": {
          "bar": [
           {
            "error_x": {
             "color": "#2a3f5f"
            },
            "error_y": {
             "color": "#2a3f5f"
            },
            "marker": {
             "line": {
              "color": "#E5ECF6",
              "width": 0.5
             }
            },
            "type": "bar"
           }
          ],
          "barpolar": [
           {
            "marker": {
             "line": {
              "color": "#E5ECF6",
              "width": 0.5
             }
            },
            "type": "barpolar"
           }
          ],
          "carpet": [
           {
            "aaxis": {
             "endlinecolor": "#2a3f5f",
             "gridcolor": "white",
             "linecolor": "white",
             "minorgridcolor": "white",
             "startlinecolor": "#2a3f5f"
            },
            "baxis": {
             "endlinecolor": "#2a3f5f",
             "gridcolor": "white",
             "linecolor": "white",
             "minorgridcolor": "white",
             "startlinecolor": "#2a3f5f"
            },
            "type": "carpet"
           }
          ],
          "choropleth": [
           {
            "colorbar": {
             "outlinewidth": 0,
             "ticks": ""
            },
            "type": "choropleth"
           }
          ],
          "contour": [
           {
            "colorbar": {
             "outlinewidth": 0,
             "ticks": ""
            },
            "colorscale": [
             [
              0,
              "#0d0887"
             ],
             [
              0.1111111111111111,
              "#46039f"
             ],
             [
              0.2222222222222222,
              "#7201a8"
             ],
             [
              0.3333333333333333,
              "#9c179e"
             ],
             [
              0.4444444444444444,
              "#bd3786"
             ],
             [
              0.5555555555555556,
              "#d8576b"
             ],
             [
              0.6666666666666666,
              "#ed7953"
             ],
             [
              0.7777777777777778,
              "#fb9f3a"
             ],
             [
              0.8888888888888888,
              "#fdca26"
             ],
             [
              1,
              "#f0f921"
             ]
            ],
            "type": "contour"
           }
          ],
          "contourcarpet": [
           {
            "colorbar": {
             "outlinewidth": 0,
             "ticks": ""
            },
            "type": "contourcarpet"
           }
          ],
          "heatmap": [
           {
            "colorbar": {
             "outlinewidth": 0,
             "ticks": ""
            },
            "colorscale": [
             [
              0,
              "#0d0887"
             ],
             [
              0.1111111111111111,
              "#46039f"
             ],
             [
              0.2222222222222222,
              "#7201a8"
             ],
             [
              0.3333333333333333,
              "#9c179e"
             ],
             [
              0.4444444444444444,
              "#bd3786"
             ],
             [
              0.5555555555555556,
              "#d8576b"
             ],
             [
              0.6666666666666666,
              "#ed7953"
             ],
             [
              0.7777777777777778,
              "#fb9f3a"
             ],
             [
              0.8888888888888888,
              "#fdca26"
             ],
             [
              1,
              "#f0f921"
             ]
            ],
            "type": "heatmap"
           }
          ],
          "heatmapgl": [
           {
            "colorbar": {
             "outlinewidth": 0,
             "ticks": ""
            },
            "colorscale": [
             [
              0,
              "#0d0887"
             ],
             [
              0.1111111111111111,
              "#46039f"
             ],
             [
              0.2222222222222222,
              "#7201a8"
             ],
             [
              0.3333333333333333,
              "#9c179e"
             ],
             [
              0.4444444444444444,
              "#bd3786"
             ],
             [
              0.5555555555555556,
              "#d8576b"
             ],
             [
              0.6666666666666666,
              "#ed7953"
             ],
             [
              0.7777777777777778,
              "#fb9f3a"
             ],
             [
              0.8888888888888888,
              "#fdca26"
             ],
             [
              1,
              "#f0f921"
             ]
            ],
            "type": "heatmapgl"
           }
          ],
          "histogram": [
           {
            "marker": {
             "colorbar": {
              "outlinewidth": 0,
              "ticks": ""
             }
            },
            "type": "histogram"
           }
          ],
          "histogram2d": [
           {
            "colorbar": {
             "outlinewidth": 0,
             "ticks": ""
            },
            "colorscale": [
             [
              0,
              "#0d0887"
             ],
             [
              0.1111111111111111,
              "#46039f"
             ],
             [
              0.2222222222222222,
              "#7201a8"
             ],
             [
              0.3333333333333333,
              "#9c179e"
             ],
             [
              0.4444444444444444,
              "#bd3786"
             ],
             [
              0.5555555555555556,
              "#d8576b"
             ],
             [
              0.6666666666666666,
              "#ed7953"
             ],
             [
              0.7777777777777778,
              "#fb9f3a"
             ],
             [
              0.8888888888888888,
              "#fdca26"
             ],
             [
              1,
              "#f0f921"
             ]
            ],
            "type": "histogram2d"
           }
          ],
          "histogram2dcontour": [
           {
            "colorbar": {
             "outlinewidth": 0,
             "ticks": ""
            },
            "colorscale": [
             [
              0,
              "#0d0887"
             ],
             [
              0.1111111111111111,
              "#46039f"
             ],
             [
              0.2222222222222222,
              "#7201a8"
             ],
             [
              0.3333333333333333,
              "#9c179e"
             ],
             [
              0.4444444444444444,
              "#bd3786"
             ],
             [
              0.5555555555555556,
              "#d8576b"
             ],
             [
              0.6666666666666666,
              "#ed7953"
             ],
             [
              0.7777777777777778,
              "#fb9f3a"
             ],
             [
              0.8888888888888888,
              "#fdca26"
             ],
             [
              1,
              "#f0f921"
             ]
            ],
            "type": "histogram2dcontour"
           }
          ],
          "mesh3d": [
           {
            "colorbar": {
             "outlinewidth": 0,
             "ticks": ""
            },
            "type": "mesh3d"
           }
          ],
          "parcoords": [
           {
            "line": {
             "colorbar": {
              "outlinewidth": 0,
              "ticks": ""
             }
            },
            "type": "parcoords"
           }
          ],
          "pie": [
           {
            "automargin": true,
            "type": "pie"
           }
          ],
          "scatter": [
           {
            "marker": {
             "colorbar": {
              "outlinewidth": 0,
              "ticks": ""
             }
            },
            "type": "scatter"
           }
          ],
          "scatter3d": [
           {
            "line": {
             "colorbar": {
              "outlinewidth": 0,
              "ticks": ""
             }
            },
            "marker": {
             "colorbar": {
              "outlinewidth": 0,
              "ticks": ""
             }
            },
            "type": "scatter3d"
           }
          ],
          "scattercarpet": [
           {
            "marker": {
             "colorbar": {
              "outlinewidth": 0,
              "ticks": ""
             }
            },
            "type": "scattercarpet"
           }
          ],
          "scattergeo": [
           {
            "marker": {
             "colorbar": {
              "outlinewidth": 0,
              "ticks": ""
             }
            },
            "type": "scattergeo"
           }
          ],
          "scattergl": [
           {
            "marker": {
             "colorbar": {
              "outlinewidth": 0,
              "ticks": ""
             }
            },
            "type": "scattergl"
           }
          ],
          "scattermapbox": [
           {
            "marker": {
             "colorbar": {
              "outlinewidth": 0,
              "ticks": ""
             }
            },
            "type": "scattermapbox"
           }
          ],
          "scatterpolar": [
           {
            "marker": {
             "colorbar": {
              "outlinewidth": 0,
              "ticks": ""
             }
            },
            "type": "scatterpolar"
           }
          ],
          "scatterpolargl": [
           {
            "marker": {
             "colorbar": {
              "outlinewidth": 0,
              "ticks": ""
             }
            },
            "type": "scatterpolargl"
           }
          ],
          "scatterternary": [
           {
            "marker": {
             "colorbar": {
              "outlinewidth": 0,
              "ticks": ""
             }
            },
            "type": "scatterternary"
           }
          ],
          "surface": [
           {
            "colorbar": {
             "outlinewidth": 0,
             "ticks": ""
            },
            "colorscale": [
             [
              0,
              "#0d0887"
             ],
             [
              0.1111111111111111,
              "#46039f"
             ],
             [
              0.2222222222222222,
              "#7201a8"
             ],
             [
              0.3333333333333333,
              "#9c179e"
             ],
             [
              0.4444444444444444,
              "#bd3786"
             ],
             [
              0.5555555555555556,
              "#d8576b"
             ],
             [
              0.6666666666666666,
              "#ed7953"
             ],
             [
              0.7777777777777778,
              "#fb9f3a"
             ],
             [
              0.8888888888888888,
              "#fdca26"
             ],
             [
              1,
              "#f0f921"
             ]
            ],
            "type": "surface"
           }
          ],
          "table": [
           {
            "cells": {
             "fill": {
              "color": "#EBF0F8"
             },
             "line": {
              "color": "white"
             }
            },
            "header": {
             "fill": {
              "color": "#C8D4E3"
             },
             "line": {
              "color": "white"
             }
            },
            "type": "table"
           }
          ]
         },
         "layout": {
          "annotationdefaults": {
           "arrowcolor": "#2a3f5f",
           "arrowhead": 0,
           "arrowwidth": 1
          },
          "coloraxis": {
           "colorbar": {
            "outlinewidth": 0,
            "ticks": ""
           }
          },
          "colorscale": {
           "diverging": [
            [
             0,
             "#8e0152"
            ],
            [
             0.1,
             "#c51b7d"
            ],
            [
             0.2,
             "#de77ae"
            ],
            [
             0.3,
             "#f1b6da"
            ],
            [
             0.4,
             "#fde0ef"
            ],
            [
             0.5,
             "#f7f7f7"
            ],
            [
             0.6,
             "#e6f5d0"
            ],
            [
             0.7,
             "#b8e186"
            ],
            [
             0.8,
             "#7fbc41"
            ],
            [
             0.9,
             "#4d9221"
            ],
            [
             1,
             "#276419"
            ]
           ],
           "sequential": [
            [
             0,
             "#0d0887"
            ],
            [
             0.1111111111111111,
             "#46039f"
            ],
            [
             0.2222222222222222,
             "#7201a8"
            ],
            [
             0.3333333333333333,
             "#9c179e"
            ],
            [
             0.4444444444444444,
             "#bd3786"
            ],
            [
             0.5555555555555556,
             "#d8576b"
            ],
            [
             0.6666666666666666,
             "#ed7953"
            ],
            [
             0.7777777777777778,
             "#fb9f3a"
            ],
            [
             0.8888888888888888,
             "#fdca26"
            ],
            [
             1,
             "#f0f921"
            ]
           ],
           "sequentialminus": [
            [
             0,
             "#0d0887"
            ],
            [
             0.1111111111111111,
             "#46039f"
            ],
            [
             0.2222222222222222,
             "#7201a8"
            ],
            [
             0.3333333333333333,
             "#9c179e"
            ],
            [
             0.4444444444444444,
             "#bd3786"
            ],
            [
             0.5555555555555556,
             "#d8576b"
            ],
            [
             0.6666666666666666,
             "#ed7953"
            ],
            [
             0.7777777777777778,
             "#fb9f3a"
            ],
            [
             0.8888888888888888,
             "#fdca26"
            ],
            [
             1,
             "#f0f921"
            ]
           ]
          },
          "colorway": [
           "#636efa",
           "#EF553B",
           "#00cc96",
           "#ab63fa",
           "#FFA15A",
           "#19d3f3",
           "#FF6692",
           "#B6E880",
           "#FF97FF",
           "#FECB52"
          ],
          "font": {
           "color": "#2a3f5f"
          },
          "geo": {
           "bgcolor": "white",
           "lakecolor": "white",
           "landcolor": "#E5ECF6",
           "showlakes": true,
           "showland": true,
           "subunitcolor": "white"
          },
          "hoverlabel": {
           "align": "left"
          },
          "hovermode": "closest",
          "mapbox": {
           "style": "light"
          },
          "paper_bgcolor": "white",
          "plot_bgcolor": "#E5ECF6",
          "polar": {
           "angularaxis": {
            "gridcolor": "white",
            "linecolor": "white",
            "ticks": ""
           },
           "bgcolor": "#E5ECF6",
           "radialaxis": {
            "gridcolor": "white",
            "linecolor": "white",
            "ticks": ""
           }
          },
          "scene": {
           "xaxis": {
            "backgroundcolor": "#E5ECF6",
            "gridcolor": "white",
            "gridwidth": 2,
            "linecolor": "white",
            "showbackground": true,
            "ticks": "",
            "zerolinecolor": "white"
           },
           "yaxis": {
            "backgroundcolor": "#E5ECF6",
            "gridcolor": "white",
            "gridwidth": 2,
            "linecolor": "white",
            "showbackground": true,
            "ticks": "",
            "zerolinecolor": "white"
           },
           "zaxis": {
            "backgroundcolor": "#E5ECF6",
            "gridcolor": "white",
            "gridwidth": 2,
            "linecolor": "white",
            "showbackground": true,
            "ticks": "",
            "zerolinecolor": "white"
           }
          },
          "shapedefaults": {
           "line": {
            "color": "#2a3f5f"
           }
          },
          "ternary": {
           "aaxis": {
            "gridcolor": "white",
            "linecolor": "white",
            "ticks": ""
           },
           "baxis": {
            "gridcolor": "white",
            "linecolor": "white",
            "ticks": ""
           },
           "bgcolor": "#E5ECF6",
           "caxis": {
            "gridcolor": "white",
            "linecolor": "white",
            "ticks": ""
           }
          },
          "title": {
           "x": 0.05
          },
          "xaxis": {
           "automargin": true,
           "gridcolor": "white",
           "linecolor": "white",
           "ticks": "",
           "title": {
            "standoff": 15
           },
           "zerolinecolor": "white",
           "zerolinewidth": 2
          },
          "yaxis": {
           "automargin": true,
           "gridcolor": "white",
           "linecolor": "white",
           "ticks": "",
           "title": {
            "standoff": 15
           },
           "zerolinecolor": "white",
           "zerolinewidth": 2
          }
         }
        },
        "title": {
         "text": "International wins vs Rating"
        },
        "xaxis": {
         "ticklen": 5,
         "ticks": "outside",
         "title": {
          "text": "Rating"
         },
         "zeroline": false
        },
        "yaxis": {
         "ticklen": 5,
         "ticks": "inside",
         "title": {
          "text": "International wins"
         },
         "zeroline": false
        }
       }
      },
      "text/html": [
       "<div>\n",
       "        \n",
       "        \n",
       "            <div id=\"b6266bd1-57df-4da7-a4ea-68b0a1e3b1a0\" class=\"plotly-graph-div\" style=\"height:525px; width:100%;\"></div>\n",
       "            <script type=\"text/javascript\">\n",
       "                require([\"plotly\"], function(Plotly) {\n",
       "                    window.PLOTLYENV=window.PLOTLYENV || {};\n",
       "                    \n",
       "                if (document.getElementById(\"b6266bd1-57df-4da7-a4ea-68b0a1e3b1a0\")) {\n",
       "                    Plotly.newPlot(\n",
       "                        'b6266bd1-57df-4da7-a4ea-68b0a1e3b1a0',\n",
       "                        [{\"marker\": {\"color\": \"rgba(31, 119, 180, 0.8)\", \"line\": {\"color\": \"rgb(0,0,0)\", \"width\": 1.5}}, \"mode\": \"markers\", \"type\": \"scatter\", \"x\": [1664, 1440, 1504, 1680, 1488, 1680, 1488, 1600, 1744, 1776, 1536, 1824, 1696, 1344, 1792, 1392, 1424, 1792, 1648, 1648, 1808, 1408, 2000, 1696, 1632, 1424, 1744, 1776, 1296, 1520, 1919, 1568, 1536, 1360, 1584, 1520, 1360, 1456, 1615, 1216, 1264, 1440, 1344, 1312, 1712, 1648, 1568, 1840, 1536, 1888, 1760, 1552, 1855, 1552, 1728, 1632, 1264, 1200, 1680, 1408, 2035, 1456, 1248, 1376, 1520, 1552, 1808, 1712, 1232, 1664, 1584, 1664, 1616, 1280, 1600, 2017, 1728, 1984, 1585, 1856, 1504, 1935, 1950, 1472, 1488, 1504, 1568, 1824, 1376, 1616, 1440, 1696, 1968, 1392, 1760, 1472, 1632, 1903, 1872, 1328], \"y\": [50, 46, 46, 63, 50, 59, 49, 51, 50, 57, 54, 69, 56, 44, 56, 50, 39, 69, 65, 54, 60, 38, 69, 48, 59, 43, 58, 52, 33, 42, 55, 42, 53, 45, 51, 60, 43, 35, 56, 42, 42, 50, 46, 48, 49, 56, 50, 56, 48, 62, 53, 50, 59, 45, 54, 51, 42, 45, 57, 37, 71, 44, 43, 40, 62, 56, 61, 52, 43, 62, 52, 59, 53, 44, 54, 76, 65, 71, 55, 49, 50, 55, 65, 43, 57, 59, 49, 59, 43, 53, 48, 55, 63, 51, 58, 49, 55, 51, 50, 42]}],\n",
       "                        {\"template\": {\"data\": {\"bar\": [{\"error_x\": {\"color\": \"#2a3f5f\"}, \"error_y\": {\"color\": \"#2a3f5f\"}, \"marker\": {\"line\": {\"color\": \"#E5ECF6\", \"width\": 0.5}}, \"type\": \"bar\"}], \"barpolar\": [{\"marker\": {\"line\": {\"color\": \"#E5ECF6\", \"width\": 0.5}}, \"type\": \"barpolar\"}], \"carpet\": [{\"aaxis\": {\"endlinecolor\": \"#2a3f5f\", \"gridcolor\": \"white\", \"linecolor\": \"white\", \"minorgridcolor\": \"white\", \"startlinecolor\": \"#2a3f5f\"}, \"baxis\": {\"endlinecolor\": \"#2a3f5f\", \"gridcolor\": \"white\", \"linecolor\": \"white\", \"minorgridcolor\": \"white\", \"startlinecolor\": \"#2a3f5f\"}, \"type\": \"carpet\"}], \"choropleth\": [{\"colorbar\": {\"outlinewidth\": 0, \"ticks\": \"\"}, \"type\": \"choropleth\"}], \"contour\": [{\"colorbar\": {\"outlinewidth\": 0, \"ticks\": \"\"}, \"colorscale\": [[0.0, \"#0d0887\"], [0.1111111111111111, \"#46039f\"], [0.2222222222222222, \"#7201a8\"], [0.3333333333333333, \"#9c179e\"], [0.4444444444444444, \"#bd3786\"], [0.5555555555555556, \"#d8576b\"], [0.6666666666666666, \"#ed7953\"], [0.7777777777777778, \"#fb9f3a\"], [0.8888888888888888, \"#fdca26\"], [1.0, \"#f0f921\"]], \"type\": \"contour\"}], \"contourcarpet\": [{\"colorbar\": {\"outlinewidth\": 0, \"ticks\": \"\"}, \"type\": \"contourcarpet\"}], \"heatmap\": [{\"colorbar\": {\"outlinewidth\": 0, \"ticks\": \"\"}, \"colorscale\": [[0.0, \"#0d0887\"], [0.1111111111111111, \"#46039f\"], [0.2222222222222222, \"#7201a8\"], [0.3333333333333333, \"#9c179e\"], [0.4444444444444444, \"#bd3786\"], [0.5555555555555556, \"#d8576b\"], [0.6666666666666666, \"#ed7953\"], [0.7777777777777778, \"#fb9f3a\"], [0.8888888888888888, \"#fdca26\"], [1.0, \"#f0f921\"]], \"type\": \"heatmap\"}], \"heatmapgl\": [{\"colorbar\": {\"outlinewidth\": 0, \"ticks\": \"\"}, \"colorscale\": [[0.0, \"#0d0887\"], [0.1111111111111111, \"#46039f\"], [0.2222222222222222, \"#7201a8\"], [0.3333333333333333, \"#9c179e\"], [0.4444444444444444, \"#bd3786\"], [0.5555555555555556, \"#d8576b\"], [0.6666666666666666, \"#ed7953\"], [0.7777777777777778, \"#fb9f3a\"], [0.8888888888888888, \"#fdca26\"], [1.0, \"#f0f921\"]], \"type\": \"heatmapgl\"}], \"histogram\": [{\"marker\": {\"colorbar\": {\"outlinewidth\": 0, \"ticks\": \"\"}}, \"type\": \"histogram\"}], \"histogram2d\": [{\"colorbar\": {\"outlinewidth\": 0, \"ticks\": \"\"}, \"colorscale\": [[0.0, \"#0d0887\"], [0.1111111111111111, \"#46039f\"], [0.2222222222222222, \"#7201a8\"], [0.3333333333333333, \"#9c179e\"], [0.4444444444444444, \"#bd3786\"], [0.5555555555555556, \"#d8576b\"], [0.6666666666666666, \"#ed7953\"], [0.7777777777777778, \"#fb9f3a\"], [0.8888888888888888, \"#fdca26\"], [1.0, \"#f0f921\"]], \"type\": \"histogram2d\"}], \"histogram2dcontour\": [{\"colorbar\": {\"outlinewidth\": 0, \"ticks\": \"\"}, \"colorscale\": [[0.0, \"#0d0887\"], [0.1111111111111111, \"#46039f\"], [0.2222222222222222, \"#7201a8\"], [0.3333333333333333, \"#9c179e\"], [0.4444444444444444, \"#bd3786\"], [0.5555555555555556, \"#d8576b\"], [0.6666666666666666, \"#ed7953\"], [0.7777777777777778, \"#fb9f3a\"], [0.8888888888888888, \"#fdca26\"], [1.0, \"#f0f921\"]], \"type\": \"histogram2dcontour\"}], \"mesh3d\": [{\"colorbar\": {\"outlinewidth\": 0, \"ticks\": \"\"}, \"type\": \"mesh3d\"}], \"parcoords\": [{\"line\": {\"colorbar\": {\"outlinewidth\": 0, \"ticks\": \"\"}}, \"type\": \"parcoords\"}], \"pie\": [{\"automargin\": true, \"type\": \"pie\"}], \"scatter\": [{\"marker\": {\"colorbar\": {\"outlinewidth\": 0, \"ticks\": \"\"}}, \"type\": \"scatter\"}], \"scatter3d\": [{\"line\": {\"colorbar\": {\"outlinewidth\": 0, \"ticks\": \"\"}}, \"marker\": {\"colorbar\": {\"outlinewidth\": 0, \"ticks\": \"\"}}, \"type\": \"scatter3d\"}], \"scattercarpet\": [{\"marker\": {\"colorbar\": {\"outlinewidth\": 0, \"ticks\": \"\"}}, \"type\": \"scattercarpet\"}], \"scattergeo\": [{\"marker\": {\"colorbar\": {\"outlinewidth\": 0, \"ticks\": \"\"}}, \"type\": \"scattergeo\"}], \"scattergl\": [{\"marker\": {\"colorbar\": {\"outlinewidth\": 0, \"ticks\": \"\"}}, \"type\": \"scattergl\"}], \"scattermapbox\": [{\"marker\": {\"colorbar\": {\"outlinewidth\": 0, \"ticks\": \"\"}}, \"type\": \"scattermapbox\"}], \"scatterpolar\": [{\"marker\": {\"colorbar\": {\"outlinewidth\": 0, \"ticks\": \"\"}}, \"type\": \"scatterpolar\"}], \"scatterpolargl\": [{\"marker\": {\"colorbar\": {\"outlinewidth\": 0, \"ticks\": \"\"}}, \"type\": \"scatterpolargl\"}], \"scatterternary\": [{\"marker\": {\"colorbar\": {\"outlinewidth\": 0, \"ticks\": \"\"}}, \"type\": \"scatterternary\"}], \"surface\": [{\"colorbar\": {\"outlinewidth\": 0, \"ticks\": \"\"}, \"colorscale\": [[0.0, \"#0d0887\"], [0.1111111111111111, \"#46039f\"], [0.2222222222222222, \"#7201a8\"], [0.3333333333333333, \"#9c179e\"], [0.4444444444444444, \"#bd3786\"], [0.5555555555555556, \"#d8576b\"], [0.6666666666666666, \"#ed7953\"], [0.7777777777777778, \"#fb9f3a\"], [0.8888888888888888, \"#fdca26\"], [1.0, \"#f0f921\"]], \"type\": \"surface\"}], \"table\": [{\"cells\": {\"fill\": {\"color\": \"#EBF0F8\"}, \"line\": {\"color\": \"white\"}}, \"header\": {\"fill\": {\"color\": \"#C8D4E3\"}, \"line\": {\"color\": \"white\"}}, \"type\": \"table\"}]}, \"layout\": {\"annotationdefaults\": {\"arrowcolor\": \"#2a3f5f\", \"arrowhead\": 0, \"arrowwidth\": 1}, \"coloraxis\": {\"colorbar\": {\"outlinewidth\": 0, \"ticks\": \"\"}}, \"colorscale\": {\"diverging\": [[0, \"#8e0152\"], [0.1, \"#c51b7d\"], [0.2, \"#de77ae\"], [0.3, \"#f1b6da\"], [0.4, \"#fde0ef\"], [0.5, \"#f7f7f7\"], [0.6, \"#e6f5d0\"], [0.7, \"#b8e186\"], [0.8, \"#7fbc41\"], [0.9, \"#4d9221\"], [1, \"#276419\"]], \"sequential\": [[0.0, \"#0d0887\"], [0.1111111111111111, \"#46039f\"], [0.2222222222222222, \"#7201a8\"], [0.3333333333333333, \"#9c179e\"], [0.4444444444444444, \"#bd3786\"], [0.5555555555555556, \"#d8576b\"], [0.6666666666666666, \"#ed7953\"], [0.7777777777777778, \"#fb9f3a\"], [0.8888888888888888, \"#fdca26\"], [1.0, \"#f0f921\"]], \"sequentialminus\": [[0.0, \"#0d0887\"], [0.1111111111111111, \"#46039f\"], [0.2222222222222222, \"#7201a8\"], [0.3333333333333333, \"#9c179e\"], [0.4444444444444444, \"#bd3786\"], [0.5555555555555556, \"#d8576b\"], [0.6666666666666666, \"#ed7953\"], [0.7777777777777778, \"#fb9f3a\"], [0.8888888888888888, \"#fdca26\"], [1.0, \"#f0f921\"]]}, \"colorway\": [\"#636efa\", \"#EF553B\", \"#00cc96\", \"#ab63fa\", \"#FFA15A\", \"#19d3f3\", \"#FF6692\", \"#B6E880\", \"#FF97FF\", \"#FECB52\"], \"font\": {\"color\": \"#2a3f5f\"}, \"geo\": {\"bgcolor\": \"white\", \"lakecolor\": \"white\", \"landcolor\": \"#E5ECF6\", \"showlakes\": true, \"showland\": true, \"subunitcolor\": \"white\"}, \"hoverlabel\": {\"align\": \"left\"}, \"hovermode\": \"closest\", \"mapbox\": {\"style\": \"light\"}, \"paper_bgcolor\": \"white\", \"plot_bgcolor\": \"#E5ECF6\", \"polar\": {\"angularaxis\": {\"gridcolor\": \"white\", \"linecolor\": \"white\", \"ticks\": \"\"}, \"bgcolor\": \"#E5ECF6\", \"radialaxis\": {\"gridcolor\": \"white\", \"linecolor\": \"white\", \"ticks\": \"\"}}, \"scene\": {\"xaxis\": {\"backgroundcolor\": \"#E5ECF6\", \"gridcolor\": \"white\", \"gridwidth\": 2, \"linecolor\": \"white\", \"showbackground\": true, \"ticks\": \"\", \"zerolinecolor\": \"white\"}, \"yaxis\": {\"backgroundcolor\": \"#E5ECF6\", \"gridcolor\": \"white\", \"gridwidth\": 2, \"linecolor\": \"white\", \"showbackground\": true, \"ticks\": \"\", \"zerolinecolor\": \"white\"}, \"zaxis\": {\"backgroundcolor\": \"#E5ECF6\", \"gridcolor\": \"white\", \"gridwidth\": 2, \"linecolor\": \"white\", \"showbackground\": true, \"ticks\": \"\", \"zerolinecolor\": \"white\"}}, \"shapedefaults\": {\"line\": {\"color\": \"#2a3f5f\"}}, \"ternary\": {\"aaxis\": {\"gridcolor\": \"white\", \"linecolor\": \"white\", \"ticks\": \"\"}, \"baxis\": {\"gridcolor\": \"white\", \"linecolor\": \"white\", \"ticks\": \"\"}, \"bgcolor\": \"#E5ECF6\", \"caxis\": {\"gridcolor\": \"white\", \"linecolor\": \"white\", \"ticks\": \"\"}}, \"title\": {\"x\": 0.05}, \"xaxis\": {\"automargin\": true, \"gridcolor\": \"white\", \"linecolor\": \"white\", \"ticks\": \"\", \"title\": {\"standoff\": 15}, \"zerolinecolor\": \"white\", \"zerolinewidth\": 2}, \"yaxis\": {\"automargin\": true, \"gridcolor\": \"white\", \"linecolor\": \"white\", \"ticks\": \"\", \"title\": {\"standoff\": 15}, \"zerolinecolor\": \"white\", \"zerolinewidth\": 2}}}, \"title\": {\"text\": \"International wins vs Rating\"}, \"xaxis\": {\"ticklen\": 5, \"ticks\": \"outside\", \"title\": {\"text\": \"Rating\"}, \"zeroline\": false}, \"yaxis\": {\"ticklen\": 5, \"ticks\": \"inside\", \"title\": {\"text\": \"International wins\"}, \"zeroline\": false}},\n",
       "                        {\"responsive\": true}\n",
       "                    ).then(function(){\n",
       "                            \n",
       "var gd = document.getElementById('b6266bd1-57df-4da7-a4ea-68b0a1e3b1a0');\n",
       "var x = new MutationObserver(function (mutations, observer) {{\n",
       "        var display = window.getComputedStyle(gd).display;\n",
       "        if (!display || display === 'none') {{\n",
       "            console.log([gd, 'removed!']);\n",
       "            Plotly.purge(gd);\n",
       "            observer.disconnect();\n",
       "        }}\n",
       "}});\n",
       "\n",
       "// Listen for the removal of the full notebook cells\n",
       "var notebookContainer = gd.closest('#notebook-container');\n",
       "if (notebookContainer) {{\n",
       "    x.observe(notebookContainer, {childList: true});\n",
       "}}\n",
       "\n",
       "// Listen for the clearing of the current output cell\n",
       "var outputEl = gd.closest('.output');\n",
       "if (outputEl) {{\n",
       "    x.observe(outputEl, {childList: true});\n",
       "}}\n",
       "\n",
       "                        })\n",
       "                };\n",
       "                });\n",
       "            </script>\n",
       "        </div>"
      ]
     },
     "metadata": {},
     "output_type": "display_data"
    }
   ],
   "source": [
    "# create trace1 \n",
    "trace1 = go.Scatter(\n",
    "                y = df.international_win,\n",
    "                x = df.rate,\n",
    "                mode = 'markers',\n",
    "                marker = dict(color = 'rgba(31, 119, 180, 0.8)',\n",
    "                              line=dict(color='rgb(0,0,0)',width=1.5))\n",
    "            )\n",
    "layout = dict(title = 'International wins vs Rating',\n",
    "             yaxis= dict(title= 'International wins',ticklen= 5,zeroline= False, ticks=\"inside\"), \n",
    "             xaxis = dict(title = 'Rating', ticklen = 5, zeroline = False, ticks=\"outside\"))\n",
    "data = [trace1]\n",
    "\n",
    "fig = {'data': data, 'layout': layout}\n",
    "iplot(fig)"
   ]
  },
  {
   "cell_type": "code",
   "execution_count": null,
   "metadata": {},
   "outputs": [],
   "source": []
  },
  {
   "cell_type": "code",
   "execution_count": 527,
   "metadata": {},
   "outputs": [
    {
     "data": {
      "application/vnd.plotly.v1+json": {
       "config": {
        "linkText": "Export to plot.ly",
        "plotlyServerURL": "https://plot.ly",
        "showLink": false
       },
       "data": [
        {
         "marker": {
          "color": "rgba(31, 119, 180, 0.8)",
          "line": {
           "color": "rgb(0,0,0)",
           "width": 1.5
          }
         },
         "mode": "markers",
         "type": "scatter",
         "x": [
          1664,
          1440,
          1504,
          1680,
          1488,
          1680,
          1488,
          1600,
          1744,
          1776,
          1536,
          1824,
          1696,
          1344,
          1792,
          1392,
          1424,
          1792,
          1648,
          1648,
          1808,
          1408,
          2000,
          1696,
          1632,
          1424,
          1744,
          1776,
          1296,
          1520,
          1919,
          1568,
          1536,
          1360,
          1584,
          1520,
          1360,
          1456,
          1615,
          1216,
          1264,
          1440,
          1344,
          1312,
          1712,
          1648,
          1568,
          1840,
          1536,
          1888,
          1760,
          1552,
          1855,
          1552,
          1728,
          1632,
          1264,
          1200,
          1680,
          1408,
          2035,
          1456,
          1248,
          1376,
          1520,
          1552,
          1808,
          1712,
          1232,
          1664,
          1584,
          1664,
          1616,
          1280,
          1600,
          2017,
          1728,
          1984,
          1585,
          1856,
          1504,
          1935,
          1950,
          1472,
          1488,
          1504,
          1568,
          1824,
          1376,
          1616,
          1440,
          1696,
          1968,
          1392,
          1760,
          1472,
          1632,
          1903,
          1872,
          1328
         ],
         "y": [
          1.0188679245283019,
          0.8857142857142857,
          0.9238095238095239,
          1.0285714285714285,
          0.9150943396226415,
          1.028301886792453,
          0.9150943396226415,
          0.9811320754716981,
          1.0666666666666667,
          1.0857142857142856,
          0.9433962264150944,
          1.1153846153846154,
          1.0377358490566038,
          0.8301886792452831,
          1.0952380952380953,
          0.8584905660377359,
          0.8761904761904762,
          1.0943396226415094,
          1.0095238095238095,
          1.009433962264151,
          1.1057692307692308,
          0.8679245283018868,
          1.2421052631578948,
          1.0380952380952382,
          1,
          0.8761904761904762,
          1.0679611650485437,
          1.0849056603773586,
          0.8,
          0.9333333333333333,
          1.18,
          0.9619047619047619,
          0.9428571428571428,
          0.839622641509434,
          0.9716981132075472,
          0.9333333333333333,
          0.839622641509434,
          0.8952380952380953,
          0.9905660377358491,
          0.7523809523809524,
          0.780952380952381,
          0.8867924528301887,
          0.8285714285714286,
          0.8113207547169812,
          1.0480769230769231,
          1.009433962264151,
          0.9619047619047619,
          1.1354166666666667,
          0.9428571428571428,
          1.150943396226415,
          1.0761904761904761,
          0.9528301886792453,
          1.14,
          0.9523809523809523,
          1.0566037735849056,
          1,
          0.780952380952381,
          0.7452830188679245,
          1.0285714285714285,
          0.8666666666666667,
          1.2450980392156863,
          0.8962264150943396,
          0.7735849056603774,
          0.8490566037735849,
          0.9326923076923077,
          0.9523809523809523,
          1.102803738317757,
          1.0485436893203883,
          0.7641509433962265,
          1.019047619047619,
          0.9714285714285714,
          1.019047619047619,
          0.9904761904761905,
          0.7904761904761904,
          0.9811320754716981,
          1.233009708737864,
          1.0571428571428572,
          1.2156862745098038,
          0.9716981132075472,
          1.1333333333333333,
          0.9238095238095239,
          1.1979166666666667,
          1.202020202020202,
          0.9047619047619048,
          0.9150943396226415,
          0.9245283018867925,
          0.9622641509433962,
          1.1142857142857143,
          0.8461538461538461,
          0.9904761904761905,
          0.8857142857142857,
          1.0377358490566038,
          1.2079207920792079,
          0.8571428571428571,
          1.0754716981132075,
          0.9047619047619048,
          1,
          1.175257731958763,
          1.164835164835165,
          0.8137254901960784
         ]
        }
       ],
       "layout": {
        "template": {
         "data": {
          "bar": [
           {
            "error_x": {
             "color": "#2a3f5f"
            },
            "error_y": {
             "color": "#2a3f5f"
            },
            "marker": {
             "line": {
              "color": "#E5ECF6",
              "width": 0.5
             }
            },
            "type": "bar"
           }
          ],
          "barpolar": [
           {
            "marker": {
             "line": {
              "color": "#E5ECF6",
              "width": 0.5
             }
            },
            "type": "barpolar"
           }
          ],
          "carpet": [
           {
            "aaxis": {
             "endlinecolor": "#2a3f5f",
             "gridcolor": "white",
             "linecolor": "white",
             "minorgridcolor": "white",
             "startlinecolor": "#2a3f5f"
            },
            "baxis": {
             "endlinecolor": "#2a3f5f",
             "gridcolor": "white",
             "linecolor": "white",
             "minorgridcolor": "white",
             "startlinecolor": "#2a3f5f"
            },
            "type": "carpet"
           }
          ],
          "choropleth": [
           {
            "colorbar": {
             "outlinewidth": 0,
             "ticks": ""
            },
            "type": "choropleth"
           }
          ],
          "contour": [
           {
            "colorbar": {
             "outlinewidth": 0,
             "ticks": ""
            },
            "colorscale": [
             [
              0,
              "#0d0887"
             ],
             [
              0.1111111111111111,
              "#46039f"
             ],
             [
              0.2222222222222222,
              "#7201a8"
             ],
             [
              0.3333333333333333,
              "#9c179e"
             ],
             [
              0.4444444444444444,
              "#bd3786"
             ],
             [
              0.5555555555555556,
              "#d8576b"
             ],
             [
              0.6666666666666666,
              "#ed7953"
             ],
             [
              0.7777777777777778,
              "#fb9f3a"
             ],
             [
              0.8888888888888888,
              "#fdca26"
             ],
             [
              1,
              "#f0f921"
             ]
            ],
            "type": "contour"
           }
          ],
          "contourcarpet": [
           {
            "colorbar": {
             "outlinewidth": 0,
             "ticks": ""
            },
            "type": "contourcarpet"
           }
          ],
          "heatmap": [
           {
            "colorbar": {
             "outlinewidth": 0,
             "ticks": ""
            },
            "colorscale": [
             [
              0,
              "#0d0887"
             ],
             [
              0.1111111111111111,
              "#46039f"
             ],
             [
              0.2222222222222222,
              "#7201a8"
             ],
             [
              0.3333333333333333,
              "#9c179e"
             ],
             [
              0.4444444444444444,
              "#bd3786"
             ],
             [
              0.5555555555555556,
              "#d8576b"
             ],
             [
              0.6666666666666666,
              "#ed7953"
             ],
             [
              0.7777777777777778,
              "#fb9f3a"
             ],
             [
              0.8888888888888888,
              "#fdca26"
             ],
             [
              1,
              "#f0f921"
             ]
            ],
            "type": "heatmap"
           }
          ],
          "heatmapgl": [
           {
            "colorbar": {
             "outlinewidth": 0,
             "ticks": ""
            },
            "colorscale": [
             [
              0,
              "#0d0887"
             ],
             [
              0.1111111111111111,
              "#46039f"
             ],
             [
              0.2222222222222222,
              "#7201a8"
             ],
             [
              0.3333333333333333,
              "#9c179e"
             ],
             [
              0.4444444444444444,
              "#bd3786"
             ],
             [
              0.5555555555555556,
              "#d8576b"
             ],
             [
              0.6666666666666666,
              "#ed7953"
             ],
             [
              0.7777777777777778,
              "#fb9f3a"
             ],
             [
              0.8888888888888888,
              "#fdca26"
             ],
             [
              1,
              "#f0f921"
             ]
            ],
            "type": "heatmapgl"
           }
          ],
          "histogram": [
           {
            "marker": {
             "colorbar": {
              "outlinewidth": 0,
              "ticks": ""
             }
            },
            "type": "histogram"
           }
          ],
          "histogram2d": [
           {
            "colorbar": {
             "outlinewidth": 0,
             "ticks": ""
            },
            "colorscale": [
             [
              0,
              "#0d0887"
             ],
             [
              0.1111111111111111,
              "#46039f"
             ],
             [
              0.2222222222222222,
              "#7201a8"
             ],
             [
              0.3333333333333333,
              "#9c179e"
             ],
             [
              0.4444444444444444,
              "#bd3786"
             ],
             [
              0.5555555555555556,
              "#d8576b"
             ],
             [
              0.6666666666666666,
              "#ed7953"
             ],
             [
              0.7777777777777778,
              "#fb9f3a"
             ],
             [
              0.8888888888888888,
              "#fdca26"
             ],
             [
              1,
              "#f0f921"
             ]
            ],
            "type": "histogram2d"
           }
          ],
          "histogram2dcontour": [
           {
            "colorbar": {
             "outlinewidth": 0,
             "ticks": ""
            },
            "colorscale": [
             [
              0,
              "#0d0887"
             ],
             [
              0.1111111111111111,
              "#46039f"
             ],
             [
              0.2222222222222222,
              "#7201a8"
             ],
             [
              0.3333333333333333,
              "#9c179e"
             ],
             [
              0.4444444444444444,
              "#bd3786"
             ],
             [
              0.5555555555555556,
              "#d8576b"
             ],
             [
              0.6666666666666666,
              "#ed7953"
             ],
             [
              0.7777777777777778,
              "#fb9f3a"
             ],
             [
              0.8888888888888888,
              "#fdca26"
             ],
             [
              1,
              "#f0f921"
             ]
            ],
            "type": "histogram2dcontour"
           }
          ],
          "mesh3d": [
           {
            "colorbar": {
             "outlinewidth": 0,
             "ticks": ""
            },
            "type": "mesh3d"
           }
          ],
          "parcoords": [
           {
            "line": {
             "colorbar": {
              "outlinewidth": 0,
              "ticks": ""
             }
            },
            "type": "parcoords"
           }
          ],
          "pie": [
           {
            "automargin": true,
            "type": "pie"
           }
          ],
          "scatter": [
           {
            "marker": {
             "colorbar": {
              "outlinewidth": 0,
              "ticks": ""
             }
            },
            "type": "scatter"
           }
          ],
          "scatter3d": [
           {
            "line": {
             "colorbar": {
              "outlinewidth": 0,
              "ticks": ""
             }
            },
            "marker": {
             "colorbar": {
              "outlinewidth": 0,
              "ticks": ""
             }
            },
            "type": "scatter3d"
           }
          ],
          "scattercarpet": [
           {
            "marker": {
             "colorbar": {
              "outlinewidth": 0,
              "ticks": ""
             }
            },
            "type": "scattercarpet"
           }
          ],
          "scattergeo": [
           {
            "marker": {
             "colorbar": {
              "outlinewidth": 0,
              "ticks": ""
             }
            },
            "type": "scattergeo"
           }
          ],
          "scattergl": [
           {
            "marker": {
             "colorbar": {
              "outlinewidth": 0,
              "ticks": ""
             }
            },
            "type": "scattergl"
           }
          ],
          "scattermapbox": [
           {
            "marker": {
             "colorbar": {
              "outlinewidth": 0,
              "ticks": ""
             }
            },
            "type": "scattermapbox"
           }
          ],
          "scatterpolar": [
           {
            "marker": {
             "colorbar": {
              "outlinewidth": 0,
              "ticks": ""
             }
            },
            "type": "scatterpolar"
           }
          ],
          "scatterpolargl": [
           {
            "marker": {
             "colorbar": {
              "outlinewidth": 0,
              "ticks": ""
             }
            },
            "type": "scatterpolargl"
           }
          ],
          "scatterternary": [
           {
            "marker": {
             "colorbar": {
              "outlinewidth": 0,
              "ticks": ""
             }
            },
            "type": "scatterternary"
           }
          ],
          "surface": [
           {
            "colorbar": {
             "outlinewidth": 0,
             "ticks": ""
            },
            "colorscale": [
             [
              0,
              "#0d0887"
             ],
             [
              0.1111111111111111,
              "#46039f"
             ],
             [
              0.2222222222222222,
              "#7201a8"
             ],
             [
              0.3333333333333333,
              "#9c179e"
             ],
             [
              0.4444444444444444,
              "#bd3786"
             ],
             [
              0.5555555555555556,
              "#d8576b"
             ],
             [
              0.6666666666666666,
              "#ed7953"
             ],
             [
              0.7777777777777778,
              "#fb9f3a"
             ],
             [
              0.8888888888888888,
              "#fdca26"
             ],
             [
              1,
              "#f0f921"
             ]
            ],
            "type": "surface"
           }
          ],
          "table": [
           {
            "cells": {
             "fill": {
              "color": "#EBF0F8"
             },
             "line": {
              "color": "white"
             }
            },
            "header": {
             "fill": {
              "color": "#C8D4E3"
             },
             "line": {
              "color": "white"
             }
            },
            "type": "table"
           }
          ]
         },
         "layout": {
          "annotationdefaults": {
           "arrowcolor": "#2a3f5f",
           "arrowhead": 0,
           "arrowwidth": 1
          },
          "coloraxis": {
           "colorbar": {
            "outlinewidth": 0,
            "ticks": ""
           }
          },
          "colorscale": {
           "diverging": [
            [
             0,
             "#8e0152"
            ],
            [
             0.1,
             "#c51b7d"
            ],
            [
             0.2,
             "#de77ae"
            ],
            [
             0.3,
             "#f1b6da"
            ],
            [
             0.4,
             "#fde0ef"
            ],
            [
             0.5,
             "#f7f7f7"
            ],
            [
             0.6,
             "#e6f5d0"
            ],
            [
             0.7,
             "#b8e186"
            ],
            [
             0.8,
             "#7fbc41"
            ],
            [
             0.9,
             "#4d9221"
            ],
            [
             1,
             "#276419"
            ]
           ],
           "sequential": [
            [
             0,
             "#0d0887"
            ],
            [
             0.1111111111111111,
             "#46039f"
            ],
            [
             0.2222222222222222,
             "#7201a8"
            ],
            [
             0.3333333333333333,
             "#9c179e"
            ],
            [
             0.4444444444444444,
             "#bd3786"
            ],
            [
             0.5555555555555556,
             "#d8576b"
            ],
            [
             0.6666666666666666,
             "#ed7953"
            ],
            [
             0.7777777777777778,
             "#fb9f3a"
            ],
            [
             0.8888888888888888,
             "#fdca26"
            ],
            [
             1,
             "#f0f921"
            ]
           ],
           "sequentialminus": [
            [
             0,
             "#0d0887"
            ],
            [
             0.1111111111111111,
             "#46039f"
            ],
            [
             0.2222222222222222,
             "#7201a8"
            ],
            [
             0.3333333333333333,
             "#9c179e"
            ],
            [
             0.4444444444444444,
             "#bd3786"
            ],
            [
             0.5555555555555556,
             "#d8576b"
            ],
            [
             0.6666666666666666,
             "#ed7953"
            ],
            [
             0.7777777777777778,
             "#fb9f3a"
            ],
            [
             0.8888888888888888,
             "#fdca26"
            ],
            [
             1,
             "#f0f921"
            ]
           ]
          },
          "colorway": [
           "#636efa",
           "#EF553B",
           "#00cc96",
           "#ab63fa",
           "#FFA15A",
           "#19d3f3",
           "#FF6692",
           "#B6E880",
           "#FF97FF",
           "#FECB52"
          ],
          "font": {
           "color": "#2a3f5f"
          },
          "geo": {
           "bgcolor": "white",
           "lakecolor": "white",
           "landcolor": "#E5ECF6",
           "showlakes": true,
           "showland": true,
           "subunitcolor": "white"
          },
          "hoverlabel": {
           "align": "left"
          },
          "hovermode": "closest",
          "mapbox": {
           "style": "light"
          },
          "paper_bgcolor": "white",
          "plot_bgcolor": "#E5ECF6",
          "polar": {
           "angularaxis": {
            "gridcolor": "white",
            "linecolor": "white",
            "ticks": ""
           },
           "bgcolor": "#E5ECF6",
           "radialaxis": {
            "gridcolor": "white",
            "linecolor": "white",
            "ticks": ""
           }
          },
          "scene": {
           "xaxis": {
            "backgroundcolor": "#E5ECF6",
            "gridcolor": "white",
            "gridwidth": 2,
            "linecolor": "white",
            "showbackground": true,
            "ticks": "",
            "zerolinecolor": "white"
           },
           "yaxis": {
            "backgroundcolor": "#E5ECF6",
            "gridcolor": "white",
            "gridwidth": 2,
            "linecolor": "white",
            "showbackground": true,
            "ticks": "",
            "zerolinecolor": "white"
           },
           "zaxis": {
            "backgroundcolor": "#E5ECF6",
            "gridcolor": "white",
            "gridwidth": 2,
            "linecolor": "white",
            "showbackground": true,
            "ticks": "",
            "zerolinecolor": "white"
           }
          },
          "shapedefaults": {
           "line": {
            "color": "#2a3f5f"
           }
          },
          "ternary": {
           "aaxis": {
            "gridcolor": "white",
            "linecolor": "white",
            "ticks": ""
           },
           "baxis": {
            "gridcolor": "white",
            "linecolor": "white",
            "ticks": ""
           },
           "bgcolor": "#E5ECF6",
           "caxis": {
            "gridcolor": "white",
            "linecolor": "white",
            "ticks": ""
           }
          },
          "title": {
           "x": 0.05
          },
          "xaxis": {
           "automargin": true,
           "gridcolor": "white",
           "linecolor": "white",
           "ticks": "",
           "title": {
            "standoff": 15
           },
           "zerolinecolor": "white",
           "zerolinewidth": 2
          },
          "yaxis": {
           "automargin": true,
           "gridcolor": "white",
           "linecolor": "white",
           "ticks": "",
           "title": {
            "standoff": 15
           },
           "zerolinecolor": "white",
           "zerolinewidth": 2
          }
         }
        },
        "title": {
         "text": "Winning rate vs Rating"
        },
        "xaxis": {
         "ticklen": 5,
         "ticks": "outside",
         "title": {
          "text": "Rating"
         },
         "zeroline": false
        },
        "yaxis": {
         "ticklen": 5,
         "ticks": "inside",
         "title": {
          "text": "Winning rate"
         },
         "zeroline": false
        }
       }
      },
      "text/html": [
       "<div>\n",
       "        \n",
       "        \n",
       "            <div id=\"04cf6119-3bd5-42f0-98d2-3ada8b634991\" class=\"plotly-graph-div\" style=\"height:525px; width:100%;\"></div>\n",
       "            <script type=\"text/javascript\">\n",
       "                require([\"plotly\"], function(Plotly) {\n",
       "                    window.PLOTLYENV=window.PLOTLYENV || {};\n",
       "                    \n",
       "                if (document.getElementById(\"04cf6119-3bd5-42f0-98d2-3ada8b634991\")) {\n",
       "                    Plotly.newPlot(\n",
       "                        '04cf6119-3bd5-42f0-98d2-3ada8b634991',\n",
       "                        [{\"marker\": {\"color\": \"rgba(31, 119, 180, 0.8)\", \"line\": {\"color\": \"rgb(0,0,0)\", \"width\": 1.5}}, \"mode\": \"markers\", \"type\": \"scatter\", \"x\": [1664, 1440, 1504, 1680, 1488, 1680, 1488, 1600, 1744, 1776, 1536, 1824, 1696, 1344, 1792, 1392, 1424, 1792, 1648, 1648, 1808, 1408, 2000, 1696, 1632, 1424, 1744, 1776, 1296, 1520, 1919, 1568, 1536, 1360, 1584, 1520, 1360, 1456, 1615, 1216, 1264, 1440, 1344, 1312, 1712, 1648, 1568, 1840, 1536, 1888, 1760, 1552, 1855, 1552, 1728, 1632, 1264, 1200, 1680, 1408, 2035, 1456, 1248, 1376, 1520, 1552, 1808, 1712, 1232, 1664, 1584, 1664, 1616, 1280, 1600, 2017, 1728, 1984, 1585, 1856, 1504, 1935, 1950, 1472, 1488, 1504, 1568, 1824, 1376, 1616, 1440, 1696, 1968, 1392, 1760, 1472, 1632, 1903, 1872, 1328], \"y\": [1.0188679245283019, 0.8857142857142857, 0.9238095238095239, 1.0285714285714285, 0.9150943396226415, 1.028301886792453, 0.9150943396226415, 0.9811320754716981, 1.0666666666666667, 1.0857142857142856, 0.9433962264150944, 1.1153846153846154, 1.0377358490566038, 0.8301886792452831, 1.0952380952380953, 0.8584905660377359, 0.8761904761904762, 1.0943396226415094, 1.0095238095238095, 1.009433962264151, 1.1057692307692308, 0.8679245283018868, 1.2421052631578948, 1.0380952380952382, 1.0, 0.8761904761904762, 1.0679611650485437, 1.0849056603773586, 0.8, 0.9333333333333333, 1.18, 0.9619047619047619, 0.9428571428571428, 0.839622641509434, 0.9716981132075472, 0.9333333333333333, 0.839622641509434, 0.8952380952380953, 0.9905660377358491, 0.7523809523809524, 0.780952380952381, 0.8867924528301887, 0.8285714285714286, 0.8113207547169812, 1.0480769230769231, 1.009433962264151, 0.9619047619047619, 1.1354166666666667, 0.9428571428571428, 1.150943396226415, 1.0761904761904761, 0.9528301886792453, 1.14, 0.9523809523809523, 1.0566037735849056, 1.0, 0.780952380952381, 0.7452830188679245, 1.0285714285714285, 0.8666666666666667, 1.2450980392156863, 0.8962264150943396, 0.7735849056603774, 0.8490566037735849, 0.9326923076923077, 0.9523809523809523, 1.102803738317757, 1.0485436893203883, 0.7641509433962265, 1.019047619047619, 0.9714285714285714, 1.019047619047619, 0.9904761904761905, 0.7904761904761904, 0.9811320754716981, 1.233009708737864, 1.0571428571428572, 1.2156862745098038, 0.9716981132075472, 1.1333333333333333, 0.9238095238095239, 1.1979166666666667, 1.202020202020202, 0.9047619047619048, 0.9150943396226415, 0.9245283018867925, 0.9622641509433962, 1.1142857142857143, 0.8461538461538461, 0.9904761904761905, 0.8857142857142857, 1.0377358490566038, 1.2079207920792079, 0.8571428571428571, 1.0754716981132075, 0.9047619047619048, 1.0, 1.175257731958763, 1.164835164835165, 0.8137254901960784]}],\n",
       "                        {\"template\": {\"data\": {\"bar\": [{\"error_x\": {\"color\": \"#2a3f5f\"}, \"error_y\": {\"color\": \"#2a3f5f\"}, \"marker\": {\"line\": {\"color\": \"#E5ECF6\", \"width\": 0.5}}, \"type\": \"bar\"}], \"barpolar\": [{\"marker\": {\"line\": {\"color\": \"#E5ECF6\", \"width\": 0.5}}, \"type\": \"barpolar\"}], \"carpet\": [{\"aaxis\": {\"endlinecolor\": \"#2a3f5f\", \"gridcolor\": \"white\", \"linecolor\": \"white\", \"minorgridcolor\": \"white\", \"startlinecolor\": \"#2a3f5f\"}, \"baxis\": {\"endlinecolor\": \"#2a3f5f\", \"gridcolor\": \"white\", \"linecolor\": \"white\", \"minorgridcolor\": \"white\", \"startlinecolor\": \"#2a3f5f\"}, \"type\": \"carpet\"}], \"choropleth\": [{\"colorbar\": {\"outlinewidth\": 0, \"ticks\": \"\"}, \"type\": \"choropleth\"}], \"contour\": [{\"colorbar\": {\"outlinewidth\": 0, \"ticks\": \"\"}, \"colorscale\": [[0.0, \"#0d0887\"], [0.1111111111111111, \"#46039f\"], [0.2222222222222222, \"#7201a8\"], [0.3333333333333333, \"#9c179e\"], [0.4444444444444444, \"#bd3786\"], [0.5555555555555556, \"#d8576b\"], [0.6666666666666666, \"#ed7953\"], [0.7777777777777778, \"#fb9f3a\"], [0.8888888888888888, \"#fdca26\"], [1.0, \"#f0f921\"]], \"type\": \"contour\"}], \"contourcarpet\": [{\"colorbar\": {\"outlinewidth\": 0, \"ticks\": \"\"}, \"type\": \"contourcarpet\"}], \"heatmap\": [{\"colorbar\": {\"outlinewidth\": 0, \"ticks\": \"\"}, \"colorscale\": [[0.0, \"#0d0887\"], [0.1111111111111111, \"#46039f\"], [0.2222222222222222, \"#7201a8\"], [0.3333333333333333, \"#9c179e\"], [0.4444444444444444, \"#bd3786\"], [0.5555555555555556, \"#d8576b\"], [0.6666666666666666, \"#ed7953\"], [0.7777777777777778, \"#fb9f3a\"], [0.8888888888888888, \"#fdca26\"], [1.0, \"#f0f921\"]], \"type\": \"heatmap\"}], \"heatmapgl\": [{\"colorbar\": {\"outlinewidth\": 0, \"ticks\": \"\"}, \"colorscale\": [[0.0, \"#0d0887\"], [0.1111111111111111, \"#46039f\"], [0.2222222222222222, \"#7201a8\"], [0.3333333333333333, \"#9c179e\"], [0.4444444444444444, \"#bd3786\"], [0.5555555555555556, \"#d8576b\"], [0.6666666666666666, \"#ed7953\"], [0.7777777777777778, \"#fb9f3a\"], [0.8888888888888888, \"#fdca26\"], [1.0, \"#f0f921\"]], \"type\": \"heatmapgl\"}], \"histogram\": [{\"marker\": {\"colorbar\": {\"outlinewidth\": 0, \"ticks\": \"\"}}, \"type\": \"histogram\"}], \"histogram2d\": [{\"colorbar\": {\"outlinewidth\": 0, \"ticks\": \"\"}, \"colorscale\": [[0.0, \"#0d0887\"], [0.1111111111111111, \"#46039f\"], [0.2222222222222222, \"#7201a8\"], [0.3333333333333333, \"#9c179e\"], [0.4444444444444444, \"#bd3786\"], [0.5555555555555556, \"#d8576b\"], [0.6666666666666666, \"#ed7953\"], [0.7777777777777778, \"#fb9f3a\"], [0.8888888888888888, \"#fdca26\"], [1.0, \"#f0f921\"]], \"type\": \"histogram2d\"}], \"histogram2dcontour\": [{\"colorbar\": {\"outlinewidth\": 0, \"ticks\": \"\"}, \"colorscale\": [[0.0, \"#0d0887\"], [0.1111111111111111, \"#46039f\"], [0.2222222222222222, \"#7201a8\"], [0.3333333333333333, \"#9c179e\"], [0.4444444444444444, \"#bd3786\"], [0.5555555555555556, \"#d8576b\"], [0.6666666666666666, \"#ed7953\"], [0.7777777777777778, \"#fb9f3a\"], [0.8888888888888888, \"#fdca26\"], [1.0, \"#f0f921\"]], \"type\": \"histogram2dcontour\"}], \"mesh3d\": [{\"colorbar\": {\"outlinewidth\": 0, \"ticks\": \"\"}, \"type\": \"mesh3d\"}], \"parcoords\": [{\"line\": {\"colorbar\": {\"outlinewidth\": 0, \"ticks\": \"\"}}, \"type\": \"parcoords\"}], \"pie\": [{\"automargin\": true, \"type\": \"pie\"}], \"scatter\": [{\"marker\": {\"colorbar\": {\"outlinewidth\": 0, \"ticks\": \"\"}}, \"type\": \"scatter\"}], \"scatter3d\": [{\"line\": {\"colorbar\": {\"outlinewidth\": 0, \"ticks\": \"\"}}, \"marker\": {\"colorbar\": {\"outlinewidth\": 0, \"ticks\": \"\"}}, \"type\": \"scatter3d\"}], \"scattercarpet\": [{\"marker\": {\"colorbar\": {\"outlinewidth\": 0, \"ticks\": \"\"}}, \"type\": \"scattercarpet\"}], \"scattergeo\": [{\"marker\": {\"colorbar\": {\"outlinewidth\": 0, \"ticks\": \"\"}}, \"type\": \"scattergeo\"}], \"scattergl\": [{\"marker\": {\"colorbar\": {\"outlinewidth\": 0, \"ticks\": \"\"}}, \"type\": \"scattergl\"}], \"scattermapbox\": [{\"marker\": {\"colorbar\": {\"outlinewidth\": 0, \"ticks\": \"\"}}, \"type\": \"scattermapbox\"}], \"scatterpolar\": [{\"marker\": {\"colorbar\": {\"outlinewidth\": 0, \"ticks\": \"\"}}, \"type\": \"scatterpolar\"}], \"scatterpolargl\": [{\"marker\": {\"colorbar\": {\"outlinewidth\": 0, \"ticks\": \"\"}}, \"type\": \"scatterpolargl\"}], \"scatterternary\": [{\"marker\": {\"colorbar\": {\"outlinewidth\": 0, \"ticks\": \"\"}}, \"type\": \"scatterternary\"}], \"surface\": [{\"colorbar\": {\"outlinewidth\": 0, \"ticks\": \"\"}, \"colorscale\": [[0.0, \"#0d0887\"], [0.1111111111111111, \"#46039f\"], [0.2222222222222222, \"#7201a8\"], [0.3333333333333333, \"#9c179e\"], [0.4444444444444444, \"#bd3786\"], [0.5555555555555556, \"#d8576b\"], [0.6666666666666666, \"#ed7953\"], [0.7777777777777778, \"#fb9f3a\"], [0.8888888888888888, \"#fdca26\"], [1.0, \"#f0f921\"]], \"type\": \"surface\"}], \"table\": [{\"cells\": {\"fill\": {\"color\": \"#EBF0F8\"}, \"line\": {\"color\": \"white\"}}, \"header\": {\"fill\": {\"color\": \"#C8D4E3\"}, \"line\": {\"color\": \"white\"}}, \"type\": \"table\"}]}, \"layout\": {\"annotationdefaults\": {\"arrowcolor\": \"#2a3f5f\", \"arrowhead\": 0, \"arrowwidth\": 1}, \"coloraxis\": {\"colorbar\": {\"outlinewidth\": 0, \"ticks\": \"\"}}, \"colorscale\": {\"diverging\": [[0, \"#8e0152\"], [0.1, \"#c51b7d\"], [0.2, \"#de77ae\"], [0.3, \"#f1b6da\"], [0.4, \"#fde0ef\"], [0.5, \"#f7f7f7\"], [0.6, \"#e6f5d0\"], [0.7, \"#b8e186\"], [0.8, \"#7fbc41\"], [0.9, \"#4d9221\"], [1, \"#276419\"]], \"sequential\": [[0.0, \"#0d0887\"], [0.1111111111111111, \"#46039f\"], [0.2222222222222222, \"#7201a8\"], [0.3333333333333333, \"#9c179e\"], [0.4444444444444444, \"#bd3786\"], [0.5555555555555556, \"#d8576b\"], [0.6666666666666666, \"#ed7953\"], [0.7777777777777778, \"#fb9f3a\"], [0.8888888888888888, \"#fdca26\"], [1.0, \"#f0f921\"]], \"sequentialminus\": [[0.0, \"#0d0887\"], [0.1111111111111111, \"#46039f\"], [0.2222222222222222, \"#7201a8\"], [0.3333333333333333, \"#9c179e\"], [0.4444444444444444, \"#bd3786\"], [0.5555555555555556, \"#d8576b\"], [0.6666666666666666, \"#ed7953\"], [0.7777777777777778, \"#fb9f3a\"], [0.8888888888888888, \"#fdca26\"], [1.0, \"#f0f921\"]]}, \"colorway\": [\"#636efa\", \"#EF553B\", \"#00cc96\", \"#ab63fa\", \"#FFA15A\", \"#19d3f3\", \"#FF6692\", \"#B6E880\", \"#FF97FF\", \"#FECB52\"], \"font\": {\"color\": \"#2a3f5f\"}, \"geo\": {\"bgcolor\": \"white\", \"lakecolor\": \"white\", \"landcolor\": \"#E5ECF6\", \"showlakes\": true, \"showland\": true, \"subunitcolor\": \"white\"}, \"hoverlabel\": {\"align\": \"left\"}, \"hovermode\": \"closest\", \"mapbox\": {\"style\": \"light\"}, \"paper_bgcolor\": \"white\", \"plot_bgcolor\": \"#E5ECF6\", \"polar\": {\"angularaxis\": {\"gridcolor\": \"white\", \"linecolor\": \"white\", \"ticks\": \"\"}, \"bgcolor\": \"#E5ECF6\", \"radialaxis\": {\"gridcolor\": \"white\", \"linecolor\": \"white\", \"ticks\": \"\"}}, \"scene\": {\"xaxis\": {\"backgroundcolor\": \"#E5ECF6\", \"gridcolor\": \"white\", \"gridwidth\": 2, \"linecolor\": \"white\", \"showbackground\": true, \"ticks\": \"\", \"zerolinecolor\": \"white\"}, \"yaxis\": {\"backgroundcolor\": \"#E5ECF6\", \"gridcolor\": \"white\", \"gridwidth\": 2, \"linecolor\": \"white\", \"showbackground\": true, \"ticks\": \"\", \"zerolinecolor\": \"white\"}, \"zaxis\": {\"backgroundcolor\": \"#E5ECF6\", \"gridcolor\": \"white\", \"gridwidth\": 2, \"linecolor\": \"white\", \"showbackground\": true, \"ticks\": \"\", \"zerolinecolor\": \"white\"}}, \"shapedefaults\": {\"line\": {\"color\": \"#2a3f5f\"}}, \"ternary\": {\"aaxis\": {\"gridcolor\": \"white\", \"linecolor\": \"white\", \"ticks\": \"\"}, \"baxis\": {\"gridcolor\": \"white\", \"linecolor\": \"white\", \"ticks\": \"\"}, \"bgcolor\": \"#E5ECF6\", \"caxis\": {\"gridcolor\": \"white\", \"linecolor\": \"white\", \"ticks\": \"\"}}, \"title\": {\"x\": 0.05}, \"xaxis\": {\"automargin\": true, \"gridcolor\": \"white\", \"linecolor\": \"white\", \"ticks\": \"\", \"title\": {\"standoff\": 15}, \"zerolinecolor\": \"white\", \"zerolinewidth\": 2}, \"yaxis\": {\"automargin\": true, \"gridcolor\": \"white\", \"linecolor\": \"white\", \"ticks\": \"\", \"title\": {\"standoff\": 15}, \"zerolinecolor\": \"white\", \"zerolinewidth\": 2}}}, \"title\": {\"text\": \"Winning rate vs Rating\"}, \"xaxis\": {\"ticklen\": 5, \"ticks\": \"outside\", \"title\": {\"text\": \"Rating\"}, \"zeroline\": false}, \"yaxis\": {\"ticklen\": 5, \"ticks\": \"inside\", \"title\": {\"text\": \"Winning rate\"}, \"zeroline\": false}},\n",
       "                        {\"responsive\": true}\n",
       "                    ).then(function(){\n",
       "                            \n",
       "var gd = document.getElementById('04cf6119-3bd5-42f0-98d2-3ada8b634991');\n",
       "var x = new MutationObserver(function (mutations, observer) {{\n",
       "        var display = window.getComputedStyle(gd).display;\n",
       "        if (!display || display === 'none') {{\n",
       "            console.log([gd, 'removed!']);\n",
       "            Plotly.purge(gd);\n",
       "            observer.disconnect();\n",
       "        }}\n",
       "}});\n",
       "\n",
       "// Listen for the removal of the full notebook cells\n",
       "var notebookContainer = gd.closest('#notebook-container');\n",
       "if (notebookContainer) {{\n",
       "    x.observe(notebookContainer, {childList: true});\n",
       "}}\n",
       "\n",
       "// Listen for the clearing of the current output cell\n",
       "var outputEl = gd.closest('.output');\n",
       "if (outputEl) {{\n",
       "    x.observe(outputEl, {childList: true});\n",
       "}}\n",
       "\n",
       "                        })\n",
       "                };\n",
       "                });\n",
       "            </script>\n",
       "        </div>"
      ]
     },
     "metadata": {},
     "output_type": "display_data"
    }
   ],
   "source": [
    "# create trace1 \n",
    "trace1 = go.Scatter(\n",
    "                y = (df.international_win + df.turkish_win) / (df.international_lose + df.turkish_lose + df.international_draw + df.turkish_draw),\n",
    "                x = df.rate,\n",
    "                mode = 'markers',\n",
    "                marker = dict(color = 'rgba(31, 119, 180, 0.8)',\n",
    "                              line=dict(color='rgb(0,0,0)',width=1.5))\n",
    "            )\n",
    "layout = dict(title = 'Winning rate vs Rating',\n",
    "             yaxis= dict(title= 'Winning rate',ticklen= 5,zeroline= False, ticks=\"inside\"), \n",
    "             xaxis = dict(title = 'Rating', ticklen = 5, zeroline = False, ticks=\"outside\"))\n",
    "data = [trace1]\n",
    "\n",
    "fig = {'data': data, 'layout': layout}\n",
    "iplot(fig)"
   ]
  },
  {
   "cell_type": "code",
   "execution_count": 530,
   "metadata": {},
   "outputs": [
    {
     "data": {
      "application/vnd.plotly.v1+json": {
       "config": {
        "linkText": "Export to plot.ly",
        "plotlyServerURL": "https://plot.ly",
        "showLink": false
       },
       "data": [
        {
         "marker": {
          "color": "rgba(31, 119, 180, 0.8)",
          "line": {
           "color": "rgb(0,0,0)",
           "width": 1.5
          }
         },
         "type": "histogram",
         "x": [
          "2020-01-27",
          "2020-01-27",
          "2020-01-27",
          "2020-01-29",
          "2020-01-30",
          "2020-01-30",
          "2020-01-31",
          "2020-02-02",
          "2020-02-03",
          "2020-02-03",
          "2020-02-05",
          "2020-02-09",
          "2020-02-10",
          "2020-02-11",
          "2020-02-11",
          "2020-02-16",
          "2020-02-16",
          "2020-02-18",
          "2020-02-18",
          "2020-02-18",
          "2020-02-19",
          "2020-02-20",
          "2020-02-20",
          "2020-02-21",
          "2020-02-21",
          "2020-02-24",
          "2020-02-24",
          "2020-02-24",
          "2020-02-25",
          "2020-02-27",
          "2020-02-28",
          "2020-02-28",
          "2020-02-28",
          "2020-02-29",
          "2020-02-29",
          "2020-03-01",
          "2020-03-01",
          "2020-03-02",
          "2020-03-02",
          "2020-03-03",
          "2020-03-05",
          "2020-03-06",
          "2020-03-07",
          "2020-03-08",
          "2020-03-08",
          "2020-03-08",
          "2020-03-08",
          "2020-03-08",
          "2020-03-08",
          "2020-03-09",
          "2020-03-10",
          "2020-03-14",
          "2020-03-16",
          "2020-03-17",
          "2020-03-20",
          "2020-03-21",
          "2020-03-21",
          "2020-03-21",
          "2020-03-22",
          "2020-03-22",
          "2020-03-23",
          "2020-03-26",
          "2020-03-28",
          "2020-03-28",
          "2020-03-28",
          "2020-03-31",
          "2020-04-01",
          "2020-04-01",
          "2020-04-02",
          "2020-04-02",
          "2020-04-02",
          "2020-04-02",
          "2020-04-02",
          "2020-04-03",
          "2020-04-03",
          "2020-04-04",
          "2020-04-07",
          "2020-04-08",
          "2020-04-08",
          "2020-04-09",
          "2020-04-09",
          "2020-04-09",
          "2020-04-09",
          "2020-04-10",
          "2020-04-11",
          "2020-04-11",
          "2020-04-12",
          "2020-04-13",
          "2020-04-14",
          "2020-04-15",
          "2020-04-15",
          "2020-04-15",
          "2020-04-16",
          "2020-04-17",
          "2020-04-19",
          "2020-04-21",
          "2020-04-21",
          "2020-04-23",
          "2020-04-23",
          "2020-04-24"
         ]
        }
       ],
       "layout": {
        "barmode": "group",
        "template": {
         "data": {
          "bar": [
           {
            "error_x": {
             "color": "#2a3f5f"
            },
            "error_y": {
             "color": "#2a3f5f"
            },
            "marker": {
             "line": {
              "color": "#E5ECF6",
              "width": 0.5
             }
            },
            "type": "bar"
           }
          ],
          "barpolar": [
           {
            "marker": {
             "line": {
              "color": "#E5ECF6",
              "width": 0.5
             }
            },
            "type": "barpolar"
           }
          ],
          "carpet": [
           {
            "aaxis": {
             "endlinecolor": "#2a3f5f",
             "gridcolor": "white",
             "linecolor": "white",
             "minorgridcolor": "white",
             "startlinecolor": "#2a3f5f"
            },
            "baxis": {
             "endlinecolor": "#2a3f5f",
             "gridcolor": "white",
             "linecolor": "white",
             "minorgridcolor": "white",
             "startlinecolor": "#2a3f5f"
            },
            "type": "carpet"
           }
          ],
          "choropleth": [
           {
            "colorbar": {
             "outlinewidth": 0,
             "ticks": ""
            },
            "type": "choropleth"
           }
          ],
          "contour": [
           {
            "colorbar": {
             "outlinewidth": 0,
             "ticks": ""
            },
            "colorscale": [
             [
              0,
              "#0d0887"
             ],
             [
              0.1111111111111111,
              "#46039f"
             ],
             [
              0.2222222222222222,
              "#7201a8"
             ],
             [
              0.3333333333333333,
              "#9c179e"
             ],
             [
              0.4444444444444444,
              "#bd3786"
             ],
             [
              0.5555555555555556,
              "#d8576b"
             ],
             [
              0.6666666666666666,
              "#ed7953"
             ],
             [
              0.7777777777777778,
              "#fb9f3a"
             ],
             [
              0.8888888888888888,
              "#fdca26"
             ],
             [
              1,
              "#f0f921"
             ]
            ],
            "type": "contour"
           }
          ],
          "contourcarpet": [
           {
            "colorbar": {
             "outlinewidth": 0,
             "ticks": ""
            },
            "type": "contourcarpet"
           }
          ],
          "heatmap": [
           {
            "colorbar": {
             "outlinewidth": 0,
             "ticks": ""
            },
            "colorscale": [
             [
              0,
              "#0d0887"
             ],
             [
              0.1111111111111111,
              "#46039f"
             ],
             [
              0.2222222222222222,
              "#7201a8"
             ],
             [
              0.3333333333333333,
              "#9c179e"
             ],
             [
              0.4444444444444444,
              "#bd3786"
             ],
             [
              0.5555555555555556,
              "#d8576b"
             ],
             [
              0.6666666666666666,
              "#ed7953"
             ],
             [
              0.7777777777777778,
              "#fb9f3a"
             ],
             [
              0.8888888888888888,
              "#fdca26"
             ],
             [
              1,
              "#f0f921"
             ]
            ],
            "type": "heatmap"
           }
          ],
          "heatmapgl": [
           {
            "colorbar": {
             "outlinewidth": 0,
             "ticks": ""
            },
            "colorscale": [
             [
              0,
              "#0d0887"
             ],
             [
              0.1111111111111111,
              "#46039f"
             ],
             [
              0.2222222222222222,
              "#7201a8"
             ],
             [
              0.3333333333333333,
              "#9c179e"
             ],
             [
              0.4444444444444444,
              "#bd3786"
             ],
             [
              0.5555555555555556,
              "#d8576b"
             ],
             [
              0.6666666666666666,
              "#ed7953"
             ],
             [
              0.7777777777777778,
              "#fb9f3a"
             ],
             [
              0.8888888888888888,
              "#fdca26"
             ],
             [
              1,
              "#f0f921"
             ]
            ],
            "type": "heatmapgl"
           }
          ],
          "histogram": [
           {
            "marker": {
             "colorbar": {
              "outlinewidth": 0,
              "ticks": ""
             }
            },
            "type": "histogram"
           }
          ],
          "histogram2d": [
           {
            "colorbar": {
             "outlinewidth": 0,
             "ticks": ""
            },
            "colorscale": [
             [
              0,
              "#0d0887"
             ],
             [
              0.1111111111111111,
              "#46039f"
             ],
             [
              0.2222222222222222,
              "#7201a8"
             ],
             [
              0.3333333333333333,
              "#9c179e"
             ],
             [
              0.4444444444444444,
              "#bd3786"
             ],
             [
              0.5555555555555556,
              "#d8576b"
             ],
             [
              0.6666666666666666,
              "#ed7953"
             ],
             [
              0.7777777777777778,
              "#fb9f3a"
             ],
             [
              0.8888888888888888,
              "#fdca26"
             ],
             [
              1,
              "#f0f921"
             ]
            ],
            "type": "histogram2d"
           }
          ],
          "histogram2dcontour": [
           {
            "colorbar": {
             "outlinewidth": 0,
             "ticks": ""
            },
            "colorscale": [
             [
              0,
              "#0d0887"
             ],
             [
              0.1111111111111111,
              "#46039f"
             ],
             [
              0.2222222222222222,
              "#7201a8"
             ],
             [
              0.3333333333333333,
              "#9c179e"
             ],
             [
              0.4444444444444444,
              "#bd3786"
             ],
             [
              0.5555555555555556,
              "#d8576b"
             ],
             [
              0.6666666666666666,
              "#ed7953"
             ],
             [
              0.7777777777777778,
              "#fb9f3a"
             ],
             [
              0.8888888888888888,
              "#fdca26"
             ],
             [
              1,
              "#f0f921"
             ]
            ],
            "type": "histogram2dcontour"
           }
          ],
          "mesh3d": [
           {
            "colorbar": {
             "outlinewidth": 0,
             "ticks": ""
            },
            "type": "mesh3d"
           }
          ],
          "parcoords": [
           {
            "line": {
             "colorbar": {
              "outlinewidth": 0,
              "ticks": ""
             }
            },
            "type": "parcoords"
           }
          ],
          "pie": [
           {
            "automargin": true,
            "type": "pie"
           }
          ],
          "scatter": [
           {
            "marker": {
             "colorbar": {
              "outlinewidth": 0,
              "ticks": ""
             }
            },
            "type": "scatter"
           }
          ],
          "scatter3d": [
           {
            "line": {
             "colorbar": {
              "outlinewidth": 0,
              "ticks": ""
             }
            },
            "marker": {
             "colorbar": {
              "outlinewidth": 0,
              "ticks": ""
             }
            },
            "type": "scatter3d"
           }
          ],
          "scattercarpet": [
           {
            "marker": {
             "colorbar": {
              "outlinewidth": 0,
              "ticks": ""
             }
            },
            "type": "scattercarpet"
           }
          ],
          "scattergeo": [
           {
            "marker": {
             "colorbar": {
              "outlinewidth": 0,
              "ticks": ""
             }
            },
            "type": "scattergeo"
           }
          ],
          "scattergl": [
           {
            "marker": {
             "colorbar": {
              "outlinewidth": 0,
              "ticks": ""
             }
            },
            "type": "scattergl"
           }
          ],
          "scattermapbox": [
           {
            "marker": {
             "colorbar": {
              "outlinewidth": 0,
              "ticks": ""
             }
            },
            "type": "scattermapbox"
           }
          ],
          "scatterpolar": [
           {
            "marker": {
             "colorbar": {
              "outlinewidth": 0,
              "ticks": ""
             }
            },
            "type": "scatterpolar"
           }
          ],
          "scatterpolargl": [
           {
            "marker": {
             "colorbar": {
              "outlinewidth": 0,
              "ticks": ""
             }
            },
            "type": "scatterpolargl"
           }
          ],
          "scatterternary": [
           {
            "marker": {
             "colorbar": {
              "outlinewidth": 0,
              "ticks": ""
             }
            },
            "type": "scatterternary"
           }
          ],
          "surface": [
           {
            "colorbar": {
             "outlinewidth": 0,
             "ticks": ""
            },
            "colorscale": [
             [
              0,
              "#0d0887"
             ],
             [
              0.1111111111111111,
              "#46039f"
             ],
             [
              0.2222222222222222,
              "#7201a8"
             ],
             [
              0.3333333333333333,
              "#9c179e"
             ],
             [
              0.4444444444444444,
              "#bd3786"
             ],
             [
              0.5555555555555556,
              "#d8576b"
             ],
             [
              0.6666666666666666,
              "#ed7953"
             ],
             [
              0.7777777777777778,
              "#fb9f3a"
             ],
             [
              0.8888888888888888,
              "#fdca26"
             ],
             [
              1,
              "#f0f921"
             ]
            ],
            "type": "surface"
           }
          ],
          "table": [
           {
            "cells": {
             "fill": {
              "color": "#EBF0F8"
             },
             "line": {
              "color": "white"
             }
            },
            "header": {
             "fill": {
              "color": "#C8D4E3"
             },
             "line": {
              "color": "white"
             }
            },
            "type": "table"
           }
          ]
         },
         "layout": {
          "annotationdefaults": {
           "arrowcolor": "#2a3f5f",
           "arrowhead": 0,
           "arrowwidth": 1
          },
          "coloraxis": {
           "colorbar": {
            "outlinewidth": 0,
            "ticks": ""
           }
          },
          "colorscale": {
           "diverging": [
            [
             0,
             "#8e0152"
            ],
            [
             0.1,
             "#c51b7d"
            ],
            [
             0.2,
             "#de77ae"
            ],
            [
             0.3,
             "#f1b6da"
            ],
            [
             0.4,
             "#fde0ef"
            ],
            [
             0.5,
             "#f7f7f7"
            ],
            [
             0.6,
             "#e6f5d0"
            ],
            [
             0.7,
             "#b8e186"
            ],
            [
             0.8,
             "#7fbc41"
            ],
            [
             0.9,
             "#4d9221"
            ],
            [
             1,
             "#276419"
            ]
           ],
           "sequential": [
            [
             0,
             "#0d0887"
            ],
            [
             0.1111111111111111,
             "#46039f"
            ],
            [
             0.2222222222222222,
             "#7201a8"
            ],
            [
             0.3333333333333333,
             "#9c179e"
            ],
            [
             0.4444444444444444,
             "#bd3786"
            ],
            [
             0.5555555555555556,
             "#d8576b"
            ],
            [
             0.6666666666666666,
             "#ed7953"
            ],
            [
             0.7777777777777778,
             "#fb9f3a"
            ],
            [
             0.8888888888888888,
             "#fdca26"
            ],
            [
             1,
             "#f0f921"
            ]
           ],
           "sequentialminus": [
            [
             0,
             "#0d0887"
            ],
            [
             0.1111111111111111,
             "#46039f"
            ],
            [
             0.2222222222222222,
             "#7201a8"
            ],
            [
             0.3333333333333333,
             "#9c179e"
            ],
            [
             0.4444444444444444,
             "#bd3786"
            ],
            [
             0.5555555555555556,
             "#d8576b"
            ],
            [
             0.6666666666666666,
             "#ed7953"
            ],
            [
             0.7777777777777778,
             "#fb9f3a"
            ],
            [
             0.8888888888888888,
             "#fdca26"
            ],
            [
             1,
             "#f0f921"
            ]
           ]
          },
          "colorway": [
           "#636efa",
           "#EF553B",
           "#00cc96",
           "#ab63fa",
           "#FFA15A",
           "#19d3f3",
           "#FF6692",
           "#B6E880",
           "#FF97FF",
           "#FECB52"
          ],
          "font": {
           "color": "#2a3f5f"
          },
          "geo": {
           "bgcolor": "white",
           "lakecolor": "white",
           "landcolor": "#E5ECF6",
           "showlakes": true,
           "showland": true,
           "subunitcolor": "white"
          },
          "hoverlabel": {
           "align": "left"
          },
          "hovermode": "closest",
          "mapbox": {
           "style": "light"
          },
          "paper_bgcolor": "white",
          "plot_bgcolor": "#E5ECF6",
          "polar": {
           "angularaxis": {
            "gridcolor": "white",
            "linecolor": "white",
            "ticks": ""
           },
           "bgcolor": "#E5ECF6",
           "radialaxis": {
            "gridcolor": "white",
            "linecolor": "white",
            "ticks": ""
           }
          },
          "scene": {
           "xaxis": {
            "backgroundcolor": "#E5ECF6",
            "gridcolor": "white",
            "gridwidth": 2,
            "linecolor": "white",
            "showbackground": true,
            "ticks": "",
            "zerolinecolor": "white"
           },
           "yaxis": {
            "backgroundcolor": "#E5ECF6",
            "gridcolor": "white",
            "gridwidth": 2,
            "linecolor": "white",
            "showbackground": true,
            "ticks": "",
            "zerolinecolor": "white"
           },
           "zaxis": {
            "backgroundcolor": "#E5ECF6",
            "gridcolor": "white",
            "gridwidth": 2,
            "linecolor": "white",
            "showbackground": true,
            "ticks": "",
            "zerolinecolor": "white"
           }
          },
          "shapedefaults": {
           "line": {
            "color": "#2a3f5f"
           }
          },
          "ternary": {
           "aaxis": {
            "gridcolor": "white",
            "linecolor": "white",
            "ticks": ""
           },
           "baxis": {
            "gridcolor": "white",
            "linecolor": "white",
            "ticks": ""
           },
           "bgcolor": "#E5ECF6",
           "caxis": {
            "gridcolor": "white",
            "linecolor": "white",
            "ticks": ""
           }
          },
          "title": {
           "x": 0.05
          },
          "xaxis": {
           "automargin": true,
           "gridcolor": "white",
           "linecolor": "white",
           "ticks": "",
           "title": {
            "standoff": 15
           },
           "zerolinecolor": "white",
           "zerolinewidth": 2
          },
          "yaxis": {
           "automargin": true,
           "gridcolor": "white",
           "linecolor": "white",
           "ticks": "",
           "title": {
            "standoff": 15
           },
           "zerolinecolor": "white",
           "zerolinewidth": 2
          }
         }
        },
        "title": {
         "text": "Registration"
        },
        "xaxis": {
         "ticklen": 5,
         "ticks": "inside",
         "title": {
          "text": "Date"
         },
         "zeroline": false
        },
        "yaxis": {
         "ticklen": 5,
         "ticks": "outside",
         "title": {
          "text": "Users"
         },
         "zeroline": false
        }
       }
      },
      "text/html": [
       "<div>\n",
       "        \n",
       "        \n",
       "            <div id=\"b4224a7b-1f1a-4e1c-9df8-98f00210f3e8\" class=\"plotly-graph-div\" style=\"height:525px; width:100%;\"></div>\n",
       "            <script type=\"text/javascript\">\n",
       "                require([\"plotly\"], function(Plotly) {\n",
       "                    window.PLOTLYENV=window.PLOTLYENV || {};\n",
       "                    \n",
       "                if (document.getElementById(\"b4224a7b-1f1a-4e1c-9df8-98f00210f3e8\")) {\n",
       "                    Plotly.newPlot(\n",
       "                        'b4224a7b-1f1a-4e1c-9df8-98f00210f3e8',\n",
       "                        [{\"marker\": {\"color\": \"rgba(31, 119, 180, 0.8)\", \"line\": {\"color\": \"rgb(0,0,0)\", \"width\": 1.5}}, \"type\": \"histogram\", \"x\": [\"2020-01-27\", \"2020-01-27\", \"2020-01-27\", \"2020-01-29\", \"2020-01-30\", \"2020-01-30\", \"2020-01-31\", \"2020-02-02\", \"2020-02-03\", \"2020-02-03\", \"2020-02-05\", \"2020-02-09\", \"2020-02-10\", \"2020-02-11\", \"2020-02-11\", \"2020-02-16\", \"2020-02-16\", \"2020-02-18\", \"2020-02-18\", \"2020-02-18\", \"2020-02-19\", \"2020-02-20\", \"2020-02-20\", \"2020-02-21\", \"2020-02-21\", \"2020-02-24\", \"2020-02-24\", \"2020-02-24\", \"2020-02-25\", \"2020-02-27\", \"2020-02-28\", \"2020-02-28\", \"2020-02-28\", \"2020-02-29\", \"2020-02-29\", \"2020-03-01\", \"2020-03-01\", \"2020-03-02\", \"2020-03-02\", \"2020-03-03\", \"2020-03-05\", \"2020-03-06\", \"2020-03-07\", \"2020-03-08\", \"2020-03-08\", \"2020-03-08\", \"2020-03-08\", \"2020-03-08\", \"2020-03-08\", \"2020-03-09\", \"2020-03-10\", \"2020-03-14\", \"2020-03-16\", \"2020-03-17\", \"2020-03-20\", \"2020-03-21\", \"2020-03-21\", \"2020-03-21\", \"2020-03-22\", \"2020-03-22\", \"2020-03-23\", \"2020-03-26\", \"2020-03-28\", \"2020-03-28\", \"2020-03-28\", \"2020-03-31\", \"2020-04-01\", \"2020-04-01\", \"2020-04-02\", \"2020-04-02\", \"2020-04-02\", \"2020-04-02\", \"2020-04-02\", \"2020-04-03\", \"2020-04-03\", \"2020-04-04\", \"2020-04-07\", \"2020-04-08\", \"2020-04-08\", \"2020-04-09\", \"2020-04-09\", \"2020-04-09\", \"2020-04-09\", \"2020-04-10\", \"2020-04-11\", \"2020-04-11\", \"2020-04-12\", \"2020-04-13\", \"2020-04-14\", \"2020-04-15\", \"2020-04-15\", \"2020-04-15\", \"2020-04-16\", \"2020-04-17\", \"2020-04-19\", \"2020-04-21\", \"2020-04-21\", \"2020-04-23\", \"2020-04-23\", \"2020-04-24\"]}],\n",
       "                        {\"barmode\": \"group\", \"template\": {\"data\": {\"bar\": [{\"error_x\": {\"color\": \"#2a3f5f\"}, \"error_y\": {\"color\": \"#2a3f5f\"}, \"marker\": {\"line\": {\"color\": \"#E5ECF6\", \"width\": 0.5}}, \"type\": \"bar\"}], \"barpolar\": [{\"marker\": {\"line\": {\"color\": \"#E5ECF6\", \"width\": 0.5}}, \"type\": \"barpolar\"}], \"carpet\": [{\"aaxis\": {\"endlinecolor\": \"#2a3f5f\", \"gridcolor\": \"white\", \"linecolor\": \"white\", \"minorgridcolor\": \"white\", \"startlinecolor\": \"#2a3f5f\"}, \"baxis\": {\"endlinecolor\": \"#2a3f5f\", \"gridcolor\": \"white\", \"linecolor\": \"white\", \"minorgridcolor\": \"white\", \"startlinecolor\": \"#2a3f5f\"}, \"type\": \"carpet\"}], \"choropleth\": [{\"colorbar\": {\"outlinewidth\": 0, \"ticks\": \"\"}, \"type\": \"choropleth\"}], \"contour\": [{\"colorbar\": {\"outlinewidth\": 0, \"ticks\": \"\"}, \"colorscale\": [[0.0, \"#0d0887\"], [0.1111111111111111, \"#46039f\"], [0.2222222222222222, \"#7201a8\"], [0.3333333333333333, \"#9c179e\"], [0.4444444444444444, \"#bd3786\"], [0.5555555555555556, \"#d8576b\"], [0.6666666666666666, \"#ed7953\"], [0.7777777777777778, \"#fb9f3a\"], [0.8888888888888888, \"#fdca26\"], [1.0, \"#f0f921\"]], \"type\": \"contour\"}], \"contourcarpet\": [{\"colorbar\": {\"outlinewidth\": 0, \"ticks\": \"\"}, \"type\": \"contourcarpet\"}], \"heatmap\": [{\"colorbar\": {\"outlinewidth\": 0, \"ticks\": \"\"}, \"colorscale\": [[0.0, \"#0d0887\"], [0.1111111111111111, \"#46039f\"], [0.2222222222222222, \"#7201a8\"], [0.3333333333333333, \"#9c179e\"], [0.4444444444444444, \"#bd3786\"], [0.5555555555555556, \"#d8576b\"], [0.6666666666666666, \"#ed7953\"], [0.7777777777777778, \"#fb9f3a\"], [0.8888888888888888, \"#fdca26\"], [1.0, \"#f0f921\"]], \"type\": \"heatmap\"}], \"heatmapgl\": [{\"colorbar\": {\"outlinewidth\": 0, \"ticks\": \"\"}, \"colorscale\": [[0.0, \"#0d0887\"], [0.1111111111111111, \"#46039f\"], [0.2222222222222222, \"#7201a8\"], [0.3333333333333333, \"#9c179e\"], [0.4444444444444444, \"#bd3786\"], [0.5555555555555556, \"#d8576b\"], [0.6666666666666666, \"#ed7953\"], [0.7777777777777778, \"#fb9f3a\"], [0.8888888888888888, \"#fdca26\"], [1.0, \"#f0f921\"]], \"type\": \"heatmapgl\"}], \"histogram\": [{\"marker\": {\"colorbar\": {\"outlinewidth\": 0, \"ticks\": \"\"}}, \"type\": \"histogram\"}], \"histogram2d\": [{\"colorbar\": {\"outlinewidth\": 0, \"ticks\": \"\"}, \"colorscale\": [[0.0, \"#0d0887\"], [0.1111111111111111, \"#46039f\"], [0.2222222222222222, \"#7201a8\"], [0.3333333333333333, \"#9c179e\"], [0.4444444444444444, \"#bd3786\"], [0.5555555555555556, \"#d8576b\"], [0.6666666666666666, \"#ed7953\"], [0.7777777777777778, \"#fb9f3a\"], [0.8888888888888888, \"#fdca26\"], [1.0, \"#f0f921\"]], \"type\": \"histogram2d\"}], \"histogram2dcontour\": [{\"colorbar\": {\"outlinewidth\": 0, \"ticks\": \"\"}, \"colorscale\": [[0.0, \"#0d0887\"], [0.1111111111111111, \"#46039f\"], [0.2222222222222222, \"#7201a8\"], [0.3333333333333333, \"#9c179e\"], [0.4444444444444444, \"#bd3786\"], [0.5555555555555556, \"#d8576b\"], [0.6666666666666666, \"#ed7953\"], [0.7777777777777778, \"#fb9f3a\"], [0.8888888888888888, \"#fdca26\"], [1.0, \"#f0f921\"]], \"type\": \"histogram2dcontour\"}], \"mesh3d\": [{\"colorbar\": {\"outlinewidth\": 0, \"ticks\": \"\"}, \"type\": \"mesh3d\"}], \"parcoords\": [{\"line\": {\"colorbar\": {\"outlinewidth\": 0, \"ticks\": \"\"}}, \"type\": \"parcoords\"}], \"pie\": [{\"automargin\": true, \"type\": \"pie\"}], \"scatter\": [{\"marker\": {\"colorbar\": {\"outlinewidth\": 0, \"ticks\": \"\"}}, \"type\": \"scatter\"}], \"scatter3d\": [{\"line\": {\"colorbar\": {\"outlinewidth\": 0, \"ticks\": \"\"}}, \"marker\": {\"colorbar\": {\"outlinewidth\": 0, \"ticks\": \"\"}}, \"type\": \"scatter3d\"}], \"scattercarpet\": [{\"marker\": {\"colorbar\": {\"outlinewidth\": 0, \"ticks\": \"\"}}, \"type\": \"scattercarpet\"}], \"scattergeo\": [{\"marker\": {\"colorbar\": {\"outlinewidth\": 0, \"ticks\": \"\"}}, \"type\": \"scattergeo\"}], \"scattergl\": [{\"marker\": {\"colorbar\": {\"outlinewidth\": 0, \"ticks\": \"\"}}, \"type\": \"scattergl\"}], \"scattermapbox\": [{\"marker\": {\"colorbar\": {\"outlinewidth\": 0, \"ticks\": \"\"}}, \"type\": \"scattermapbox\"}], \"scatterpolar\": [{\"marker\": {\"colorbar\": {\"outlinewidth\": 0, \"ticks\": \"\"}}, \"type\": \"scatterpolar\"}], \"scatterpolargl\": [{\"marker\": {\"colorbar\": {\"outlinewidth\": 0, \"ticks\": \"\"}}, \"type\": \"scatterpolargl\"}], \"scatterternary\": [{\"marker\": {\"colorbar\": {\"outlinewidth\": 0, \"ticks\": \"\"}}, \"type\": \"scatterternary\"}], \"surface\": [{\"colorbar\": {\"outlinewidth\": 0, \"ticks\": \"\"}, \"colorscale\": [[0.0, \"#0d0887\"], [0.1111111111111111, \"#46039f\"], [0.2222222222222222, \"#7201a8\"], [0.3333333333333333, \"#9c179e\"], [0.4444444444444444, \"#bd3786\"], [0.5555555555555556, \"#d8576b\"], [0.6666666666666666, \"#ed7953\"], [0.7777777777777778, \"#fb9f3a\"], [0.8888888888888888, \"#fdca26\"], [1.0, \"#f0f921\"]], \"type\": \"surface\"}], \"table\": [{\"cells\": {\"fill\": {\"color\": \"#EBF0F8\"}, \"line\": {\"color\": \"white\"}}, \"header\": {\"fill\": {\"color\": \"#C8D4E3\"}, \"line\": {\"color\": \"white\"}}, \"type\": \"table\"}]}, \"layout\": {\"annotationdefaults\": {\"arrowcolor\": \"#2a3f5f\", \"arrowhead\": 0, \"arrowwidth\": 1}, \"coloraxis\": {\"colorbar\": {\"outlinewidth\": 0, \"ticks\": \"\"}}, \"colorscale\": {\"diverging\": [[0, \"#8e0152\"], [0.1, \"#c51b7d\"], [0.2, \"#de77ae\"], [0.3, \"#f1b6da\"], [0.4, \"#fde0ef\"], [0.5, \"#f7f7f7\"], [0.6, \"#e6f5d0\"], [0.7, \"#b8e186\"], [0.8, \"#7fbc41\"], [0.9, \"#4d9221\"], [1, \"#276419\"]], \"sequential\": [[0.0, \"#0d0887\"], [0.1111111111111111, \"#46039f\"], [0.2222222222222222, \"#7201a8\"], [0.3333333333333333, \"#9c179e\"], [0.4444444444444444, \"#bd3786\"], [0.5555555555555556, \"#d8576b\"], [0.6666666666666666, \"#ed7953\"], [0.7777777777777778, \"#fb9f3a\"], [0.8888888888888888, \"#fdca26\"], [1.0, \"#f0f921\"]], \"sequentialminus\": [[0.0, \"#0d0887\"], [0.1111111111111111, \"#46039f\"], [0.2222222222222222, \"#7201a8\"], [0.3333333333333333, \"#9c179e\"], [0.4444444444444444, \"#bd3786\"], [0.5555555555555556, \"#d8576b\"], [0.6666666666666666, \"#ed7953\"], [0.7777777777777778, \"#fb9f3a\"], [0.8888888888888888, \"#fdca26\"], [1.0, \"#f0f921\"]]}, \"colorway\": [\"#636efa\", \"#EF553B\", \"#00cc96\", \"#ab63fa\", \"#FFA15A\", \"#19d3f3\", \"#FF6692\", \"#B6E880\", \"#FF97FF\", \"#FECB52\"], \"font\": {\"color\": \"#2a3f5f\"}, \"geo\": {\"bgcolor\": \"white\", \"lakecolor\": \"white\", \"landcolor\": \"#E5ECF6\", \"showlakes\": true, \"showland\": true, \"subunitcolor\": \"white\"}, \"hoverlabel\": {\"align\": \"left\"}, \"hovermode\": \"closest\", \"mapbox\": {\"style\": \"light\"}, \"paper_bgcolor\": \"white\", \"plot_bgcolor\": \"#E5ECF6\", \"polar\": {\"angularaxis\": {\"gridcolor\": \"white\", \"linecolor\": \"white\", \"ticks\": \"\"}, \"bgcolor\": \"#E5ECF6\", \"radialaxis\": {\"gridcolor\": \"white\", \"linecolor\": \"white\", \"ticks\": \"\"}}, \"scene\": {\"xaxis\": {\"backgroundcolor\": \"#E5ECF6\", \"gridcolor\": \"white\", \"gridwidth\": 2, \"linecolor\": \"white\", \"showbackground\": true, \"ticks\": \"\", \"zerolinecolor\": \"white\"}, \"yaxis\": {\"backgroundcolor\": \"#E5ECF6\", \"gridcolor\": \"white\", \"gridwidth\": 2, \"linecolor\": \"white\", \"showbackground\": true, \"ticks\": \"\", \"zerolinecolor\": \"white\"}, \"zaxis\": {\"backgroundcolor\": \"#E5ECF6\", \"gridcolor\": \"white\", \"gridwidth\": 2, \"linecolor\": \"white\", \"showbackground\": true, \"ticks\": \"\", \"zerolinecolor\": \"white\"}}, \"shapedefaults\": {\"line\": {\"color\": \"#2a3f5f\"}}, \"ternary\": {\"aaxis\": {\"gridcolor\": \"white\", \"linecolor\": \"white\", \"ticks\": \"\"}, \"baxis\": {\"gridcolor\": \"white\", \"linecolor\": \"white\", \"ticks\": \"\"}, \"bgcolor\": \"#E5ECF6\", \"caxis\": {\"gridcolor\": \"white\", \"linecolor\": \"white\", \"ticks\": \"\"}}, \"title\": {\"x\": 0.05}, \"xaxis\": {\"automargin\": true, \"gridcolor\": \"white\", \"linecolor\": \"white\", \"ticks\": \"\", \"title\": {\"standoff\": 15}, \"zerolinecolor\": \"white\", \"zerolinewidth\": 2}, \"yaxis\": {\"automargin\": true, \"gridcolor\": \"white\", \"linecolor\": \"white\", \"ticks\": \"\", \"title\": {\"standoff\": 15}, \"zerolinecolor\": \"white\", \"zerolinewidth\": 2}}}, \"title\": {\"text\": \"Registration\"}, \"xaxis\": {\"ticklen\": 5, \"ticks\": \"inside\", \"title\": {\"text\": \"Date\"}, \"zeroline\": false}, \"yaxis\": {\"ticklen\": 5, \"ticks\": \"outside\", \"title\": {\"text\": \"Users\"}, \"zeroline\": false}},\n",
       "                        {\"responsive\": true}\n",
       "                    ).then(function(){\n",
       "                            \n",
       "var gd = document.getElementById('b4224a7b-1f1a-4e1c-9df8-98f00210f3e8');\n",
       "var x = new MutationObserver(function (mutations, observer) {{\n",
       "        var display = window.getComputedStyle(gd).display;\n",
       "        if (!display || display === 'none') {{\n",
       "            console.log([gd, 'removed!']);\n",
       "            Plotly.purge(gd);\n",
       "            observer.disconnect();\n",
       "        }}\n",
       "}});\n",
       "\n",
       "// Listen for the removal of the full notebook cells\n",
       "var notebookContainer = gd.closest('#notebook-container');\n",
       "if (notebookContainer) {{\n",
       "    x.observe(notebookContainer, {childList: true});\n",
       "}}\n",
       "\n",
       "// Listen for the clearing of the current output cell\n",
       "var outputEl = gd.closest('.output');\n",
       "if (outputEl) {{\n",
       "    x.observe(outputEl, {childList: true});\n",
       "}}\n",
       "\n",
       "                        })\n",
       "                };\n",
       "                });\n",
       "            </script>\n",
       "        </div>"
      ]
     },
     "metadata": {},
     "output_type": "display_data"
    }
   ],
   "source": [
    "# create trace1 \n",
    "trace1 = go.Histogram(\n",
    "                x = df.signup_date,\n",
    "                marker = dict(color = 'rgba(31, 119, 180, 0.8)',\n",
    "                              line=dict(color='rgb(0,0,0)',width=1.5))\n",
    "            )\n",
    "layout = dict(barmode = 'group',title = 'Registration',ِ\n",
    "             xaxis= dict(title= 'Date',ticklen= 5,zeroline= False, ticks=\"inside\"), \n",
    "             yaxis = dict(title = 'Users', ticklen = 5, zeroline = False, ticks=\"outside\"))\n",
    "data = [trace1]\n",
    "\n",
    "fig = {'data': data, 'layout': layout}\n",
    "iplot(fig)"
   ]
  },
  {
   "cell_type": "code",
   "execution_count": 531,
   "metadata": {},
   "outputs": [],
   "source": [
    "def classify(rate):\n",
    "    if rate < 1200:\n",
    "        return 'novices'\n",
    "    if 1200 <= rate < 1400:\n",
    "        return 'Class D'\n",
    "    if 1400 <= rate < 1600:\n",
    "        return 'Class C'\n",
    "    if 1600 <= rate < 1800:\n",
    "        return 'Class B'\n",
    "    if 1800 <= rate < 2000:\n",
    "        return 'Class A'\n",
    "    if 2000 <= rate < 2200:\n",
    "        return 'Expert'\n",
    "    if 2200 <= rate < 2300:\n",
    "        return 'Candidate Master'\n",
    "    if 2300 <= rate < 2400:\n",
    "        return 'Master'\n",
    "    if 2400 <= rate < 2500:\n",
    "        return 'International Master'\n",
    "    if rate >= 2500:\n",
    "        return 'Grand Master'"
   ]
  },
  {
   "cell_type": "code",
   "execution_count": 644,
   "metadata": {},
   "outputs": [
    {
     "data": {
      "text/plain": [
       "LabelEncoder()"
      ]
     },
     "execution_count": 644,
     "metadata": {},
     "output_type": "execute_result"
    }
   ],
   "source": [
    "np.array(df.rate), np.array(df.category)\n"
   ]
  },
  {
   "cell_type": "code",
   "execution_count": 645,
   "metadata": {},
   "outputs": [
    {
     "data": {
      "text/plain": [
       "LabelBinarizer(neg_label=0, pos_label=1, sparse_output=False)"
      ]
     },
     "execution_count": 645,
     "metadata": {},
     "output_type": "execute_result"
    }
   ],
   "source": [
    "from sklearn.preprocessing import LabelBinarizer\n",
    "label_Binarizer = LabelBinarizer()\n",
    "label_Binarizer.fit(np.array(df.category))"
   ]
  },
  {
   "cell_type": "code",
   "execution_count": 653,
   "metadata": {},
   "outputs": [
    {
     "data": {
      "text/plain": [
       "array([[1, 0, 0, 0, 0]])"
      ]
     },
     "execution_count": 653,
     "metadata": {},
     "output_type": "execute_result"
    }
   ],
   "source": [
    "label_Binarizer.transform(['Class A'])"
   ]
  },
  {
   "cell_type": "code",
   "execution_count": 540,
   "metadata": {},
   "outputs": [],
   "source": []
  }
 ],
 "metadata": {
  "kernelspec": {
   "display_name": "Python 3",
   "language": "python",
   "name": "python3"
  },
  "language_info": {
   "codemirror_mode": {
    "name": "ipython",
    "version": 3
   },
   "file_extension": ".py",
   "mimetype": "text/x-python",
   "name": "python",
   "nbconvert_exporter": "python",
   "pygments_lexer": "ipython3",
   "version": "3.7.6"
  }
 },
 "nbformat": 4,
 "nbformat_minor": 2
}
