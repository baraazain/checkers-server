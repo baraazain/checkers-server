{
 "cells": [
  {
   "cell_type": "code",
   "execution_count": 1,
   "metadata": {},
   "outputs": [],
   "source": [
    "from copy import deepcopy\n",
    "from typing import Optional\n",
    "\n",
    "import random\n",
    "\n",
    "import numpy as np\n",
    "import tensorflow as tf\n",
    "\n",
    "from model.international_game import InternationalGame\n",
    "from ai.agent import AlphaZero\n",
    "from ai.model import NeuralNetwork\n",
    "\n",
    "\n",
    "import ai.utils as ut\n",
    "import ai.config as config\n",
    "import ai.modified_tree_search as mts\n",
    "import model.game as game"
   ]
  },
  {
   "cell_type": "code",
   "execution_count": 2,
   "metadata": {},
   "outputs": [],
   "source": [
    "def get_models():\n",
    "    model = ut.load_best_model()\n",
    "    \n",
    "    current_NN = NeuralNetwork(config.REG_CONST, config.LEARNING_RATE, \n",
    "                                  (10,10,25), len(ut.get_action_space()), config.HIDDEN_CNN_LAYERS)\n",
    "    best_NN = NeuralNetwork(config.REG_CONST, config.LEARNING_RATE, \n",
    "                                  (10,10,25), len(ut.get_action_space()), config.HIDDEN_CNN_LAYERS)\n",
    "    \n",
    "    current_NN.model.set_weights(model.get_weights())\n",
    "    best_NN.model.set_weights(model.get_weights())\n",
    "    \n",
    "    return current_NN, best_NN"
   ]
  },
  {
   "cell_type": "code",
   "execution_count": 3,
   "metadata": {},
   "outputs": [],
   "source": [
    "class RejectedActionError(Exception):\n",
    "    def __init__(self, action, game, tau, agent, other_agent):\n",
    "        self.action = action\n",
    "        self.game = game\n",
    "        self.tau = tau\n",
    "        self.agent = agent\n",
    "        self.other_agent = other_agent\n",
    "\n",
    "class TreeError(Exception):\n",
    "    def __init__(self, action_id, game, tau, agent, other_agent):\n",
    "        self.action_id = action_id\n",
    "        self.game = game\n",
    "        self.tau = tau\n",
    "        self.other_agent = other_agent\n",
    "        self.agent = agent"
   ]
  },
  {
   "cell_type": "code",
   "execution_count": 4,
   "metadata": {},
   "outputs": [],
   "source": [
    "random.seed(101)"
   ]
  },
  {
   "cell_type": "code",
   "execution_count": 5,
   "metadata": {},
   "outputs": [],
   "source": [
    "np.random.seed(101)"
   ]
  },
  {
   "cell_type": "code",
   "execution_count": 6,
   "metadata": {},
   "outputs": [],
   "source": [
    "tf.random.set_seed(101)"
   ]
  },
  {
   "cell_type": "code",
   "execution_count": null,
   "metadata": {},
   "outputs": [],
   "source": []
  },
  {
   "cell_type": "code",
   "execution_count": null,
   "metadata": {},
   "outputs": [],
   "source": []
  },
  {
   "cell_type": "code",
   "execution_count": null,
   "metadata": {},
   "outputs": [],
   "source": []
  },
  {
   "cell_type": "code",
   "execution_count": 7,
   "metadata": {},
   "outputs": [],
   "source": [
    "def play_match(agent: AlphaZero, \n",
    "               model: NeuralNetwork, \n",
    "               other_agent:Optional[AlphaZero]=None, \n",
    "               other_model:Optional[NeuralNetwork]=None, turns_until_tau0=0):\n",
    "    \n",
    "    self_play = True if other_agent is None else False\n",
    "    \n",
    "    current_game = InternationalGame(1, None, None, None)\n",
    "    sample_builder = ut.SampleBuilder()\n",
    "    \n",
    "    current_game.init()\n",
    "    \n",
    "    agent.build_mct(ut.GameState(deepcopy(current_game)), model)\n",
    "    if not self_play:\n",
    "        if other_model is None:\n",
    "            raise ValueError('illegal argument: other_model can\\'t be None when other_model is\\'nt')\n",
    "        other_agent.build_mct(ut.GameState(deepcopy(current_game)), other_model)\n",
    "    \n",
    "    turn = 0\n",
    "    while not current_game.end():\n",
    "        if not self_play:\n",
    "            current_agent = agent if current_game.current_turn == 1 else other_agent\n",
    "        else:\n",
    "            current_agent = agent\n",
    "\n",
    "        tau = 1 if turn < turns_until_tau0 else 0\n",
    "        \n",
    "        try:\n",
    "            action, state_stack, value, pi = current_agent.train_act(tau)\n",
    "        except KeyError as e:\n",
    "            raise TreeError(e.args[0], current_game, tau, agent, other_agent)\n",
    "            \n",
    "        if not current_game.is_legal_action(action):\n",
    "            raise RejectedActionError(action, current_game, tau, agent, other_agent)\n",
    "        \n",
    "        current_game.apply_action(action)\n",
    "        if state_stack.head is None:\n",
    "            raise TreeError(None, current_game, tau, agent, other_agent)\n",
    "        sample_builder.add_move(state_stack, pi)\n",
    "        \n",
    "        current_agent.on_update(action)\n",
    "        \n",
    "        if not self_play:\n",
    "            other_agent.on_update(action)\n",
    "        \n",
    "        turn += 1\n",
    "        \n",
    "        print('*', end='' if turn % 20 != 0 else '\\n')\n",
    "    \n",
    "    print()\n",
    "    \n",
    "    winner = current_game.get_winner()\n",
    "    \n",
    "    if winner == 1:\n",
    "        winner = 'agent'\n",
    "    elif winner == 2:\n",
    "        winner = 'other'\n",
    "    else:\n",
    "        winner = 'draw'\n",
    "            \n",
    "    value = ut.evaluate(current_game)\n",
    "    \n",
    "    sample_builder.commit_sample(value, game.MAXIMIZER)\n",
    "    \n",
    "    return sample_builder, winner"
   ]
  },
  {
   "cell_type": "code",
   "execution_count": null,
   "metadata": {},
   "outputs": [],
   "source": []
  },
  {
   "cell_type": "code",
   "execution_count": 8,
   "metadata": {},
   "outputs": [],
   "source": [
    "def train_batches(minibatch, batch_size):\n",
    "    training_states = np.array([row['state'].get_deep_representation_stack() for row in minibatch])\n",
    "    \n",
    "    training_targets = {'value_head': np.array([row['value'] for row in minibatch]), \n",
    "                        'policy_head': np.array([row['policy'] for row in minibatch])}\n",
    "    \n",
    "    indices = [i for i in range(len(training_states))]\n",
    "    random.shuffle(indices)\n",
    "    for i in range(len(x_train)):\n",
    "        start = indices[i] * batch_size\n",
    "        end = start + batch_size\n",
    "        \n",
    "        yield training_states[start:end], {'value_head':training_targets['value_head'][start:end], \n",
    "                                           'policy_head':training_targets['policy_head'][start:end]}"
   ]
  },
  {
   "cell_type": "code",
   "execution_count": 9,
   "metadata": {},
   "outputs": [],
   "source": [
    "def fit(model, samples):\n",
    "    overall_loss = []\n",
    "    value_loss = []\n",
    "    policy_loss = []\n",
    "    for i in range(config.TRAINING_LOOPS):\n",
    "        minibatch = random.sample(samples, min(config.BATCH_SIZE, len(samples)))\n",
    "        for x_train, y_train in train_batches(minibatch, 32):\n",
    "            res = model.train_on_batch(x=x_train, y=y_train, return_dict=True)\n",
    "            overall_loss.append(res['loss'])\n",
    "            value_loss.append(res['value_head_loss'])\n",
    "            policy_loss.append(res['policy_head_loss'])\n",
    "    return overall_loss, value_loss, policy_loss"
   ]
  },
  {
   "cell_type": "code",
   "execution_count": 10,
   "metadata": {},
   "outputs": [],
   "source": [
    "def train_manger(best_version):\n",
    "    iteration = 0\n",
    "    while True:\n",
    "        current_NN, best_NN = get_models()\n",
    "\n",
    "        current_agent = AlphaZero(config.MCTS_SIMS)\n",
    "        best_agent = AlphaZero(config.MCTS_SIMS)\n",
    "\n",
    "        dataset = ut.SampleBuilder()\n",
    "\n",
    "        for i in range(config.EPISODES):\n",
    "            print(f'Episode {i} started')\n",
    "            start_time = time.monotonic()\n",
    "            sb, _ = play_match(current_agent, current_NN, turns_until_tau0=config.TURNS_UNTIL_TAU0)\n",
    "            dataset.samples.extend(sb.samples)\n",
    "            print(f'Episode {i} ended in {(time.monotonic() - start_time)/60} minutes')\n",
    "        \n",
    "        size = len(dataset.samples)\n",
    "        if iteration % 2:\n",
    "            dataset.save(iteration)\n",
    "            print(f'Gathered {size} sample')\n",
    "        \n",
    "        \n",
    "        if size >= config.DATA_LEN:\n",
    "            \n",
    "            overall_loss, value_loss, policy_loss = fit(current_agent.model, dataset.samples)\n",
    "\n",
    "            score = {'agent': 0, 'draw': 0, 'other': 0}\n",
    "\n",
    "            for _ in range(config.EVAL_EPISODES):\n",
    "                print(f'Evaluation episode {i} started')\n",
    "                start_time = time.monotonic()\n",
    "                _, winner = play_match(current_agent, current_NN, best_agent, best_NN)\n",
    "                score[winner] += 1\n",
    "                print(f'Evaluation episode {i} ended in {(time.monotonic() - start_time)/60} minutes')\n",
    "\n",
    "            ratio = score['agent'] * 100 // config.EVAL_EPISODES\n",
    "            \n",
    "            print(f'current version win ration: {ratio}')\n",
    "\n",
    "            if ratio >= config.SCORING_THRESHOLD:\n",
    "                best_NN.model.set_weights(current_NN.model.get_weights())\n",
    "                best_version = best_version + 1\n",
    "                best_NN.save('best alphazero', best_version)\n",
    "                print('Saving a new version')\n",
    "            else:\n",
    "                current_NN.save('alphazero' + str(best_version), iteration)\n",
    "                print('Saving version progress')\n",
    "        \n",
    "        iteration += 1"
   ]
  },
  {
   "cell_type": "code",
   "execution_count": 11,
   "metadata": {},
   "outputs": [],
   "source": [
    "tree_error = None\n",
    "reject_error = None"
   ]
  },
  {
   "cell_type": "code",
   "execution_count": 12,
   "metadata": {
    "scrolled": true
   },
   "outputs": [
    {
     "name": "stdout",
     "output_type": "stream",
     "text": [
      "loading version 1\n",
      "Episode 0 started\n",
      "********************\n",
      "********************\n",
      "********************\n",
      "********************\n",
      "********************\n",
      "*****************\n",
      "Episode 0 ended in 453.8119999999999\n",
      "Episode 1 started\n",
      "********************\n",
      "********************\n",
      "********************\n",
      "********************\n",
      "***********\n",
      "Episode 1 ended in 355.32800000000134\n",
      "Episode 2 started\n",
      "********************\n",
      "********************\n",
      "**************rejected\n",
      "slept for 1049.0470000000023\n"
     ]
    }
   ],
   "source": [
    "import time\n",
    "start_time = time.monotonic()\n",
    "try:\n",
    "    train_manger(1)\n",
    "except RejectedActionError as reject_e:\n",
    "    print('rejected')\n",
    "    reject_error = reject_e\n",
    "except TreeError as tree_e:\n",
    "    print('search error')\n",
    "    tree_error = tree_e\n",
    "print(f'slept for {time.monotonic() - start_time}')"
   ]
  },
  {
   "cell_type": "code",
   "execution_count": 13,
   "metadata": {},
   "outputs": [
    {
     "name": "stdout",
     "output_type": "stream",
     "text": [
      "     1  2  3  4  5  6  7  8  9  10\n",
      " 1|  .  .  .  .  .  B  .  B  .  B \n",
      " 2|  .  .  B  .  .  .  B  .  B  . \n",
      " 3|  .  B  .  .  .  B  .  .  .  W \n",
      " 4|  .  .  B  .  B  .  .  .  .  . \n",
      " 5|  .  .  .  B  .  .  .  W  .  . \n",
      " 6|  .  .  W  .  .  .  .  .  .  . \n",
      " 7|  .  .  .  .  .  .  .  .  .  . \n",
      " 8|  .  .  B  .  .  .  W  .  .  . \n",
      " 9|  .  .  .  .  .  W  .  W  .  W \n",
      "10|  .  .  W  .  .  .  W  .  W  . \n",
      "\n",
      "---------------------------\n"
     ]
    }
   ],
   "source": [
    "print(reject_error.game.grid)\n",
    "print('---------------------------')"
   ]
  },
  {
   "cell_type": "code",
   "execution_count": 20,
   "metadata": {},
   "outputs": [
    {
     "name": "stdout",
     "output_type": "stream",
     "text": [
      "(7,4)------->>>(9,2)\n"
     ]
    }
   ],
   "source": [
    "print(reject_error.action)"
   ]
  },
  {
   "cell_type": "code",
   "execution_count": 19,
   "metadata": {},
   "outputs": [
    {
     "name": "stdout",
     "output_type": "stream",
     "text": [
      "(6,3)------->>>(5,2)\n",
      "(8,7)------->>>(7,6)\n",
      "(8,7)------->>>(7,8)\n",
      "(5,8)------->>>(4,7)\n",
      "(5,8)------->>>(4,9)\n",
      "(9,6)------->>>(8,5)\n",
      "(9,8)------->>>(8,9)\n",
      "(9,10)------->>>(8,9)\n",
      "(10,3)------->>>(9,2)\n",
      "(10,3)------->>>(9,4)\n"
     ]
    }
   ],
   "source": [
    "actions = reject_error.game.get_all_possible_actions()\n",
    "for action in actions:\n",
    "    print(action)"
   ]
  },
  {
   "cell_type": "code",
   "execution_count": 18,
   "metadata": {
    "scrolled": true
   },
   "outputs": [
    {
     "name": "stdout",
     "output_type": "stream",
     "text": [
      "1\n"
     ]
    }
   ],
   "source": [
    "print(reject_error.game.current_turn)"
   ]
  },
  {
   "cell_type": "code",
   "execution_count": 17,
   "metadata": {},
   "outputs": [
    {
     "name": "stdout",
     "output_type": "stream",
     "text": [
      "0\n"
     ]
    }
   ],
   "source": [
    "print(reject_error.tau)"
   ]
  },
  {
   "cell_type": "code",
   "execution_count": 22,
   "metadata": {
    "scrolled": true
   },
   "outputs": [
    {
     "name": "stdout",
     "output_type": "stream",
     "text": [
      "     1  2  3  4  5  6  7  8  9  10\n",
      " 1|  .  .  .  .  .  B  .  B  .  B \n",
      " 2|  .  .  B  .  .  .  B  .  B  . \n",
      " 3|  .  B  .  .  .  B  .  .  .  W \n",
      " 4|  .  .  B  .  B  .  .  .  .  . \n",
      " 5|  .  .  .  B  .  .  .  W  .  . \n",
      " 6|  .  .  W  .  .  .  .  .  .  . \n",
      " 7|  .  .  .  W  .  .  .  .  .  . \n",
      " 8|  .  .  B  .  .  .  W  .  .  . \n",
      " 9|  .  .  .  .  .  W  .  W  .  W \n",
      "10|  .  .  W  .  .  .  W  .  W  . \n",
      "\n",
      "---------------------------\n",
      "     1  2  3  4  5  6  7  8  9  10\n",
      " 1|  .  .  .  .  .  B  .  B  .  B \n",
      " 2|  .  .  B  .  .  .  B  .  B  . \n",
      " 3|  .  B  .  .  .  B  .  .  .  W \n",
      " 4|  .  .  B  .  B  .  .  .  .  . \n",
      " 5|  .  .  .  B  .  .  .  W  .  . \n",
      " 6|  .  .  W  .  .  .  .  .  .  . \n",
      " 7|  .  .  .  .  .  .  .  .  .  . \n",
      " 8|  .  .  B  .  .  .  W  .  .  . \n",
      " 9|  .  .  .  .  .  W  .  W  .  W \n",
      "10|  .  .  W  .  .  .  W  .  W  . \n",
      "\n"
     ]
    }
   ],
   "source": [
    "print(reject_error.agent.mct.root.game_state.get_game().grid)\n",
    "print('---------------------------')\n",
    "print(reject_error.game.grid)"
   ]
  },
  {
   "cell_type": "code",
   "execution_count": 21,
   "metadata": {
    "scrolled": true
   },
   "outputs": [
    {
     "name": "stdout",
     "output_type": "stream",
     "text": [
      "1\n",
      "(7,4)------->>>(9,2)\n"
     ]
    }
   ],
   "source": [
    "print(reject_error.agent.mct.root.game_state.turn)\n",
    "actions = reject_error.agent.mct.root.game_state.get_game().get_all_possible_actions()\n",
    "for action in actions:\n",
    "    print(action)"
   ]
  },
  {
   "cell_type": "code",
   "execution_count": 24,
   "metadata": {},
   "outputs": [
    {
     "data": {
      "text/plain": [
       "'KING'"
      ]
     },
     "execution_count": 24,
     "metadata": {},
     "output_type": "execute_result"
    }
   ],
   "source": [
    "reject_error.agent.mct.root.game_state.get_game().grid[5][4].piece.type"
   ]
  },
  {
   "cell_type": "code",
   "execution_count": 25,
   "metadata": {},
   "outputs": [
    {
     "data": {
      "text/plain": [
       "'PAWN'"
      ]
     },
     "execution_count": 25,
     "metadata": {},
     "output_type": "execute_result"
    }
   ],
   "source": [
    "reject_error.game.grid[5][4].piece.type"
   ]
  },
  {
   "cell_type": "code",
   "execution_count": 63,
   "metadata": {},
   "outputs": [],
   "source": [
    "copygame = deepcopy(reject_error.game)"
   ]
  },
  {
   "cell_type": "code",
   "execution_count": 64,
   "metadata": {},
   "outputs": [
    {
     "name": "stdout",
     "output_type": "stream",
     "text": [
      "     1  2  3  4  5  6  7  8  9  10\n",
      " 1|  .  .  .  .  .  B  .  B  .  B \n",
      " 2|  .  .  B  .  .  .  B  .  B  . \n",
      " 3|  .  B  .  .  .  B  .  .  .  W \n",
      " 4|  .  .  B  .  B  .  .  .  .  . \n",
      " 5|  .  .  .  B  .  .  .  W  .  . \n",
      " 6|  .  .  W  .  .  .  .  .  .  . \n",
      " 7|  .  .  .  .  .  .  .  .  .  . \n",
      " 8|  .  .  B  .  .  .  W  .  .  . \n",
      " 9|  .  .  .  .  .  W  .  W  .  W \n",
      "10|  .  .  W  .  .  .  W  .  W  . \n",
      "\n",
      "     1  2  3  4  5  6  7  8  9  10\n",
      " 1|  .  .  .  B  .  B  .  B  .  B \n",
      " 2|  B  .  .  .  B  .  B  .  B  . \n",
      " 3|  .  .  .  B  .  B  .  .  .  W \n",
      " 4|  .  .  .  .  B  .  .  .  .  . \n",
      " 5|  .  .  .  .  .  .  .  .  .  B \n",
      " 6|  .  .  .  .  .  .  .  .  .  . \n",
      " 7|  .  .  .  W  .  .  .  .  .  . \n",
      " 8|  W  .  B  .  .  .  W  .  W  . \n",
      " 9|  .  W  .  W  .  W  .  W  .  W \n",
      "10|  .  .  W  .  W  .  W  .  W  . \n",
      "\n"
     ]
    }
   ],
   "source": [
    "print(copygame.grid)\n",
    "piece = copygame.grid[7][2].piece\n",
    "actions_stack = []\n",
    "for action in reversed(copygame.actions):\n",
    "    actions_stack.append(action)\n",
    "    copygame.undo()\n",
    "    if piece.type != 'KING':\n",
    "        print(copygame.grid)\n",
    "        break"
   ]
  },
  {
   "cell_type": "code",
   "execution_count": 88,
   "metadata": {
    "scrolled": true
   },
   "outputs": [
    {
     "name": "stdout",
     "output_type": "stream",
     "text": [
      "0\n"
     ]
    }
   ],
   "source": [
    "print(len(actions_stack))"
   ]
  },
  {
   "cell_type": "code",
   "execution_count": 51,
   "metadata": {},
   "outputs": [
    {
     "name": "stdout",
     "output_type": "stream",
     "text": [
      "     1  2  3  4  5  6  7  8  9  10\n",
      " 1|  .  .  .  B  .  B  .  B  .  B \n",
      " 2|  .  .  .  .  B  .  B  .  B  . \n",
      " 3|  .  B  .  .  .  B  .  B  .  W \n",
      " 4|  .  .  B  .  B  .  .  .  .  . \n",
      " 5|  .  .  .  .  .  .  .  .  .  B \n",
      " 6|  .  .  W  .  .  .  .  .  .  . \n",
      " 7|  .  .  .  .  .  .  .  .  .  . \n",
      " 8|  .  .  .  .  .  .  W  .  W  . \n",
      " 9|  .  .  .  W  .  W  .  W  .  W \n",
      "10|  .  .  W  .  W  .  W  .  W  . \n",
      "\n"
     ]
    }
   ],
   "source": [
    "copygame.undo()\n",
    "print(copygame.grid)"
   ]
  },
  {
   "cell_type": "code",
   "execution_count": 87,
   "metadata": {},
   "outputs": [
    {
     "name": "stdout",
     "output_type": "stream",
     "text": [
      "     1  2  3  4  5  6  7  8  9  10\n",
      " 1|  .  .  .  .  .  B  .  B  .  B \n",
      " 2|  .  .  B  .  .  .  B  .  B  . \n",
      " 3|  .  B  .  .  .  B  .  B  .  W \n",
      " 4|  .  .  B  .  B  .  .  .  .  . \n",
      " 5|  .  .  .  B  .  .  .  W  .  . \n",
      " 6|  .  .  W  .  .  .  .  .  .  . \n",
      " 7|  .  .  .  W  .  .  .  .  .  . \n",
      " 8|  .  .  .  .  .  .  W  .  .  . \n",
      " 9|  .  .  .  .  .  W  .  W  .  W \n",
      "10|  .  .  W  .  .  .  W  .  W  . \n",
      "\n",
      "(3,8)------->>>(8,3)\n",
      "     1  2  3  4  5  6  7  8  9  10\n",
      " 1|  .  .  .  .  .  B  .  B  .  B \n",
      " 2|  .  .  B  .  .  .  B  .  B  . \n",
      " 3|  .  B  .  .  .  B  .  .  .  W \n",
      " 4|  .  .  B  .  B  .  .  .  .  . \n",
      " 5|  .  .  .  B  .  .  .  W  .  . \n",
      " 6|  .  .  W  .  .  .  .  .  .  . \n",
      " 7|  .  .  .  .  .  .  .  .  .  . \n",
      " 8|  .  .  B  .  .  .  W  .  .  . \n",
      " 9|  .  .  .  .  .  W  .  W  .  W \n",
      "10|  .  .  W  .  .  .  W  .  W  . \n",
      "\n"
     ]
    }
   ],
   "source": [
    "print(copygame.grid)\n",
    "action = actions_stack.pop()\n",
    "print(action)\n",
    "copygame.apply_action(action)\n",
    "print(copygame.grid)"
   ]
  },
  {
   "cell_type": "code",
   "execution_count": 25,
   "metadata": {},
   "outputs": [
    {
     "name": "stdout",
     "output_type": "stream",
     "text": [
      "     1  2  3  4  5  6  7  8  9  10\n",
      " 1|  .  .  .  .  .  B  .  B  .  B \n",
      " 2|  .  .  B  .  .  .  B  .  B  . \n",
      " 3|  .  B  .  .  .  B  .  B  .  W \n",
      " 4|  .  .  B  .  B  .  .  .  .  . \n",
      " 5|  .  .  .  B  .  .  .  W  .  . \n",
      " 6|  .  .  W  .  .  .  .  .  .  . \n",
      " 7|  .  .  .  W  .  .  .  .  .  . \n",
      " 8|  .  .  .  .  .  .  W  .  .  . \n",
      " 9|  .  .  .  .  .  W  .  W  .  W \n",
      "10|  .  .  W  .  .  .  W  .  W  . \n",
      "\n",
      "     1  2  3  4  5  6  7  8  9  10\n",
      " 1|  .  .  .  .  .  B  .  B  .  B \n",
      " 2|  .  .  B  .  .  .  B  .  B  . \n",
      " 3|  .  B  .  .  .  B  .  .  .  W \n",
      " 4|  .  .  B  .  B  .  .  .  .  . \n",
      " 5|  .  .  .  B  .  .  .  W  .  . \n",
      " 6|  .  .  W  .  .  .  .  .  .  . \n",
      " 7|  .  .  .  .  .  .  .  .  .  . \n",
      " 8|  .  .  B  .  .  .  W  .  .  . \n",
      " 9|  .  .  .  .  .  W  .  W  .  W \n",
      "10|  .  .  W  .  .  .  W  .  W  . \n",
      "\n"
     ]
    }
   ],
   "source": [
    "print(copygame.grid)\n",
    "print(reject_error.game.grid)"
   ]
  },
  {
   "cell_type": "code",
   "execution_count": 89,
   "metadata": {},
   "outputs": [
    {
     "name": "stdout",
     "output_type": "stream",
     "text": [
      "     1  2  3  4  5  6  7  8  9  10\n",
      " 1|  .  .  .  .  .  B  .  B  .  B \n",
      " 2|  .  .  B  .  .  .  B  .  B  . \n",
      " 3|  .  B  .  .  .  B  .  .  .  W \n",
      " 4|  .  .  B  .  B  .  .  .  .  . \n",
      " 5|  .  .  .  B  .  .  .  W  .  . \n",
      " 6|  .  .  W  .  .  .  .  .  .  . \n",
      " 7|  .  .  .  W  .  .  .  .  .  . \n",
      " 8|  .  .  B  .  .  .  W  .  .  . \n",
      " 9|  .  .  .  .  .  W  .  W  .  W \n",
      "10|  .  .  W  .  .  .  W  .  W  . \n",
      "\n"
     ]
    }
   ],
   "source": [
    "root_game = reject_error.agent.mct.root.game_state.get_game()\n",
    "print(root_game.grid)"
   ]
  },
  {
   "cell_type": "code",
   "execution_count": 92,
   "metadata": {},
   "outputs": [
    {
     "name": "stdout",
     "output_type": "stream",
     "text": [
      "     1  2  3  4  5  6  7  8  9  10\n",
      " 1|  .  .  .  .  .  B  .  B  .  B \n",
      " 2|  .  .  B  .  .  .  B  .  B  . \n",
      " 3|  .  B  .  .  .  B  .  B  .  W \n",
      " 4|  .  .  B  .  B  .  .  .  .  . \n",
      " 5|  .  .  .  B  .  .  .  W  .  . \n",
      " 6|  .  .  W  .  .  .  .  .  .  . \n",
      " 7|  .  .  .  W  .  .  .  .  .  . \n",
      " 8|  .  .  .  .  .  .  W  .  .  . \n",
      " 9|  .  .  .  .  .  W  .  W  .  W \n",
      "10|  .  .  W  .  .  .  W  .  W  . \n",
      "\n"
     ]
    }
   ],
   "source": [
    "print(reject_error.agent.mct.state_stack.dq[4].get_game().grid)"
   ]
  },
  {
   "cell_type": "code",
   "execution_count": 120,
   "metadata": {},
   "outputs": [
    {
     "name": "stdout",
     "output_type": "stream",
     "text": [
      "     1  2  3  4  5  6  7  8  9  10\n",
      " 1|  .  .  .  .  .  B  .  B  .  B \n",
      " 2|  .  .  B  .  .  .  B  .  B  . \n",
      " 3|  .  B  .  .  .  B  .  B  .  W \n",
      " 4|  .  .  B  .  B  .  .  .  .  . \n",
      " 5|  .  .  .  B  .  .  .  W  .  . \n",
      " 6|  .  .  W  .  .  .  .  .  .  . \n",
      " 7|  .  .  .  W  .  .  .  .  .  . \n",
      " 8|  .  .  .  .  .  .  W  .  .  . \n",
      " 9|  .  .  .  .  .  W  .  W  .  W \n",
      "10|  .  .  W  .  .  .  W  .  W  . \n",
      "\n",
      "--------------------------------\n",
      "(5,4)------->>>(7,2)\n",
      "     1  2  3  4  5  6  7  8  9  10\n",
      " 1|  .  .  .  .  .  B  .  B  .  B \n",
      " 2|  .  .  B  .  .  .  B  .  B  . \n",
      " 3|  .  B  .  .  .  B  .  B  .  W \n",
      " 4|  .  .  B  .  B  .  .  .  .  . \n",
      " 5|  .  .  .  .  .  .  .  W  .  . \n",
      " 6|  .  .  .  .  .  .  .  .  .  . \n",
      " 7|  .  B  .  W  .  .  .  .  .  . \n",
      " 8|  .  .  .  .  .  .  W  .  .  . \n",
      " 9|  .  .  .  .  .  W  .  W  .  W \n",
      "10|  .  .  W  .  .  .  W  .  W  . \n",
      "\n",
      "(3,8)------->>>(8,3)\n",
      "     1  2  3  4  5  6  7  8  9  10\n",
      " 1|  .  .  .  .  .  B  .  B  .  B \n",
      " 2|  .  .  B  .  .  .  B  .  B  . \n",
      " 3|  .  B  .  .  .  B  .  .  .  W \n",
      " 4|  .  .  B  .  B  .  .  .  .  . \n",
      " 5|  .  .  .  B  .  .  .  W  .  . \n",
      " 6|  .  .  W  .  .  .  .  .  .  . \n",
      " 7|  .  .  .  W  .  .  .  .  .  . \n",
      " 8|  .  .  B  .  .  .  W  .  .  . \n",
      " 9|  .  .  .  .  .  W  .  W  .  W \n",
      "10|  .  .  W  .  .  .  W  .  W  . \n",
      "\n"
     ]
    }
   ],
   "source": [
    "parent_game_state = reject_error.agent.mct.state_stack.dq[4]\n",
    "print(parent_game_state.get_game().grid)\n",
    "print('--------------------------------')\n",
    "parent_actions, parent_states = parent_game_state.get_all_possible_states()\n",
    "for action, state in zip(parent_actions, parent_states):\n",
    "    print(action)\n",
    "    print(state.get_game().grid)"
   ]
  },
  {
   "cell_type": "code",
   "execution_count": 106,
   "metadata": {},
   "outputs": [
    {
     "name": "stdout",
     "output_type": "stream",
     "text": [
      "(3,8)------->>>(8,3)\n"
     ]
    }
   ],
   "source": [
    "buged_action = parent_actions[1]\n",
    "print(buged_action)"
   ]
  },
  {
   "cell_type": "code",
   "execution_count": 116,
   "metadata": {},
   "outputs": [
    {
     "name": "stdout",
     "output_type": "stream",
     "text": [
      "(2,7,BLACK KING)\n"
     ]
    }
   ],
   "source": [
    "buged_game = parent_game_state.get_game()\n",
    "print(buged_game.grid[2][7].piece)"
   ]
  },
  {
   "cell_type": "code",
   "execution_count": 118,
   "metadata": {},
   "outputs": [],
   "source": [
    "import pickle\n",
    "pickle.dump(buged_game, open('firstbug_game.pk', 'wb'))"
   ]
  },
  {
   "cell_type": "code",
   "execution_count": 122,
   "metadata": {},
   "outputs": [],
   "source": [
    "pickle.dump(reject_error.game, open('secondbug_game.pk', 'wb'))"
   ]
  },
  {
   "cell_type": "code",
   "execution_count": null,
   "metadata": {},
   "outputs": [],
   "source": [
    "import matplotlib.pyplot as plt\n",
    "%matplotlib inline"
   ]
  },
  {
   "cell_type": "code",
   "execution_count": null,
   "metadata": {},
   "outputs": [],
   "source": []
  },
  {
   "cell_type": "code",
   "execution_count": null,
   "metadata": {},
   "outputs": [],
   "source": [
    "import time\n",
    "import random\n",
    "\n",
    "from IPython.display import display\n",
    "from plotly.offline import download_plotlyjs, init_notebook_mode, plot, iplot\n",
    "\n",
    "import cufflinks as cf\n",
    "import plotly.graph_objects as go"
   ]
  },
  {
   "cell_type": "code",
   "execution_count": null,
   "metadata": {},
   "outputs": [],
   "source": [
    "init_notebook_mode(connected=True)\n",
    "cf.go_offline()\n",
    "np.random.seed(5)"
   ]
  },
  {
   "cell_type": "code",
   "execution_count": null,
   "metadata": {},
   "outputs": [],
   "source": [
    "await task"
   ]
  },
  {
   "cell_type": "code",
   "execution_count": null,
   "metadata": {},
   "outputs": [],
   "source": [
    "print(len(mct.root.edges))"
   ]
  },
  {
   "cell_type": "code",
   "execution_count": null,
   "metadata": {},
   "outputs": [],
   "source": []
  },
  {
   "cell_type": "code",
   "execution_count": null,
   "metadata": {},
   "outputs": [],
   "source": [
    "currentAgent = AlphaZero(config.MCTS_SIMS)\n"
   ]
  },
  {
   "cell_type": "code",
   "execution_count": null,
   "metadata": {},
   "outputs": [],
   "source": [
    "currentAgent.build_mct(ut.GameState(current_game), current_model)"
   ]
  },
  {
   "cell_type": "code",
   "execution_count": null,
   "metadata": {},
   "outputs": [],
   "source": []
  },
  {
   "cell_type": "code",
   "execution_count": null,
   "metadata": {},
   "outputs": [],
   "source": [
    "import tensorflow as tf\n",
    "tf.__version__"
   ]
  },
  {
   "cell_type": "code",
   "execution_count": null,
   "metadata": {},
   "outputs": [],
   "source": [
    "\n",
    "\n",
    "class PlayGround:\n",
    "    def __init__(self):\n",
    "        self.action_space_shape = len(get_action_space(10, 10))\n",
    "        self.current_model = NeuralNetwork(config.REG_CONST, config.LEARNING_RATE, \n",
    "                                      (10,10,25),   self.action_space_shape, config.HIDDEN_CNN_LAYERS)\n",
    "\n",
    "        #self.best_model = NeuralNetwork(config.REG_CONST, config.LEARNING_RATE, \n",
    "                                   #(10,10,25),   self.action_space_shape, config.HIDDEN_CNN_LAYERS)\n",
    "        \n",
    "        self.best_model.model.set_weights(self.current_model.model.get_weights())\n",
    "        self.exp = []\n",
    "        self.turn = []\n",
    "        \n",
    "        self.fig = go.FigureWidget()\n",
    "        self.fig.update_layout(xaxis_title=\"Turn\", yaxis_title='Expected value')\n",
    "        #self.fig.add_scatter(fill='tozeroy')\n",
    "        self.fig.add_scatter()\n",
    "\n",
    "    def plot_figure(self):\n",
    "        display(self.fig)\n",
    "        \n",
    "    def update_plot(self):\n",
    "        with self.fig.batch_update():\n",
    "            self.fig.data[0].x = self.turn\n",
    "            self.fig.data[0].y = self.exp    "
   ]
  },
  {
   "cell_type": "code",
   "execution_count": null,
   "metadata": {},
   "outputs": [],
   "source": []
  },
  {
   "cell_type": "code",
   "execution_count": null,
   "metadata": {},
   "outputs": [],
   "source": []
  },
  {
   "cell_type": "code",
   "execution_count": null,
   "metadata": {},
   "outputs": [],
   "source": []
  },
  {
   "cell_type": "code",
   "execution_count": null,
   "metadata": {},
   "outputs": [],
   "source": []
  },
  {
   "cell_type": "code",
   "execution_count": null,
   "metadata": {},
   "outputs": [],
   "source": []
  },
  {
   "cell_type": "code",
   "execution_count": null,
   "metadata": {},
   "outputs": [],
   "source": [
    "#calc_new_rate(1613, [1609, 1477, 1388, 1586, 1720], [2, 0, 1, 1, 2])\n",
    "#1601"
   ]
  },
  {
   "cell_type": "code",
   "execution_count": null,
   "metadata": {},
   "outputs": [],
   "source": [
    "import numpy as np\n",
    "import random\n"
   ]
  },
  {
   "cell_type": "code",
   "execution_count": null,
   "metadata": {},
   "outputs": [],
   "source": []
  },
  {
   "cell_type": "code",
   "execution_count": null,
   "metadata": {},
   "outputs": [],
   "source": [
    "import ai.figures as figs"
   ]
  },
  {
   "cell_type": "code",
   "execution_count": null,
   "metadata": {},
   "outputs": [],
   "source": [
    "from plotly.offline import init_notebook_mode, iplot\n",
    "import plotly.graph_objects as go\n",
    "import cufflinks as cf\n",
    "import ai.figures as figs\n",
    "init_notebook_mode()\n",
    "cf.go_offline()"
   ]
  },
  {
   "cell_type": "code",
   "execution_count": null,
   "metadata": {},
   "outputs": [],
   "source": [
    "import pandas as pd\n",
    "df = pd.read_csv('data/users v3.csv')\n",
    "df.index.name = 'player_id'"
   ]
  },
  {
   "cell_type": "code",
   "execution_count": null,
   "metadata": {},
   "outputs": [],
   "source": [
    "iplot(figs.registration_intensity_histogram(df))"
   ]
  },
  {
   "cell_type": "code",
   "execution_count": null,
   "metadata": {},
   "outputs": [],
   "source": [
    "iplot(figs.categories_bars(df))\n",
    "iplot(figs.categories_ratio_pie(df))"
   ]
  },
  {
   "cell_type": "code",
   "execution_count": null,
   "metadata": {},
   "outputs": [],
   "source": []
  },
  {
   "cell_type": "code",
   "execution_count": null,
   "metadata": {},
   "outputs": [],
   "source": []
  },
  {
   "cell_type": "code",
   "execution_count": null,
   "metadata": {},
   "outputs": [],
   "source": [
    "df.head()"
   ]
  },
  {
   "cell_type": "code",
   "execution_count": null,
   "metadata": {},
   "outputs": [],
   "source": [
    "df['signup_date'] = pd.to_datetime(df['signup_date'])\n",
    "df['year'] = df['signup_date'].apply(lambda t: t.year)\n",
    "df['month'] = df['signup_date'].apply(lambda t: t.month)\n",
    "df['day'] = df['signup_date'].apply(lambda t: t.day)\n",
    "df.head()"
   ]
  },
  {
   "cell_type": "code",
   "execution_count": null,
   "metadata": {},
   "outputs": [],
   "source": []
  },
  {
   "cell_type": "code",
   "execution_count": null,
   "metadata": {},
   "outputs": [],
   "source": []
  },
  {
   "cell_type": "code",
   "execution_count": null,
   "metadata": {},
   "outputs": [],
   "source": [
    "bymonth = df.groupby('month').count()\n",
    "\n",
    "trace1 = go.Scatter(x = bymonth.index,y=bymonth.rate,\n",
    "                          marker = dict(color = 'rgba(31, 119, 180, 0.8)',\n",
    "                                        line=dict(color='rgb(0,0,0)',\n",
    "                                                  width=1.5)))\n",
    "layout = dict(barmode = 'group',title = 'Registration Intensity',\n",
    "                 xaxis= dict(title= 'Month',ticklen= 5,zeroline= False, ticks=\"inside\"), \n",
    "                 yaxis = dict(title = 'Users', ticklen = 5, zeroline = False, ticks=\"outside\"))\n",
    "data = [trace1]\n",
    "\n",
    "fig = {'data': data, 'layout': layout}\n",
    "    \n",
    "iplot(fig)"
   ]
  },
  {
   "cell_type": "code",
   "execution_count": null,
   "metadata": {},
   "outputs": [],
   "source": []
  },
  {
   "cell_type": "code",
   "execution_count": null,
   "metadata": {},
   "outputs": [],
   "source": []
  },
  {
   "cell_type": "code",
   "execution_count": null,
   "metadata": {},
   "outputs": [],
   "source": []
  },
  {
   "cell_type": "code",
   "execution_count": null,
   "metadata": {},
   "outputs": [],
   "source": []
  },
  {
   "cell_type": "code",
   "execution_count": null,
   "metadata": {},
   "outputs": [],
   "source": []
  },
  {
   "cell_type": "code",
   "execution_count": null,
   "metadata": {},
   "outputs": [],
   "source": []
  }
 ],
 "metadata": {
  "kernelspec": {
   "display_name": "Python 3",
   "language": "python",
   "name": "python3"
  },
  "language_info": {
   "codemirror_mode": {
    "name": "ipython",
    "version": 3
   },
   "file_extension": ".py",
   "mimetype": "text/x-python",
   "name": "python",
   "nbconvert_exporter": "python",
   "pygments_lexer": "ipython3",
   "version": "3.7.6"
  }
 },
 "nbformat": 4,
 "nbformat_minor": 2
}
