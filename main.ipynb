{
 "cells": [
  {
   "cell_type": "code",
   "execution_count": 1,
   "metadata": {},
   "outputs": [],
   "source": [
    "from model.game import GameState, Action\n",
    "from ai.MCTreeSearch import MCTreeSearch, Node, Edge\n",
    "from ai.utils import ActionEncoder, StateStack, mirror_action, to_label, SampleBuilder, get_action_space\n",
    "from ai.agent import AlphaZero\n",
    "from copy import deepcopy\n",
    "import numpy as np\n",
    "import ai.config as config\n"
   ]
  },
  {
   "cell_type": "code",
   "execution_count": 2,
   "metadata": {},
   "outputs": [],
   "source": [
    "class RejectedAction(Exception):\n",
    "    pass"
   ]
  },
  {
   "cell_type": "code",
   "execution_count": 3,
   "metadata": {},
   "outputs": [],
   "source": [
    "def apply_and_update(game: GameState, playing_agent: AlphaZero, other_agent: AlphaZero, action: Action, action_id: int):\n",
    "    if not game.is_legal_action(action):\n",
    "        raise RejectedAction(\"your fucked bro!\")\n",
    "    game.apply_action(action)\n",
    "    playing_agent.update_root(action_id)\n",
    "    if other_agent is not None:\n",
    "        other_agent.update_root(action_id)\n",
    "\n",
    "\n",
    "def build_trees(game: GameState, agent: AlphaZero):\n",
    "    agent.build_mcts(StateStack(deepcopy(game)))\n",
    "    \n",
    "def play_best(current_model, best_model, goes_first=True):\n",
    "    current_Agent = AlphaZero(config.MCTS_SIMS, config.CPUCT, current_model, pov=0, name=\"Current AlphaZero\")\n",
    "    best_Agent = AlphaZero(config.MCTS_SIMS, config.CPUCT, best_model, pov=1, name=\"Best AlphaZero\")\n",
    "    if goes_first:\n",
    "        players = [current_Agent, best_Agent]\n",
    "    else:\n",
    "        players = [best_Agent, current_Agent]\n",
    "        best_Agent.pov, current_Agent.pov = (0, 1)\n",
    "    \n",
    "    game = GameState(None, None)\n",
    "    for ep in range(config.EPISODES):\n",
    "        game.init()\n",
    "        build_trees(game, best_Agent)\n",
    "        build_trees(game, current_Agent)\n",
    "        \n",
    "        turn = 1\n",
    "        \n",
    "        while not game.is_terminal():\n",
    "            player: AlphaZero = players[game.get_player_turn()]\n",
    "            tau = 1 if turn < config.TURNS_UNTIL_TAU0 else 0\n",
    "            action, action_id, state_stack, value, pi = player.train_act(tau)\n",
    "            apply_and_update(game, current_Agent, best_Agent, action, action_id)\n",
    "            turn += 1\n",
    "            print('*', end='')\n",
    "        \n",
    "    \n",
    "    #return sample_builder\n",
    "\n",
    "def self_play(current_model):\n",
    "    current_Agent = AlphaZero(config.MCTS_SIMS, config.CPUCT, current_model, pov=0, name=\"Current AlphaZero\")\n",
    "    game = GameState(None, None)\n",
    "    sample_builder = SampleBuilder()\n",
    "    \n",
    "    for ep in range(config.EPISODES):\n",
    "        game.init()\n",
    "        build_trees(game, current_Agent)\n",
    "        \n",
    "        turn = 1\n",
    "        player: AlphaZero = current_Agent\n",
    "    \n",
    "        while not game.is_terminal():\n",
    "            player.pov = game.get_player_turn()\n",
    "            tau = 1 if turn < config.TURNS_UNTIL_TAU0 else 0\n",
    "            action, action_id, state_stack, value, pi = player.train_act(tau)\n",
    "            apply_and_update(game, current_Agent, None, action, action_id)\n",
    "            sample_builder.commit_move(state_stack, pi)\n",
    "            turn += 1\n",
    "            print('*', end='')\n",
    "            \n",
    "        value = game.get_value()\n",
    "        sample_builder.commit_sample(value, 0)\n",
    "    \n",
    "    return sample_builder\n",
    "    "
   ]
  },
  {
   "cell_type": "code",
   "execution_count": 4,
   "metadata": {},
   "outputs": [],
   "source": [
    "from ai.model import AlphaZeroNetwork\n",
    "action_space = len(get_action_space(10, 10))\n",
    "current_model = AlphaZeroNetwork(config.REG_CONST, config.LEARNING_RATE, \n",
    "                                 (10,10,20),   action_space, config.HIDDEN_CNN_LAYERS)\n",
    "\n",
    "best_model = AlphaZeroNetwork(config.REG_CONST, config.LEARNING_RATE, \n",
    "                                 (10,10,20),   action_space, config.HIDDEN_CNN_LAYERS)\n",
    "best_model.model.set_weights(current_model.model.get_weights())"
   ]
  },
  {
   "cell_type": "code",
   "execution_count": 6,
   "metadata": {},
   "outputs": [
    {
     "name": "stdout",
     "output_type": "stream",
     "text": [
      "********************************************************************************"
     ]
    }
   ],
   "source": [
    "try:\n",
    "    sample_builder = self_play(current_model)\n",
    "except RejectedAction as e:\n",
    "    print(e)"
   ]
  },
  {
   "cell_type": "code",
   "execution_count": null,
   "metadata": {},
   "outputs": [],
   "source": []
  },
  {
   "cell_type": "code",
   "execution_count": 17,
   "metadata": {},
   "outputs": [],
   "source": [
    "import random\n",
    "def fit(current_model: AlphaZeroNetwork, sample_builder:SampleBuilder):\n",
    "    for i in range(10):\n",
    "        minibatch = random.sample(sample_builder.samples, min(config.BATCH_SIZE, len(sample_builder.samples)))\n",
    "        training_states = np.array([row['state'].get_deep_representation_stack() for row in minibatch])\n",
    "        training_targets = {'value_head': np.array([row['value'] for row in minibatch]),\n",
    "                            'policy_head': np.array([row['policy'] for row in minibatch])}\n",
    "\n",
    "        ret = current_model.fit(training_states, training_targets, epochs=config.EPOCHS, verbose=1, validation_split=0, batch_size = 32)"
   ]
  },
  {
   "cell_type": "code",
   "execution_count": 23,
   "metadata": {},
   "outputs": [
    {
     "name": "stdout",
     "output_type": "stream",
     "text": [
      "Train on 80 samples\n",
      "80/80 [==============================] - 1s 9ms/sample - loss: 3.3750 - value_head_loss: 0.5000 - policy_head_loss: 1.3984\n",
      "Train on 80 samples\n",
      "80/80 [==============================] - 1s 10ms/sample - loss: 3.2854 - value_head_loss: 0.5417 - policy_head_loss: 1.4140\n",
      "Train on 80 samples\n",
      "80/80 [==============================] - 1s 10ms/sample - loss: 3.2140 - value_head_loss: 0.5000 - policy_head_loss: 1.4462\n",
      "Train on 80 samples\n",
      "80/80 [==============================] - 1s 10ms/sample - loss: 3.0657 - value_head_loss: 0.4583 - policy_head_loss: 1.4516\n",
      "Train on 80 samples\n",
      "80/80 [==============================] - 1s 9ms/sample - loss: 2.9935 - value_head_loss: 0.5000 - policy_head_loss: 1.4696\n",
      "Train on 80 samples\n",
      "80/80 [==============================] - 1s 9ms/sample - loss: 2.8743 - value_head_loss: 0.3333 - policy_head_loss: 1.4938\n",
      "Train on 80 samples\n",
      "80/80 [==============================] - 1s 10ms/sample - loss: 2.7842 - value_head_loss: 0.3333 - policy_head_loss: 1.4473\n",
      "Train on 80 samples\n",
      "80/80 [==============================] - 1s 10ms/sample - loss: 2.7234 - value_head_loss: 0.4167 - policy_head_loss: 1.3962\n",
      "Train on 80 samples\n",
      "80/80 [==============================] - 1s 9ms/sample - loss: 2.6170 - value_head_loss: 0.3750 - policy_head_loss: 1.4336\n",
      "Train on 80 samples\n",
      "80/80 [==============================] - 1s 10ms/sample - loss: 2.5146 - value_head_loss: 0.3333 - policy_head_loss: 1.4072\n"
     ]
    }
   ],
   "source": [
    "fit(current_model, sample_builder)"
   ]
  },
  {
   "cell_type": "code",
   "execution_count": 1,
   "metadata": {},
   "outputs": [],
   "source": [
    "import seaborn as sns\n",
    "import pandas as pd\n",
    "import cufflinks as cf\n",
    "import numpy as np\n",
    "from plotly.offline import download_plotlyjs, init_notebook_mode, plot, iplot\n"
   ]
  },
  {
   "cell_type": "code",
   "execution_count": 2,
   "metadata": {},
   "outputs": [
    {
     "data": {
      "text/html": [
       "        <script type=\"text/javascript\">\n",
       "        window.PlotlyConfig = {MathJaxConfig: 'local'};\n",
       "        if (window.MathJax) {MathJax.Hub.Config({SVG: {font: \"STIX-Web\"}});}\n",
       "        if (typeof require !== 'undefined') {\n",
       "        require.undef(\"plotly\");\n",
       "        requirejs.config({\n",
       "            paths: {\n",
       "                'plotly': ['https://cdn.plot.ly/plotly-latest.min']\n",
       "            }\n",
       "        });\n",
       "        require(['plotly'], function(Plotly) {\n",
       "            window._Plotly = Plotly;\n",
       "        });\n",
       "        }\n",
       "        </script>\n",
       "        "
      ]
     },
     "metadata": {},
     "output_type": "display_data"
    }
   ],
   "source": [
    "init_notebook_mode(connected=True)"
   ]
  },
  {
   "cell_type": "code",
   "execution_count": 3,
   "metadata": {},
   "outputs": [
    {
     "data": {
      "text/html": [
       "        <script type=\"text/javascript\">\n",
       "        window.PlotlyConfig = {MathJaxConfig: 'local'};\n",
       "        if (window.MathJax) {MathJax.Hub.Config({SVG: {font: \"STIX-Web\"}});}\n",
       "        if (typeof require !== 'undefined') {\n",
       "        require.undef(\"plotly\");\n",
       "        requirejs.config({\n",
       "            paths: {\n",
       "                'plotly': ['https://cdn.plot.ly/plotly-latest.min']\n",
       "            }\n",
       "        });\n",
       "        require(['plotly'], function(Plotly) {\n",
       "            window._Plotly = Plotly;\n",
       "        });\n",
       "        }\n",
       "        </script>\n",
       "        "
      ]
     },
     "metadata": {},
     "output_type": "display_data"
    }
   ],
   "source": [
    "cf.go_offline()"
   ]
  },
  {
   "cell_type": "code",
   "execution_count": 4,
   "metadata": {},
   "outputs": [],
   "source": [
    "x = np.arange(1, 51)\n",
    "y = np.random.rand(50)"
   ]
  },
  {
   "cell_type": "code",
   "execution_count": 5,
   "metadata": {},
   "outputs": [],
   "source": [
    "import time\n",
    "import plotly.graph_objects as go"
   ]
  },
  {
   "cell_type": "code",
   "execution_count": 6,
   "metadata": {},
   "outputs": [
    {
     "data": {
      "application/vnd.jupyter.widget-view+json": {
       "model_id": "9884251618a64f668210f8a9ffdfc10a",
       "version_major": 2,
       "version_minor": 0
      },
      "text/plain": [
       "FigureWidget({\n",
       "    'data': [{'fill': 'tozeroy', 'type': 'scatter', 'uid': '253d9a98-323f-4395-ba5d-2f9b4733213…"
      ]
     },
     "metadata": {},
     "output_type": "display_data"
    }
   ],
   "source": [
    "fig = go.FigureWidget()\n",
    "fig.update_layout(xaxis_title=\"Turn\", yaxis_title='Expected value')\n",
    "fig.add_scatter(fill='tozeroy')\n",
    "fig"
   ]
  },
  {
   "cell_type": "code",
   "execution_count": 7,
   "metadata": {},
   "outputs": [],
   "source": [
    "for i in range(len(x)):\n",
    "    time.sleep(0.3)\n",
    "    with fig.batch_update():\n",
    "        fig.data[0].x = x[:i]\n",
    "        fig.data[0].y = y[:i]"
   ]
  },
  {
   "cell_type": "code",
   "execution_count": null,
   "metadata": {},
   "outputs": [],
   "source": []
  },
  {
   "cell_type": "code",
   "execution_count": null,
   "metadata": {},
   "outputs": [],
   "source": []
  }
 ],
 "metadata": {
  "kernelspec": {
   "display_name": "Python 3",
   "language": "python",
   "name": "python3"
  },
  "language_info": {
   "codemirror_mode": {
    "name": "ipython",
    "version": 3
   },
   "file_extension": ".py",
   "mimetype": "text/x-python",
   "name": "python",
   "nbconvert_exporter": "python",
   "pygments_lexer": "ipython3",
   "version": "3.7.6"
  }
 },
 "nbformat": 4,
 "nbformat_minor": 2
}
